{
 "cells": [
  {
   "cell_type": "markdown",
   "id": "improved-utilization",
   "metadata": {},
   "source": [
    "In this notebook, we will explore Gaussian Process Machine Learning model for the methanol dataset. The hold-out set containing three electrophiles of 1H-indol-5-yl N,N-dimethylsulfamate, Ethyl 4-chloro-3-fluorobenzoate, and Clofibrate will be used as the external electrophile testing set."
   ]
  },
  {
   "cell_type": "markdown",
   "id": "unusual-lotus",
   "metadata": {},
   "source": [
    "# Machine Learning for Nickel Catalyzed Borylation in MeOH"
   ]
  },
  {
   "cell_type": "code",
   "execution_count": 1,
   "id": "ranking-prospect",
   "metadata": {},
   "outputs": [],
   "source": [
    "import numpy as np\n",
    "import pandas as pd\n",
    "import sklearn\n",
    "\n",
    "from sklearn.model_selection import GridSearchCV\n",
    "from sklearn.preprocessing import StandardScaler\n",
    "\n",
    "from sklearn.pipeline import Pipeline\n",
    "from sklearn.metrics import mean_squared_error, mean_absolute_error, r2_score\n",
    "import math as math\n",
    "import matplotlib.pyplot as plt\n",
    "\n",
    "from sklearn.linear_model import Lasso"
   ]
  },
  {
   "cell_type": "markdown",
   "id": "limited-snake",
   "metadata": {},
   "source": [
    "### Load Preprocessed Ethanol Dataset"
   ]
  },
  {
   "cell_type": "code",
   "execution_count": 2,
   "id": "demanding-dominican",
   "metadata": {},
   "outputs": [
    {
     "data": {
      "text/html": [
       "<div>\n",
       "<style scoped>\n",
       "    .dataframe tbody tr th:only-of-type {\n",
       "        vertical-align: middle;\n",
       "    }\n",
       "\n",
       "    .dataframe tbody tr th {\n",
       "        vertical-align: top;\n",
       "    }\n",
       "\n",
       "    .dataframe thead th {\n",
       "        text-align: right;\n",
       "    }\n",
       "</style>\n",
       "<table border=\"1\" class=\"dataframe\">\n",
       "  <thead>\n",
       "    <tr style=\"text-align: right;\">\n",
       "      <th></th>\n",
       "      <th>ArylHalide_CX_Lowdin</th>\n",
       "      <th>ArylHalide_C_Chem Shift</th>\n",
       "      <th>ArylHalide_C_Electrostatic</th>\n",
       "      <th>ArylHalide_C_Exposed Area</th>\n",
       "      <th>ArylHalide_C_Mulliken</th>\n",
       "      <th>ArylHalide_XY_Chem Shift_Max</th>\n",
       "      <th>ArylHalide_XY_Chem Shift_Min</th>\n",
       "      <th>ArylHalide_XY_Electrostatic_Max</th>\n",
       "      <th>ArylHalide_XY_Electrostatic_Min</th>\n",
       "      <th>ArylHalide_XY_Exposed Area_Avg</th>\n",
       "      <th>...</th>\n",
       "      <th>Kraken_vbur_vbur_max</th>\n",
       "      <th>Kraken_vbur_vbur_min</th>\n",
       "      <th>Kraken_vbur_vtot_boltz</th>\n",
       "      <th>Kraken_vmin_r_boltz</th>\n",
       "      <th>Kraken_vmin_vmin_boltz</th>\n",
       "      <th>Ligand</th>\n",
       "      <th>Ligand_inchi</th>\n",
       "      <th>Product_inchi</th>\n",
       "      <th>Solvent_inchi</th>\n",
       "      <th>Yield</th>\n",
       "    </tr>\n",
       "  </thead>\n",
       "  <tbody>\n",
       "    <tr>\n",
       "      <th>0</th>\n",
       "      <td>1.11</td>\n",
       "      <td>140.296</td>\n",
       "      <td>0.33</td>\n",
       "      <td>8.371</td>\n",
       "      <td>0.338</td>\n",
       "      <td>105.274</td>\n",
       "      <td>102.178</td>\n",
       "      <td>-0.291</td>\n",
       "      <td>-0.456</td>\n",
       "      <td>12.9615</td>\n",
       "      <td>...</td>\n",
       "      <td>50.731606</td>\n",
       "      <td>50.731606</td>\n",
       "      <td>351.19888</td>\n",
       "      <td>1.840787</td>\n",
       "      <td>-0.055960</td>\n",
       "      <td>A-paPhos</td>\n",
       "      <td>InChI=1S/C20H20NP/c1-21(2)17-13-15-20(16-14-17...</td>\n",
       "      <td>InChI=1S/C8H8BNO2/c11-9(12)7-1-2-8-6(5-7)3-4-1...</td>\n",
       "      <td>InChI=1S/CH4O/c1-2/h2H,1H3</td>\n",
       "      <td>88.86</td>\n",
       "    </tr>\n",
       "    <tr>\n",
       "      <th>1</th>\n",
       "      <td>1.11</td>\n",
       "      <td>140.296</td>\n",
       "      <td>0.33</td>\n",
       "      <td>8.371</td>\n",
       "      <td>0.338</td>\n",
       "      <td>105.274</td>\n",
       "      <td>102.178</td>\n",
       "      <td>-0.291</td>\n",
       "      <td>-0.456</td>\n",
       "      <td>12.9615</td>\n",
       "      <td>...</td>\n",
       "      <td>80.673770</td>\n",
       "      <td>61.935337</td>\n",
       "      <td>479.46484</td>\n",
       "      <td>1.803143</td>\n",
       "      <td>-0.058457</td>\n",
       "      <td>CX-FBu</td>\n",
       "      <td>InChI=1S/C29H39P.BF4/c1-2-3-22-29(27-20-12-10-...</td>\n",
       "      <td>InChI=1S/C8H8BNO2/c11-9(12)7-1-2-8-6(5-7)3-4-1...</td>\n",
       "      <td>InChI=1S/CH4O/c1-2/h2H,1H3</td>\n",
       "      <td>54.07</td>\n",
       "    </tr>\n",
       "    <tr>\n",
       "      <th>2</th>\n",
       "      <td>1.11</td>\n",
       "      <td>140.296</td>\n",
       "      <td>0.33</td>\n",
       "      <td>8.371</td>\n",
       "      <td>0.338</td>\n",
       "      <td>105.274</td>\n",
       "      <td>102.178</td>\n",
       "      <td>-0.291</td>\n",
       "      <td>-0.456</td>\n",
       "      <td>12.9615</td>\n",
       "      <td>...</td>\n",
       "      <td>107.755370</td>\n",
       "      <td>56.694310</td>\n",
       "      <td>386.44120</td>\n",
       "      <td>1.805810</td>\n",
       "      <td>-0.058387</td>\n",
       "      <td>CX-PCy</td>\n",
       "      <td>InChI=1S/C22H30NP/c1-4-11-19(12-5-1)23-18-10-1...</td>\n",
       "      <td>InChI=1S/C8H8BNO2/c11-9(12)7-1-2-8-6(5-7)3-4-1...</td>\n",
       "      <td>InChI=1S/CH4O/c1-2/h2H,1H3</td>\n",
       "      <td>74.99</td>\n",
       "    </tr>\n",
       "    <tr>\n",
       "      <th>3</th>\n",
       "      <td>1.11</td>\n",
       "      <td>140.296</td>\n",
       "      <td>0.33</td>\n",
       "      <td>8.371</td>\n",
       "      <td>0.338</td>\n",
       "      <td>105.274</td>\n",
       "      <td>102.178</td>\n",
       "      <td>-0.291</td>\n",
       "      <td>-0.456</td>\n",
       "      <td>12.9615</td>\n",
       "      <td>...</td>\n",
       "      <td>117.597336</td>\n",
       "      <td>54.091050</td>\n",
       "      <td>618.03375</td>\n",
       "      <td>1.817123</td>\n",
       "      <td>-0.054418</td>\n",
       "      <td>Cy-BippyPhos</td>\n",
       "      <td>InChI=1S/C36H39N4P/c1-6-16-28(17-7-1)34-36(35(...</td>\n",
       "      <td>InChI=1S/C8H8BNO2/c11-9(12)7-1-2-8-6(5-7)3-4-1...</td>\n",
       "      <td>InChI=1S/CH4O/c1-2/h2H,1H3</td>\n",
       "      <td>82.92</td>\n",
       "    </tr>\n",
       "    <tr>\n",
       "      <th>4</th>\n",
       "      <td>1.11</td>\n",
       "      <td>140.296</td>\n",
       "      <td>0.33</td>\n",
       "      <td>8.371</td>\n",
       "      <td>0.338</td>\n",
       "      <td>105.274</td>\n",
       "      <td>102.178</td>\n",
       "      <td>-0.291</td>\n",
       "      <td>-0.456</td>\n",
       "      <td>12.9615</td>\n",
       "      <td>...</td>\n",
       "      <td>111.484024</td>\n",
       "      <td>57.033180</td>\n",
       "      <td>402.37967</td>\n",
       "      <td>1.816461</td>\n",
       "      <td>-0.061351</td>\n",
       "      <td>Cy-JohnPhos</td>\n",
       "      <td>InChI=1S/C24H31P/c1-4-12-20(13-5-1)23-18-10-11...</td>\n",
       "      <td>InChI=1S/C8H8BNO2/c11-9(12)7-1-2-8-6(5-7)3-4-1...</td>\n",
       "      <td>InChI=1S/CH4O/c1-2/h2H,1H3</td>\n",
       "      <td>80.25</td>\n",
       "    </tr>\n",
       "  </tbody>\n",
       "</table>\n",
       "<p>5 rows × 163 columns</p>\n",
       "</div>"
      ],
      "text/plain": [
       "   ArylHalide_CX_Lowdin  ArylHalide_C_Chem Shift  ArylHalide_C_Electrostatic  \\\n",
       "0                  1.11                  140.296                        0.33   \n",
       "1                  1.11                  140.296                        0.33   \n",
       "2                  1.11                  140.296                        0.33   \n",
       "3                  1.11                  140.296                        0.33   \n",
       "4                  1.11                  140.296                        0.33   \n",
       "\n",
       "   ArylHalide_C_Exposed Area  ArylHalide_C_Mulliken  \\\n",
       "0                      8.371                  0.338   \n",
       "1                      8.371                  0.338   \n",
       "2                      8.371                  0.338   \n",
       "3                      8.371                  0.338   \n",
       "4                      8.371                  0.338   \n",
       "\n",
       "   ArylHalide_XY_Chem Shift_Max  ArylHalide_XY_Chem Shift_Min  \\\n",
       "0                       105.274                       102.178   \n",
       "1                       105.274                       102.178   \n",
       "2                       105.274                       102.178   \n",
       "3                       105.274                       102.178   \n",
       "4                       105.274                       102.178   \n",
       "\n",
       "   ArylHalide_XY_Electrostatic_Max  ArylHalide_XY_Electrostatic_Min  \\\n",
       "0                           -0.291                           -0.456   \n",
       "1                           -0.291                           -0.456   \n",
       "2                           -0.291                           -0.456   \n",
       "3                           -0.291                           -0.456   \n",
       "4                           -0.291                           -0.456   \n",
       "\n",
       "   ArylHalide_XY_Exposed Area_Avg  ...  Kraken_vbur_vbur_max  \\\n",
       "0                         12.9615  ...             50.731606   \n",
       "1                         12.9615  ...             80.673770   \n",
       "2                         12.9615  ...            107.755370   \n",
       "3                         12.9615  ...            117.597336   \n",
       "4                         12.9615  ...            111.484024   \n",
       "\n",
       "   Kraken_vbur_vbur_min  Kraken_vbur_vtot_boltz  Kraken_vmin_r_boltz  \\\n",
       "0             50.731606               351.19888             1.840787   \n",
       "1             61.935337               479.46484             1.803143   \n",
       "2             56.694310               386.44120             1.805810   \n",
       "3             54.091050               618.03375             1.817123   \n",
       "4             57.033180               402.37967             1.816461   \n",
       "\n",
       "   Kraken_vmin_vmin_boltz        Ligand  \\\n",
       "0               -0.055960      A-paPhos   \n",
       "1               -0.058457        CX-FBu   \n",
       "2               -0.058387        CX-PCy   \n",
       "3               -0.054418  Cy-BippyPhos   \n",
       "4               -0.061351   Cy-JohnPhos   \n",
       "\n",
       "                                        Ligand_inchi  \\\n",
       "0  InChI=1S/C20H20NP/c1-21(2)17-13-15-20(16-14-17...   \n",
       "1  InChI=1S/C29H39P.BF4/c1-2-3-22-29(27-20-12-10-...   \n",
       "2  InChI=1S/C22H30NP/c1-4-11-19(12-5-1)23-18-10-1...   \n",
       "3  InChI=1S/C36H39N4P/c1-6-16-28(17-7-1)34-36(35(...   \n",
       "4  InChI=1S/C24H31P/c1-4-12-20(13-5-1)23-18-10-11...   \n",
       "\n",
       "                                       Product_inchi  \\\n",
       "0  InChI=1S/C8H8BNO2/c11-9(12)7-1-2-8-6(5-7)3-4-1...   \n",
       "1  InChI=1S/C8H8BNO2/c11-9(12)7-1-2-8-6(5-7)3-4-1...   \n",
       "2  InChI=1S/C8H8BNO2/c11-9(12)7-1-2-8-6(5-7)3-4-1...   \n",
       "3  InChI=1S/C8H8BNO2/c11-9(12)7-1-2-8-6(5-7)3-4-1...   \n",
       "4  InChI=1S/C8H8BNO2/c11-9(12)7-1-2-8-6(5-7)3-4-1...   \n",
       "\n",
       "                Solvent_inchi  Yield  \n",
       "0  InChI=1S/CH4O/c1-2/h2H,1H3  88.86  \n",
       "1  InChI=1S/CH4O/c1-2/h2H,1H3  54.07  \n",
       "2  InChI=1S/CH4O/c1-2/h2H,1H3  74.99  \n",
       "3  InChI=1S/CH4O/c1-2/h2H,1H3  82.92  \n",
       "4  InChI=1S/CH4O/c1-2/h2H,1H3  80.25  \n",
       "\n",
       "[5 rows x 163 columns]"
      ]
     },
     "execution_count": 2,
     "metadata": {},
     "output_type": "execute_result"
    }
   ],
   "source": [
    "dataset = pd.read_csv(\"./data/data_MeOH_Final.csv\")\n",
    "dataset.head()"
   ]
  },
  {
   "cell_type": "markdown",
   "id": "damaged-madonna",
   "metadata": {},
   "source": [
    "### Prepare Hold-out Electrophiles Testing Set¶"
   ]
  },
  {
   "cell_type": "code",
   "execution_count": 3,
   "id": "plain-amino",
   "metadata": {},
   "outputs": [
    {
     "data": {
      "text/plain": [
       "['1H-indol-5-yl\\xa0N,N-dimethylsulfamate',\n",
       " \"2-bromo-1,1'-biphenyl\",\n",
       " '2-Chloro-5-fluorotoluene',\n",
       " '2-Chloro-m-xylene',\n",
       " '(2-Methyl-1,3-benzothiazol-5-yl)\\xa0N,N-dimethylsulfamate',\n",
       " '3-Bromothiophene',\n",
       " '3-Chloro-2-methylaniline',\n",
       " '4-Bromoanisole',\n",
       " '4-Bromobenzotrifluoride',\n",
       " '4-Chloro-N,N-dimethylbenzamide',\n",
       " '5-chloroindole',\n",
       " 'BMS-929356',\n",
       " 'Ethyl\\xa04-chloro-3-fluorobenzoate',\n",
       " 'methyl\\xa04-bromobenzoate',\n",
       " 'quinolin-6-yl dimethylsulfamate',\n",
       " '3-Bromoquinoline',\n",
       " '3-bromo-2-methylpyridine',\n",
       " 'Clofibrate',\n",
       " '4-Bromo-2-fluoroanisole',\n",
       " '4-Bromo-2-fluorobenzonitrile',\n",
       " '(4-Phenylphenyl) N,N-dimethylsulfamate',\n",
       " '4-Bromo-1,2-(methylenedioxy)benzene',\n",
       " '5-Bromobenzofuran',\n",
       " '4-chloro-1-fluoro-2-methoxybenzene',\n",
       " '4-chlorobenzotrifluoride',\n",
       " '3-chloroquinoline',\n",
       " '5-bromo-2,4-dimethoxypyrimidine',\n",
       " 'methyl\\xa04-chlorobenzoate',\n",
       " '5-Chloro-1,3-benzodioxole',\n",
       " '4-chloro-2-fluoro-1-methoxybenzene',\n",
       " '4-Chloro-2-fluoroanisole',\n",
       " '4-Chlorobiphenyl',\n",
       " '4-Bromobiphenyl',\n",
       " '4-Chloro-2-fluorobenzonitrile']"
      ]
     },
     "execution_count": 3,
     "metadata": {},
     "output_type": "execute_result"
    }
   ],
   "source": [
    "dataset.Electrophile.unique().tolist()"
   ]
  },
  {
   "cell_type": "code",
   "execution_count": 4,
   "id": "mental-mambo",
   "metadata": {},
   "outputs": [
    {
     "name": "stdout",
     "output_type": "stream",
     "text": [
      "(69, 157)\n"
     ]
    },
    {
     "data": {
      "text/html": [
       "<div>\n",
       "<style scoped>\n",
       "    .dataframe tbody tr th:only-of-type {\n",
       "        vertical-align: middle;\n",
       "    }\n",
       "\n",
       "    .dataframe tbody tr th {\n",
       "        vertical-align: top;\n",
       "    }\n",
       "\n",
       "    .dataframe thead th {\n",
       "        text-align: right;\n",
       "    }\n",
       "</style>\n",
       "<table border=\"1\" class=\"dataframe\">\n",
       "  <thead>\n",
       "    <tr style=\"text-align: right;\">\n",
       "      <th></th>\n",
       "      <th>ArylHalide_CX_Lowdin</th>\n",
       "      <th>ArylHalide_C_Chem Shift</th>\n",
       "      <th>ArylHalide_C_Electrostatic</th>\n",
       "      <th>ArylHalide_C_Exposed Area</th>\n",
       "      <th>ArylHalide_C_Mulliken</th>\n",
       "      <th>ArylHalide_XY_Chem Shift_Max</th>\n",
       "      <th>ArylHalide_XY_Chem Shift_Min</th>\n",
       "      <th>ArylHalide_XY_Electrostatic_Max</th>\n",
       "      <th>ArylHalide_XY_Electrostatic_Min</th>\n",
       "      <th>ArylHalide_XY_Exposed Area_Avg</th>\n",
       "      <th>...</th>\n",
       "      <th>Kraken_vbur_qvtot_min_min</th>\n",
       "      <th>Kraken_vbur_qvtot_min_vburminconf</th>\n",
       "      <th>Kraken_vbur_ratio_vbur_vtot_boltz</th>\n",
       "      <th>Kraken_vbur_vbur_boltz</th>\n",
       "      <th>Kraken_vbur_vbur_max</th>\n",
       "      <th>Kraken_vbur_vbur_min</th>\n",
       "      <th>Kraken_vbur_vtot_boltz</th>\n",
       "      <th>Kraken_vmin_r_boltz</th>\n",
       "      <th>Kraken_vmin_vmin_boltz</th>\n",
       "      <th>Yield</th>\n",
       "    </tr>\n",
       "  </thead>\n",
       "  <tbody>\n",
       "    <tr>\n",
       "      <th>0</th>\n",
       "      <td>1.11</td>\n",
       "      <td>140.296</td>\n",
       "      <td>0.33</td>\n",
       "      <td>8.371</td>\n",
       "      <td>0.338</td>\n",
       "      <td>105.274</td>\n",
       "      <td>102.178</td>\n",
       "      <td>-0.291</td>\n",
       "      <td>-0.456</td>\n",
       "      <td>12.9615</td>\n",
       "      <td>...</td>\n",
       "      <td>59.829678</td>\n",
       "      <td>59.829678</td>\n",
       "      <td>0.144453</td>\n",
       "      <td>50.731606</td>\n",
       "      <td>50.731606</td>\n",
       "      <td>50.731606</td>\n",
       "      <td>351.19888</td>\n",
       "      <td>1.840787</td>\n",
       "      <td>-0.055960</td>\n",
       "      <td>88.86</td>\n",
       "    </tr>\n",
       "    <tr>\n",
       "      <th>1</th>\n",
       "      <td>1.11</td>\n",
       "      <td>140.296</td>\n",
       "      <td>0.33</td>\n",
       "      <td>8.371</td>\n",
       "      <td>0.338</td>\n",
       "      <td>105.274</td>\n",
       "      <td>102.178</td>\n",
       "      <td>-0.291</td>\n",
       "      <td>-0.456</td>\n",
       "      <td>12.9615</td>\n",
       "      <td>...</td>\n",
       "      <td>47.895260</td>\n",
       "      <td>67.167030</td>\n",
       "      <td>0.134809</td>\n",
       "      <td>64.636100</td>\n",
       "      <td>80.673770</td>\n",
       "      <td>61.935337</td>\n",
       "      <td>479.46484</td>\n",
       "      <td>1.803143</td>\n",
       "      <td>-0.058457</td>\n",
       "      <td>54.07</td>\n",
       "    </tr>\n",
       "    <tr>\n",
       "      <th>2</th>\n",
       "      <td>1.11</td>\n",
       "      <td>140.296</td>\n",
       "      <td>0.33</td>\n",
       "      <td>8.371</td>\n",
       "      <td>0.338</td>\n",
       "      <td>105.274</td>\n",
       "      <td>102.178</td>\n",
       "      <td>-0.291</td>\n",
       "      <td>-0.456</td>\n",
       "      <td>12.9615</td>\n",
       "      <td>...</td>\n",
       "      <td>36.894516</td>\n",
       "      <td>75.417816</td>\n",
       "      <td>0.211005</td>\n",
       "      <td>81.541550</td>\n",
       "      <td>107.755370</td>\n",
       "      <td>56.694310</td>\n",
       "      <td>386.44120</td>\n",
       "      <td>1.805810</td>\n",
       "      <td>-0.058387</td>\n",
       "      <td>74.99</td>\n",
       "    </tr>\n",
       "    <tr>\n",
       "      <th>3</th>\n",
       "      <td>1.11</td>\n",
       "      <td>140.296</td>\n",
       "      <td>0.33</td>\n",
       "      <td>8.371</td>\n",
       "      <td>0.338</td>\n",
       "      <td>105.274</td>\n",
       "      <td>102.178</td>\n",
       "      <td>-0.291</td>\n",
       "      <td>-0.456</td>\n",
       "      <td>12.9615</td>\n",
       "      <td>...</td>\n",
       "      <td>45.164505</td>\n",
       "      <td>77.044235</td>\n",
       "      <td>0.160584</td>\n",
       "      <td>99.246600</td>\n",
       "      <td>117.597336</td>\n",
       "      <td>54.091050</td>\n",
       "      <td>618.03375</td>\n",
       "      <td>1.817123</td>\n",
       "      <td>-0.054418</td>\n",
       "      <td>82.92</td>\n",
       "    </tr>\n",
       "    <tr>\n",
       "      <th>4</th>\n",
       "      <td>1.11</td>\n",
       "      <td>140.296</td>\n",
       "      <td>0.33</td>\n",
       "      <td>8.371</td>\n",
       "      <td>0.338</td>\n",
       "      <td>105.274</td>\n",
       "      <td>102.178</td>\n",
       "      <td>-0.291</td>\n",
       "      <td>-0.456</td>\n",
       "      <td>12.9615</td>\n",
       "      <td>...</td>\n",
       "      <td>44.561430</td>\n",
       "      <td>72.197180</td>\n",
       "      <td>0.212085</td>\n",
       "      <td>85.339290</td>\n",
       "      <td>111.484024</td>\n",
       "      <td>57.033180</td>\n",
       "      <td>402.37967</td>\n",
       "      <td>1.816461</td>\n",
       "      <td>-0.061351</td>\n",
       "      <td>80.25</td>\n",
       "    </tr>\n",
       "  </tbody>\n",
       "</table>\n",
       "<p>5 rows × 157 columns</p>\n",
       "</div>"
      ],
      "text/plain": [
       "   ArylHalide_CX_Lowdin  ArylHalide_C_Chem Shift  ArylHalide_C_Electrostatic  \\\n",
       "0                  1.11                  140.296                        0.33   \n",
       "1                  1.11                  140.296                        0.33   \n",
       "2                  1.11                  140.296                        0.33   \n",
       "3                  1.11                  140.296                        0.33   \n",
       "4                  1.11                  140.296                        0.33   \n",
       "\n",
       "   ArylHalide_C_Exposed Area  ArylHalide_C_Mulliken  \\\n",
       "0                      8.371                  0.338   \n",
       "1                      8.371                  0.338   \n",
       "2                      8.371                  0.338   \n",
       "3                      8.371                  0.338   \n",
       "4                      8.371                  0.338   \n",
       "\n",
       "   ArylHalide_XY_Chem Shift_Max  ArylHalide_XY_Chem Shift_Min  \\\n",
       "0                       105.274                       102.178   \n",
       "1                       105.274                       102.178   \n",
       "2                       105.274                       102.178   \n",
       "3                       105.274                       102.178   \n",
       "4                       105.274                       102.178   \n",
       "\n",
       "   ArylHalide_XY_Electrostatic_Max  ArylHalide_XY_Electrostatic_Min  \\\n",
       "0                           -0.291                           -0.456   \n",
       "1                           -0.291                           -0.456   \n",
       "2                           -0.291                           -0.456   \n",
       "3                           -0.291                           -0.456   \n",
       "4                           -0.291                           -0.456   \n",
       "\n",
       "   ArylHalide_XY_Exposed Area_Avg  ...  Kraken_vbur_qvtot_min_min  \\\n",
       "0                         12.9615  ...                  59.829678   \n",
       "1                         12.9615  ...                  47.895260   \n",
       "2                         12.9615  ...                  36.894516   \n",
       "3                         12.9615  ...                  45.164505   \n",
       "4                         12.9615  ...                  44.561430   \n",
       "\n",
       "   Kraken_vbur_qvtot_min_vburminconf  Kraken_vbur_ratio_vbur_vtot_boltz  \\\n",
       "0                          59.829678                           0.144453   \n",
       "1                          67.167030                           0.134809   \n",
       "2                          75.417816                           0.211005   \n",
       "3                          77.044235                           0.160584   \n",
       "4                          72.197180                           0.212085   \n",
       "\n",
       "   Kraken_vbur_vbur_boltz  Kraken_vbur_vbur_max  Kraken_vbur_vbur_min  \\\n",
       "0               50.731606             50.731606             50.731606   \n",
       "1               64.636100             80.673770             61.935337   \n",
       "2               81.541550            107.755370             56.694310   \n",
       "3               99.246600            117.597336             54.091050   \n",
       "4               85.339290            111.484024             57.033180   \n",
       "\n",
       "   Kraken_vbur_vtot_boltz  Kraken_vmin_r_boltz  Kraken_vmin_vmin_boltz  Yield  \n",
       "0               351.19888             1.840787               -0.055960  88.86  \n",
       "1               479.46484             1.803143               -0.058457  54.07  \n",
       "2               386.44120             1.805810               -0.058387  74.99  \n",
       "3               618.03375             1.817123               -0.054418  82.92  \n",
       "4               402.37967             1.816461               -0.061351  80.25  \n",
       "\n",
       "[5 rows x 157 columns]"
      ]
     },
     "execution_count": 4,
     "metadata": {},
     "output_type": "execute_result"
    }
   ],
   "source": [
    "#Retrieve the three electrophiles and store the features in a separate dataframe \n",
    "indices=[0,12,17]\n",
    "mapped = map(dataset.Electrophile.unique().tolist().__getitem__, indices)\n",
    "external_list=list(mapped)\n",
    "ML_data_validation = dataset[dataset['Electrophile'].isin(external_list)]\n",
    "ML_data_validation2 = ML_data_validation.drop(['Electrophile_inchi', 'Solvent_inchi', 'Ligand_inchi', 'Product_inchi', 'Electrophile', 'Ligand'], axis = 1)\n",
    "print (ML_data_validation2.shape)\n",
    "ML_data_validation2.head()"
   ]
  },
  {
   "cell_type": "code",
   "execution_count": 5,
   "id": "contemporary-coverage",
   "metadata": {},
   "outputs": [
    {
     "name": "stdout",
     "output_type": "stream",
     "text": [
      "(710, 157)\n"
     ]
    },
    {
     "data": {
      "text/html": [
       "<div>\n",
       "<style scoped>\n",
       "    .dataframe tbody tr th:only-of-type {\n",
       "        vertical-align: middle;\n",
       "    }\n",
       "\n",
       "    .dataframe tbody tr th {\n",
       "        vertical-align: top;\n",
       "    }\n",
       "\n",
       "    .dataframe thead th {\n",
       "        text-align: right;\n",
       "    }\n",
       "</style>\n",
       "<table border=\"1\" class=\"dataframe\">\n",
       "  <thead>\n",
       "    <tr style=\"text-align: right;\">\n",
       "      <th></th>\n",
       "      <th>ArylHalide_CX_Lowdin</th>\n",
       "      <th>ArylHalide_C_Chem Shift</th>\n",
       "      <th>ArylHalide_C_Electrostatic</th>\n",
       "      <th>ArylHalide_C_Exposed Area</th>\n",
       "      <th>ArylHalide_C_Mulliken</th>\n",
       "      <th>ArylHalide_XY_Chem Shift_Max</th>\n",
       "      <th>ArylHalide_XY_Chem Shift_Min</th>\n",
       "      <th>ArylHalide_XY_Electrostatic_Max</th>\n",
       "      <th>ArylHalide_XY_Electrostatic_Min</th>\n",
       "      <th>ArylHalide_XY_Exposed Area_Avg</th>\n",
       "      <th>...</th>\n",
       "      <th>Kraken_vbur_qvtot_min_min</th>\n",
       "      <th>Kraken_vbur_qvtot_min_vburminconf</th>\n",
       "      <th>Kraken_vbur_ratio_vbur_vtot_boltz</th>\n",
       "      <th>Kraken_vbur_vbur_boltz</th>\n",
       "      <th>Kraken_vbur_vbur_max</th>\n",
       "      <th>Kraken_vbur_vbur_min</th>\n",
       "      <th>Kraken_vbur_vtot_boltz</th>\n",
       "      <th>Kraken_vmin_r_boltz</th>\n",
       "      <th>Kraken_vmin_vmin_boltz</th>\n",
       "      <th>Yield</th>\n",
       "    </tr>\n",
       "  </thead>\n",
       "  <tbody>\n",
       "    <tr>\n",
       "      <th>23</th>\n",
       "      <td>1.09</td>\n",
       "      <td>136.282</td>\n",
       "      <td>-0.197</td>\n",
       "      <td>7.369</td>\n",
       "      <td>-0.025</td>\n",
       "      <td>139.527</td>\n",
       "      <td>126.017</td>\n",
       "      <td>0.327</td>\n",
       "      <td>0.007</td>\n",
       "      <td>8.957</td>\n",
       "      <td>...</td>\n",
       "      <td>59.829678</td>\n",
       "      <td>59.829678</td>\n",
       "      <td>0.144453</td>\n",
       "      <td>50.731606</td>\n",
       "      <td>50.731606</td>\n",
       "      <td>50.731606</td>\n",
       "      <td>351.19888</td>\n",
       "      <td>1.840787</td>\n",
       "      <td>-0.055960</td>\n",
       "      <td>48.175</td>\n",
       "    </tr>\n",
       "    <tr>\n",
       "      <th>24</th>\n",
       "      <td>1.09</td>\n",
       "      <td>136.282</td>\n",
       "      <td>-0.197</td>\n",
       "      <td>7.369</td>\n",
       "      <td>-0.025</td>\n",
       "      <td>139.527</td>\n",
       "      <td>126.017</td>\n",
       "      <td>0.327</td>\n",
       "      <td>0.007</td>\n",
       "      <td>8.957</td>\n",
       "      <td>...</td>\n",
       "      <td>47.895260</td>\n",
       "      <td>67.167030</td>\n",
       "      <td>0.134809</td>\n",
       "      <td>64.636100</td>\n",
       "      <td>80.673770</td>\n",
       "      <td>61.935337</td>\n",
       "      <td>479.46484</td>\n",
       "      <td>1.803143</td>\n",
       "      <td>-0.058457</td>\n",
       "      <td>22.925</td>\n",
       "    </tr>\n",
       "    <tr>\n",
       "      <th>25</th>\n",
       "      <td>1.09</td>\n",
       "      <td>136.282</td>\n",
       "      <td>-0.197</td>\n",
       "      <td>7.369</td>\n",
       "      <td>-0.025</td>\n",
       "      <td>139.527</td>\n",
       "      <td>126.017</td>\n",
       "      <td>0.327</td>\n",
       "      <td>0.007</td>\n",
       "      <td>8.957</td>\n",
       "      <td>...</td>\n",
       "      <td>36.894516</td>\n",
       "      <td>75.417816</td>\n",
       "      <td>0.211005</td>\n",
       "      <td>81.541550</td>\n",
       "      <td>107.755370</td>\n",
       "      <td>56.694310</td>\n",
       "      <td>386.44120</td>\n",
       "      <td>1.805810</td>\n",
       "      <td>-0.058387</td>\n",
       "      <td>70.335</td>\n",
       "    </tr>\n",
       "    <tr>\n",
       "      <th>26</th>\n",
       "      <td>1.09</td>\n",
       "      <td>136.282</td>\n",
       "      <td>-0.197</td>\n",
       "      <td>7.369</td>\n",
       "      <td>-0.025</td>\n",
       "      <td>139.527</td>\n",
       "      <td>126.017</td>\n",
       "      <td>0.327</td>\n",
       "      <td>0.007</td>\n",
       "      <td>8.957</td>\n",
       "      <td>...</td>\n",
       "      <td>45.164505</td>\n",
       "      <td>77.044235</td>\n",
       "      <td>0.160584</td>\n",
       "      <td>99.246600</td>\n",
       "      <td>117.597336</td>\n",
       "      <td>54.091050</td>\n",
       "      <td>618.03375</td>\n",
       "      <td>1.817123</td>\n",
       "      <td>-0.054418</td>\n",
       "      <td>73.775</td>\n",
       "    </tr>\n",
       "    <tr>\n",
       "      <th>27</th>\n",
       "      <td>1.09</td>\n",
       "      <td>136.282</td>\n",
       "      <td>-0.197</td>\n",
       "      <td>7.369</td>\n",
       "      <td>-0.025</td>\n",
       "      <td>139.527</td>\n",
       "      <td>126.017</td>\n",
       "      <td>0.327</td>\n",
       "      <td>0.007</td>\n",
       "      <td>8.957</td>\n",
       "      <td>...</td>\n",
       "      <td>44.561430</td>\n",
       "      <td>72.197180</td>\n",
       "      <td>0.212085</td>\n",
       "      <td>85.339290</td>\n",
       "      <td>111.484024</td>\n",
       "      <td>57.033180</td>\n",
       "      <td>402.37967</td>\n",
       "      <td>1.816461</td>\n",
       "      <td>-0.061351</td>\n",
       "      <td>55.420</td>\n",
       "    </tr>\n",
       "  </tbody>\n",
       "</table>\n",
       "<p>5 rows × 157 columns</p>\n",
       "</div>"
      ],
      "text/plain": [
       "    ArylHalide_CX_Lowdin  ArylHalide_C_Chem Shift  ArylHalide_C_Electrostatic  \\\n",
       "23                  1.09                  136.282                      -0.197   \n",
       "24                  1.09                  136.282                      -0.197   \n",
       "25                  1.09                  136.282                      -0.197   \n",
       "26                  1.09                  136.282                      -0.197   \n",
       "27                  1.09                  136.282                      -0.197   \n",
       "\n",
       "    ArylHalide_C_Exposed Area  ArylHalide_C_Mulliken  \\\n",
       "23                      7.369                 -0.025   \n",
       "24                      7.369                 -0.025   \n",
       "25                      7.369                 -0.025   \n",
       "26                      7.369                 -0.025   \n",
       "27                      7.369                 -0.025   \n",
       "\n",
       "    ArylHalide_XY_Chem Shift_Max  ArylHalide_XY_Chem Shift_Min  \\\n",
       "23                       139.527                       126.017   \n",
       "24                       139.527                       126.017   \n",
       "25                       139.527                       126.017   \n",
       "26                       139.527                       126.017   \n",
       "27                       139.527                       126.017   \n",
       "\n",
       "    ArylHalide_XY_Electrostatic_Max  ArylHalide_XY_Electrostatic_Min  \\\n",
       "23                            0.327                            0.007   \n",
       "24                            0.327                            0.007   \n",
       "25                            0.327                            0.007   \n",
       "26                            0.327                            0.007   \n",
       "27                            0.327                            0.007   \n",
       "\n",
       "    ArylHalide_XY_Exposed Area_Avg  ...  Kraken_vbur_qvtot_min_min  \\\n",
       "23                           8.957  ...                  59.829678   \n",
       "24                           8.957  ...                  47.895260   \n",
       "25                           8.957  ...                  36.894516   \n",
       "26                           8.957  ...                  45.164505   \n",
       "27                           8.957  ...                  44.561430   \n",
       "\n",
       "    Kraken_vbur_qvtot_min_vburminconf  Kraken_vbur_ratio_vbur_vtot_boltz  \\\n",
       "23                          59.829678                           0.144453   \n",
       "24                          67.167030                           0.134809   \n",
       "25                          75.417816                           0.211005   \n",
       "26                          77.044235                           0.160584   \n",
       "27                          72.197180                           0.212085   \n",
       "\n",
       "    Kraken_vbur_vbur_boltz  Kraken_vbur_vbur_max  Kraken_vbur_vbur_min  \\\n",
       "23               50.731606             50.731606             50.731606   \n",
       "24               64.636100             80.673770             61.935337   \n",
       "25               81.541550            107.755370             56.694310   \n",
       "26               99.246600            117.597336             54.091050   \n",
       "27               85.339290            111.484024             57.033180   \n",
       "\n",
       "    Kraken_vbur_vtot_boltz  Kraken_vmin_r_boltz  Kraken_vmin_vmin_boltz  \\\n",
       "23               351.19888             1.840787               -0.055960   \n",
       "24               479.46484             1.803143               -0.058457   \n",
       "25               386.44120             1.805810               -0.058387   \n",
       "26               618.03375             1.817123               -0.054418   \n",
       "27               402.37967             1.816461               -0.061351   \n",
       "\n",
       "     Yield  \n",
       "23  48.175  \n",
       "24  22.925  \n",
       "25  70.335  \n",
       "26  73.775  \n",
       "27  55.420  \n",
       "\n",
       "[5 rows x 157 columns]"
      ]
     },
     "execution_count": 5,
     "metadata": {},
     "output_type": "execute_result"
    }
   ],
   "source": [
    "#Keep the rest of the dataset for model training purpose\n",
    "exclude_list = ML_data_validation.index.values.tolist()\n",
    "ML_data_traintest = dataset[~dataset.index.isin(exclude_list)]\n",
    "ML_data_traintest2 = ML_data_traintest.drop(['Electrophile_inchi', 'Solvent_inchi', 'Ligand_inchi', 'Product_inchi', 'Electrophile', 'Ligand'], axis = 1)\n",
    "print (ML_data_traintest2.shape)\n",
    "ML_data_traintest2.head()"
   ]
  },
  {
   "cell_type": "code",
   "execution_count": 6,
   "id": "reserved-familiar",
   "metadata": {},
   "outputs": [],
   "source": [
    "Y_train = ML_data_traintest2['Yield']\n",
    "X_train = ML_data_traintest2.drop(columns=['Yield'])"
   ]
  },
  {
   "cell_type": "markdown",
   "id": "choice-capital",
   "metadata": {},
   "source": [
    "We will use Pipeline process from Scikit Learn where we can assemble several steps that can be cross-validated together while applying normalization and grid search to find optimal settings for different parameters."
   ]
  },
  {
   "cell_type": "markdown",
   "id": "completed-learning",
   "metadata": {},
   "source": [
    "### Lasso"
   ]
  },
  {
   "cell_type": "code",
   "execution_count": 7,
   "id": "casual-civilian",
   "metadata": {},
   "outputs": [
    {
     "name": "stdout",
     "output_type": "stream",
     "text": [
      "Fitting 5 folds for each of 50 candidates, totalling 250 fits\n",
      "[CV 1/5] END .............................model__alpha=1e-10; total time=   0.1s\n",
      "[CV 2/5] END .............................model__alpha=1e-10; total time=   0.1s\n"
     ]
    },
    {
     "name": "stderr",
     "output_type": "stream",
     "text": [
      "/opt/conda/lib/python3.8/site-packages/sklearn/linear_model/_coordinate_descent.py:530: ConvergenceWarning: Objective did not converge. You might want to increase the number of iterations. Duality gap: 76679.56137649706, tolerance: 36.10921705480197\n",
      "  model = cd_fast.enet_coordinate_descent(\n",
      "/opt/conda/lib/python3.8/site-packages/sklearn/linear_model/_coordinate_descent.py:530: ConvergenceWarning: Objective did not converge. You might want to increase the number of iterations. Duality gap: 82434.10850853715, tolerance: 43.04497995454236\n",
      "  model = cd_fast.enet_coordinate_descent(\n",
      "/opt/conda/lib/python3.8/site-packages/sklearn/linear_model/_coordinate_descent.py:530: ConvergenceWarning: Objective did not converge. You might want to increase the number of iterations. Duality gap: 80084.89140619393, tolerance: 41.20759973456209\n",
      "  model = cd_fast.enet_coordinate_descent(\n",
      "/opt/conda/lib/python3.8/site-packages/sklearn/linear_model/_coordinate_descent.py:530: ConvergenceWarning: Objective did not converge. You might want to increase the number of iterations. Duality gap: 80604.61950839986, tolerance: 41.820148002284384\n",
      "  model = cd_fast.enet_coordinate_descent(\n"
     ]
    },
    {
     "name": "stdout",
     "output_type": "stream",
     "text": [
      "[CV 3/5] END .............................model__alpha=1e-10; total time=   0.1s\n",
      "[CV 4/5] END .............................model__alpha=1e-10; total time=   0.1s\n"
     ]
    },
    {
     "name": "stderr",
     "output_type": "stream",
     "text": [
      "/opt/conda/lib/python3.8/site-packages/sklearn/linear_model/_coordinate_descent.py:530: ConvergenceWarning: Objective did not converge. You might want to increase the number of iterations. Duality gap: 74958.9132823322, tolerance: 37.911401982298365\n",
      "  model = cd_fast.enet_coordinate_descent(\n",
      "/opt/conda/lib/python3.8/site-packages/sklearn/linear_model/_coordinate_descent.py:530: ConvergenceWarning: Objective did not converge. You might want to increase the number of iterations. Duality gap: 76679.56119368189, tolerance: 36.10921705480197\n",
      "  model = cd_fast.enet_coordinate_descent(\n"
     ]
    },
    {
     "name": "stdout",
     "output_type": "stream",
     "text": [
      "[CV 5/5] END .............................model__alpha=1e-10; total time=   0.1s\n",
      "[CV 1/5] END ..............model__alpha=1.67683293681101e-10; total time=   0.2s\n"
     ]
    },
    {
     "name": "stderr",
     "output_type": "stream",
     "text": [
      "/opt/conda/lib/python3.8/site-packages/sklearn/linear_model/_coordinate_descent.py:530: ConvergenceWarning: Objective did not converge. You might want to increase the number of iterations. Duality gap: 82434.10826485658, tolerance: 43.04497995454236\n",
      "  model = cd_fast.enet_coordinate_descent(\n",
      "/opt/conda/lib/python3.8/site-packages/sklearn/linear_model/_coordinate_descent.py:530: ConvergenceWarning: Objective did not converge. You might want to increase the number of iterations. Duality gap: 80084.8911048245, tolerance: 41.20759973456209\n",
      "  model = cd_fast.enet_coordinate_descent(\n"
     ]
    },
    {
     "name": "stdout",
     "output_type": "stream",
     "text": [
      "[CV 2/5] END ..............model__alpha=1.67683293681101e-10; total time=   0.1s\n",
      "[CV 3/5] END ..............model__alpha=1.67683293681101e-10; total time=   0.1s\n"
     ]
    },
    {
     "name": "stderr",
     "output_type": "stream",
     "text": [
      "/opt/conda/lib/python3.8/site-packages/sklearn/linear_model/_coordinate_descent.py:530: ConvergenceWarning: Objective did not converge. You might want to increase the number of iterations. Duality gap: 80604.6192296933, tolerance: 41.820148002284384\n",
      "  model = cd_fast.enet_coordinate_descent(\n",
      "/opt/conda/lib/python3.8/site-packages/sklearn/linear_model/_coordinate_descent.py:530: ConvergenceWarning: Objective did not converge. You might want to increase the number of iterations. Duality gap: 74958.91295128979, tolerance: 37.911401982298365\n",
      "  model = cd_fast.enet_coordinate_descent(\n"
     ]
    },
    {
     "name": "stdout",
     "output_type": "stream",
     "text": [
      "[CV 4/5] END ..............model__alpha=1.67683293681101e-10; total time=   0.1s\n",
      "[CV 5/5] END ..............model__alpha=1.67683293681101e-10; total time=   0.2s\n"
     ]
    },
    {
     "name": "stderr",
     "output_type": "stream",
     "text": [
      "/opt/conda/lib/python3.8/site-packages/sklearn/linear_model/_coordinate_descent.py:530: ConvergenceWarning: Objective did not converge. You might want to increase the number of iterations. Duality gap: 76679.56088713068, tolerance: 36.10921705480197\n",
      "  model = cd_fast.enet_coordinate_descent(\n",
      "/opt/conda/lib/python3.8/site-packages/sklearn/linear_model/_coordinate_descent.py:530: ConvergenceWarning: Objective did not converge. You might want to increase the number of iterations. Duality gap: 82434.10785624434, tolerance: 43.04497995454236\n",
      "  model = cd_fast.enet_coordinate_descent(\n"
     ]
    },
    {
     "name": "stdout",
     "output_type": "stream",
     "text": [
      "[CV 1/5] END .............model__alpha=2.811768697974225e-10; total time=   0.1s\n",
      "[CV 2/5] END .............model__alpha=2.811768697974225e-10; total time=   0.1s\n"
     ]
    },
    {
     "name": "stderr",
     "output_type": "stream",
     "text": [
      "/opt/conda/lib/python3.8/site-packages/sklearn/linear_model/_coordinate_descent.py:530: ConvergenceWarning: Objective did not converge. You might want to increase the number of iterations. Duality gap: 80084.89059947863, tolerance: 41.20759973456209\n",
      "  model = cd_fast.enet_coordinate_descent(\n",
      "/opt/conda/lib/python3.8/site-packages/sklearn/linear_model/_coordinate_descent.py:530: ConvergenceWarning: Objective did not converge. You might want to increase the number of iterations. Duality gap: 80604.61876234924, tolerance: 41.820148002284384\n",
      "  model = cd_fast.enet_coordinate_descent(\n"
     ]
    },
    {
     "name": "stdout",
     "output_type": "stream",
     "text": [
      "[CV 3/5] END .............model__alpha=2.811768697974225e-10; total time=   0.2s\n",
      "[CV 4/5] END .............model__alpha=2.811768697974225e-10; total time=   0.1s\n"
     ]
    },
    {
     "name": "stderr",
     "output_type": "stream",
     "text": [
      "/opt/conda/lib/python3.8/site-packages/sklearn/linear_model/_coordinate_descent.py:530: ConvergenceWarning: Objective did not converge. You might want to increase the number of iterations. Duality gap: 74958.91239618618, tolerance: 37.911401982298365\n",
      "  model = cd_fast.enet_coordinate_descent(\n",
      "/opt/conda/lib/python3.8/site-packages/sklearn/linear_model/_coordinate_descent.py:530: ConvergenceWarning: Objective did not converge. You might want to increase the number of iterations. Duality gap: 76679.56037309581, tolerance: 36.10921705480197\n",
      "  model = cd_fast.enet_coordinate_descent(\n"
     ]
    },
    {
     "name": "stdout",
     "output_type": "stream",
     "text": [
      "[CV 5/5] END .............model__alpha=2.811768697974225e-10; total time=   0.1s\n",
      "[CV 1/5] END ..............model__alpha=4.71486636345739e-10; total time=   0.1s\n"
     ]
    },
    {
     "name": "stderr",
     "output_type": "stream",
     "text": [
      "/opt/conda/lib/python3.8/site-packages/sklearn/linear_model/_coordinate_descent.py:530: ConvergenceWarning: Objective did not converge. You might want to increase the number of iterations. Duality gap: 82434.10717106929, tolerance: 43.04497995454236\n",
      "  model = cd_fast.enet_coordinate_descent(\n",
      "/opt/conda/lib/python3.8/site-packages/sklearn/linear_model/_coordinate_descent.py:530: ConvergenceWarning: Objective did not converge. You might want to increase the number of iterations. Duality gap: 80084.8897520981, tolerance: 41.20759973456209\n",
      "  model = cd_fast.enet_coordinate_descent(\n"
     ]
    },
    {
     "name": "stdout",
     "output_type": "stream",
     "text": [
      "[CV 2/5] END ..............model__alpha=4.71486636345739e-10; total time=   0.2s\n",
      "[CV 3/5] END ..............model__alpha=4.71486636345739e-10; total time=   0.1s\n"
     ]
    },
    {
     "name": "stderr",
     "output_type": "stream",
     "text": [
      "/opt/conda/lib/python3.8/site-packages/sklearn/linear_model/_coordinate_descent.py:530: ConvergenceWarning: Objective did not converge. You might want to increase the number of iterations. Duality gap: 80604.61797869134, tolerance: 41.820148002284384\n",
      "  model = cd_fast.enet_coordinate_descent(\n",
      "/opt/conda/lib/python3.8/site-packages/sklearn/linear_model/_coordinate_descent.py:530: ConvergenceWarning: Objective did not converge. You might want to increase the number of iterations. Duality gap: 74958.91146537077, tolerance: 37.911401982298365\n",
      "  model = cd_fast.enet_coordinate_descent(\n"
     ]
    },
    {
     "name": "stdout",
     "output_type": "stream",
     "text": [
      "[CV 4/5] END ..............model__alpha=4.71486636345739e-10; total time=   0.1s\n",
      "[CV 5/5] END ..............model__alpha=4.71486636345739e-10; total time=   0.1s\n"
     ]
    },
    {
     "name": "stderr",
     "output_type": "stream",
     "text": [
      "/opt/conda/lib/python3.8/site-packages/sklearn/linear_model/_coordinate_descent.py:530: ConvergenceWarning: Objective did not converge. You might want to increase the number of iterations. Duality gap: 76679.55951114568, tolerance: 36.10921705480197\n",
      "  model = cd_fast.enet_coordinate_descent(\n",
      "/opt/conda/lib/python3.8/site-packages/sklearn/linear_model/_coordinate_descent.py:530: ConvergenceWarning: Objective did not converge. You might want to increase the number of iterations. Duality gap: 82434.10602214634, tolerance: 43.04497995454236\n",
      "  model = cd_fast.enet_coordinate_descent(\n"
     ]
    },
    {
     "name": "stdout",
     "output_type": "stream",
     "text": [
      "[CV 1/5] END .............model__alpha=7.906043210907701e-10; total time=   0.2s\n",
      "[CV 2/5] END .............model__alpha=7.906043210907701e-10; total time=   0.1s\n"
     ]
    },
    {
     "name": "stderr",
     "output_type": "stream",
     "text": [
      "/opt/conda/lib/python3.8/site-packages/sklearn/linear_model/_coordinate_descent.py:530: ConvergenceWarning: Objective did not converge. You might want to increase the number of iterations. Duality gap: 80084.88833118258, tolerance: 41.20759973456209\n",
      "  model = cd_fast.enet_coordinate_descent(\n",
      "/opt/conda/lib/python3.8/site-packages/sklearn/linear_model/_coordinate_descent.py:530: ConvergenceWarning: Objective did not converge. You might want to increase the number of iterations. Duality gap: 80604.61666462859, tolerance: 41.820148002284384\n",
      "  model = cd_fast.enet_coordinate_descent(\n"
     ]
    },
    {
     "name": "stdout",
     "output_type": "stream",
     "text": [
      "[CV 3/5] END .............model__alpha=7.906043210907701e-10; total time=   0.1s\n",
      "[CV 4/5] END .............model__alpha=7.906043210907701e-10; total time=   0.2s\n"
     ]
    },
    {
     "name": "stderr",
     "output_type": "stream",
     "text": [
      "/opt/conda/lib/python3.8/site-packages/sklearn/linear_model/_coordinate_descent.py:530: ConvergenceWarning: Objective did not converge. You might want to increase the number of iterations. Duality gap: 74958.90990454833, tolerance: 37.911401982298365\n",
      "  model = cd_fast.enet_coordinate_descent(\n",
      "/opt/conda/lib/python3.8/site-packages/sklearn/linear_model/_coordinate_descent.py:530: ConvergenceWarning: Objective did not converge. You might want to increase the number of iterations. Duality gap: 76679.55806579863, tolerance: 36.10921705480197\n",
      "  model = cd_fast.enet_coordinate_descent(\n"
     ]
    },
    {
     "name": "stdout",
     "output_type": "stream",
     "text": [
      "[CV 5/5] END .............model__alpha=7.906043210907701e-10; total time=   0.1s\n",
      "[CV 1/5] END ............model__alpha=1.3257113655901108e-09; total time=   0.2s\n"
     ]
    },
    {
     "name": "stderr",
     "output_type": "stream",
     "text": [
      "/opt/conda/lib/python3.8/site-packages/sklearn/linear_model/_coordinate_descent.py:530: ConvergenceWarning: Objective did not converge. You might want to increase the number of iterations. Duality gap: 82434.10409559334, tolerance: 43.04497995454236\n",
      "  model = cd_fast.enet_coordinate_descent(\n",
      "/opt/conda/lib/python3.8/site-packages/sklearn/linear_model/_coordinate_descent.py:530: ConvergenceWarning: Objective did not converge. You might want to increase the number of iterations. Duality gap: 80084.88594854454, tolerance: 41.20759973456209\n",
      "  model = cd_fast.enet_coordinate_descent(\n"
     ]
    },
    {
     "name": "stdout",
     "output_type": "stream",
     "text": [
      "[CV 2/5] END ............model__alpha=1.3257113655901108e-09; total time=   0.1s\n",
      "[CV 3/5] END ............model__alpha=1.3257113655901108e-09; total time=   0.2s\n"
     ]
    },
    {
     "name": "stderr",
     "output_type": "stream",
     "text": [
      "/opt/conda/lib/python3.8/site-packages/sklearn/linear_model/_coordinate_descent.py:530: ConvergenceWarning: Objective did not converge. You might want to increase the number of iterations. Duality gap: 80604.61446116389, tolerance: 41.820148002284384\n",
      "  model = cd_fast.enet_coordinate_descent(\n",
      "/opt/conda/lib/python3.8/site-packages/sklearn/linear_model/_coordinate_descent.py:530: ConvergenceWarning: Objective did not converge. You might want to increase the number of iterations. Duality gap: 74958.90728731043, tolerance: 37.911401982298365\n",
      "  model = cd_fast.enet_coordinate_descent(\n"
     ]
    },
    {
     "name": "stdout",
     "output_type": "stream",
     "text": [
      "[CV 4/5] END ............model__alpha=1.3257113655901108e-09; total time=   0.2s\n",
      "[CV 5/5] END ............model__alpha=1.3257113655901108e-09; total time=   0.2s\n"
     ]
    },
    {
     "name": "stderr",
     "output_type": "stream",
     "text": [
      "/opt/conda/lib/python3.8/site-packages/sklearn/linear_model/_coordinate_descent.py:530: ConvergenceWarning: Objective did not converge. You might want to increase the number of iterations. Duality gap: 76679.55564219327, tolerance: 36.10921705480197\n",
      "  model = cd_fast.enet_coordinate_descent(\n",
      "/opt/conda/lib/python3.8/site-packages/sklearn/linear_model/_coordinate_descent.py:530: ConvergenceWarning: Objective did not converge. You might want to increase the number of iterations. Duality gap: 82434.10086508628, tolerance: 43.04497995454236\n",
      "  model = cd_fast.enet_coordinate_descent(\n"
     ]
    },
    {
     "name": "stdout",
     "output_type": "stream",
     "text": [
      "[CV 1/5] END .............model__alpha=2.222996482526191e-09; total time=   0.2s\n",
      "[CV 2/5] END .............model__alpha=2.222996482526191e-09; total time=   0.1s\n"
     ]
    },
    {
     "name": "stderr",
     "output_type": "stream",
     "text": [
      "/opt/conda/lib/python3.8/site-packages/sklearn/linear_model/_coordinate_descent.py:530: ConvergenceWarning: Objective did not converge. You might want to increase the number of iterations. Duality gap: 80084.88195325811, tolerance: 41.20759973456209\n",
      "  model = cd_fast.enet_coordinate_descent(\n",
      "/opt/conda/lib/python3.8/site-packages/sklearn/linear_model/_coordinate_descent.py:530: ConvergenceWarning: Objective did not converge. You might want to increase the number of iterations. Duality gap: 80604.61076632178, tolerance: 41.820148002284384\n",
      "  model = cd_fast.enet_coordinate_descent(\n"
     ]
    },
    {
     "name": "stdout",
     "output_type": "stream",
     "text": [
      "[CV 3/5] END .............model__alpha=2.222996482526191e-09; total time=   0.2s\n",
      "[CV 4/5] END .............model__alpha=2.222996482526191e-09; total time=   0.2s\n"
     ]
    },
    {
     "name": "stderr",
     "output_type": "stream",
     "text": [
      "/opt/conda/lib/python3.8/site-packages/sklearn/linear_model/_coordinate_descent.py:530: ConvergenceWarning: Objective did not converge. You might want to increase the number of iterations. Duality gap: 74958.90289863918, tolerance: 37.911401982298365\n",
      "  model = cd_fast.enet_coordinate_descent(\n",
      "/opt/conda/lib/python3.8/site-packages/sklearn/linear_model/_coordinate_descent.py:530: ConvergenceWarning: Objective did not converge. You might want to increase the number of iterations. Duality gap: 76679.55157821234, tolerance: 36.10921705480197\n",
      "  model = cd_fast.enet_coordinate_descent(\n"
     ]
    },
    {
     "name": "stdout",
     "output_type": "stream",
     "text": [
      "[CV 5/5] END .............model__alpha=2.222996482526191e-09; total time=   0.1s\n",
      "[CV 1/5] END .............model__alpha=3.727593720314938e-09; total time=   0.2s\n"
     ]
    },
    {
     "name": "stderr",
     "output_type": "stream",
     "text": [
      "/opt/conda/lib/python3.8/site-packages/sklearn/linear_model/_coordinate_descent.py:530: ConvergenceWarning: Objective did not converge. You might want to increase the number of iterations. Duality gap: 82434.09544806546, tolerance: 43.04497995454236\n",
      "  model = cd_fast.enet_coordinate_descent(\n",
      "/opt/conda/lib/python3.8/site-packages/sklearn/linear_model/_coordinate_descent.py:530: ConvergenceWarning: Objective did not converge. You might want to increase the number of iterations. Duality gap: 80084.87525382935, tolerance: 41.20759973456209\n",
      "  model = cd_fast.enet_coordinate_descent(\n"
     ]
    },
    {
     "name": "stdout",
     "output_type": "stream",
     "text": [
      "[CV 2/5] END .............model__alpha=3.727593720314938e-09; total time=   0.2s\n",
      "[CV 3/5] END .............model__alpha=3.727593720314938e-09; total time=   0.1s\n"
     ]
    },
    {
     "name": "stderr",
     "output_type": "stream",
     "text": [
      "/opt/conda/lib/python3.8/site-packages/sklearn/linear_model/_coordinate_descent.py:530: ConvergenceWarning: Objective did not converge. You might want to increase the number of iterations. Duality gap: 80604.60457068853, tolerance: 41.820148002284384\n",
      "  model = cd_fast.enet_coordinate_descent(\n",
      "/opt/conda/lib/python3.8/site-packages/sklearn/linear_model/_coordinate_descent.py:530: ConvergenceWarning: Objective did not converge. You might want to increase the number of iterations. Duality gap: 74958.89553957118, tolerance: 37.911401982298365\n",
      "  model = cd_fast.enet_coordinate_descent(\n"
     ]
    },
    {
     "name": "stdout",
     "output_type": "stream",
     "text": [
      "[CV 4/5] END .............model__alpha=3.727593720314938e-09; total time=   0.2s\n",
      "[CV 5/5] END .............model__alpha=3.727593720314938e-09; total time=   0.2s\n"
     ]
    },
    {
     "name": "stderr",
     "output_type": "stream",
     "text": [
      "/opt/conda/lib/python3.8/site-packages/sklearn/linear_model/_coordinate_descent.py:530: ConvergenceWarning: Objective did not converge. You might want to increase the number of iterations. Duality gap: 76679.54476359501, tolerance: 36.10921705480197\n",
      "  model = cd_fast.enet_coordinate_descent(\n",
      "/opt/conda/lib/python3.8/site-packages/sklearn/linear_model/_coordinate_descent.py:530: ConvergenceWarning: Objective did not converge. You might want to increase the number of iterations. Duality gap: 82434.08636462427, tolerance: 43.04497995454236\n",
      "  model = cd_fast.enet_coordinate_descent(\n"
     ]
    },
    {
     "name": "stdout",
     "output_type": "stream",
     "text": [
      "[CV 1/5] END .............model__alpha=6.250551925273976e-09; total time=   0.1s\n",
      "[CV 2/5] END .............model__alpha=6.250551925273976e-09; total time=   0.2s\n"
     ]
    },
    {
     "name": "stderr",
     "output_type": "stream",
     "text": [
      "/opt/conda/lib/python3.8/site-packages/sklearn/linear_model/_coordinate_descent.py:530: ConvergenceWarning: Objective did not converge. You might want to increase the number of iterations. Duality gap: 80084.86402000459, tolerance: 41.20759973456209\n",
      "  model = cd_fast.enet_coordinate_descent(\n",
      "/opt/conda/lib/python3.8/site-packages/sklearn/linear_model/_coordinate_descent.py:530: ConvergenceWarning: Objective did not converge. You might want to increase the number of iterations. Duality gap: 80604.59418164442, tolerance: 41.820148002284384\n",
      "  model = cd_fast.enet_coordinate_descent(\n"
     ]
    },
    {
     "name": "stdout",
     "output_type": "stream",
     "text": [
      "[CV 3/5] END .............model__alpha=6.250551925273976e-09; total time=   0.1s\n",
      "[CV 4/5] END .............model__alpha=6.250551925273976e-09; total time=   0.1s\n"
     ]
    },
    {
     "name": "stderr",
     "output_type": "stream",
     "text": [
      "/opt/conda/lib/python3.8/site-packages/sklearn/linear_model/_coordinate_descent.py:530: ConvergenceWarning: Objective did not converge. You might want to increase the number of iterations. Duality gap: 74958.88319964505, tolerance: 37.911401982298365\n",
      "  model = cd_fast.enet_coordinate_descent(\n",
      "/opt/conda/lib/python3.8/site-packages/sklearn/linear_model/_coordinate_descent.py:530: ConvergenceWarning: Objective did not converge. You might want to increase the number of iterations. Duality gap: 76679.53333662024, tolerance: 36.10921705480197\n",
      "  model = cd_fast.enet_coordinate_descent(\n"
     ]
    },
    {
     "name": "stdout",
     "output_type": "stream",
     "text": [
      "[CV 5/5] END .............model__alpha=6.250551925273976e-09; total time=   0.1s\n",
      "[CV 1/5] END ............model__alpha=1.0481131341546852e-08; total time=   0.1s\n"
     ]
    },
    {
     "name": "stderr",
     "output_type": "stream",
     "text": [
      "/opt/conda/lib/python3.8/site-packages/sklearn/linear_model/_coordinate_descent.py:530: ConvergenceWarning: Objective did not converge. You might want to increase the number of iterations. Duality gap: 82434.07113320866, tolerance: 43.04497995454236\n",
      "  model = cd_fast.enet_coordinate_descent(\n",
      "/opt/conda/lib/python3.8/site-packages/sklearn/linear_model/_coordinate_descent.py:530: ConvergenceWarning: Objective did not converge. You might want to increase the number of iterations. Duality gap: 80084.84518274892, tolerance: 41.20759973456209\n",
      "  model = cd_fast.enet_coordinate_descent(\n"
     ]
    },
    {
     "name": "stdout",
     "output_type": "stream",
     "text": [
      "[CV 2/5] END ............model__alpha=1.0481131341546852e-08; total time=   0.2s\n",
      "[CV 3/5] END ............model__alpha=1.0481131341546852e-08; total time=   0.1s\n"
     ]
    },
    {
     "name": "stderr",
     "output_type": "stream",
     "text": [
      "/opt/conda/lib/python3.8/site-packages/sklearn/linear_model/_coordinate_descent.py:530: ConvergenceWarning: Objective did not converge. You might want to increase the number of iterations. Duality gap: 80604.57676094798, tolerance: 41.820148002284384\n",
      "  model = cd_fast.enet_coordinate_descent(\n",
      "/opt/conda/lib/python3.8/site-packages/sklearn/linear_model/_coordinate_descent.py:530: ConvergenceWarning: Objective did not converge. You might want to increase the number of iterations. Duality gap: 74958.86250765217, tolerance: 37.911401982298365\n",
      "  model = cd_fast.enet_coordinate_descent(\n"
     ]
    },
    {
     "name": "stdout",
     "output_type": "stream",
     "text": [
      "[CV 4/5] END ............model__alpha=1.0481131341546852e-08; total time=   0.2s\n",
      "[CV 5/5] END ............model__alpha=1.0481131341546852e-08; total time=   0.1s\n"
     ]
    },
    {
     "name": "stderr",
     "output_type": "stream",
     "text": [
      "/opt/conda/lib/python3.8/site-packages/sklearn/linear_model/_coordinate_descent.py:530: ConvergenceWarning: Objective did not converge. You might want to increase the number of iterations. Duality gap: 76679.51417549037, tolerance: 36.10921705480197\n",
      "  model = cd_fast.enet_coordinate_descent(\n",
      "/opt/conda/lib/python3.8/site-packages/sklearn/linear_model/_coordinate_descent.py:530: ConvergenceWarning: Objective did not converge. You might want to increase the number of iterations. Duality gap: 82434.04559265892, tolerance: 43.04497995454236\n",
      "  model = cd_fast.enet_coordinate_descent(\n"
     ]
    },
    {
     "name": "stdout",
     "output_type": "stream",
     "text": [
      "[CV 1/5] END ............model__alpha=1.7575106248547893e-08; total time=   0.1s\n",
      "[CV 2/5] END ............model__alpha=1.7575106248547893e-08; total time=   0.1s\n"
     ]
    },
    {
     "name": "stderr",
     "output_type": "stream",
     "text": [
      "/opt/conda/lib/python3.8/site-packages/sklearn/linear_model/_coordinate_descent.py:530: ConvergenceWarning: Objective did not converge. You might want to increase the number of iterations. Duality gap: 80084.81359579969, tolerance: 41.20759973456209\n",
      "  model = cd_fast.enet_coordinate_descent(\n",
      "/opt/conda/lib/python3.8/site-packages/sklearn/linear_model/_coordinate_descent.py:530: ConvergenceWarning: Objective did not converge. You might want to increase the number of iterations. Duality gap: 80604.54754933603, tolerance: 41.820148002284384\n",
      "  model = cd_fast.enet_coordinate_descent(\n"
     ]
    },
    {
     "name": "stdout",
     "output_type": "stream",
     "text": [
      "[CV 3/5] END ............model__alpha=1.7575106248547893e-08; total time=   0.2s\n",
      "[CV 4/5] END ............model__alpha=1.7575106248547893e-08; total time=   0.1s\n"
     ]
    },
    {
     "name": "stderr",
     "output_type": "stream",
     "text": [
      "/opt/conda/lib/python3.8/site-packages/sklearn/linear_model/_coordinate_descent.py:530: ConvergenceWarning: Objective did not converge. You might want to increase the number of iterations. Duality gap: 74958.82781064548, tolerance: 37.911401982298365\n",
      "  model = cd_fast.enet_coordinate_descent(\n",
      "/opt/conda/lib/python3.8/site-packages/sklearn/linear_model/_coordinate_descent.py:530: ConvergenceWarning: Objective did not converge. You might want to increase the number of iterations. Duality gap: 76679.48204547157, tolerance: 36.10921705480197\n",
      "  model = cd_fast.enet_coordinate_descent(\n"
     ]
    },
    {
     "name": "stdout",
     "output_type": "stream",
     "text": [
      "[CV 5/5] END ............model__alpha=1.7575106248547893e-08; total time=   0.1s\n",
      "[CV 1/5] END ............model__alpha=2.9470517025518096e-08; total time=   0.2s\n"
     ]
    },
    {
     "name": "stderr",
     "output_type": "stream",
     "text": [
      "/opt/conda/lib/python3.8/site-packages/sklearn/linear_model/_coordinate_descent.py:530: ConvergenceWarning: Objective did not converge. You might want to increase the number of iterations. Duality gap: 82434.0027653992, tolerance: 43.04497995454236\n",
      "  model = cd_fast.enet_coordinate_descent(\n",
      "/opt/conda/lib/python3.8/site-packages/sklearn/linear_model/_coordinate_descent.py:530: ConvergenceWarning: Objective did not converge. You might want to increase the number of iterations. Duality gap: 80084.76062970607, tolerance: 41.20759973456209\n",
      "  model = cd_fast.enet_coordinate_descent(\n"
     ]
    },
    {
     "name": "stdout",
     "output_type": "stream",
     "text": [
      "[CV 2/5] END ............model__alpha=2.9470517025518096e-08; total time=   0.1s\n",
      "[CV 3/5] END ............model__alpha=2.9470517025518096e-08; total time=   0.1s\n"
     ]
    },
    {
     "name": "stderr",
     "output_type": "stream",
     "text": [
      "/opt/conda/lib/python3.8/site-packages/sklearn/linear_model/_coordinate_descent.py:530: ConvergenceWarning: Objective did not converge. You might want to increase the number of iterations. Duality gap: 80604.4985663027, tolerance: 41.820148002284384\n",
      "  model = cd_fast.enet_coordinate_descent(\n",
      "/opt/conda/lib/python3.8/site-packages/sklearn/linear_model/_coordinate_descent.py:530: ConvergenceWarning: Objective did not converge. You might want to increase the number of iterations. Duality gap: 74958.76962958247, tolerance: 37.911401982298365\n",
      "  model = cd_fast.enet_coordinate_descent(\n"
     ]
    },
    {
     "name": "stdout",
     "output_type": "stream",
     "text": [
      "[CV 4/5] END ............model__alpha=2.9470517025518096e-08; total time=   0.2s\n",
      "[CV 5/5] END ............model__alpha=2.9470517025518096e-08; total time=   0.1s\n"
     ]
    },
    {
     "name": "stderr",
     "output_type": "stream",
     "text": [
      "/opt/conda/lib/python3.8/site-packages/sklearn/linear_model/_coordinate_descent.py:530: ConvergenceWarning: Objective did not converge. You might want to increase the number of iterations. Duality gap: 76679.42816878633, tolerance: 36.10921705480197\n",
      "  model = cd_fast.enet_coordinate_descent(\n",
      "/opt/conda/lib/python3.8/site-packages/sklearn/linear_model/_coordinate_descent.py:530: ConvergenceWarning: Objective did not converge. You might want to increase the number of iterations. Duality gap: 82433.9309511663, tolerance: 43.04497995454236\n",
      "  model = cd_fast.enet_coordinate_descent(\n"
     ]
    },
    {
     "name": "stdout",
     "output_type": "stream",
     "text": [
      "[CV 1/5] END ............model__alpha=4.9417133613238385e-08; total time=   0.1s\n",
      "[CV 2/5] END ............model__alpha=4.9417133613238385e-08; total time=   0.1s\n"
     ]
    },
    {
     "name": "stderr",
     "output_type": "stream",
     "text": [
      "/opt/conda/lib/python3.8/site-packages/sklearn/linear_model/_coordinate_descent.py:530: ConvergenceWarning: Objective did not converge. You might want to increase the number of iterations. Duality gap: 80084.6718142611, tolerance: 41.20759973456209\n",
      "  model = cd_fast.enet_coordinate_descent(\n",
      "/opt/conda/lib/python3.8/site-packages/sklearn/linear_model/_coordinate_descent.py:530: ConvergenceWarning: Objective did not converge. You might want to increase the number of iterations. Duality gap: 80604.41642982523, tolerance: 41.820148002284384\n",
      "  model = cd_fast.enet_coordinate_descent(\n"
     ]
    },
    {
     "name": "stdout",
     "output_type": "stream",
     "text": [
      "[CV 3/5] END ............model__alpha=4.9417133613238385e-08; total time=   0.1s\n",
      "[CV 4/5] END ............model__alpha=4.9417133613238385e-08; total time=   0.1s\n"
     ]
    },
    {
     "name": "stderr",
     "output_type": "stream",
     "text": [
      "/opt/conda/lib/python3.8/site-packages/sklearn/linear_model/_coordinate_descent.py:530: ConvergenceWarning: Objective did not converge. You might want to increase the number of iterations. Duality gap: 74958.67206971878, tolerance: 37.911401982298365\n",
      "  model = cd_fast.enet_coordinate_descent(\n",
      "/opt/conda/lib/python3.8/site-packages/sklearn/linear_model/_coordinate_descent.py:530: ConvergenceWarning: Objective did not converge. You might want to increase the number of iterations. Duality gap: 76679.33782655197, tolerance: 36.10921705480197\n",
      "  model = cd_fast.enet_coordinate_descent(\n"
     ]
    },
    {
     "name": "stdout",
     "output_type": "stream",
     "text": [
      "[CV 5/5] END ............model__alpha=4.9417133613238385e-08; total time=   0.2s\n",
      "[CV 1/5] END .............model__alpha=8.286427728546843e-08; total time=   0.1s\n"
     ]
    },
    {
     "name": "stderr",
     "output_type": "stream",
     "text": [
      "/opt/conda/lib/python3.8/site-packages/sklearn/linear_model/_coordinate_descent.py:530: ConvergenceWarning: Objective did not converge. You might want to increase the number of iterations. Duality gap: 82433.81053049036, tolerance: 43.04497995454236\n",
      "  model = cd_fast.enet_coordinate_descent(\n",
      "/opt/conda/lib/python3.8/site-packages/sklearn/linear_model/_coordinate_descent.py:530: ConvergenceWarning: Objective did not converge. You might want to increase the number of iterations. Duality gap: 80084.5228851581, tolerance: 41.20759973456209\n",
      "  model = cd_fast.enet_coordinate_descent(\n"
     ]
    },
    {
     "name": "stdout",
     "output_type": "stream",
     "text": [
      "[CV 2/5] END .............model__alpha=8.286427728546843e-08; total time=   0.1s\n",
      "[CV 3/5] END .............model__alpha=8.286427728546843e-08; total time=   0.2s\n"
     ]
    },
    {
     "name": "stderr",
     "output_type": "stream",
     "text": [
      "/opt/conda/lib/python3.8/site-packages/sklearn/linear_model/_coordinate_descent.py:530: ConvergenceWarning: Objective did not converge. You might want to increase the number of iterations. Duality gap: 80604.27870035582, tolerance: 41.820148002284384\n",
      "  model = cd_fast.enet_coordinate_descent(\n",
      "/opt/conda/lib/python3.8/site-packages/sklearn/linear_model/_coordinate_descent.py:530: ConvergenceWarning: Objective did not converge. You might want to increase the number of iterations. Duality gap: 74958.5084782927, tolerance: 37.911401982298365\n",
      "  model = cd_fast.enet_coordinate_descent(\n"
     ]
    },
    {
     "name": "stdout",
     "output_type": "stream",
     "text": [
      "[CV 4/5] END .............model__alpha=8.286427728546843e-08; total time=   0.1s\n",
      "[CV 5/5] END .............model__alpha=8.286427728546843e-08; total time=   0.1s\n"
     ]
    },
    {
     "name": "stderr",
     "output_type": "stream",
     "text": [
      "/opt/conda/lib/python3.8/site-packages/sklearn/linear_model/_coordinate_descent.py:530: ConvergenceWarning: Objective did not converge. You might want to increase the number of iterations. Duality gap: 76679.186337622, tolerance: 36.10921705480197\n",
      "  model = cd_fast.enet_coordinate_descent(\n",
      "/opt/conda/lib/python3.8/site-packages/sklearn/linear_model/_coordinate_descent.py:530: ConvergenceWarning: Objective did not converge. You might want to increase the number of iterations. Duality gap: 82433.60860455941, tolerance: 43.04497995454236\n",
      "  model = cd_fast.enet_coordinate_descent(\n"
     ]
    },
    {
     "name": "stdout",
     "output_type": "stream",
     "text": [
      "[CV 1/5] END .............model__alpha=1.389495494373136e-07; total time=   0.1s\n",
      "[CV 2/5] END .............model__alpha=1.389495494373136e-07; total time=   0.2s\n"
     ]
    },
    {
     "name": "stderr",
     "output_type": "stream",
     "text": [
      "/opt/conda/lib/python3.8/site-packages/sklearn/linear_model/_coordinate_descent.py:530: ConvergenceWarning: Objective did not converge. You might want to increase the number of iterations. Duality gap: 80084.2731546999, tolerance: 41.20759973456209\n",
      "  model = cd_fast.enet_coordinate_descent(\n",
      "/opt/conda/lib/python3.8/site-packages/sklearn/linear_model/_coordinate_descent.py:530: ConvergenceWarning: Objective did not converge. You might want to increase the number of iterations. Duality gap: 80604.04775014851, tolerance: 41.820148002284384\n",
      "  model = cd_fast.enet_coordinate_descent(\n"
     ]
    },
    {
     "name": "stdout",
     "output_type": "stream",
     "text": [
      "[CV 3/5] END .............model__alpha=1.389495494373136e-07; total time=   0.1s\n",
      "[CV 4/5] END .............model__alpha=1.389495494373136e-07; total time=   0.1s\n"
     ]
    },
    {
     "name": "stderr",
     "output_type": "stream",
     "text": [
      "/opt/conda/lib/python3.8/site-packages/sklearn/linear_model/_coordinate_descent.py:530: ConvergenceWarning: Objective did not converge. You might want to increase the number of iterations. Duality gap: 74958.23416326917, tolerance: 37.911401982298365\n",
      "  model = cd_fast.enet_coordinate_descent(\n",
      "/opt/conda/lib/python3.8/site-packages/sklearn/linear_model/_coordinate_descent.py:530: ConvergenceWarning: Objective did not converge. You might want to increase the number of iterations. Duality gap: 76678.93231572563, tolerance: 36.10921705480197\n",
      "  model = cd_fast.enet_coordinate_descent(\n"
     ]
    },
    {
     "name": "stdout",
     "output_type": "stream",
     "text": [
      "[CV 5/5] END .............model__alpha=1.389495494373136e-07; total time=   0.2s\n",
      "[CV 1/5] END .............model__alpha=2.329951810515372e-07; total time=   0.1s\n"
     ]
    },
    {
     "name": "stderr",
     "output_type": "stream",
     "text": [
      "/opt/conda/lib/python3.8/site-packages/sklearn/linear_model/_coordinate_descent.py:530: ConvergenceWarning: Objective did not converge. You might want to increase the number of iterations. Duality gap: 82433.27000688763, tolerance: 43.04497995454236\n",
      "  model = cd_fast.enet_coordinate_descent(\n",
      "/opt/conda/lib/python3.8/site-packages/sklearn/linear_model/_coordinate_descent.py:530: ConvergenceWarning: Objective did not converge. You might want to increase the number of iterations. Duality gap: 80083.8543949727, tolerance: 41.20759973456209\n",
      "  model = cd_fast.enet_coordinate_descent(\n"
     ]
    },
    {
     "name": "stdout",
     "output_type": "stream",
     "text": [
      "[CV 2/5] END .............model__alpha=2.329951810515372e-07; total time=   0.1s\n",
      "[CV 3/5] END .............model__alpha=2.329951810515372e-07; total time=   0.2s\n"
     ]
    },
    {
     "name": "stderr",
     "output_type": "stream",
     "text": [
      "/opt/conda/lib/python3.8/site-packages/sklearn/linear_model/_coordinate_descent.py:530: ConvergenceWarning: Objective did not converge. You might want to increase the number of iterations. Duality gap: 80603.6604827111, tolerance: 41.820148002284384\n",
      "  model = cd_fast.enet_coordinate_descent(\n",
      "/opt/conda/lib/python3.8/site-packages/sklearn/linear_model/_coordinate_descent.py:530: ConvergenceWarning: Objective did not converge. You might want to increase the number of iterations. Duality gap: 74957.77418411853, tolerance: 37.911401982298365\n",
      "  model = cd_fast.enet_coordinate_descent(\n"
     ]
    },
    {
     "name": "stdout",
     "output_type": "stream",
     "text": [
      "[CV 4/5] END .............model__alpha=2.329951810515372e-07; total time=   0.1s\n",
      "[CV 5/5] END .............model__alpha=2.329951810515372e-07; total time=   0.1s\n"
     ]
    },
    {
     "name": "stderr",
     "output_type": "stream",
     "text": [
      "/opt/conda/lib/python3.8/site-packages/sklearn/linear_model/_coordinate_descent.py:530: ConvergenceWarning: Objective did not converge. You might want to increase the number of iterations. Duality gap: 76678.50636268545, tolerance: 36.10921705480197\n",
      "  model = cd_fast.enet_coordinate_descent(\n",
      "/opt/conda/lib/python3.8/site-packages/sklearn/linear_model/_coordinate_descent.py:530: ConvergenceWarning: Objective did not converge. You might want to increase the number of iterations. Duality gap: 82432.70223060653, tolerance: 43.04497995454236\n",
      "  model = cd_fast.enet_coordinate_descent(\n"
     ]
    },
    {
     "name": "stdout",
     "output_type": "stream",
     "text": [
      "[CV 1/5] END .............model__alpha=3.906939937054621e-07; total time=   0.2s\n",
      "[CV 2/5] END .............model__alpha=3.906939937054621e-07; total time=   0.1s\n"
     ]
    },
    {
     "name": "stderr",
     "output_type": "stream",
     "text": [
      "/opt/conda/lib/python3.8/site-packages/sklearn/linear_model/_coordinate_descent.py:530: ConvergenceWarning: Objective did not converge. You might want to increase the number of iterations. Duality gap: 80083.15219511688, tolerance: 41.20759973456209\n",
      "  model = cd_fast.enet_coordinate_descent(\n",
      "/opt/conda/lib/python3.8/site-packages/sklearn/linear_model/_coordinate_descent.py:530: ConvergenceWarning: Objective did not converge. You might want to increase the number of iterations. Duality gap: 80603.0110928252, tolerance: 41.820148002284384\n",
      "  model = cd_fast.enet_coordinate_descent(\n"
     ]
    },
    {
     "name": "stdout",
     "output_type": "stream",
     "text": [
      "[CV 3/5] END .............model__alpha=3.906939937054621e-07; total time=   0.1s\n",
      "[CV 4/5] END .............model__alpha=3.906939937054621e-07; total time=   0.1s\n"
     ]
    },
    {
     "name": "stderr",
     "output_type": "stream",
     "text": [
      "/opt/conda/lib/python3.8/site-packages/sklearn/linear_model/_coordinate_descent.py:530: ConvergenceWarning: Objective did not converge. You might want to increase the number of iterations. Duality gap: 74957.00287962807, tolerance: 37.911401982298365\n",
      "  model = cd_fast.enet_coordinate_descent(\n",
      "/opt/conda/lib/python3.8/site-packages/sklearn/linear_model/_coordinate_descent.py:530: ConvergenceWarning: Objective did not converge. You might want to increase the number of iterations. Duality gap: 76677.79210846701, tolerance: 36.10921705480197\n",
      "  model = cd_fast.enet_coordinate_descent(\n"
     ]
    },
    {
     "name": "stdout",
     "output_type": "stream",
     "text": [
      "[CV 5/5] END .............model__alpha=3.906939937054621e-07; total time=   0.2s\n",
      "[CV 1/5] END ..............model__alpha=6.55128556859551e-07; total time=   0.1s\n"
     ]
    },
    {
     "name": "stderr",
     "output_type": "stream",
     "text": [
      "/opt/conda/lib/python3.8/site-packages/sklearn/linear_model/_coordinate_descent.py:530: ConvergenceWarning: Objective did not converge. You might want to increase the number of iterations. Duality gap: 82431.75015183663, tolerance: 43.04497995454236\n",
      "  model = cd_fast.enet_coordinate_descent(\n",
      "/opt/conda/lib/python3.8/site-packages/sklearn/linear_model/_coordinate_descent.py:530: ConvergenceWarning: Objective did not converge. You might want to increase the number of iterations. Duality gap: 80081.97469584756, tolerance: 41.20759973456209\n",
      "  model = cd_fast.enet_coordinate_descent(\n"
     ]
    },
    {
     "name": "stdout",
     "output_type": "stream",
     "text": [
      "[CV 2/5] END ..............model__alpha=6.55128556859551e-07; total time=   0.2s\n",
      "[CV 3/5] END ..............model__alpha=6.55128556859551e-07; total time=   0.1s\n"
     ]
    },
    {
     "name": "stderr",
     "output_type": "stream",
     "text": [
      "/opt/conda/lib/python3.8/site-packages/sklearn/linear_model/_coordinate_descent.py:530: ConvergenceWarning: Objective did not converge. You might want to increase the number of iterations. Duality gap: 80601.92215453376, tolerance: 41.820148002284384\n",
      "  model = cd_fast.enet_coordinate_descent(\n",
      "/opt/conda/lib/python3.8/site-packages/sklearn/linear_model/_coordinate_descent.py:530: ConvergenceWarning: Objective did not converge. You might want to increase the number of iterations. Duality gap: 74955.70954125626, tolerance: 37.911401982298365\n",
      "  model = cd_fast.enet_coordinate_descent(\n"
     ]
    },
    {
     "name": "stdout",
     "output_type": "stream",
     "text": [
      "[CV 4/5] END ..............model__alpha=6.55128556859551e-07; total time=   0.1s\n",
      "[CV 5/5] END ..............model__alpha=6.55128556859551e-07; total time=   0.1s\n"
     ]
    },
    {
     "name": "stderr",
     "output_type": "stream",
     "text": [
      "/opt/conda/lib/python3.8/site-packages/sklearn/linear_model/_coordinate_descent.py:530: ConvergenceWarning: Objective did not converge. You might want to increase the number of iterations. Duality gap: 76676.59441747783, tolerance: 36.10921705480197\n",
      "  model = cd_fast.enet_coordinate_descent(\n",
      "/opt/conda/lib/python3.8/site-packages/sklearn/linear_model/_coordinate_descent.py:530: ConvergenceWarning: Objective did not converge. You might want to increase the number of iterations. Duality gap: 82430.15363880282, tolerance: 43.04497995454236\n",
      "  model = cd_fast.enet_coordinate_descent(\n"
     ]
    },
    {
     "name": "stdout",
     "output_type": "stream",
     "text": [
      "[CV 1/5] END ............model__alpha=1.0985411419875572e-06; total time=   0.2s\n",
      "[CV 2/5] END ............model__alpha=1.0985411419875572e-06; total time=   0.1s\n"
     ]
    },
    {
     "name": "stderr",
     "output_type": "stream",
     "text": [
      "/opt/conda/lib/python3.8/site-packages/sklearn/linear_model/_coordinate_descent.py:530: ConvergenceWarning: Objective did not converge. You might want to increase the number of iterations. Duality gap: 80080.00014964674, tolerance: 41.20759973456209\n",
      "  model = cd_fast.enet_coordinate_descent(\n",
      "/opt/conda/lib/python3.8/site-packages/sklearn/linear_model/_coordinate_descent.py:530: ConvergenceWarning: Objective did not converge. You might want to increase the number of iterations. Duality gap: 80600.0961308704, tolerance: 41.820148002284384\n",
      "  model = cd_fast.enet_coordinate_descent(\n"
     ]
    },
    {
     "name": "stdout",
     "output_type": "stream",
     "text": [
      "[CV 3/5] END ............model__alpha=1.0985411419875572e-06; total time=   0.1s\n",
      "[CV 4/5] END ............model__alpha=1.0985411419875572e-06; total time=   0.1s\n"
     ]
    },
    {
     "name": "stderr",
     "output_type": "stream",
     "text": [
      "/opt/conda/lib/python3.8/site-packages/sklearn/linear_model/_coordinate_descent.py:530: ConvergenceWarning: Objective did not converge. You might want to increase the number of iterations. Duality gap: 74953.54085812405, tolerance: 37.911401982298365\n",
      "  model = cd_fast.enet_coordinate_descent(\n",
      "/opt/conda/lib/python3.8/site-packages/sklearn/linear_model/_coordinate_descent.py:530: ConvergenceWarning: Objective did not converge. You might want to increase the number of iterations. Duality gap: 76674.5860729385, tolerance: 36.10921705480197\n",
      "  model = cd_fast.enet_coordinate_descent(\n"
     ]
    },
    {
     "name": "stdout",
     "output_type": "stream",
     "text": [
      "[CV 5/5] END ............model__alpha=1.0985411419875572e-06; total time=   0.2s\n",
      "[CV 1/5] END ............model__alpha=1.8420699693267164e-06; total time=   0.1s\n"
     ]
    },
    {
     "name": "stderr",
     "output_type": "stream",
     "text": [
      "/opt/conda/lib/python3.8/site-packages/sklearn/linear_model/_coordinate_descent.py:530: ConvergenceWarning: Objective did not converge. You might want to increase the number of iterations. Duality gap: 82427.47645195553, tolerance: 43.04497995454236\n",
      "  model = cd_fast.enet_coordinate_descent(\n",
      "/opt/conda/lib/python3.8/site-packages/sklearn/linear_model/_coordinate_descent.py:530: ConvergenceWarning: Objective did not converge. You might want to increase the number of iterations. Duality gap: 80076.68895192326, tolerance: 41.20759973456209\n",
      "  model = cd_fast.enet_coordinate_descent(\n"
     ]
    },
    {
     "name": "stdout",
     "output_type": "stream",
     "text": [
      "[CV 2/5] END ............model__alpha=1.8420699693267164e-06; total time=   0.1s\n",
      "[CV 3/5] END ............model__alpha=1.8420699693267164e-06; total time=   0.2s\n"
     ]
    },
    {
     "name": "stderr",
     "output_type": "stream",
     "text": [
      "/opt/conda/lib/python3.8/site-packages/sklearn/linear_model/_coordinate_descent.py:530: ConvergenceWarning: Objective did not converge. You might want to increase the number of iterations. Duality gap: 80597.03403606519, tolerance: 41.820148002284384\n",
      "  model = cd_fast.enet_coordinate_descent(\n",
      "/opt/conda/lib/python3.8/site-packages/sklearn/linear_model/_coordinate_descent.py:530: ConvergenceWarning: Objective did not converge. You might want to increase the number of iterations. Duality gap: 74949.904421052, tolerance: 37.911401982298365\n",
      "  model = cd_fast.enet_coordinate_descent(\n"
     ]
    },
    {
     "name": "stdout",
     "output_type": "stream",
     "text": [
      "[CV 4/5] END ............model__alpha=1.8420699693267164e-06; total time=   0.1s\n",
      "[CV 5/5] END ............model__alpha=1.8420699693267164e-06; total time=   0.1s\n"
     ]
    },
    {
     "name": "stderr",
     "output_type": "stream",
     "text": [
      "/opt/conda/lib/python3.8/site-packages/sklearn/linear_model/_coordinate_descent.py:530: ConvergenceWarning: Objective did not converge. You might want to increase the number of iterations. Duality gap: 76671.2183573199, tolerance: 36.10921705480197\n",
      "  model = cd_fast.enet_coordinate_descent(\n",
      "/opt/conda/lib/python3.8/site-packages/sklearn/linear_model/_coordinate_descent.py:530: ConvergenceWarning: Objective did not converge. You might want to increase the number of iterations. Duality gap: 82422.98697230118, tolerance: 43.04497995454236\n",
      "  model = cd_fast.enet_coordinate_descent(\n"
     ]
    },
    {
     "name": "stdout",
     "output_type": "stream",
     "text": [
      "[CV 1/5] END ............model__alpha=3.0888435964774785e-06; total time=   0.2s\n",
      "[CV 2/5] END ............model__alpha=3.0888435964774785e-06; total time=   0.1s\n"
     ]
    },
    {
     "name": "stderr",
     "output_type": "stream",
     "text": [
      "/opt/conda/lib/python3.8/site-packages/sklearn/linear_model/_coordinate_descent.py:530: ConvergenceWarning: Objective did not converge. You might want to increase the number of iterations. Duality gap: 80071.13602350248, tolerance: 41.20759973456209\n",
      "  model = cd_fast.enet_coordinate_descent(\n",
      "/opt/conda/lib/python3.8/site-packages/sklearn/linear_model/_coordinate_descent.py:530: ConvergenceWarning: Objective did not converge. You might want to increase the number of iterations. Duality gap: 80591.8989540447, tolerance: 41.820148002284384\n",
      "  model = cd_fast.enet_coordinate_descent(\n"
     ]
    },
    {
     "name": "stdout",
     "output_type": "stream",
     "text": [
      "[CV 3/5] END ............model__alpha=3.0888435964774785e-06; total time=   0.1s\n",
      "[CV 4/5] END ............model__alpha=3.0888435964774785e-06; total time=   0.1s\n"
     ]
    },
    {
     "name": "stderr",
     "output_type": "stream",
     "text": [
      "/opt/conda/lib/python3.8/site-packages/sklearn/linear_model/_coordinate_descent.py:530: ConvergenceWarning: Objective did not converge. You might want to increase the number of iterations. Duality gap: 74943.80695479654, tolerance: 37.911401982298365\n",
      "  model = cd_fast.enet_coordinate_descent(\n",
      "/opt/conda/lib/python3.8/site-packages/sklearn/linear_model/_coordinate_descent.py:530: ConvergenceWarning: Objective did not converge. You might want to increase the number of iterations. Duality gap: 76665.57113758336, tolerance: 36.10921705480197\n",
      "  model = cd_fast.enet_coordinate_descent(\n"
     ]
    },
    {
     "name": "stdout",
     "output_type": "stream",
     "text": [
      "[CV 5/5] END ............model__alpha=3.0888435964774785e-06; total time=   0.2s\n",
      "[CV 1/5] END .............model__alpha=5.179474679231212e-06; total time=   0.1s\n"
     ]
    },
    {
     "name": "stderr",
     "output_type": "stream",
     "text": [
      "/opt/conda/lib/python3.8/site-packages/sklearn/linear_model/_coordinate_descent.py:530: ConvergenceWarning: Objective did not converge. You might want to increase the number of iterations. Duality gap: 82415.45810021453, tolerance: 43.04497995454236\n",
      "  model = cd_fast.enet_coordinate_descent(\n",
      "/opt/conda/lib/python3.8/site-packages/sklearn/linear_model/_coordinate_descent.py:530: ConvergenceWarning: Objective did not converge. You might want to increase the number of iterations. Duality gap: 80061.82299385067, tolerance: 41.20759973456209\n",
      "  model = cd_fast.enet_coordinate_descent(\n"
     ]
    },
    {
     "name": "stdout",
     "output_type": "stream",
     "text": [
      "[CV 2/5] END .............model__alpha=5.179474679231212e-06; total time=   0.1s\n",
      "[CV 3/5] END .............model__alpha=5.179474679231212e-06; total time=   0.1s\n"
     ]
    },
    {
     "name": "stderr",
     "output_type": "stream",
     "text": [
      "/opt/conda/lib/python3.8/site-packages/sklearn/linear_model/_coordinate_descent.py:530: ConvergenceWarning: Objective did not converge. You might want to increase the number of iterations. Duality gap: 80583.28700899174, tolerance: 41.820148002284384\n",
      "  model = cd_fast.enet_coordinate_descent(\n",
      "/opt/conda/lib/python3.8/site-packages/sklearn/linear_model/_coordinate_descent.py:530: ConvergenceWarning: Objective did not converge. You might want to increase the number of iterations. Duality gap: 74933.58317251567, tolerance: 37.911401982298365\n",
      "  model = cd_fast.enet_coordinate_descent(\n"
     ]
    },
    {
     "name": "stdout",
     "output_type": "stream",
     "text": [
      "[CV 4/5] END .............model__alpha=5.179474679231212e-06; total time=   0.1s\n",
      "[CV 5/5] END .............model__alpha=5.179474679231212e-06; total time=   0.2s\n"
     ]
    },
    {
     "name": "stderr",
     "output_type": "stream",
     "text": [
      "/opt/conda/lib/python3.8/site-packages/sklearn/linear_model/_coordinate_descent.py:530: ConvergenceWarning: Objective did not converge. You might want to increase the number of iterations. Duality gap: 76656.10131867873, tolerance: 36.10921705480197\n",
      "  model = cd_fast.enet_coordinate_descent(\n",
      "/opt/conda/lib/python3.8/site-packages/sklearn/linear_model/_coordinate_descent.py:530: ConvergenceWarning: Objective did not converge. You might want to increase the number of iterations. Duality gap: 82402.83119510068, tolerance: 43.04497995454236\n",
      "  model = cd_fast.enet_coordinate_descent(\n"
     ]
    },
    {
     "name": "stdout",
     "output_type": "stream",
     "text": [
      "[CV 1/5] END ..............model__alpha=8.68511373751352e-06; total time=   0.1s\n",
      "[CV 2/5] END ..............model__alpha=8.68511373751352e-06; total time=   0.1s\n"
     ]
    },
    {
     "name": "stderr",
     "output_type": "stream",
     "text": [
      "/opt/conda/lib/python3.8/site-packages/sklearn/linear_model/_coordinate_descent.py:530: ConvergenceWarning: Objective did not converge. You might want to increase the number of iterations. Duality gap: 80046.20184811676, tolerance: 41.20759973456209\n",
      "  model = cd_fast.enet_coordinate_descent(\n",
      "/opt/conda/lib/python3.8/site-packages/sklearn/linear_model/_coordinate_descent.py:530: ConvergenceWarning: Objective did not converge. You might want to increase the number of iterations. Duality gap: 80568.84276449092, tolerance: 41.820148002284384\n",
      "  model = cd_fast.enet_coordinate_descent(\n"
     ]
    },
    {
     "name": "stdout",
     "output_type": "stream",
     "text": [
      "[CV 3/5] END ..............model__alpha=8.68511373751352e-06; total time=   0.1s\n",
      "[CV 4/5] END ..............model__alpha=8.68511373751352e-06; total time=   0.2s\n"
     ]
    },
    {
     "name": "stderr",
     "output_type": "stream",
     "text": [
      "/opt/conda/lib/python3.8/site-packages/sklearn/linear_model/_coordinate_descent.py:530: ConvergenceWarning: Objective did not converge. You might want to increase the number of iterations. Duality gap: 74916.4414246932, tolerance: 37.911401982298365\n",
      "  model = cd_fast.enet_coordinate_descent(\n",
      "/opt/conda/lib/python3.8/site-packages/sklearn/linear_model/_coordinate_descent.py:530: ConvergenceWarning: Objective did not converge. You might want to increase the number of iterations. Duality gap: 76640.22098585177, tolerance: 36.10921705480197\n",
      "  model = cd_fast.enet_coordinate_descent(\n"
     ]
    },
    {
     "name": "stdout",
     "output_type": "stream",
     "text": [
      "[CV 5/5] END ..............model__alpha=8.68511373751352e-06; total time=   0.1s\n",
      "[CV 1/5] END ............model__alpha=1.4563484775012445e-05; total time=   0.1s\n"
     ]
    },
    {
     "name": "stderr",
     "output_type": "stream",
     "text": [
      "/opt/conda/lib/python3.8/site-packages/sklearn/linear_model/_coordinate_descent.py:530: ConvergenceWarning: Objective did not converge. You might want to increase the number of iterations. Duality gap: 82381.65169598757, tolerance: 43.04497995454236\n",
      "  model = cd_fast.enet_coordinate_descent(\n",
      "/opt/conda/lib/python3.8/site-packages/sklearn/linear_model/_coordinate_descent.py:530: ConvergenceWarning: Objective did not converge. You might want to increase the number of iterations. Duality gap: 80019.99431803143, tolerance: 41.20759973456209\n",
      "  model = cd_fast.enet_coordinate_descent(\n"
     ]
    },
    {
     "name": "stdout",
     "output_type": "stream",
     "text": [
      "[CV 2/5] END ............model__alpha=1.4563484775012445e-05; total time=   0.2s\n",
      "[CV 3/5] END ............model__alpha=1.4563484775012445e-05; total time=   0.1s\n"
     ]
    },
    {
     "name": "stderr",
     "output_type": "stream",
     "text": [
      "/opt/conda/lib/python3.8/site-packages/sklearn/linear_model/_coordinate_descent.py:530: ConvergenceWarning: Objective did not converge. You might want to increase the number of iterations. Duality gap: 80544.61236575402, tolerance: 41.820148002284384\n",
      "  model = cd_fast.enet_coordinate_descent(\n",
      "/opt/conda/lib/python3.8/site-packages/sklearn/linear_model/_coordinate_descent.py:530: ConvergenceWarning: Objective did not converge. You might want to increase the number of iterations. Duality gap: 74887.7027121478, tolerance: 37.911401982298365\n",
      "  model = cd_fast.enet_coordinate_descent(\n"
     ]
    },
    {
     "name": "stdout",
     "output_type": "stream",
     "text": [
      "[CV 4/5] END ............model__alpha=1.4563484775012445e-05; total time=   0.1s\n",
      "[CV 5/5] END ............model__alpha=1.4563484775012445e-05; total time=   0.2s\n"
     ]
    },
    {
     "name": "stderr",
     "output_type": "stream",
     "text": [
      "/opt/conda/lib/python3.8/site-packages/sklearn/linear_model/_coordinate_descent.py:530: ConvergenceWarning: Objective did not converge. You might want to increase the number of iterations. Duality gap: 76613.58953823408, tolerance: 36.10921705480197\n",
      "  model = cd_fast.enet_coordinate_descent(\n",
      "/opt/conda/lib/python3.8/site-packages/sklearn/linear_model/_coordinate_descent.py:530: ConvergenceWarning: Objective did not converge. You might want to increase the number of iterations. Duality gap: 82346.1194960207, tolerance: 43.04497995454236\n",
      "  model = cd_fast.enet_coordinate_descent(\n"
     ]
    },
    {
     "name": "stdout",
     "output_type": "stream",
     "text": [
      "[CV 1/5] END ............model__alpha=2.4420530945486497e-05; total time=   0.2s\n",
      "[CV 2/5] END ............model__alpha=2.4420530945486497e-05; total time=   0.1s\n"
     ]
    },
    {
     "name": "stderr",
     "output_type": "stream",
     "text": [
      "/opt/conda/lib/python3.8/site-packages/sklearn/linear_model/_coordinate_descent.py:530: ConvergenceWarning: Objective did not converge. You might want to increase the number of iterations. Duality gap: 79976.01096400955, tolerance: 41.20759973456209\n",
      "  model = cd_fast.enet_coordinate_descent(\n",
      "/opt/conda/lib/python3.8/site-packages/sklearn/linear_model/_coordinate_descent.py:530: ConvergenceWarning: Objective did not converge. You might want to increase the number of iterations. Duality gap: 80503.95445891657, tolerance: 41.820148002284384\n",
      "  model = cd_fast.enet_coordinate_descent(\n"
     ]
    },
    {
     "name": "stdout",
     "output_type": "stream",
     "text": [
      "[CV 3/5] END ............model__alpha=2.4420530945486497e-05; total time=   0.2s\n",
      "[CV 4/5] END ............model__alpha=2.4420530945486497e-05; total time=   0.2s\n"
     ]
    },
    {
     "name": "stderr",
     "output_type": "stream",
     "text": [
      "/opt/conda/lib/python3.8/site-packages/sklearn/linear_model/_coordinate_descent.py:530: ConvergenceWarning: Objective did not converge. You might want to increase the number of iterations. Duality gap: 74839.52720254357, tolerance: 37.911401982298365\n",
      "  model = cd_fast.enet_coordinate_descent(\n",
      "/opt/conda/lib/python3.8/site-packages/sklearn/linear_model/_coordinate_descent.py:530: ConvergenceWarning: Objective did not converge. You might want to increase the number of iterations. Duality gap: 76568.9117717019, tolerance: 36.10921705480197\n",
      "  model = cd_fast.enet_coordinate_descent(\n"
     ]
    },
    {
     "name": "stdout",
     "output_type": "stream",
     "text": [
      "[CV 5/5] END ............model__alpha=2.4420530945486497e-05; total time=   0.1s\n",
      "[CV 1/5] END .............model__alpha=4.094915062380427e-05; total time=   0.2s\n"
     ]
    },
    {
     "name": "stderr",
     "output_type": "stream",
     "text": [
      "/opt/conda/lib/python3.8/site-packages/sklearn/linear_model/_coordinate_descent.py:530: ConvergenceWarning: Objective did not converge. You might want to increase the number of iterations. Duality gap: 82286.4909181396, tolerance: 43.04497995454236\n",
      "  model = cd_fast.enet_coordinate_descent(\n",
      "/opt/conda/lib/python3.8/site-packages/sklearn/linear_model/_coordinate_descent.py:530: ConvergenceWarning: Objective did not converge. You might want to increase the number of iterations. Duality gap: 79902.15244952567, tolerance: 41.20759973456209\n",
      "  model = cd_fast.enet_coordinate_descent(\n"
     ]
    },
    {
     "name": "stdout",
     "output_type": "stream",
     "text": [
      "[CV 2/5] END .............model__alpha=4.094915062380427e-05; total time=   0.2s\n",
      "[CV 3/5] END .............model__alpha=4.094915062380427e-05; total time=   0.1s\n"
     ]
    },
    {
     "name": "stderr",
     "output_type": "stream",
     "text": [
      "/opt/conda/lib/python3.8/site-packages/sklearn/linear_model/_coordinate_descent.py:530: ConvergenceWarning: Objective did not converge. You might want to increase the number of iterations. Duality gap: 80435.70107997031, tolerance: 41.820148002284384\n",
      "  model = cd_fast.enet_coordinate_descent(\n",
      "/opt/conda/lib/python3.8/site-packages/sklearn/linear_model/_coordinate_descent.py:530: ConvergenceWarning: Objective did not converge. You might want to increase the number of iterations. Duality gap: 74758.7885483673, tolerance: 37.911401982298365\n",
      "  model = cd_fast.enet_coordinate_descent(\n"
     ]
    },
    {
     "name": "stdout",
     "output_type": "stream",
     "text": [
      "[CV 4/5] END .............model__alpha=4.094915062380427e-05; total time=   0.2s\n",
      "[CV 5/5] END .............model__alpha=4.094915062380427e-05; total time=   0.2s\n"
     ]
    },
    {
     "name": "stderr",
     "output_type": "stream",
     "text": [
      "/opt/conda/lib/python3.8/site-packages/sklearn/linear_model/_coordinate_descent.py:530: ConvergenceWarning: Objective did not converge. You might want to increase the number of iterations. Duality gap: 76493.97229565294, tolerance: 36.10921705480197\n",
      "  model = cd_fast.enet_coordinate_descent(\n",
      "/opt/conda/lib/python3.8/site-packages/sklearn/linear_model/_coordinate_descent.py:530: ConvergenceWarning: Objective did not converge. You might want to increase the number of iterations. Duality gap: 82186.37349492402, tolerance: 43.04497995454236\n",
      "  model = cd_fast.enet_coordinate_descent(\n"
     ]
    },
    {
     "name": "stdout",
     "output_type": "stream",
     "text": [
      "[CV 1/5] END .............model__alpha=6.866488450042999e-05; total time=   0.1s\n",
      "[CV 2/5] END .............model__alpha=6.866488450042999e-05; total time=   0.2s\n"
     ]
    },
    {
     "name": "stderr",
     "output_type": "stream",
     "text": [
      "/opt/conda/lib/python3.8/site-packages/sklearn/linear_model/_coordinate_descent.py:530: ConvergenceWarning: Objective did not converge. You might want to increase the number of iterations. Duality gap: 79778.00792101244, tolerance: 41.20759973456209\n",
      "  model = cd_fast.enet_coordinate_descent(\n",
      "/opt/conda/lib/python3.8/site-packages/sklearn/linear_model/_coordinate_descent.py:530: ConvergenceWarning: Objective did not converge. You might want to increase the number of iterations. Duality gap: 80321.04172932559, tolerance: 41.820148002284384\n",
      "  model = cd_fast.enet_coordinate_descent(\n"
     ]
    },
    {
     "name": "stdout",
     "output_type": "stream",
     "text": [
      "[CV 3/5] END .............model__alpha=6.866488450042999e-05; total time=   0.1s\n",
      "[CV 4/5] END .............model__alpha=6.866488450042999e-05; total time=   0.2s\n"
     ]
    },
    {
     "name": "stderr",
     "output_type": "stream",
     "text": [
      "/opt/conda/lib/python3.8/site-packages/sklearn/linear_model/_coordinate_descent.py:530: ConvergenceWarning: Objective did not converge. You might want to increase the number of iterations. Duality gap: 74623.52574510462, tolerance: 37.911401982298365\n",
      "  model = cd_fast.enet_coordinate_descent(\n",
      "/opt/conda/lib/python3.8/site-packages/sklearn/linear_model/_coordinate_descent.py:530: ConvergenceWarning: Objective did not converge. You might want to increase the number of iterations. Duality gap: 76368.2327067288, tolerance: 36.10921705480197\n",
      "  model = cd_fast.enet_coordinate_descent(\n"
     ]
    },
    {
     "name": "stdout",
     "output_type": "stream",
     "text": [
      "[CV 5/5] END .............model__alpha=6.866488450042999e-05; total time=   0.2s\n",
      "[CV 1/5] END ............model__alpha=0.00011513953993264481; total time=   0.1s\n"
     ]
    },
    {
     "name": "stderr",
     "output_type": "stream",
     "text": [
      "/opt/conda/lib/python3.8/site-packages/sklearn/linear_model/_coordinate_descent.py:530: ConvergenceWarning: Objective did not converge. You might want to increase the number of iterations. Duality gap: 82018.1226115508, tolerance: 43.04497995454236\n",
      "  model = cd_fast.enet_coordinate_descent(\n",
      "/opt/conda/lib/python3.8/site-packages/sklearn/linear_model/_coordinate_descent.py:530: ConvergenceWarning: Objective did not converge. You might want to increase the number of iterations. Duality gap: 79569.01364297957, tolerance: 41.20759973456209\n",
      "  model = cd_fast.enet_coordinate_descent(\n"
     ]
    },
    {
     "name": "stdout",
     "output_type": "stream",
     "text": [
      "[CV 2/5] END ............model__alpha=0.00011513953993264481; total time=   0.2s\n",
      "[CV 3/5] END ............model__alpha=0.00011513953993264481; total time=   0.1s\n"
     ]
    },
    {
     "name": "stderr",
     "output_type": "stream",
     "text": [
      "/opt/conda/lib/python3.8/site-packages/sklearn/linear_model/_coordinate_descent.py:530: ConvergenceWarning: Objective did not converge. You might want to increase the number of iterations. Duality gap: 80128.18251254398, tolerance: 41.820148002284384\n",
      "  model = cd_fast.enet_coordinate_descent(\n",
      "/opt/conda/lib/python3.8/site-packages/sklearn/linear_model/_coordinate_descent.py:530: ConvergenceWarning: Objective did not converge. You might want to increase the number of iterations. Duality gap: 74397.08382828486, tolerance: 37.911401982298365\n",
      "  model = cd_fast.enet_coordinate_descent(\n"
     ]
    },
    {
     "name": "stdout",
     "output_type": "stream",
     "text": [
      "[CV 4/5] END ............model__alpha=0.00011513953993264481; total time=   0.1s\n",
      "[CV 5/5] END ............model__alpha=0.00011513953993264481; total time=   0.2s\n"
     ]
    },
    {
     "name": "stderr",
     "output_type": "stream",
     "text": [
      "/opt/conda/lib/python3.8/site-packages/sklearn/linear_model/_coordinate_descent.py:530: ConvergenceWarning: Objective did not converge. You might want to increase the number of iterations. Duality gap: 76157.04025025784, tolerance: 36.10921705480197\n",
      "  model = cd_fast.enet_coordinate_descent(\n",
      "/opt/conda/lib/python3.8/site-packages/sklearn/linear_model/_coordinate_descent.py:530: ConvergenceWarning: Objective did not converge. You might want to increase the number of iterations. Duality gap: 81734.99956315072, tolerance: 43.04497995454236\n",
      "  model = cd_fast.enet_coordinate_descent(\n"
     ]
    },
    {
     "name": "stdout",
     "output_type": "stream",
     "text": [
      "[CV 1/5] END ............model__alpha=0.00019306977288832496; total time=   0.1s\n",
      "[CV 2/5] END ............model__alpha=0.00019306977288832496; total time=   0.1s\n"
     ]
    },
    {
     "name": "stderr",
     "output_type": "stream",
     "text": [
      "/opt/conda/lib/python3.8/site-packages/sklearn/linear_model/_coordinate_descent.py:530: ConvergenceWarning: Objective did not converge. You might want to increase the number of iterations. Duality gap: 79216.28641783113, tolerance: 41.20759973456209\n",
      "  model = cd_fast.enet_coordinate_descent(\n",
      "/opt/conda/lib/python3.8/site-packages/sklearn/linear_model/_coordinate_descent.py:530: ConvergenceWarning: Objective did not converge. You might want to increase the number of iterations. Duality gap: 79803.18742322686, tolerance: 41.820148002284384\n",
      "  model = cd_fast.enet_coordinate_descent(\n"
     ]
    },
    {
     "name": "stdout",
     "output_type": "stream",
     "text": [
      "[CV 3/5] END ............model__alpha=0.00019306977288832496; total time=   0.1s\n",
      "[CV 4/5] END ............model__alpha=0.00019306977288832496; total time=   0.2s\n"
     ]
    },
    {
     "name": "stderr",
     "output_type": "stream",
     "text": [
      "/opt/conda/lib/python3.8/site-packages/sklearn/linear_model/_coordinate_descent.py:530: ConvergenceWarning: Objective did not converge. You might want to increase the number of iterations. Duality gap: 74018.51893200065, tolerance: 37.911401982298365\n",
      "  model = cd_fast.enet_coordinate_descent(\n",
      "/opt/conda/lib/python3.8/site-packages/sklearn/linear_model/_coordinate_descent.py:530: ConvergenceWarning: Objective did not converge. You might want to increase the number of iterations. Duality gap: 75802.37895856092, tolerance: 36.10921705480197\n",
      "  model = cd_fast.enet_coordinate_descent(\n"
     ]
    },
    {
     "name": "stdout",
     "output_type": "stream",
     "text": [
      "[CV 5/5] END ............model__alpha=0.00019306977288832496; total time=   0.1s\n",
      "[CV 1/5] END ............model__alpha=0.00032374575428176466; total time=   0.1s\n"
     ]
    },
    {
     "name": "stderr",
     "output_type": "stream",
     "text": [
      "/opt/conda/lib/python3.8/site-packages/sklearn/linear_model/_coordinate_descent.py:530: ConvergenceWarning: Objective did not converge. You might want to increase the number of iterations. Duality gap: 81257.64451994715, tolerance: 43.04497995454236\n",
      "  model = cd_fast.enet_coordinate_descent(\n",
      "/opt/conda/lib/python3.8/site-packages/sklearn/linear_model/_coordinate_descent.py:530: ConvergenceWarning: Objective did not converge. You might want to increase the number of iterations. Duality gap: 78618.65399058224, tolerance: 41.20759973456209\n",
      "  model = cd_fast.enet_coordinate_descent(\n"
     ]
    },
    {
     "name": "stdout",
     "output_type": "stream",
     "text": [
      "[CV 2/5] END ............model__alpha=0.00032374575428176466; total time=   0.1s\n",
      "[CV 3/5] END ............model__alpha=0.00032374575428176466; total time=   0.1s\n"
     ]
    },
    {
     "name": "stderr",
     "output_type": "stream",
     "text": [
      "/opt/conda/lib/python3.8/site-packages/sklearn/linear_model/_coordinate_descent.py:530: ConvergenceWarning: Objective did not converge. You might want to increase the number of iterations. Duality gap: 79254.00537442343, tolerance: 41.820148002284384\n",
      "  model = cd_fast.enet_coordinate_descent(\n",
      "/opt/conda/lib/python3.8/site-packages/sklearn/linear_model/_coordinate_descent.py:530: ConvergenceWarning: Objective did not converge. You might want to increase the number of iterations. Duality gap: 73387.07556220934, tolerance: 37.911401982298365\n",
      "  model = cd_fast.enet_coordinate_descent(\n"
     ]
    },
    {
     "name": "stdout",
     "output_type": "stream",
     "text": [
      "[CV 4/5] END ............model__alpha=0.00032374575428176466; total time=   0.2s\n",
      "[CV 5/5] END ............model__alpha=0.00032374575428176466; total time=   0.1s\n"
     ]
    },
    {
     "name": "stderr",
     "output_type": "stream",
     "text": [
      "/opt/conda/lib/python3.8/site-packages/sklearn/linear_model/_coordinate_descent.py:530: ConvergenceWarning: Objective did not converge. You might want to increase the number of iterations. Duality gap: 75206.1724740805, tolerance: 36.10921705480197\n",
      "  model = cd_fast.enet_coordinate_descent(\n",
      "/opt/conda/lib/python3.8/site-packages/sklearn/linear_model/_coordinate_descent.py:530: ConvergenceWarning: Objective did not converge. You might want to increase the number of iterations. Duality gap: 80450.88709940376, tolerance: 43.04497995454236\n",
      "  model = cd_fast.enet_coordinate_descent(\n"
     ]
    },
    {
     "name": "stdout",
     "output_type": "stream",
     "text": [
      "[CV 1/5] END .............model__alpha=0.0005428675439323859; total time=   0.1s\n",
      "[CV 2/5] END .............model__alpha=0.0005428675439323859; total time=   0.1s\n"
     ]
    },
    {
     "name": "stderr",
     "output_type": "stream",
     "text": [
      "/opt/conda/lib/python3.8/site-packages/sklearn/linear_model/_coordinate_descent.py:530: ConvergenceWarning: Objective did not converge. You might want to increase the number of iterations. Duality gap: 77599.46388310737, tolerance: 41.20759973456209\n",
      "  model = cd_fast.enet_coordinate_descent(\n",
      "/opt/conda/lib/python3.8/site-packages/sklearn/linear_model/_coordinate_descent.py:530: ConvergenceWarning: Objective did not converge. You might want to increase the number of iterations. Duality gap: 78321.82167920984, tolerance: 41.820148002284384\n",
      "  model = cd_fast.enet_coordinate_descent(\n"
     ]
    },
    {
     "name": "stdout",
     "output_type": "stream",
     "text": [
      "[CV 3/5] END .............model__alpha=0.0005428675439323859; total time=   0.1s\n",
      "[CV 4/5] END .............model__alpha=0.0005428675439323859; total time=   0.1s\n"
     ]
    },
    {
     "name": "stderr",
     "output_type": "stream",
     "text": [
      "/opt/conda/lib/python3.8/site-packages/sklearn/linear_model/_coordinate_descent.py:530: ConvergenceWarning: Objective did not converge. You might want to increase the number of iterations. Duality gap: 72338.91149354631, tolerance: 37.911401982298365\n",
      "  model = cd_fast.enet_coordinate_descent(\n",
      "/opt/conda/lib/python3.8/site-packages/sklearn/linear_model/_coordinate_descent.py:530: ConvergenceWarning: Objective did not converge. You might want to increase the number of iterations. Duality gap: 74206.13389543515, tolerance: 36.10921705480197\n",
      "  model = cd_fast.enet_coordinate_descent(\n"
     ]
    },
    {
     "name": "stdout",
     "output_type": "stream",
     "text": [
      "[CV 5/5] END .............model__alpha=0.0005428675439323859; total time=   0.1s\n",
      "[CV 1/5] END .............model__alpha=0.0009102981779915227; total time=   0.1s\n"
     ]
    },
    {
     "name": "stderr",
     "output_type": "stream",
     "text": [
      "/opt/conda/lib/python3.8/site-packages/sklearn/linear_model/_coordinate_descent.py:530: ConvergenceWarning: Objective did not converge. You might want to increase the number of iterations. Duality gap: 79085.15866330118, tolerance: 43.04497995454236\n",
      "  model = cd_fast.enet_coordinate_descent(\n",
      "/opt/conda/lib/python3.8/site-packages/sklearn/linear_model/_coordinate_descent.py:530: ConvergenceWarning: Objective did not converge. You might want to increase the number of iterations. Duality gap: 75910.66320299607, tolerance: 41.20759973456209\n",
      "  model = cd_fast.enet_coordinate_descent(\n"
     ]
    },
    {
     "name": "stdout",
     "output_type": "stream",
     "text": [
      "[CV 2/5] END .............model__alpha=0.0009102981779915227; total time=   0.2s\n",
      "[CV 3/5] END .............model__alpha=0.0009102981779915227; total time=   0.1s\n"
     ]
    },
    {
     "name": "stderr",
     "output_type": "stream",
     "text": [
      "/opt/conda/lib/python3.8/site-packages/sklearn/linear_model/_coordinate_descent.py:530: ConvergenceWarning: Objective did not converge. You might want to increase the number of iterations. Duality gap: 76732.1679013583, tolerance: 41.820148002284384\n",
      "  model = cd_fast.enet_coordinate_descent(\n",
      "/opt/conda/lib/python3.8/site-packages/sklearn/linear_model/_coordinate_descent.py:530: ConvergenceWarning: Objective did not converge. You might want to increase the number of iterations. Duality gap: 70613.10276780168, tolerance: 37.911401982298365\n",
      "  model = cd_fast.enet_coordinate_descent(\n"
     ]
    },
    {
     "name": "stdout",
     "output_type": "stream",
     "text": [
      "[CV 4/5] END .............model__alpha=0.0009102981779915227; total time=   0.1s\n",
      "[CV 5/5] END .............model__alpha=0.0009102981779915227; total time=   0.1s\n"
     ]
    },
    {
     "name": "stderr",
     "output_type": "stream",
     "text": [
      "/opt/conda/lib/python3.8/site-packages/sklearn/linear_model/_coordinate_descent.py:530: ConvergenceWarning: Objective did not converge. You might want to increase the number of iterations. Duality gap: 72504.18407222418, tolerance: 36.10921705480197\n",
      "  model = cd_fast.enet_coordinate_descent(\n",
      "/opt/conda/lib/python3.8/site-packages/sklearn/linear_model/_coordinate_descent.py:530: ConvergenceWarning: Objective did not converge. You might want to increase the number of iterations. Duality gap: 76758.17483350234, tolerance: 43.04497995454236\n",
      "  model = cd_fast.enet_coordinate_descent(\n"
     ]
    },
    {
     "name": "stdout",
     "output_type": "stream",
     "text": [
      "[CV 1/5] END .............model__alpha=0.0015264179671752333; total time=   0.1s\n",
      "[CV 2/5] END .............model__alpha=0.0015264179671752333; total time=   0.1s\n"
     ]
    },
    {
     "name": "stderr",
     "output_type": "stream",
     "text": [
      "/opt/conda/lib/python3.8/site-packages/sklearn/linear_model/_coordinate_descent.py:530: ConvergenceWarning: Objective did not converge. You might want to increase the number of iterations. Duality gap: 72920.04140137415, tolerance: 41.20759973456209\n",
      "  model = cd_fast.enet_coordinate_descent(\n",
      "/opt/conda/lib/python3.8/site-packages/sklearn/linear_model/_coordinate_descent.py:530: ConvergenceWarning: Objective did not converge. You might want to increase the number of iterations. Duality gap: 73937.17831297911, tolerance: 41.820148002284384\n",
      "  model = cd_fast.enet_coordinate_descent(\n"
     ]
    },
    {
     "name": "stdout",
     "output_type": "stream",
     "text": [
      "[CV 3/5] END .............model__alpha=0.0015264179671752333; total time=   0.1s\n",
      "[CV 4/5] END .............model__alpha=0.0015264179671752333; total time=   0.2s\n"
     ]
    },
    {
     "name": "stderr",
     "output_type": "stream",
     "text": [
      "/opt/conda/lib/python3.8/site-packages/sklearn/linear_model/_coordinate_descent.py:530: ConvergenceWarning: Objective did not converge. You might want to increase the number of iterations. Duality gap: 67805.567767486, tolerance: 37.911401982298365\n",
      "  model = cd_fast.enet_coordinate_descent(\n",
      "/opt/conda/lib/python3.8/site-packages/sklearn/linear_model/_coordinate_descent.py:530: ConvergenceWarning: Objective did not converge. You might want to increase the number of iterations. Duality gap: 69723.1623129252, tolerance: 36.10921705480197\n",
      "  model = cd_fast.enet_coordinate_descent(\n"
     ]
    },
    {
     "name": "stdout",
     "output_type": "stream",
     "text": [
      "[CV 5/5] END .............model__alpha=0.0015264179671752333; total time=   0.1s\n",
      "[CV 1/5] END .............model__alpha=0.0025595479226995332; total time=   0.1s\n"
     ]
    },
    {
     "name": "stderr",
     "output_type": "stream",
     "text": [
      "/opt/conda/lib/python3.8/site-packages/sklearn/linear_model/_coordinate_descent.py:530: ConvergenceWarning: Objective did not converge. You might want to increase the number of iterations. Duality gap: 72753.28416211915, tolerance: 43.04497995454236\n",
      "  model = cd_fast.enet_coordinate_descent(\n",
      "/opt/conda/lib/python3.8/site-packages/sklearn/linear_model/_coordinate_descent.py:530: ConvergenceWarning: Objective did not converge. You might want to increase the number of iterations. Duality gap: 67678.54084233564, tolerance: 41.20759973456209\n",
      "  model = cd_fast.enet_coordinate_descent(\n"
     ]
    },
    {
     "name": "stdout",
     "output_type": "stream",
     "text": [
      "[CV 2/5] END .............model__alpha=0.0025595479226995332; total time=   0.1s\n",
      "[CV 3/5] END .............model__alpha=0.0025595479226995332; total time=   0.1s\n"
     ]
    },
    {
     "name": "stderr",
     "output_type": "stream",
     "text": [
      "/opt/conda/lib/python3.8/site-packages/sklearn/linear_model/_coordinate_descent.py:530: ConvergenceWarning: Objective did not converge. You might want to increase the number of iterations. Duality gap: 69078.46682345656, tolerance: 41.820148002284384\n",
      "  model = cd_fast.enet_coordinate_descent(\n",
      "/opt/conda/lib/python3.8/site-packages/sklearn/linear_model/_coordinate_descent.py:530: ConvergenceWarning: Objective did not converge. You might want to increase the number of iterations. Duality gap: 63270.407900417034, tolerance: 37.911401982298365\n",
      "  model = cd_fast.enet_coordinate_descent(\n"
     ]
    },
    {
     "name": "stdout",
     "output_type": "stream",
     "text": [
      "[CV 4/5] END .............model__alpha=0.0025595479226995332; total time=   0.2s\n",
      "[CV 5/5] END .............model__alpha=0.0025595479226995332; total time=   0.1s\n"
     ]
    },
    {
     "name": "stderr",
     "output_type": "stream",
     "text": [
      "/opt/conda/lib/python3.8/site-packages/sklearn/linear_model/_coordinate_descent.py:530: ConvergenceWarning: Objective did not converge. You might want to increase the number of iterations. Duality gap: 65208.6983995686, tolerance: 36.10921705480197\n",
      "  model = cd_fast.enet_coordinate_descent(\n",
      "/opt/conda/lib/python3.8/site-packages/sklearn/linear_model/_coordinate_descent.py:530: ConvergenceWarning: Objective did not converge. You might want to increase the number of iterations. Duality gap: 65765.03322622129, tolerance: 43.04497995454236\n",
      "  model = cd_fast.enet_coordinate_descent(\n"
     ]
    },
    {
     "name": "stdout",
     "output_type": "stream",
     "text": [
      "[CV 1/5] END ..............model__alpha=0.004291934260128779; total time=   0.1s\n",
      "[CV 2/5] END ..............model__alpha=0.004291934260128779; total time=   0.1s\n"
     ]
    },
    {
     "name": "stderr",
     "output_type": "stream",
     "text": [
      "/opt/conda/lib/python3.8/site-packages/sklearn/linear_model/_coordinate_descent.py:530: ConvergenceWarning: Objective did not converge. You might want to increase the number of iterations. Duality gap: 58834.87286907449, tolerance: 41.20759973456209\n",
      "  model = cd_fast.enet_coordinate_descent(\n",
      "/opt/conda/lib/python3.8/site-packages/sklearn/linear_model/_coordinate_descent.py:530: ConvergenceWarning: Objective did not converge. You might want to increase the number of iterations. Duality gap: 60039.767778082605, tolerance: 41.820148002284384\n",
      "  model = cd_fast.enet_coordinate_descent(\n"
     ]
    },
    {
     "name": "stdout",
     "output_type": "stream",
     "text": [
      "[CV 3/5] END ..............model__alpha=0.004291934260128779; total time=   0.1s\n",
      "[CV 4/5] END ..............model__alpha=0.004291934260128779; total time=   0.1s\n"
     ]
    },
    {
     "name": "stderr",
     "output_type": "stream",
     "text": [
      "/opt/conda/lib/python3.8/site-packages/sklearn/linear_model/_coordinate_descent.py:530: ConvergenceWarning: Objective did not converge. You might want to increase the number of iterations. Duality gap: 56145.117659359836, tolerance: 37.911401982298365\n",
      "  model = cd_fast.enet_coordinate_descent(\n",
      "/opt/conda/lib/python3.8/site-packages/sklearn/linear_model/_coordinate_descent.py:530: ConvergenceWarning: Objective did not converge. You might want to increase the number of iterations. Duality gap: 57714.518512068906, tolerance: 36.10921705480197\n",
      "  model = cd_fast.enet_coordinate_descent(\n"
     ]
    },
    {
     "name": "stdout",
     "output_type": "stream",
     "text": [
      "[CV 5/5] END ..............model__alpha=0.004291934260128779; total time=   0.1s\n",
      "[CV 1/5] END ..............model__alpha=0.007196856730011514; total time=   0.1s\n"
     ]
    },
    {
     "name": "stderr",
     "output_type": "stream",
     "text": [
      "/opt/conda/lib/python3.8/site-packages/sklearn/linear_model/_coordinate_descent.py:530: ConvergenceWarning: Objective did not converge. You might want to increase the number of iterations. Duality gap: 54329.31946081613, tolerance: 43.04497995454236\n",
      "  model = cd_fast.enet_coordinate_descent(\n",
      "/opt/conda/lib/python3.8/site-packages/sklearn/linear_model/_coordinate_descent.py:530: ConvergenceWarning: Objective did not converge. You might want to increase the number of iterations. Duality gap: 47469.806519716, tolerance: 41.20759973456209\n",
      "  model = cd_fast.enet_coordinate_descent(\n"
     ]
    },
    {
     "name": "stdout",
     "output_type": "stream",
     "text": [
      "[CV 2/5] END ..............model__alpha=0.007196856730011514; total time=   0.1s\n",
      "[CV 3/5] END ..............model__alpha=0.007196856730011514; total time=   0.2s\n"
     ]
    },
    {
     "name": "stderr",
     "output_type": "stream",
     "text": [
      "/opt/conda/lib/python3.8/site-packages/sklearn/linear_model/_coordinate_descent.py:530: ConvergenceWarning: Objective did not converge. You might want to increase the number of iterations. Duality gap: 43549.94562697599, tolerance: 41.820148002284384\n",
      "  model = cd_fast.enet_coordinate_descent(\n",
      "/opt/conda/lib/python3.8/site-packages/sklearn/linear_model/_coordinate_descent.py:530: ConvergenceWarning: Objective did not converge. You might want to increase the number of iterations. Duality gap: 45578.85176404759, tolerance: 37.911401982298365\n",
      "  model = cd_fast.enet_coordinate_descent(\n",
      "/opt/conda/lib/python3.8/site-packages/sklearn/linear_model/_coordinate_descent.py:530: ConvergenceWarning: Objective did not converge. You might want to increase the number of iterations. Duality gap: 45728.10027938572, tolerance: 36.10921705480197\n",
      "  model = cd_fast.enet_coordinate_descent(\n"
     ]
    },
    {
     "name": "stdout",
     "output_type": "stream",
     "text": [
      "[CV 4/5] END ..............model__alpha=0.007196856730011514; total time=   0.1s\n",
      "[CV 5/5] END ..............model__alpha=0.007196856730011514; total time=   0.1s\n",
      "[CV 1/5] END ..............model__alpha=0.012067926406393264; total time=   0.1s\n",
      "[CV 2/5] END ..............model__alpha=0.012067926406393264; total time=   0.1s\n",
      "[CV 3/5] END ..............model__alpha=0.012067926406393264; total time=   0.1s\n"
     ]
    },
    {
     "name": "stderr",
     "output_type": "stream",
     "text": [
      "/opt/conda/lib/python3.8/site-packages/sklearn/linear_model/_coordinate_descent.py:530: ConvergenceWarning: Objective did not converge. You might want to increase the number of iterations. Duality gap: 35643.72622316886, tolerance: 43.04497995454236\n",
      "  model = cd_fast.enet_coordinate_descent(\n",
      "/opt/conda/lib/python3.8/site-packages/sklearn/linear_model/_coordinate_descent.py:530: ConvergenceWarning: Objective did not converge. You might want to increase the number of iterations. Duality gap: 28879.324397470198, tolerance: 41.20759973456209\n",
      "  model = cd_fast.enet_coordinate_descent(\n",
      "/opt/conda/lib/python3.8/site-packages/sklearn/linear_model/_coordinate_descent.py:530: ConvergenceWarning: Objective did not converge. You might want to increase the number of iterations. Duality gap: 15277.581902905586, tolerance: 41.820148002284384\n",
      "  model = cd_fast.enet_coordinate_descent(\n"
     ]
    },
    {
     "name": "stdout",
     "output_type": "stream",
     "text": [
      "[CV 4/5] END ..............model__alpha=0.012067926406393264; total time=   0.1s\n",
      "[CV 5/5] END ..............model__alpha=0.012067926406393264; total time=   0.1s\n",
      "[CV 1/5] END ..............model__alpha=0.020235896477251554; total time=   0.1s\n"
     ]
    },
    {
     "name": "stderr",
     "output_type": "stream",
     "text": [
      "/opt/conda/lib/python3.8/site-packages/sklearn/linear_model/_coordinate_descent.py:530: ConvergenceWarning: Objective did not converge. You might want to increase the number of iterations. Duality gap: 31511.937872830073, tolerance: 37.911401982298365\n",
      "  model = cd_fast.enet_coordinate_descent(\n",
      "/opt/conda/lib/python3.8/site-packages/sklearn/linear_model/_coordinate_descent.py:530: ConvergenceWarning: Objective did not converge. You might want to increase the number of iterations. Duality gap: 28064.55291114757, tolerance: 36.10921705480197\n",
      "  model = cd_fast.enet_coordinate_descent(\n",
      "/opt/conda/lib/python3.8/site-packages/sklearn/linear_model/_coordinate_descent.py:530: ConvergenceWarning: Objective did not converge. You might want to increase the number of iterations. Duality gap: 15040.651837120386, tolerance: 43.04497995454236\n",
      "  model = cd_fast.enet_coordinate_descent(\n"
     ]
    },
    {
     "name": "stdout",
     "output_type": "stream",
     "text": [
      "[CV 2/5] END ..............model__alpha=0.020235896477251554; total time=   0.1s\n",
      "[CV 3/5] END ..............model__alpha=0.020235896477251554; total time=   0.1s\n"
     ]
    },
    {
     "name": "stderr",
     "output_type": "stream",
     "text": [
      "/opt/conda/lib/python3.8/site-packages/sklearn/linear_model/_coordinate_descent.py:530: ConvergenceWarning: Objective did not converge. You might want to increase the number of iterations. Duality gap: 17976.95136223882, tolerance: 41.20759973456209\n",
      "  model = cd_fast.enet_coordinate_descent(\n",
      "/opt/conda/lib/python3.8/site-packages/sklearn/linear_model/_coordinate_descent.py:530: ConvergenceWarning: Objective did not converge. You might want to increase the number of iterations. Duality gap: 640.3556544860185, tolerance: 41.820148002284384\n",
      "  model = cd_fast.enet_coordinate_descent(\n"
     ]
    },
    {
     "name": "stdout",
     "output_type": "stream",
     "text": [
      "[CV 4/5] END ..............model__alpha=0.020235896477251554; total time=   0.1s\n",
      "[CV 5/5] END ..............model__alpha=0.020235896477251554; total time=   0.1s\n",
      "[CV 1/5] END ................model__alpha=0.0339322177189533; total time=   0.1s\n"
     ]
    },
    {
     "name": "stderr",
     "output_type": "stream",
     "text": [
      "/opt/conda/lib/python3.8/site-packages/sklearn/linear_model/_coordinate_descent.py:530: ConvergenceWarning: Objective did not converge. You might want to increase the number of iterations. Duality gap: 16056.626073227162, tolerance: 37.911401982298365\n",
      "  model = cd_fast.enet_coordinate_descent(\n",
      "/opt/conda/lib/python3.8/site-packages/sklearn/linear_model/_coordinate_descent.py:530: ConvergenceWarning: Objective did not converge. You might want to increase the number of iterations. Duality gap: 6771.919041494417, tolerance: 36.10921705480197\n",
      "  model = cd_fast.enet_coordinate_descent(\n",
      "/opt/conda/lib/python3.8/site-packages/sklearn/linear_model/_coordinate_descent.py:530: ConvergenceWarning: Objective did not converge. You might want to increase the number of iterations. Duality gap: 4765.423203605955, tolerance: 43.04497995454236\n",
      "  model = cd_fast.enet_coordinate_descent(\n"
     ]
    },
    {
     "name": "stdout",
     "output_type": "stream",
     "text": [
      "[CV 2/5] END ................model__alpha=0.0339322177189533; total time=   0.1s\n",
      "[CV 3/5] END ................model__alpha=0.0339322177189533; total time=   0.1s\n"
     ]
    },
    {
     "name": "stderr",
     "output_type": "stream",
     "text": [
      "/opt/conda/lib/python3.8/site-packages/sklearn/linear_model/_coordinate_descent.py:530: ConvergenceWarning: Objective did not converge. You might want to increase the number of iterations. Duality gap: 780.0726581839554, tolerance: 41.20759973456209\n",
      "  model = cd_fast.enet_coordinate_descent(\n",
      "/opt/conda/lib/python3.8/site-packages/sklearn/linear_model/_coordinate_descent.py:530: ConvergenceWarning: Objective did not converge. You might want to increase the number of iterations. Duality gap: 233.7552712209581, tolerance: 41.820148002284384\n",
      "  model = cd_fast.enet_coordinate_descent(\n"
     ]
    },
    {
     "name": "stdout",
     "output_type": "stream",
     "text": [
      "[CV 4/5] END ................model__alpha=0.0339322177189533; total time=   0.1s\n",
      "[CV 5/5] END ................model__alpha=0.0339322177189533; total time=   0.1s\n",
      "[CV 1/5] END ...............model__alpha=0.05689866029018305; total time=   0.1s\n"
     ]
    },
    {
     "name": "stderr",
     "output_type": "stream",
     "text": [
      "/opt/conda/lib/python3.8/site-packages/sklearn/linear_model/_coordinate_descent.py:530: ConvergenceWarning: Objective did not converge. You might want to increase the number of iterations. Duality gap: 4406.059644819441, tolerance: 37.911401982298365\n",
      "  model = cd_fast.enet_coordinate_descent(\n",
      "/opt/conda/lib/python3.8/site-packages/sklearn/linear_model/_coordinate_descent.py:530: ConvergenceWarning: Objective did not converge. You might want to increase the number of iterations. Duality gap: 773.2766383074922, tolerance: 36.10921705480197\n",
      "  model = cd_fast.enet_coordinate_descent(\n",
      "/opt/conda/lib/python3.8/site-packages/sklearn/linear_model/_coordinate_descent.py:530: ConvergenceWarning: Objective did not converge. You might want to increase the number of iterations. Duality gap: 6204.276755867002, tolerance: 43.04497995454236\n",
      "  model = cd_fast.enet_coordinate_descent(\n"
     ]
    },
    {
     "name": "stdout",
     "output_type": "stream",
     "text": [
      "[CV 2/5] END ...............model__alpha=0.05689866029018305; total time=   0.1s\n",
      "[CV 3/5] END ...............model__alpha=0.05689866029018305; total time=   0.1s\n"
     ]
    },
    {
     "name": "stderr",
     "output_type": "stream",
     "text": [
      "/opt/conda/lib/python3.8/site-packages/sklearn/linear_model/_coordinate_descent.py:530: ConvergenceWarning: Objective did not converge. You might want to increase the number of iterations. Duality gap: 111.15708523752983, tolerance: 41.20759973456209\n",
      "  model = cd_fast.enet_coordinate_descent(\n",
      "/opt/conda/lib/python3.8/site-packages/sklearn/linear_model/_coordinate_descent.py:530: ConvergenceWarning: Objective did not converge. You might want to increase the number of iterations. Duality gap: 103.30666989739984, tolerance: 41.820148002284384\n",
      "  model = cd_fast.enet_coordinate_descent(\n"
     ]
    },
    {
     "name": "stdout",
     "output_type": "stream",
     "text": [
      "[CV 4/5] END ...............model__alpha=0.05689866029018305; total time=   0.1s\n",
      "[CV 5/5] END ...............model__alpha=0.05689866029018305; total time=   0.1s\n",
      "[CV 1/5] END ...............model__alpha=0.09540954763499924; total time=   0.1s\n"
     ]
    },
    {
     "name": "stderr",
     "output_type": "stream",
     "text": [
      "/opt/conda/lib/python3.8/site-packages/sklearn/linear_model/_coordinate_descent.py:530: ConvergenceWarning: Objective did not converge. You might want to increase the number of iterations. Duality gap: 47.23378873956972, tolerance: 37.911401982298365\n",
      "  model = cd_fast.enet_coordinate_descent(\n",
      "/opt/conda/lib/python3.8/site-packages/sklearn/linear_model/_coordinate_descent.py:530: ConvergenceWarning: Objective did not converge. You might want to increase the number of iterations. Duality gap: 1193.3465666478442, tolerance: 43.04497995454236\n",
      "  model = cd_fast.enet_coordinate_descent(\n"
     ]
    },
    {
     "name": "stdout",
     "output_type": "stream",
     "text": [
      "[CV 2/5] END ...............model__alpha=0.09540954763499924; total time=   0.1s\n",
      "[CV 3/5] END ...............model__alpha=0.09540954763499924; total time=   0.1s\n",
      "[CV 4/5] END ...............model__alpha=0.09540954763499924; total time=   0.1s\n"
     ]
    },
    {
     "name": "stderr",
     "output_type": "stream",
     "text": [
      "/opt/conda/lib/python3.8/site-packages/sklearn/linear_model/_coordinate_descent.py:530: ConvergenceWarning: Objective did not converge. You might want to increase the number of iterations. Duality gap: 63.856203348434065, tolerance: 41.20759973456209\n",
      "  model = cd_fast.enet_coordinate_descent(\n",
      "/opt/conda/lib/python3.8/site-packages/sklearn/linear_model/_coordinate_descent.py:530: ConvergenceWarning: Objective did not converge. You might want to increase the number of iterations. Duality gap: 175.7922283516673, tolerance: 41.820148002284384\n",
      "  model = cd_fast.enet_coordinate_descent(\n",
      "/opt/conda/lib/python3.8/site-packages/sklearn/linear_model/_coordinate_descent.py:530: ConvergenceWarning: Objective did not converge. You might want to increase the number of iterations. Duality gap: 86.505002803955, tolerance: 37.911401982298365\n",
      "  model = cd_fast.enet_coordinate_descent(\n"
     ]
    },
    {
     "name": "stdout",
     "output_type": "stream",
     "text": [
      "[CV 5/5] END ...............model__alpha=0.09540954763499924; total time=   0.1s\n",
      "[CV 1/5] END ...............model__alpha=0.15998587196060574; total time=   0.1s\n",
      "[CV 2/5] END ...............model__alpha=0.15998587196060574; total time=   0.1s\n"
     ]
    },
    {
     "name": "stderr",
     "output_type": "stream",
     "text": [
      "/opt/conda/lib/python3.8/site-packages/sklearn/linear_model/_coordinate_descent.py:530: ConvergenceWarning: Objective did not converge. You might want to increase the number of iterations. Duality gap: 154.38561119895894, tolerance: 43.04497995454236\n",
      "  model = cd_fast.enet_coordinate_descent(\n",
      "/opt/conda/lib/python3.8/site-packages/sklearn/linear_model/_coordinate_descent.py:530: ConvergenceWarning: Objective did not converge. You might want to increase the number of iterations. Duality gap: 76.46461503460887, tolerance: 41.20759973456209\n",
      "  model = cd_fast.enet_coordinate_descent(\n"
     ]
    },
    {
     "name": "stdout",
     "output_type": "stream",
     "text": [
      "[CV 3/5] END ...............model__alpha=0.15998587196060574; total time=   0.1s\n",
      "[CV 4/5] END ...............model__alpha=0.15998587196060574; total time=   0.1s\n",
      "[CV 5/5] END ...............model__alpha=0.15998587196060574; total time=   0.0s\n",
      "[CV 1/5] END ...............model__alpha=0.26826957952797276; total time=   0.1s\n",
      "[CV 2/5] END ...............model__alpha=0.26826957952797276; total time=   0.0s\n",
      "[CV 3/5] END ...............model__alpha=0.26826957952797276; total time=   0.0s\n",
      "[CV 4/5] END ...............model__alpha=0.26826957952797276; total time=   0.1s\n",
      "[CV 5/5] END ...............model__alpha=0.26826957952797276; total time=   0.0s\n",
      "[CV 1/5] END ................model__alpha=0.4498432668969453; total time=   0.1s\n",
      "[CV 2/5] END ................model__alpha=0.4498432668969453; total time=   0.0s\n",
      "[CV 3/5] END ................model__alpha=0.4498432668969453; total time=   0.0s\n",
      "[CV 4/5] END ................model__alpha=0.4498432668969453; total time=   0.1s\n",
      "[CV 5/5] END ................model__alpha=0.4498432668969453; total time=   0.0s\n",
      "[CV 1/5] END ................model__alpha=0.7543120063354607; total time=   0.1s\n",
      "[CV 2/5] END ................model__alpha=0.7543120063354607; total time=   0.0s\n",
      "[CV 3/5] END ................model__alpha=0.7543120063354607; total time=   0.0s\n",
      "[CV 4/5] END ................model__alpha=0.7543120063354607; total time=   0.1s\n",
      "[CV 5/5] END ................model__alpha=0.7543120063354607; total time=   0.0s\n",
      "[CV 1/5] END ................model__alpha=1.2648552168552958; total time=   0.0s\n",
      "[CV 2/5] END ................model__alpha=1.2648552168552958; total time=   0.1s\n",
      "[CV 3/5] END ................model__alpha=1.2648552168552958; total time=   0.0s\n",
      "[CV 4/5] END ................model__alpha=1.2648552168552958; total time=   0.0s\n",
      "[CV 5/5] END ................model__alpha=1.2648552168552958; total time=   0.1s\n",
      "[CV 1/5] END ................model__alpha=2.1209508879201926; total time=   0.0s\n",
      "[CV 2/5] END ................model__alpha=2.1209508879201926; total time=   0.0s\n",
      "[CV 3/5] END ................model__alpha=2.1209508879201926; total time=   0.0s\n",
      "[CV 4/5] END ................model__alpha=2.1209508879201926; total time=   0.0s\n",
      "[CV 5/5] END ................model__alpha=2.1209508879201926; total time=   0.0s\n",
      "[CV 1/5] END .................model__alpha=3.556480306223136; total time=   0.0s\n",
      "[CV 2/5] END .................model__alpha=3.556480306223136; total time=   0.1s\n",
      "[CV 3/5] END .................model__alpha=3.556480306223136; total time=   0.0s\n",
      "[CV 4/5] END .................model__alpha=3.556480306223136; total time=   0.0s\n",
      "[CV 5/5] END .................model__alpha=3.556480306223136; total time=   0.0s\n",
      "[CV 1/5] END .................model__alpha=5.963623316594637; total time=   0.0s\n",
      "[CV 2/5] END .................model__alpha=5.963623316594637; total time=   0.0s\n",
      "[CV 3/5] END .................model__alpha=5.963623316594637; total time=   0.0s\n",
      "[CV 4/5] END .................model__alpha=5.963623316594637; total time=   0.1s\n",
      "[CV 5/5] END .................model__alpha=5.963623316594637; total time=   0.0s\n",
      "[CV 1/5] END ..............................model__alpha=10.0; total time=   0.0s\n",
      "[CV 2/5] END ..............................model__alpha=10.0; total time=   0.0s\n",
      "[CV 3/5] END ..............................model__alpha=10.0; total time=   0.1s\n",
      "[CV 4/5] END ..............................model__alpha=10.0; total time=   0.0s\n",
      "[CV 5/5] END ..............................model__alpha=10.0; total time=   0.0s\n",
      "CPU times: user 2min 42s, sys: 7.81 s, total: 2min 50s\n",
      "Wall time: 28.4 s\n"
     ]
    },
    {
     "name": "stderr",
     "output_type": "stream",
     "text": [
      "/opt/conda/lib/python3.8/site-packages/sklearn/linear_model/_coordinate_descent.py:530: ConvergenceWarning: Objective did not converge. You might want to increase the number of iterations. Duality gap: 52.40260827174643, tolerance: 50.3375881610017\n",
      "  model = cd_fast.enet_coordinate_descent(\n"
     ]
    },
    {
     "data": {
      "text/plain": [
       "GridSearchCV(cv=5,\n",
       "             estimator=Pipeline(steps=[('scaler', StandardScaler()),\n",
       "                                       ('model', Lasso())]),\n",
       "             param_grid={'model__alpha': array([1.00000000e-10, 1.67683294e-10, 2.81176870e-10, 4.71486636e-10,\n",
       "       7.90604321e-10, 1.32571137e-09, 2.22299648e-09, 3.72759372e-09,\n",
       "       6.25055193e-09, 1.04811313e-08, 1.75751062e-08, 2.94705170e-08,\n",
       "       4.94171336e-08, 8.28642773e-08, 1.38949549e-07...\n",
       "       1.93069773e-04, 3.23745754e-04, 5.42867544e-04, 9.10298178e-04,\n",
       "       1.52641797e-03, 2.55954792e-03, 4.29193426e-03, 7.19685673e-03,\n",
       "       1.20679264e-02, 2.02358965e-02, 3.39322177e-02, 5.68986603e-02,\n",
       "       9.54095476e-02, 1.59985872e-01, 2.68269580e-01, 4.49843267e-01,\n",
       "       7.54312006e-01, 1.26485522e+00, 2.12095089e+00, 3.55648031e+00,\n",
       "       5.96362332e+00, 1.00000000e+01])},\n",
       "             scoring='neg_mean_squared_error', verbose=3)"
      ]
     },
     "execution_count": 7,
     "metadata": {},
     "output_type": "execute_result"
    }
   ],
   "source": [
    "%%time\n",
    "steps = [('scaler', StandardScaler()), ('model', Lasso())]\n",
    "pipeline = Pipeline(steps)\n",
    "parameters = {'model__alpha': np.logspace(-10, 1, 50)}\n",
    "\n",
    "lasso_search = GridSearchCV(pipeline, \n",
    "                         parameters, \n",
    "                         cv = 5, \n",
    "                         scoring=\"neg_mean_squared_error\", \n",
    "                         verbose=3)\n",
    "\n",
    "lasso_search.fit(X_train, Y_train)"
   ]
  },
  {
   "cell_type": "code",
   "execution_count": 8,
   "id": "normal-tennessee",
   "metadata": {},
   "outputs": [
    {
     "data": {
      "text/plain": [
       "{'model__alpha': 0.15998587196060574}"
      ]
     },
     "execution_count": 8,
     "metadata": {},
     "output_type": "execute_result"
    }
   ],
   "source": [
    "lasso_search.best_params_"
   ]
  },
  {
   "cell_type": "code",
   "execution_count": 9,
   "id": "limiting-terrorist",
   "metadata": {},
   "outputs": [
    {
     "data": {
      "text/plain": [
       "Pipeline(steps=[('scaler', StandardScaler()),\n",
       "                ('model', Lasso(alpha=0.15998587196060574))])"
      ]
     },
     "execution_count": 9,
     "metadata": {},
     "output_type": "execute_result"
    }
   ],
   "source": [
    "lasso_search.best_estimator_"
   ]
  },
  {
   "cell_type": "markdown",
   "id": "backed-processing",
   "metadata": {},
   "source": [
    "### Hold-out Electrophiles Testing set Evaluation"
   ]
  },
  {
   "cell_type": "code",
   "execution_count": 10,
   "id": "nearby-commander",
   "metadata": {},
   "outputs": [],
   "source": [
    "ext_y=ML_data_validation2['Yield']\n",
    "ext_X=ML_data_validation2.iloc[:, ML_data_validation2.columns.isin(X_train.columns)]\n",
    "Y_Pred = lasso_search.best_estimator_.predict(ext_X)"
   ]
  },
  {
   "cell_type": "code",
   "execution_count": 11,
   "id": "portuguese-sleeping",
   "metadata": {},
   "outputs": [
    {
     "name": "stdout",
     "output_type": "stream",
     "text": [
      "21.301361092063892\n"
     ]
    }
   ],
   "source": [
    "mse = mean_squared_error(ext_y, Y_Pred)\n",
    "print(math.sqrt(mse))"
   ]
  },
  {
   "cell_type": "markdown",
   "id": "apparent-attitude",
   "metadata": {},
   "source": [
    "### Plot Parity Plot"
   ]
  },
  {
   "cell_type": "code",
   "execution_count": 12,
   "id": "accepting-palmer",
   "metadata": {},
   "outputs": [
    {
     "data": {
      "image/png": "[encoded data removed]",
      "text/plain": [
       "<Figure size 900x600 with 1 Axes>"
      ]
     },
     "metadata": {
      "needs_background": "light"
     },
     "output_type": "display_data"
    }
   ],
   "source": [
    "plt.rcParams['figure.dpi'] = 150\n",
    "fig, ax = plt.subplots()\n",
    "ax.scatter(Y_Pred,ext_y,label=\"Validation\")\n",
    "ax.plot( [0,100],[0,100], 'k--', lw=4)\n",
    "ax.plot(lasso_search.best_estimator_.predict(X_train), Y_train, \"or\", alpha=0.5, label=\"Training\")\n",
    "ax.text(60,15,r'$R^2$: {:0.2f}'.format(r2_score(ext_y,Y_Pred)))\n",
    "ax.text(60,10,'Validation MAE: {:0.2f}'.format(mean_absolute_error(Y_Pred,ext_y)))\n",
    "ax.text(60,5,'Validation RMSE: {:0.2f}'.format(np.sqrt(mean_squared_error(Y_Pred,ext_y))))\n",
    "ax.set_xlabel('Predicted')\n",
    "ax.set_ylabel('Measured')\n",
    "ax.set_title('Lasso External set in MeOH prediction')\n",
    "plt.legend()\n",
    "plt.show()"
   ]
  },
  {
   "cell_type": "code",
   "execution_count": 13,
   "id": "developing-efficiency",
   "metadata": {},
   "outputs": [
    {
     "data": {
      "text/plain": [
       "<AxesSubplot:ylabel='feature'>"
      ]
     },
     "execution_count": 13,
     "metadata": {},
     "output_type": "execute_result"
    },
    {
     "data": {
      "image/png": "[encoded data removed]",
      "text/plain": [
       "<Figure size 900x600 with 1 Axes>"
      ]
     },
     "metadata": {
      "needs_background": "light"
     },
     "output_type": "display_data"
    }
   ],
   "source": [
    "#Top features from Lasso regression, pls note they are quite different from other tree-based ensemble models\n",
    "coefs=lasso_search.best_estimator_.named_steps['model'].coef_\n",
    "importance=np.abs(coefs)\n",
    "features=X_train.columns\n",
    "\n",
    "df=pd.DataFrame(zip(features,importance))\n",
    "df2 = df.sort_values(by=[1], ascending=False).head(25)\n",
    "df2.columns = ['feature', 'importance']\n",
    "df2.set_index('feature',inplace=True)\n",
    "df2.plot(kind='barh')"
   ]
  },
  {
   "cell_type": "code",
   "execution_count": 14,
   "id": "exotic-maria",
   "metadata": {},
   "outputs": [],
   "source": [
    "%load_ext watermark"
   ]
  },
  {
   "cell_type": "code",
   "execution_count": 15,
   "id": "artificial-import",
   "metadata": {},
   "outputs": [
    {
     "name": "stdout",
     "output_type": "stream",
     "text": [
      "sklearn   : 0.24.0\n",
      "numpy     : 1.19.2\n",
      "pandas    : 1.2.0\n",
      "matplotlib: 3.3.3\n",
      "\n"
     ]
    }
   ],
   "source": [
    "%watermark --iversions"
   ]
  },
  {
   "cell_type": "code",
   "execution_count": null,
   "id": "sharp-viewer",
   "metadata": {},
   "outputs": [],
   "source": []
  }
 ],
 "metadata": {
  "kernelspec": {
   "display_name": "Python 3",
   "language": "python",
   "name": "python3"
  },
  "language_info": {
   "codemirror_mode": {
    "name": "ipython",
    "version": 3
   },
   "file_extension": ".py",
   "mimetype": "text/x-python",
   "name": "python",
   "nbconvert_exporter": "python",
   "pygments_lexer": "ipython3",
   "version": "3.8.5"
  }
 },
 "nbformat": 4,
 "nbformat_minor": 5
}
