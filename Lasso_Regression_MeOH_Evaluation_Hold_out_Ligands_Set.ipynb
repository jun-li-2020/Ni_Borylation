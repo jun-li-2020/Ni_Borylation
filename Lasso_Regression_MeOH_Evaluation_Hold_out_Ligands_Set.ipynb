{
 "cells": [
  {
   "cell_type": "markdown",
   "id": "improved-utilization",
   "metadata": {},
   "source": [
    "In this notebook, we will explore Lasso Regression Machine Learning model for the external Ligand set in methanol dataset."
   ]
  },
  {
   "cell_type": "markdown",
   "id": "unusual-lotus",
   "metadata": {},
   "source": [
    "# Machine Learning for Nickel Catalyzed Borylation in MeOH"
   ]
  },
  {
   "cell_type": "code",
   "execution_count": 1,
   "id": "ranking-prospect",
   "metadata": {},
   "outputs": [],
   "source": [
    "import numpy as np\n",
    "import pandas as pd\n",
    "import sklearn\n",
    "\n",
    "from sklearn.model_selection import GridSearchCV\n",
    "from sklearn.preprocessing import StandardScaler\n",
    "\n",
    "from sklearn.pipeline import Pipeline\n",
    "from sklearn.metrics import mean_squared_error, mean_absolute_error, r2_score\n",
    "import math as math\n",
    "import matplotlib.pyplot as plt\n",
    "\n",
    "from sklearn.linear_model import Lasso"
   ]
  },
  {
   "cell_type": "markdown",
   "id": "patent-guatemala",
   "metadata": {},
   "source": [
    "### Load Preprocessed Methanol Dataset "
   ]
  },
  {
   "cell_type": "code",
   "execution_count": 2,
   "id": "demanding-dominican",
   "metadata": {},
   "outputs": [
    {
     "data": {
      "text/html": [
       "<div>\n",
       "<style scoped>\n",
       "    .dataframe tbody tr th:only-of-type {\n",
       "        vertical-align: middle;\n",
       "    }\n",
       "\n",
       "    .dataframe tbody tr th {\n",
       "        vertical-align: top;\n",
       "    }\n",
       "\n",
       "    .dataframe thead th {\n",
       "        text-align: right;\n",
       "    }\n",
       "</style>\n",
       "<table border=\"1\" class=\"dataframe\">\n",
       "  <thead>\n",
       "    <tr style=\"text-align: right;\">\n",
       "      <th></th>\n",
       "      <th>ArylHalide_CX_Lowdin</th>\n",
       "      <th>ArylHalide_C_Chem Shift</th>\n",
       "      <th>ArylHalide_C_Electrostatic</th>\n",
       "      <th>ArylHalide_C_Exposed Area</th>\n",
       "      <th>ArylHalide_C_Mulliken</th>\n",
       "      <th>ArylHalide_XY_Chem Shift_Max</th>\n",
       "      <th>ArylHalide_XY_Chem Shift_Min</th>\n",
       "      <th>ArylHalide_XY_Electrostatic_Max</th>\n",
       "      <th>ArylHalide_XY_Electrostatic_Min</th>\n",
       "      <th>ArylHalide_XY_Exposed Area_Avg</th>\n",
       "      <th>...</th>\n",
       "      <th>Kraken_vbur_vbur_max</th>\n",
       "      <th>Kraken_vbur_vbur_min</th>\n",
       "      <th>Kraken_vbur_vtot_boltz</th>\n",
       "      <th>Kraken_vmin_r_boltz</th>\n",
       "      <th>Kraken_vmin_vmin_boltz</th>\n",
       "      <th>Ligand</th>\n",
       "      <th>Ligand_inchi</th>\n",
       "      <th>Product_inchi</th>\n",
       "      <th>Solvent_inchi</th>\n",
       "      <th>Yield</th>\n",
       "    </tr>\n",
       "  </thead>\n",
       "  <tbody>\n",
       "    <tr>\n",
       "      <th>0</th>\n",
       "      <td>1.11</td>\n",
       "      <td>140.296</td>\n",
       "      <td>0.33</td>\n",
       "      <td>8.371</td>\n",
       "      <td>0.338</td>\n",
       "      <td>105.274</td>\n",
       "      <td>102.178</td>\n",
       "      <td>-0.291</td>\n",
       "      <td>-0.456</td>\n",
       "      <td>12.9615</td>\n",
       "      <td>...</td>\n",
       "      <td>50.731606</td>\n",
       "      <td>50.731606</td>\n",
       "      <td>351.19888</td>\n",
       "      <td>1.840787</td>\n",
       "      <td>-0.055960</td>\n",
       "      <td>A-paPhos</td>\n",
       "      <td>InChI=1S/C20H20NP/c1-21(2)17-13-15-20(16-14-17...</td>\n",
       "      <td>InChI=1S/C8H8BNO2/c11-9(12)7-1-2-8-6(5-7)3-4-1...</td>\n",
       "      <td>InChI=1S/CH4O/c1-2/h2H,1H3</td>\n",
       "      <td>88.86</td>\n",
       "    </tr>\n",
       "    <tr>\n",
       "      <th>1</th>\n",
       "      <td>1.11</td>\n",
       "      <td>140.296</td>\n",
       "      <td>0.33</td>\n",
       "      <td>8.371</td>\n",
       "      <td>0.338</td>\n",
       "      <td>105.274</td>\n",
       "      <td>102.178</td>\n",
       "      <td>-0.291</td>\n",
       "      <td>-0.456</td>\n",
       "      <td>12.9615</td>\n",
       "      <td>...</td>\n",
       "      <td>80.673770</td>\n",
       "      <td>61.935337</td>\n",
       "      <td>479.46484</td>\n",
       "      <td>1.803143</td>\n",
       "      <td>-0.058457</td>\n",
       "      <td>CX-FBu</td>\n",
       "      <td>InChI=1S/C29H39P.BF4/c1-2-3-22-29(27-20-12-10-...</td>\n",
       "      <td>InChI=1S/C8H8BNO2/c11-9(12)7-1-2-8-6(5-7)3-4-1...</td>\n",
       "      <td>InChI=1S/CH4O/c1-2/h2H,1H3</td>\n",
       "      <td>54.07</td>\n",
       "    </tr>\n",
       "    <tr>\n",
       "      <th>2</th>\n",
       "      <td>1.11</td>\n",
       "      <td>140.296</td>\n",
       "      <td>0.33</td>\n",
       "      <td>8.371</td>\n",
       "      <td>0.338</td>\n",
       "      <td>105.274</td>\n",
       "      <td>102.178</td>\n",
       "      <td>-0.291</td>\n",
       "      <td>-0.456</td>\n",
       "      <td>12.9615</td>\n",
       "      <td>...</td>\n",
       "      <td>107.755370</td>\n",
       "      <td>56.694310</td>\n",
       "      <td>386.44120</td>\n",
       "      <td>1.805810</td>\n",
       "      <td>-0.058387</td>\n",
       "      <td>CX-PCy</td>\n",
       "      <td>InChI=1S/C22H30NP/c1-4-11-19(12-5-1)23-18-10-1...</td>\n",
       "      <td>InChI=1S/C8H8BNO2/c11-9(12)7-1-2-8-6(5-7)3-4-1...</td>\n",
       "      <td>InChI=1S/CH4O/c1-2/h2H,1H3</td>\n",
       "      <td>74.99</td>\n",
       "    </tr>\n",
       "    <tr>\n",
       "      <th>3</th>\n",
       "      <td>1.11</td>\n",
       "      <td>140.296</td>\n",
       "      <td>0.33</td>\n",
       "      <td>8.371</td>\n",
       "      <td>0.338</td>\n",
       "      <td>105.274</td>\n",
       "      <td>102.178</td>\n",
       "      <td>-0.291</td>\n",
       "      <td>-0.456</td>\n",
       "      <td>12.9615</td>\n",
       "      <td>...</td>\n",
       "      <td>117.597336</td>\n",
       "      <td>54.091050</td>\n",
       "      <td>618.03375</td>\n",
       "      <td>1.817123</td>\n",
       "      <td>-0.054418</td>\n",
       "      <td>Cy-BippyPhos</td>\n",
       "      <td>InChI=1S/C36H39N4P/c1-6-16-28(17-7-1)34-36(35(...</td>\n",
       "      <td>InChI=1S/C8H8BNO2/c11-9(12)7-1-2-8-6(5-7)3-4-1...</td>\n",
       "      <td>InChI=1S/CH4O/c1-2/h2H,1H3</td>\n",
       "      <td>82.92</td>\n",
       "    </tr>\n",
       "    <tr>\n",
       "      <th>4</th>\n",
       "      <td>1.11</td>\n",
       "      <td>140.296</td>\n",
       "      <td>0.33</td>\n",
       "      <td>8.371</td>\n",
       "      <td>0.338</td>\n",
       "      <td>105.274</td>\n",
       "      <td>102.178</td>\n",
       "      <td>-0.291</td>\n",
       "      <td>-0.456</td>\n",
       "      <td>12.9615</td>\n",
       "      <td>...</td>\n",
       "      <td>111.484024</td>\n",
       "      <td>57.033180</td>\n",
       "      <td>402.37967</td>\n",
       "      <td>1.816461</td>\n",
       "      <td>-0.061351</td>\n",
       "      <td>Cy-JohnPhos</td>\n",
       "      <td>InChI=1S/C24H31P/c1-4-12-20(13-5-1)23-18-10-11...</td>\n",
       "      <td>InChI=1S/C8H8BNO2/c11-9(12)7-1-2-8-6(5-7)3-4-1...</td>\n",
       "      <td>InChI=1S/CH4O/c1-2/h2H,1H3</td>\n",
       "      <td>80.25</td>\n",
       "    </tr>\n",
       "  </tbody>\n",
       "</table>\n",
       "<p>5 rows × 163 columns</p>\n",
       "</div>"
      ],
      "text/plain": [
       "   ArylHalide_CX_Lowdin  ArylHalide_C_Chem Shift  ArylHalide_C_Electrostatic  \\\n",
       "0                  1.11                  140.296                        0.33   \n",
       "1                  1.11                  140.296                        0.33   \n",
       "2                  1.11                  140.296                        0.33   \n",
       "3                  1.11                  140.296                        0.33   \n",
       "4                  1.11                  140.296                        0.33   \n",
       "\n",
       "   ArylHalide_C_Exposed Area  ArylHalide_C_Mulliken  \\\n",
       "0                      8.371                  0.338   \n",
       "1                      8.371                  0.338   \n",
       "2                      8.371                  0.338   \n",
       "3                      8.371                  0.338   \n",
       "4                      8.371                  0.338   \n",
       "\n",
       "   ArylHalide_XY_Chem Shift_Max  ArylHalide_XY_Chem Shift_Min  \\\n",
       "0                       105.274                       102.178   \n",
       "1                       105.274                       102.178   \n",
       "2                       105.274                       102.178   \n",
       "3                       105.274                       102.178   \n",
       "4                       105.274                       102.178   \n",
       "\n",
       "   ArylHalide_XY_Electrostatic_Max  ArylHalide_XY_Electrostatic_Min  \\\n",
       "0                           -0.291                           -0.456   \n",
       "1                           -0.291                           -0.456   \n",
       "2                           -0.291                           -0.456   \n",
       "3                           -0.291                           -0.456   \n",
       "4                           -0.291                           -0.456   \n",
       "\n",
       "   ArylHalide_XY_Exposed Area_Avg  ...  Kraken_vbur_vbur_max  \\\n",
       "0                         12.9615  ...             50.731606   \n",
       "1                         12.9615  ...             80.673770   \n",
       "2                         12.9615  ...            107.755370   \n",
       "3                         12.9615  ...            117.597336   \n",
       "4                         12.9615  ...            111.484024   \n",
       "\n",
       "   Kraken_vbur_vbur_min  Kraken_vbur_vtot_boltz  Kraken_vmin_r_boltz  \\\n",
       "0             50.731606               351.19888             1.840787   \n",
       "1             61.935337               479.46484             1.803143   \n",
       "2             56.694310               386.44120             1.805810   \n",
       "3             54.091050               618.03375             1.817123   \n",
       "4             57.033180               402.37967             1.816461   \n",
       "\n",
       "   Kraken_vmin_vmin_boltz        Ligand  \\\n",
       "0               -0.055960      A-paPhos   \n",
       "1               -0.058457        CX-FBu   \n",
       "2               -0.058387        CX-PCy   \n",
       "3               -0.054418  Cy-BippyPhos   \n",
       "4               -0.061351   Cy-JohnPhos   \n",
       "\n",
       "                                        Ligand_inchi  \\\n",
       "0  InChI=1S/C20H20NP/c1-21(2)17-13-15-20(16-14-17...   \n",
       "1  InChI=1S/C29H39P.BF4/c1-2-3-22-29(27-20-12-10-...   \n",
       "2  InChI=1S/C22H30NP/c1-4-11-19(12-5-1)23-18-10-1...   \n",
       "3  InChI=1S/C36H39N4P/c1-6-16-28(17-7-1)34-36(35(...   \n",
       "4  InChI=1S/C24H31P/c1-4-12-20(13-5-1)23-18-10-11...   \n",
       "\n",
       "                                       Product_inchi  \\\n",
       "0  InChI=1S/C8H8BNO2/c11-9(12)7-1-2-8-6(5-7)3-4-1...   \n",
       "1  InChI=1S/C8H8BNO2/c11-9(12)7-1-2-8-6(5-7)3-4-1...   \n",
       "2  InChI=1S/C8H8BNO2/c11-9(12)7-1-2-8-6(5-7)3-4-1...   \n",
       "3  InChI=1S/C8H8BNO2/c11-9(12)7-1-2-8-6(5-7)3-4-1...   \n",
       "4  InChI=1S/C8H8BNO2/c11-9(12)7-1-2-8-6(5-7)3-4-1...   \n",
       "\n",
       "                Solvent_inchi  Yield  \n",
       "0  InChI=1S/CH4O/c1-2/h2H,1H3  88.86  \n",
       "1  InChI=1S/CH4O/c1-2/h2H,1H3  54.07  \n",
       "2  InChI=1S/CH4O/c1-2/h2H,1H3  74.99  \n",
       "3  InChI=1S/CH4O/c1-2/h2H,1H3  82.92  \n",
       "4  InChI=1S/CH4O/c1-2/h2H,1H3  80.25  \n",
       "\n",
       "[5 rows x 163 columns]"
      ]
     },
     "execution_count": 2,
     "metadata": {},
     "output_type": "execute_result"
    }
   ],
   "source": [
    "dataset = pd.read_csv(\"./data/data_MeOH_Final.csv\")\n",
    "dataset.head()"
   ]
  },
  {
   "cell_type": "code",
   "execution_count": 3,
   "id": "plain-amino",
   "metadata": {},
   "outputs": [
    {
     "data": {
      "text/plain": [
       "['A-paPhos',\n",
       " 'CX-FBu',\n",
       " 'CX-PCy',\n",
       " 'Cy-BippyPhos',\n",
       " 'Cy-JohnPhos',\n",
       " 'Cy-PhenCar-Phos',\n",
       " 'Cy-vBRIDP',\n",
       " 'Kwong',\n",
       " 'MePhos',\n",
       " 'PCy3 HBF4',\n",
       " 'Ph-DavePhos',\n",
       " 'Ph-SPhos',\n",
       " 'Ph-XPhos',\n",
       " 'PMe3 HBF4',\n",
       " 'PnBu3 HBF4',\n",
       " 'P(o-Anis)3',\n",
       " 'P(p-Anis)3',\n",
       " 'P(p-F-Ph)3',\n",
       " 'PPh2Cy',\n",
       " 'PPh3',\n",
       " 'PPhtBu2',\n",
       " 'PXy3',\n",
       " 'VPhos']"
      ]
     },
     "execution_count": 3,
     "metadata": {},
     "output_type": "execute_result"
    }
   ],
   "source": [
    "dataset.Ligand.unique().tolist()"
   ]
  },
  {
   "cell_type": "code",
   "execution_count": 4,
   "id": "connected-buyer",
   "metadata": {},
   "outputs": [
    {
     "data": {
      "text/html": [
       "<div>\n",
       "<style scoped>\n",
       "    .dataframe tbody tr th:only-of-type {\n",
       "        vertical-align: middle;\n",
       "    }\n",
       "\n",
       "    .dataframe tbody tr th {\n",
       "        vertical-align: top;\n",
       "    }\n",
       "\n",
       "    .dataframe thead th {\n",
       "        text-align: right;\n",
       "    }\n",
       "</style>\n",
       "<table border=\"1\" class=\"dataframe\">\n",
       "  <thead>\n",
       "    <tr style=\"text-align: right;\">\n",
       "      <th></th>\n",
       "      <th>ArylHalide_CX_Lowdin</th>\n",
       "      <th>ArylHalide_C_Chem Shift</th>\n",
       "      <th>ArylHalide_C_Electrostatic</th>\n",
       "      <th>ArylHalide_C_Exposed Area</th>\n",
       "      <th>ArylHalide_C_Mulliken</th>\n",
       "      <th>ArylHalide_XY_Chem Shift_Max</th>\n",
       "      <th>ArylHalide_XY_Chem Shift_Min</th>\n",
       "      <th>ArylHalide_XY_Electrostatic_Max</th>\n",
       "      <th>ArylHalide_XY_Electrostatic_Min</th>\n",
       "      <th>ArylHalide_XY_Exposed Area_Avg</th>\n",
       "      <th>...</th>\n",
       "      <th>Kraken_vbur_vbur_max</th>\n",
       "      <th>Kraken_vbur_vbur_min</th>\n",
       "      <th>Kraken_vbur_vtot_boltz</th>\n",
       "      <th>Kraken_vmin_r_boltz</th>\n",
       "      <th>Kraken_vmin_vmin_boltz</th>\n",
       "      <th>Ligand</th>\n",
       "      <th>Ligand_inchi</th>\n",
       "      <th>Product_inchi</th>\n",
       "      <th>Solvent_inchi</th>\n",
       "      <th>Yield</th>\n",
       "    </tr>\n",
       "  </thead>\n",
       "  <tbody>\n",
       "    <tr>\n",
       "      <th>0</th>\n",
       "      <td>1.09</td>\n",
       "      <td>129.449</td>\n",
       "      <td>0.124</td>\n",
       "      <td>7.356</td>\n",
       "      <td>0.004</td>\n",
       "      <td>120.935</td>\n",
       "      <td>118.065</td>\n",
       "      <td>-0.177</td>\n",
       "      <td>-0.341</td>\n",
       "      <td>13.589</td>\n",
       "      <td>...</td>\n",
       "      <td>117.552360</td>\n",
       "      <td>56.790530</td>\n",
       "      <td>430.68256</td>\n",
       "      <td>1.797235</td>\n",
       "      <td>-0.062511</td>\n",
       "      <td>Cy-JohnPhos-OMe</td>\n",
       "      <td>InChI=1S/C25H33OP/c1-26-24-18-10-8-16-22(24)23...</td>\n",
       "      <td>InChI=1S/C8H7BO3/c10-9(11)7-1-2-8-6(5-7)3-4-12...</td>\n",
       "      <td>InChI=1S/CH4O/c1-2/h2H,1H3</td>\n",
       "      <td>72.51</td>\n",
       "    </tr>\n",
       "    <tr>\n",
       "      <th>1</th>\n",
       "      <td>1.09</td>\n",
       "      <td>129.449</td>\n",
       "      <td>0.124</td>\n",
       "      <td>7.356</td>\n",
       "      <td>0.004</td>\n",
       "      <td>120.935</td>\n",
       "      <td>118.065</td>\n",
       "      <td>-0.177</td>\n",
       "      <td>-0.341</td>\n",
       "      <td>13.589</td>\n",
       "      <td>...</td>\n",
       "      <td>124.748184</td>\n",
       "      <td>58.538240</td>\n",
       "      <td>497.10650</td>\n",
       "      <td>1.784157</td>\n",
       "      <td>-0.063670</td>\n",
       "      <td>CPhos</td>\n",
       "      <td>InChI=1S/C28H41N2P/c1-29(2)25-19-13-20-26(30(3...</td>\n",
       "      <td>InChI=1S/C8H7BO3/c10-9(11)7-1-2-8-6(5-7)3-4-12...</td>\n",
       "      <td>InChI=1S/CH4O/c1-2/h2H,1H3</td>\n",
       "      <td>59.62</td>\n",
       "    </tr>\n",
       "    <tr>\n",
       "      <th>2</th>\n",
       "      <td>1.09</td>\n",
       "      <td>129.449</td>\n",
       "      <td>0.124</td>\n",
       "      <td>7.356</td>\n",
       "      <td>0.004</td>\n",
       "      <td>120.935</td>\n",
       "      <td>118.065</td>\n",
       "      <td>-0.177</td>\n",
       "      <td>-0.341</td>\n",
       "      <td>13.589</td>\n",
       "      <td>...</td>\n",
       "      <td>109.966415</td>\n",
       "      <td>55.457000</td>\n",
       "      <td>415.06253</td>\n",
       "      <td>1.801754</td>\n",
       "      <td>-0.061979</td>\n",
       "      <td>CX-POMeCy</td>\n",
       "      <td>InChI=1S/C23H32NOP/c1-25-22-16-9-8-15-21(22)24...</td>\n",
       "      <td>InChI=1S/C8H7BO3/c10-9(11)7-1-2-8-6(5-7)3-4-12...</td>\n",
       "      <td>InChI=1S/CH4O/c1-2/h2H,1H3</td>\n",
       "      <td>85.04</td>\n",
       "    </tr>\n",
       "    <tr>\n",
       "      <th>3</th>\n",
       "      <td>1.09</td>\n",
       "      <td>129.449</td>\n",
       "      <td>0.124</td>\n",
       "      <td>7.356</td>\n",
       "      <td>0.004</td>\n",
       "      <td>120.935</td>\n",
       "      <td>118.065</td>\n",
       "      <td>-0.177</td>\n",
       "      <td>-0.341</td>\n",
       "      <td>13.589</td>\n",
       "      <td>...</td>\n",
       "      <td>49.582157</td>\n",
       "      <td>43.828636</td>\n",
       "      <td>151.64550</td>\n",
       "      <td>1.826696</td>\n",
       "      <td>-0.062157</td>\n",
       "      <td>PEt3</td>\n",
       "      <td>InChI=1S/C6H15P/c1-4-7(5-2)6-3/h4-6H2,1-3H3</td>\n",
       "      <td>InChI=1S/C8H7BO3/c10-9(11)7-1-2-8-6(5-7)3-4-12...</td>\n",
       "      <td>InChI=1S/CH4O/c1-2/h2H,1H3</td>\n",
       "      <td>55.37</td>\n",
       "    </tr>\n",
       "    <tr>\n",
       "      <th>4</th>\n",
       "      <td>1.09</td>\n",
       "      <td>129.449</td>\n",
       "      <td>0.124</td>\n",
       "      <td>7.356</td>\n",
       "      <td>0.004</td>\n",
       "      <td>120.935</td>\n",
       "      <td>118.065</td>\n",
       "      <td>-0.177</td>\n",
       "      <td>-0.341</td>\n",
       "      <td>13.589</td>\n",
       "      <td>...</td>\n",
       "      <td>54.862930</td>\n",
       "      <td>51.901974</td>\n",
       "      <td>330.64270</td>\n",
       "      <td>1.833448</td>\n",
       "      <td>-0.054343</td>\n",
       "      <td>PPh2(o-Anis)</td>\n",
       "      <td>InChI=1S/C19H17OP/c1-20-18-14-8-9-15-19(18)21(...</td>\n",
       "      <td>InChI=1S/C8H7BO3/c10-9(11)7-1-2-8-6(5-7)3-4-12...</td>\n",
       "      <td>InChI=1S/CH4O/c1-2/h2H,1H3</td>\n",
       "      <td>74.73</td>\n",
       "    </tr>\n",
       "  </tbody>\n",
       "</table>\n",
       "<p>5 rows × 163 columns</p>\n",
       "</div>"
      ],
      "text/plain": [
       "   ArylHalide_CX_Lowdin  ArylHalide_C_Chem Shift  ArylHalide_C_Electrostatic  \\\n",
       "0                  1.09                  129.449                       0.124   \n",
       "1                  1.09                  129.449                       0.124   \n",
       "2                  1.09                  129.449                       0.124   \n",
       "3                  1.09                  129.449                       0.124   \n",
       "4                  1.09                  129.449                       0.124   \n",
       "\n",
       "   ArylHalide_C_Exposed Area  ArylHalide_C_Mulliken  \\\n",
       "0                      7.356                  0.004   \n",
       "1                      7.356                  0.004   \n",
       "2                      7.356                  0.004   \n",
       "3                      7.356                  0.004   \n",
       "4                      7.356                  0.004   \n",
       "\n",
       "   ArylHalide_XY_Chem Shift_Max  ArylHalide_XY_Chem Shift_Min  \\\n",
       "0                       120.935                       118.065   \n",
       "1                       120.935                       118.065   \n",
       "2                       120.935                       118.065   \n",
       "3                       120.935                       118.065   \n",
       "4                       120.935                       118.065   \n",
       "\n",
       "   ArylHalide_XY_Electrostatic_Max  ArylHalide_XY_Electrostatic_Min  \\\n",
       "0                           -0.177                           -0.341   \n",
       "1                           -0.177                           -0.341   \n",
       "2                           -0.177                           -0.341   \n",
       "3                           -0.177                           -0.341   \n",
       "4                           -0.177                           -0.341   \n",
       "\n",
       "   ArylHalide_XY_Exposed Area_Avg  ...  Kraken_vbur_vbur_max  \\\n",
       "0                          13.589  ...            117.552360   \n",
       "1                          13.589  ...            124.748184   \n",
       "2                          13.589  ...            109.966415   \n",
       "3                          13.589  ...             49.582157   \n",
       "4                          13.589  ...             54.862930   \n",
       "\n",
       "   Kraken_vbur_vbur_min  Kraken_vbur_vtot_boltz  Kraken_vmin_r_boltz  \\\n",
       "0             56.790530               430.68256             1.797235   \n",
       "1             58.538240               497.10650             1.784157   \n",
       "2             55.457000               415.06253             1.801754   \n",
       "3             43.828636               151.64550             1.826696   \n",
       "4             51.901974               330.64270             1.833448   \n",
       "\n",
       "   Kraken_vmin_vmin_boltz           Ligand  \\\n",
       "0               -0.062511  Cy-JohnPhos-OMe   \n",
       "1               -0.063670            CPhos   \n",
       "2               -0.061979        CX-POMeCy   \n",
       "3               -0.062157             PEt3   \n",
       "4               -0.054343     PPh2(o-Anis)   \n",
       "\n",
       "                                        Ligand_inchi  \\\n",
       "0  InChI=1S/C25H33OP/c1-26-24-18-10-8-16-22(24)23...   \n",
       "1  InChI=1S/C28H41N2P/c1-29(2)25-19-13-20-26(30(3...   \n",
       "2  InChI=1S/C23H32NOP/c1-25-22-16-9-8-15-21(22)24...   \n",
       "3        InChI=1S/C6H15P/c1-4-7(5-2)6-3/h4-6H2,1-3H3   \n",
       "4  InChI=1S/C19H17OP/c1-20-18-14-8-9-15-19(18)21(...   \n",
       "\n",
       "                                       Product_inchi  \\\n",
       "0  InChI=1S/C8H7BO3/c10-9(11)7-1-2-8-6(5-7)3-4-12...   \n",
       "1  InChI=1S/C8H7BO3/c10-9(11)7-1-2-8-6(5-7)3-4-12...   \n",
       "2  InChI=1S/C8H7BO3/c10-9(11)7-1-2-8-6(5-7)3-4-12...   \n",
       "3  InChI=1S/C8H7BO3/c10-9(11)7-1-2-8-6(5-7)3-4-12...   \n",
       "4  InChI=1S/C8H7BO3/c10-9(11)7-1-2-8-6(5-7)3-4-12...   \n",
       "\n",
       "                Solvent_inchi  Yield  \n",
       "0  InChI=1S/CH4O/c1-2/h2H,1H3  72.51  \n",
       "1  InChI=1S/CH4O/c1-2/h2H,1H3  59.62  \n",
       "2  InChI=1S/CH4O/c1-2/h2H,1H3  85.04  \n",
       "3  InChI=1S/CH4O/c1-2/h2H,1H3  55.37  \n",
       "4  InChI=1S/CH4O/c1-2/h2H,1H3  74.73  \n",
       "\n",
       "[5 rows x 163 columns]"
      ]
     },
     "execution_count": 4,
     "metadata": {},
     "output_type": "execute_result"
    }
   ],
   "source": [
    "#load external ligand dataset in EtOH\n",
    "ex_dataset = pd.read_csv(\"./data/external_ligand_data_MeOH.csv\")\n",
    "ex_dataset.head()"
   ]
  },
  {
   "cell_type": "code",
   "execution_count": 5,
   "id": "mental-mambo",
   "metadata": {},
   "outputs": [
    {
     "data": {
      "text/plain": [
       "['Cy-JohnPhos-OMe',\n",
       " 'CPhos',\n",
       " 'CX-POMeCy',\n",
       " 'PEt3',\n",
       " 'PPh2(o-Anis)',\n",
       " 'RuPhos',\n",
       " 'P(p-CF3-Ph)3',\n",
       " 'CM-Phos',\n",
       " 'PBn3',\n",
       " 'CX-PInCy',\n",
       " 'S-Phos',\n",
       " 'PPhCy2']"
      ]
     },
     "execution_count": 5,
     "metadata": {},
     "output_type": "execute_result"
    }
   ],
   "source": [
    "ex_dataset.Ligand.unique().tolist()"
   ]
  },
  {
   "cell_type": "code",
   "execution_count": 6,
   "id": "contemporary-coverage",
   "metadata": {},
   "outputs": [
    {
     "name": "stdout",
     "output_type": "stream",
     "text": [
      "(779, 157)\n"
     ]
    },
    {
     "data": {
      "text/html": [
       "<div>\n",
       "<style scoped>\n",
       "    .dataframe tbody tr th:only-of-type {\n",
       "        vertical-align: middle;\n",
       "    }\n",
       "\n",
       "    .dataframe tbody tr th {\n",
       "        vertical-align: top;\n",
       "    }\n",
       "\n",
       "    .dataframe thead th {\n",
       "        text-align: right;\n",
       "    }\n",
       "</style>\n",
       "<table border=\"1\" class=\"dataframe\">\n",
       "  <thead>\n",
       "    <tr style=\"text-align: right;\">\n",
       "      <th></th>\n",
       "      <th>ArylHalide_CX_Lowdin</th>\n",
       "      <th>ArylHalide_C_Chem Shift</th>\n",
       "      <th>ArylHalide_C_Electrostatic</th>\n",
       "      <th>ArylHalide_C_Exposed Area</th>\n",
       "      <th>ArylHalide_C_Mulliken</th>\n",
       "      <th>ArylHalide_XY_Chem Shift_Max</th>\n",
       "      <th>ArylHalide_XY_Chem Shift_Min</th>\n",
       "      <th>ArylHalide_XY_Electrostatic_Max</th>\n",
       "      <th>ArylHalide_XY_Electrostatic_Min</th>\n",
       "      <th>ArylHalide_XY_Exposed Area_Avg</th>\n",
       "      <th>...</th>\n",
       "      <th>Kraken_vbur_qvtot_min_min</th>\n",
       "      <th>Kraken_vbur_qvtot_min_vburminconf</th>\n",
       "      <th>Kraken_vbur_ratio_vbur_vtot_boltz</th>\n",
       "      <th>Kraken_vbur_vbur_boltz</th>\n",
       "      <th>Kraken_vbur_vbur_max</th>\n",
       "      <th>Kraken_vbur_vbur_min</th>\n",
       "      <th>Kraken_vbur_vtot_boltz</th>\n",
       "      <th>Kraken_vmin_r_boltz</th>\n",
       "      <th>Kraken_vmin_vmin_boltz</th>\n",
       "      <th>Yield</th>\n",
       "    </tr>\n",
       "  </thead>\n",
       "  <tbody>\n",
       "    <tr>\n",
       "      <th>0</th>\n",
       "      <td>1.11</td>\n",
       "      <td>140.296</td>\n",
       "      <td>0.33</td>\n",
       "      <td>8.371</td>\n",
       "      <td>0.338</td>\n",
       "      <td>105.274</td>\n",
       "      <td>102.178</td>\n",
       "      <td>-0.291</td>\n",
       "      <td>-0.456</td>\n",
       "      <td>12.9615</td>\n",
       "      <td>...</td>\n",
       "      <td>59.829678</td>\n",
       "      <td>59.829678</td>\n",
       "      <td>0.144453</td>\n",
       "      <td>50.731606</td>\n",
       "      <td>50.731606</td>\n",
       "      <td>50.731606</td>\n",
       "      <td>351.19888</td>\n",
       "      <td>1.840787</td>\n",
       "      <td>-0.055960</td>\n",
       "      <td>88.86</td>\n",
       "    </tr>\n",
       "    <tr>\n",
       "      <th>1</th>\n",
       "      <td>1.11</td>\n",
       "      <td>140.296</td>\n",
       "      <td>0.33</td>\n",
       "      <td>8.371</td>\n",
       "      <td>0.338</td>\n",
       "      <td>105.274</td>\n",
       "      <td>102.178</td>\n",
       "      <td>-0.291</td>\n",
       "      <td>-0.456</td>\n",
       "      <td>12.9615</td>\n",
       "      <td>...</td>\n",
       "      <td>47.895260</td>\n",
       "      <td>67.167030</td>\n",
       "      <td>0.134809</td>\n",
       "      <td>64.636100</td>\n",
       "      <td>80.673770</td>\n",
       "      <td>61.935337</td>\n",
       "      <td>479.46484</td>\n",
       "      <td>1.803143</td>\n",
       "      <td>-0.058457</td>\n",
       "      <td>54.07</td>\n",
       "    </tr>\n",
       "    <tr>\n",
       "      <th>2</th>\n",
       "      <td>1.11</td>\n",
       "      <td>140.296</td>\n",
       "      <td>0.33</td>\n",
       "      <td>8.371</td>\n",
       "      <td>0.338</td>\n",
       "      <td>105.274</td>\n",
       "      <td>102.178</td>\n",
       "      <td>-0.291</td>\n",
       "      <td>-0.456</td>\n",
       "      <td>12.9615</td>\n",
       "      <td>...</td>\n",
       "      <td>36.894516</td>\n",
       "      <td>75.417816</td>\n",
       "      <td>0.211005</td>\n",
       "      <td>81.541550</td>\n",
       "      <td>107.755370</td>\n",
       "      <td>56.694310</td>\n",
       "      <td>386.44120</td>\n",
       "      <td>1.805810</td>\n",
       "      <td>-0.058387</td>\n",
       "      <td>74.99</td>\n",
       "    </tr>\n",
       "    <tr>\n",
       "      <th>3</th>\n",
       "      <td>1.11</td>\n",
       "      <td>140.296</td>\n",
       "      <td>0.33</td>\n",
       "      <td>8.371</td>\n",
       "      <td>0.338</td>\n",
       "      <td>105.274</td>\n",
       "      <td>102.178</td>\n",
       "      <td>-0.291</td>\n",
       "      <td>-0.456</td>\n",
       "      <td>12.9615</td>\n",
       "      <td>...</td>\n",
       "      <td>45.164505</td>\n",
       "      <td>77.044235</td>\n",
       "      <td>0.160584</td>\n",
       "      <td>99.246600</td>\n",
       "      <td>117.597336</td>\n",
       "      <td>54.091050</td>\n",
       "      <td>618.03375</td>\n",
       "      <td>1.817123</td>\n",
       "      <td>-0.054418</td>\n",
       "      <td>82.92</td>\n",
       "    </tr>\n",
       "    <tr>\n",
       "      <th>4</th>\n",
       "      <td>1.11</td>\n",
       "      <td>140.296</td>\n",
       "      <td>0.33</td>\n",
       "      <td>8.371</td>\n",
       "      <td>0.338</td>\n",
       "      <td>105.274</td>\n",
       "      <td>102.178</td>\n",
       "      <td>-0.291</td>\n",
       "      <td>-0.456</td>\n",
       "      <td>12.9615</td>\n",
       "      <td>...</td>\n",
       "      <td>44.561430</td>\n",
       "      <td>72.197180</td>\n",
       "      <td>0.212085</td>\n",
       "      <td>85.339290</td>\n",
       "      <td>111.484024</td>\n",
       "      <td>57.033180</td>\n",
       "      <td>402.37967</td>\n",
       "      <td>1.816461</td>\n",
       "      <td>-0.061351</td>\n",
       "      <td>80.25</td>\n",
       "    </tr>\n",
       "  </tbody>\n",
       "</table>\n",
       "<p>5 rows × 157 columns</p>\n",
       "</div>"
      ],
      "text/plain": [
       "   ArylHalide_CX_Lowdin  ArylHalide_C_Chem Shift  ArylHalide_C_Electrostatic  \\\n",
       "0                  1.11                  140.296                        0.33   \n",
       "1                  1.11                  140.296                        0.33   \n",
       "2                  1.11                  140.296                        0.33   \n",
       "3                  1.11                  140.296                        0.33   \n",
       "4                  1.11                  140.296                        0.33   \n",
       "\n",
       "   ArylHalide_C_Exposed Area  ArylHalide_C_Mulliken  \\\n",
       "0                      8.371                  0.338   \n",
       "1                      8.371                  0.338   \n",
       "2                      8.371                  0.338   \n",
       "3                      8.371                  0.338   \n",
       "4                      8.371                  0.338   \n",
       "\n",
       "   ArylHalide_XY_Chem Shift_Max  ArylHalide_XY_Chem Shift_Min  \\\n",
       "0                       105.274                       102.178   \n",
       "1                       105.274                       102.178   \n",
       "2                       105.274                       102.178   \n",
       "3                       105.274                       102.178   \n",
       "4                       105.274                       102.178   \n",
       "\n",
       "   ArylHalide_XY_Electrostatic_Max  ArylHalide_XY_Electrostatic_Min  \\\n",
       "0                           -0.291                           -0.456   \n",
       "1                           -0.291                           -0.456   \n",
       "2                           -0.291                           -0.456   \n",
       "3                           -0.291                           -0.456   \n",
       "4                           -0.291                           -0.456   \n",
       "\n",
       "   ArylHalide_XY_Exposed Area_Avg  ...  Kraken_vbur_qvtot_min_min  \\\n",
       "0                         12.9615  ...                  59.829678   \n",
       "1                         12.9615  ...                  47.895260   \n",
       "2                         12.9615  ...                  36.894516   \n",
       "3                         12.9615  ...                  45.164505   \n",
       "4                         12.9615  ...                  44.561430   \n",
       "\n",
       "   Kraken_vbur_qvtot_min_vburminconf  Kraken_vbur_ratio_vbur_vtot_boltz  \\\n",
       "0                          59.829678                           0.144453   \n",
       "1                          67.167030                           0.134809   \n",
       "2                          75.417816                           0.211005   \n",
       "3                          77.044235                           0.160584   \n",
       "4                          72.197180                           0.212085   \n",
       "\n",
       "   Kraken_vbur_vbur_boltz  Kraken_vbur_vbur_max  Kraken_vbur_vbur_min  \\\n",
       "0               50.731606             50.731606             50.731606   \n",
       "1               64.636100             80.673770             61.935337   \n",
       "2               81.541550            107.755370             56.694310   \n",
       "3               99.246600            117.597336             54.091050   \n",
       "4               85.339290            111.484024             57.033180   \n",
       "\n",
       "   Kraken_vbur_vtot_boltz  Kraken_vmin_r_boltz  Kraken_vmin_vmin_boltz  Yield  \n",
       "0               351.19888             1.840787               -0.055960  88.86  \n",
       "1               479.46484             1.803143               -0.058457  54.07  \n",
       "2               386.44120             1.805810               -0.058387  74.99  \n",
       "3               618.03375             1.817123               -0.054418  82.92  \n",
       "4               402.37967             1.816461               -0.061351  80.25  \n",
       "\n",
       "[5 rows x 157 columns]"
      ]
     },
     "execution_count": 6,
     "metadata": {},
     "output_type": "execute_result"
    }
   ],
   "source": [
    "#Training set\n",
    "ML_data_traintest = dataset\n",
    "ML_data_traintest2 = ML_data_traintest.drop(['Electrophile_inchi', 'Solvent_inchi', 'Ligand_inchi', 'Product_inchi', 'Electrophile', 'Ligand'], axis = 1)\n",
    "print (ML_data_traintest2.shape)\n",
    "ML_data_traintest2.head()"
   ]
  },
  {
   "cell_type": "code",
   "execution_count": 7,
   "id": "active-fireplace",
   "metadata": {},
   "outputs": [],
   "source": [
    "X_train=ML_data_traintest2.drop(columns=['Yield'])\n",
    "Y_train=ML_data_traintest2['Yield']"
   ]
  },
  {
   "cell_type": "markdown",
   "id": "completed-learning",
   "metadata": {},
   "source": [
    "### Lasso"
   ]
  },
  {
   "cell_type": "code",
   "execution_count": 8,
   "id": "casual-civilian",
   "metadata": {},
   "outputs": [
    {
     "name": "stdout",
     "output_type": "stream",
     "text": [
      "Fitting 5 folds for each of 50 candidates, totalling 250 fits\n",
      "[CV 1/5] END .............................model__alpha=1e-10; total time=   0.1s\n"
     ]
    },
    {
     "name": "stderr",
     "output_type": "stream",
     "text": [
      "/opt/conda/lib/python3.8/site-packages/sklearn/linear_model/_coordinate_descent.py:530: ConvergenceWarning: Objective did not converge. You might want to increase the number of iterations. Duality gap: 83284.89886082608, tolerance: 39.51671704886386\n",
      "  model = cd_fast.enet_coordinate_descent(\n",
      "/opt/conda/lib/python3.8/site-packages/sklearn/linear_model/_coordinate_descent.py:530: ConvergenceWarning: Objective did not converge. You might want to increase the number of iterations. Duality gap: 94929.96107769822, tolerance: 46.82165537631606\n",
      "  model = cd_fast.enet_coordinate_descent(\n"
     ]
    },
    {
     "name": "stdout",
     "output_type": "stream",
     "text": [
      "[CV 2/5] END .............................model__alpha=1e-10; total time=   0.2s\n",
      "[CV 3/5] END .............................model__alpha=1e-10; total time=   0.1s\n"
     ]
    },
    {
     "name": "stderr",
     "output_type": "stream",
     "text": [
      "/opt/conda/lib/python3.8/site-packages/sklearn/linear_model/_coordinate_descent.py:530: ConvergenceWarning: Objective did not converge. You might want to increase the number of iterations. Duality gap: 93276.41055841146, tolerance: 45.42169515132507\n",
      "  model = cd_fast.enet_coordinate_descent(\n",
      "/opt/conda/lib/python3.8/site-packages/sklearn/linear_model/_coordinate_descent.py:530: ConvergenceWarning: Objective did not converge. You might want to increase the number of iterations. Duality gap: 89817.74671144858, tolerance: 45.21092072956093\n",
      "  model = cd_fast.enet_coordinate_descent(\n"
     ]
    },
    {
     "name": "stdout",
     "output_type": "stream",
     "text": [
      "[CV 4/5] END .............................model__alpha=1e-10; total time=   0.2s\n",
      "[CV 5/5] END .............................model__alpha=1e-10; total time=   0.1s\n"
     ]
    },
    {
     "name": "stderr",
     "output_type": "stream",
     "text": [
      "/opt/conda/lib/python3.8/site-packages/sklearn/linear_model/_coordinate_descent.py:530: ConvergenceWarning: Objective did not converge. You might want to increase the number of iterations. Duality gap: 87835.78608540371, tolerance: 42.15494324530278\n",
      "  model = cd_fast.enet_coordinate_descent(\n",
      "/opt/conda/lib/python3.8/site-packages/sklearn/linear_model/_coordinate_descent.py:530: ConvergenceWarning: Objective did not converge. You might want to increase the number of iterations. Duality gap: 83284.8984813254, tolerance: 39.51671704886386\n",
      "  model = cd_fast.enet_coordinate_descent(\n"
     ]
    },
    {
     "name": "stdout",
     "output_type": "stream",
     "text": [
      "[CV 1/5] END ..............model__alpha=1.67683293681101e-10; total time=   0.1s\n",
      "[CV 2/5] END ..............model__alpha=1.67683293681101e-10; total time=   0.2s\n"
     ]
    },
    {
     "name": "stderr",
     "output_type": "stream",
     "text": [
      "/opt/conda/lib/python3.8/site-packages/sklearn/linear_model/_coordinate_descent.py:530: ConvergenceWarning: Objective did not converge. You might want to increase the number of iterations. Duality gap: 94929.96067085683, tolerance: 46.82165537631606\n",
      "  model = cd_fast.enet_coordinate_descent(\n",
      "/opt/conda/lib/python3.8/site-packages/sklearn/linear_model/_coordinate_descent.py:530: ConvergenceWarning: Objective did not converge. You might want to increase the number of iterations. Duality gap: 93276.41016440614, tolerance: 45.42169515132507\n",
      "  model = cd_fast.enet_coordinate_descent(\n"
     ]
    },
    {
     "name": "stdout",
     "output_type": "stream",
     "text": [
      "[CV 3/5] END ..............model__alpha=1.67683293681101e-10; total time=   0.2s\n",
      "[CV 4/5] END ..............model__alpha=1.67683293681101e-10; total time=   0.2s\n"
     ]
    },
    {
     "name": "stderr",
     "output_type": "stream",
     "text": [
      "/opt/conda/lib/python3.8/site-packages/sklearn/linear_model/_coordinate_descent.py:530: ConvergenceWarning: Objective did not converge. You might want to increase the number of iterations. Duality gap: 89817.7461724694, tolerance: 45.21092072956093\n",
      "  model = cd_fast.enet_coordinate_descent(\n",
      "/opt/conda/lib/python3.8/site-packages/sklearn/linear_model/_coordinate_descent.py:530: ConvergenceWarning: Objective did not converge. You might want to increase the number of iterations. Duality gap: 87835.78450839146, tolerance: 42.15494324530278\n",
      "  model = cd_fast.enet_coordinate_descent(\n"
     ]
    },
    {
     "name": "stdout",
     "output_type": "stream",
     "text": [
      "[CV 5/5] END ..............model__alpha=1.67683293681101e-10; total time=   0.2s\n",
      "[CV 1/5] END .............model__alpha=2.811768697974225e-10; total time=   0.2s\n"
     ]
    },
    {
     "name": "stderr",
     "output_type": "stream",
     "text": [
      "/opt/conda/lib/python3.8/site-packages/sklearn/linear_model/_coordinate_descent.py:530: ConvergenceWarning: Objective did not converge. You might want to increase the number of iterations. Duality gap: 83284.89784496586, tolerance: 39.51671704886386\n",
      "  model = cd_fast.enet_coordinate_descent(\n",
      "/opt/conda/lib/python3.8/site-packages/sklearn/linear_model/_coordinate_descent.py:530: ConvergenceWarning: Objective did not converge. You might want to increase the number of iterations. Duality gap: 94929.95998865146, tolerance: 46.82165537631606\n",
      "  model = cd_fast.enet_coordinate_descent(\n"
     ]
    },
    {
     "name": "stdout",
     "output_type": "stream",
     "text": [
      "[CV 2/5] END .............model__alpha=2.811768697974225e-10; total time=   0.1s\n",
      "[CV 3/5] END .............model__alpha=2.811768697974225e-10; total time=   0.2s\n"
     ]
    },
    {
     "name": "stderr",
     "output_type": "stream",
     "text": [
      "/opt/conda/lib/python3.8/site-packages/sklearn/linear_model/_coordinate_descent.py:530: ConvergenceWarning: Objective did not converge. You might want to increase the number of iterations. Duality gap: 93276.40950372435, tolerance: 45.42169515132507\n",
      "  model = cd_fast.enet_coordinate_descent(\n",
      "/opt/conda/lib/python3.8/site-packages/sklearn/linear_model/_coordinate_descent.py:530: ConvergenceWarning: Objective did not converge. You might want to increase the number of iterations. Duality gap: 89817.74526869075, tolerance: 45.21092072956093\n",
      "  model = cd_fast.enet_coordinate_descent(\n"
     ]
    },
    {
     "name": "stdout",
     "output_type": "stream",
     "text": [
      "[CV 4/5] END .............model__alpha=2.811768697974225e-10; total time=   0.1s\n",
      "[CV 5/5] END .............model__alpha=2.811768697974225e-10; total time=   0.2s\n"
     ]
    },
    {
     "name": "stderr",
     "output_type": "stream",
     "text": [
      "/opt/conda/lib/python3.8/site-packages/sklearn/linear_model/_coordinate_descent.py:530: ConvergenceWarning: Objective did not converge. You might want to increase the number of iterations. Duality gap: 87835.78186400421, tolerance: 42.15494324530278\n",
      "  model = cd_fast.enet_coordinate_descent(\n",
      "/opt/conda/lib/python3.8/site-packages/sklearn/linear_model/_coordinate_descent.py:530: ConvergenceWarning: Objective did not converge. You might want to increase the number of iterations. Duality gap: 83284.89677789739, tolerance: 39.51671704886386\n",
      "  model = cd_fast.enet_coordinate_descent(\n"
     ]
    },
    {
     "name": "stdout",
     "output_type": "stream",
     "text": [
      "[CV 1/5] END ..............model__alpha=4.71486636345739e-10; total time=   0.1s\n",
      "[CV 2/5] END ..............model__alpha=4.71486636345739e-10; total time=   0.2s\n"
     ]
    },
    {
     "name": "stderr",
     "output_type": "stream",
     "text": [
      "/opt/conda/lib/python3.8/site-packages/sklearn/linear_model/_coordinate_descent.py:530: ConvergenceWarning: Objective did not converge. You might want to increase the number of iterations. Duality gap: 94929.95884470662, tolerance: 46.82165537631606\n",
      "  model = cd_fast.enet_coordinate_descent(\n",
      "/opt/conda/lib/python3.8/site-packages/sklearn/linear_model/_coordinate_descent.py:530: ConvergenceWarning: Objective did not converge. You might want to increase the number of iterations. Duality gap: 93276.40839587142, tolerance: 45.42169515132507\n",
      "  model = cd_fast.enet_coordinate_descent(\n"
     ]
    },
    {
     "name": "stdout",
     "output_type": "stream",
     "text": [
      "[CV 3/5] END ..............model__alpha=4.71486636345739e-10; total time=   0.1s\n",
      "[CV 4/5] END ..............model__alpha=4.71486636345739e-10; total time=   0.1s\n"
     ]
    },
    {
     "name": "stderr",
     "output_type": "stream",
     "text": [
      "/opt/conda/lib/python3.8/site-packages/sklearn/linear_model/_coordinate_descent.py:530: ConvergenceWarning: Objective did not converge. You might want to increase the number of iterations. Duality gap: 89817.74375320529, tolerance: 45.21092072956093\n",
      "  model = cd_fast.enet_coordinate_descent(\n",
      "/opt/conda/lib/python3.8/site-packages/sklearn/linear_model/_coordinate_descent.py:530: ConvergenceWarning: Objective did not converge. You might want to increase the number of iterations. Duality gap: 87835.77742980936, tolerance: 42.15494324530278\n",
      "  model = cd_fast.enet_coordinate_descent(\n"
     ]
    },
    {
     "name": "stdout",
     "output_type": "stream",
     "text": [
      "[CV 5/5] END ..............model__alpha=4.71486636345739e-10; total time=   0.2s\n",
      "[CV 1/5] END .............model__alpha=7.906043210907701e-10; total time=   0.1s\n"
     ]
    },
    {
     "name": "stderr",
     "output_type": "stream",
     "text": [
      "/opt/conda/lib/python3.8/site-packages/sklearn/linear_model/_coordinate_descent.py:530: ConvergenceWarning: Objective did not converge. You might want to increase the number of iterations. Duality gap: 83284.89498860127, tolerance: 39.51671704886386\n",
      "  model = cd_fast.enet_coordinate_descent(\n",
      "/opt/conda/lib/python3.8/site-packages/sklearn/linear_model/_coordinate_descent.py:530: ConvergenceWarning: Objective did not converge. You might want to increase the number of iterations. Duality gap: 94929.95692650284, tolerance: 46.82165537631606\n",
      "  model = cd_fast.enet_coordinate_descent(\n"
     ]
    },
    {
     "name": "stdout",
     "output_type": "stream",
     "text": [
      "[CV 2/5] END .............model__alpha=7.906043210907701e-10; total time=   0.2s\n",
      "[CV 3/5] END .............model__alpha=7.906043210907701e-10; total time=   0.1s\n"
     ]
    },
    {
     "name": "stderr",
     "output_type": "stream",
     "text": [
      "/opt/conda/lib/python3.8/site-packages/sklearn/linear_model/_coordinate_descent.py:530: ConvergenceWarning: Objective did not converge. You might want to increase the number of iterations. Duality gap: 93276.40653818785, tolerance: 45.42169515132507\n",
      "  model = cd_fast.enet_coordinate_descent(\n",
      "/opt/conda/lib/python3.8/site-packages/sklearn/linear_model/_coordinate_descent.py:530: ConvergenceWarning: Objective did not converge. You might want to increase the number of iterations. Duality gap: 89817.74121198907, tolerance: 45.21092072956093\n",
      "  model = cd_fast.enet_coordinate_descent(\n"
     ]
    },
    {
     "name": "stdout",
     "output_type": "stream",
     "text": [
      "[CV 4/5] END .............model__alpha=7.906043210907701e-10; total time=   0.2s\n",
      "[CV 5/5] END .............model__alpha=7.906043210907701e-10; total time=   0.1s\n"
     ]
    },
    {
     "name": "stderr",
     "output_type": "stream",
     "text": [
      "/opt/conda/lib/python3.8/site-packages/sklearn/linear_model/_coordinate_descent.py:530: ConvergenceWarning: Objective did not converge. You might want to increase the number of iterations. Duality gap: 87835.76999440604, tolerance: 42.15494324530278\n",
      "  model = cd_fast.enet_coordinate_descent(\n",
      "/opt/conda/lib/python3.8/site-packages/sklearn/linear_model/_coordinate_descent.py:530: ConvergenceWarning: Objective did not converge. You might want to increase the number of iterations. Duality gap: 83284.89198825126, tolerance: 39.51671704886386\n",
      "  model = cd_fast.enet_coordinate_descent(\n"
     ]
    },
    {
     "name": "stdout",
     "output_type": "stream",
     "text": [
      "[CV 1/5] END ............model__alpha=1.3257113655901108e-09; total time=   0.2s\n",
      "[CV 2/5] END ............model__alpha=1.3257113655901108e-09; total time=   0.1s\n"
     ]
    },
    {
     "name": "stderr",
     "output_type": "stream",
     "text": [
      "/opt/conda/lib/python3.8/site-packages/sklearn/linear_model/_coordinate_descent.py:530: ConvergenceWarning: Objective did not converge. You might want to increase the number of iterations. Duality gap: 94929.95370999572, tolerance: 46.82165537631606\n",
      "  model = cd_fast.enet_coordinate_descent(\n",
      "/opt/conda/lib/python3.8/site-packages/sklearn/linear_model/_coordinate_descent.py:530: ConvergenceWarning: Objective did not converge. You might want to increase the number of iterations. Duality gap: 93276.40342316116, tolerance: 45.42169515132507\n",
      "  model = cd_fast.enet_coordinate_descent(\n"
     ]
    },
    {
     "name": "stdout",
     "output_type": "stream",
     "text": [
      "[CV 3/5] END ............model__alpha=1.3257113655901108e-09; total time=   0.1s\n",
      "[CV 4/5] END ............model__alpha=1.3257113655901108e-09; total time=   0.2s\n"
     ]
    },
    {
     "name": "stderr",
     "output_type": "stream",
     "text": [
      "/opt/conda/lib/python3.8/site-packages/sklearn/linear_model/_coordinate_descent.py:530: ConvergenceWarning: Objective did not converge. You might want to increase the number of iterations. Duality gap: 89817.73695079387, tolerance: 45.21092072956093\n",
      "  model = cd_fast.enet_coordinate_descent(\n",
      "/opt/conda/lib/python3.8/site-packages/sklearn/linear_model/_coordinate_descent.py:530: ConvergenceWarning: Objective did not converge. You might want to increase the number of iterations. Duality gap: 87835.7575264788, tolerance: 42.15494324530278\n",
      "  model = cd_fast.enet_coordinate_descent(\n"
     ]
    },
    {
     "name": "stdout",
     "output_type": "stream",
     "text": [
      "[CV 5/5] END ............model__alpha=1.3257113655901108e-09; total time=   0.1s\n",
      "[CV 1/5] END .............model__alpha=2.222996482526191e-09; total time=   0.2s\n"
     ]
    },
    {
     "name": "stderr",
     "output_type": "stream",
     "text": [
      "/opt/conda/lib/python3.8/site-packages/sklearn/linear_model/_coordinate_descent.py:530: ConvergenceWarning: Objective did not converge. You might want to increase the number of iterations. Duality gap: 83284.88695716514, tolerance: 39.51671704886386\n",
      "  model = cd_fast.enet_coordinate_descent(\n",
      "/opt/conda/lib/python3.8/site-packages/sklearn/linear_model/_coordinate_descent.py:530: ConvergenceWarning: Objective did not converge. You might want to increase the number of iterations. Duality gap: 94929.94831645023, tolerance: 46.82165537631606\n",
      "  model = cd_fast.enet_coordinate_descent(\n"
     ]
    },
    {
     "name": "stdout",
     "output_type": "stream",
     "text": [
      "[CV 2/5] END .............model__alpha=2.222996482526191e-09; total time=   0.1s\n",
      "[CV 3/5] END .............model__alpha=2.222996482526191e-09; total time=   0.1s\n"
     ]
    },
    {
     "name": "stderr",
     "output_type": "stream",
     "text": [
      "/opt/conda/lib/python3.8/site-packages/sklearn/linear_model/_coordinate_descent.py:530: ConvergenceWarning: Objective did not converge. You might want to increase the number of iterations. Duality gap: 93276.39819978303, tolerance: 45.42169515132507\n",
      "  model = cd_fast.enet_coordinate_descent(\n",
      "/opt/conda/lib/python3.8/site-packages/sklearn/linear_model/_coordinate_descent.py:530: ConvergenceWarning: Objective did not converge. You might want to increase the number of iterations. Duality gap: 89817.72980548108, tolerance: 45.21092072956093\n",
      "  model = cd_fast.enet_coordinate_descent(\n"
     ]
    },
    {
     "name": "stdout",
     "output_type": "stream",
     "text": [
      "[CV 4/5] END .............model__alpha=2.222996482526191e-09; total time=   0.2s\n",
      "[CV 5/5] END .............model__alpha=2.222996482526191e-09; total time=   0.1s\n"
     ]
    },
    {
     "name": "stderr",
     "output_type": "stream",
     "text": [
      "/opt/conda/lib/python3.8/site-packages/sklearn/linear_model/_coordinate_descent.py:530: ConvergenceWarning: Objective did not converge. You might want to increase the number of iterations. Duality gap: 87835.73661985424, tolerance: 42.15494324530278\n",
      "  model = cd_fast.enet_coordinate_descent(\n",
      "/opt/conda/lib/python3.8/site-packages/sklearn/linear_model/_coordinate_descent.py:530: ConvergenceWarning: Objective did not converge. You might want to increase the number of iterations. Duality gap: 83284.87852087451, tolerance: 39.51671704886386\n",
      "  model = cd_fast.enet_coordinate_descent(\n"
     ]
    },
    {
     "name": "stdout",
     "output_type": "stream",
     "text": [
      "[CV 1/5] END .............model__alpha=3.727593720314938e-09; total time=   0.1s\n",
      "[CV 2/5] END .............model__alpha=3.727593720314938e-09; total time=   0.2s\n"
     ]
    },
    {
     "name": "stderr",
     "output_type": "stream",
     "text": [
      "/opt/conda/lib/python3.8/site-packages/sklearn/linear_model/_coordinate_descent.py:530: ConvergenceWarning: Objective did not converge. You might want to increase the number of iterations. Duality gap: 94929.93927237576, tolerance: 46.82165537631606\n",
      "  model = cd_fast.enet_coordinate_descent(\n",
      "/opt/conda/lib/python3.8/site-packages/sklearn/linear_model/_coordinate_descent.py:530: ConvergenceWarning: Objective did not converge. You might want to increase the number of iterations. Duality gap: 93276.3894410496, tolerance: 45.42169515132507\n",
      "  model = cd_fast.enet_coordinate_descent(\n"
     ]
    },
    {
     "name": "stdout",
     "output_type": "stream",
     "text": [
      "[CV 3/5] END .............model__alpha=3.727593720314938e-09; total time=   0.1s\n",
      "[CV 4/5] END .............model__alpha=3.727593720314938e-09; total time=   0.1s\n"
     ]
    },
    {
     "name": "stderr",
     "output_type": "stream",
     "text": [
      "/opt/conda/lib/python3.8/site-packages/sklearn/linear_model/_coordinate_descent.py:530: ConvergenceWarning: Objective did not converge. You might want to increase the number of iterations. Duality gap: 89817.71782398439, tolerance: 45.21092072956093\n",
      "  model = cd_fast.enet_coordinate_descent(\n",
      "/opt/conda/lib/python3.8/site-packages/sklearn/linear_model/_coordinate_descent.py:530: ConvergenceWarning: Objective did not converge. You might want to increase the number of iterations. Duality gap: 87835.70156295432, tolerance: 42.15494324530278\n",
      "  model = cd_fast.enet_coordinate_descent(\n"
     ]
    },
    {
     "name": "stdout",
     "output_type": "stream",
     "text": [
      "[CV 5/5] END .............model__alpha=3.727593720314938e-09; total time=   0.2s\n",
      "[CV 1/5] END .............model__alpha=6.250551925273976e-09; total time=   0.1s\n"
     ]
    },
    {
     "name": "stderr",
     "output_type": "stream",
     "text": [
      "/opt/conda/lib/python3.8/site-packages/sklearn/linear_model/_coordinate_descent.py:530: ConvergenceWarning: Objective did not converge. You might want to increase the number of iterations. Duality gap: 83284.86437462471, tolerance: 39.51671704886386\n",
      "  model = cd_fast.enet_coordinate_descent(\n",
      "/opt/conda/lib/python3.8/site-packages/sklearn/linear_model/_coordinate_descent.py:530: ConvergenceWarning: Objective did not converge. You might want to increase the number of iterations. Duality gap: 94929.92410697449, tolerance: 46.82165537631606\n",
      "  model = cd_fast.enet_coordinate_descent(\n"
     ]
    },
    {
     "name": "stdout",
     "output_type": "stream",
     "text": [
      "[CV 2/5] END .............model__alpha=6.250551925273976e-09; total time=   0.1s\n",
      "[CV 3/5] END .............model__alpha=6.250551925273976e-09; total time=   0.2s\n"
     ]
    },
    {
     "name": "stderr",
     "output_type": "stream",
     "text": [
      "/opt/conda/lib/python3.8/site-packages/sklearn/linear_model/_coordinate_descent.py:530: ConvergenceWarning: Objective did not converge. You might want to increase the number of iterations. Duality gap: 93276.37475411667, tolerance: 45.42169515132507\n",
      "  model = cd_fast.enet_coordinate_descent(\n",
      "/opt/conda/lib/python3.8/site-packages/sklearn/linear_model/_coordinate_descent.py:530: ConvergenceWarning: Objective did not converge. You might want to increase the number of iterations. Duality gap: 89817.69773301462, tolerance: 45.21092072956093\n",
      "  model = cd_fast.enet_coordinate_descent(\n"
     ]
    },
    {
     "name": "stdout",
     "output_type": "stream",
     "text": [
      "[CV 4/5] END .............model__alpha=6.250551925273976e-09; total time=   0.1s\n",
      "[CV 5/5] END .............model__alpha=6.250551925273976e-09; total time=   0.1s\n"
     ]
    },
    {
     "name": "stderr",
     "output_type": "stream",
     "text": [
      "/opt/conda/lib/python3.8/site-packages/sklearn/linear_model/_coordinate_descent.py:530: ConvergenceWarning: Objective did not converge. You might want to increase the number of iterations. Duality gap: 87835.64277843789, tolerance: 42.15494324530278\n",
      "  model = cd_fast.enet_coordinate_descent(\n",
      "/opt/conda/lib/python3.8/site-packages/sklearn/linear_model/_coordinate_descent.py:530: ConvergenceWarning: Objective did not converge. You might want to increase the number of iterations. Duality gap: 83284.84065372766, tolerance: 39.51671704886386\n",
      "  model = cd_fast.enet_coordinate_descent(\n"
     ]
    },
    {
     "name": "stdout",
     "output_type": "stream",
     "text": [
      "[CV 1/5] END ............model__alpha=1.0481131341546852e-08; total time=   0.2s\n",
      "[CV 2/5] END ............model__alpha=1.0481131341546852e-08; total time=   0.1s\n"
     ]
    },
    {
     "name": "stderr",
     "output_type": "stream",
     "text": [
      "/opt/conda/lib/python3.8/site-packages/sklearn/linear_model/_coordinate_descent.py:530: ConvergenceWarning: Objective did not converge. You might want to increase the number of iterations. Duality gap: 94929.89867713259, tolerance: 46.82165537631606\n",
      "  model = cd_fast.enet_coordinate_descent(\n",
      "/opt/conda/lib/python3.8/site-packages/sklearn/linear_model/_coordinate_descent.py:530: ConvergenceWarning: Objective did not converge. You might want to increase the number of iterations. Duality gap: 93276.35012657943, tolerance: 45.42169515132507\n",
      "  model = cd_fast.enet_coordinate_descent(\n"
     ]
    },
    {
     "name": "stdout",
     "output_type": "stream",
     "text": [
      "[CV 3/5] END ............model__alpha=1.0481131341546852e-08; total time=   0.2s\n",
      "[CV 4/5] END ............model__alpha=1.0481131341546852e-08; total time=   0.1s\n"
     ]
    },
    {
     "name": "stderr",
     "output_type": "stream",
     "text": [
      "/opt/conda/lib/python3.8/site-packages/sklearn/linear_model/_coordinate_descent.py:530: ConvergenceWarning: Objective did not converge. You might want to increase the number of iterations. Duality gap: 89817.66404380849, tolerance: 45.21092072956093\n",
      "  model = cd_fast.enet_coordinate_descent(\n",
      "/opt/conda/lib/python3.8/site-packages/sklearn/linear_model/_coordinate_descent.py:530: ConvergenceWarning: Objective did not converge. You might want to increase the number of iterations. Duality gap: 87835.5442067589, tolerance: 42.15494324530278\n",
      "  model = cd_fast.enet_coordinate_descent(\n"
     ]
    },
    {
     "name": "stdout",
     "output_type": "stream",
     "text": [
      "[CV 5/5] END ............model__alpha=1.0481131341546852e-08; total time=   0.2s\n",
      "[CV 1/5] END ............model__alpha=1.7575106248547893e-08; total time=   0.1s\n"
     ]
    },
    {
     "name": "stderr",
     "output_type": "stream",
     "text": [
      "/opt/conda/lib/python3.8/site-packages/sklearn/linear_model/_coordinate_descent.py:530: ConvergenceWarning: Objective did not converge. You might want to increase the number of iterations. Duality gap: 83284.80087774614, tolerance: 39.51671704886386\n",
      "  model = cd_fast.enet_coordinate_descent(\n",
      "/opt/conda/lib/python3.8/site-packages/sklearn/linear_model/_coordinate_descent.py:530: ConvergenceWarning: Objective did not converge. You might want to increase the number of iterations. Duality gap: 94929.85603554237, tolerance: 46.82165537631606\n",
      "  model = cd_fast.enet_coordinate_descent(\n"
     ]
    },
    {
     "name": "stdout",
     "output_type": "stream",
     "text": [
      "[CV 2/5] END ............model__alpha=1.7575106248547893e-08; total time=   0.1s\n",
      "[CV 3/5] END ............model__alpha=1.7575106248547893e-08; total time=   0.2s\n"
     ]
    },
    {
     "name": "stderr",
     "output_type": "stream",
     "text": [
      "/opt/conda/lib/python3.8/site-packages/sklearn/linear_model/_coordinate_descent.py:530: ConvergenceWarning: Objective did not converge. You might want to increase the number of iterations. Duality gap: 93276.3088303047, tolerance: 45.42169515132507\n",
      "  model = cd_fast.enet_coordinate_descent(\n",
      "/opt/conda/lib/python3.8/site-packages/sklearn/linear_model/_coordinate_descent.py:530: ConvergenceWarning: Objective did not converge. You might want to increase the number of iterations. Duality gap: 89817.60755262244, tolerance: 45.21092072956093\n",
      "  model = cd_fast.enet_coordinate_descent(\n"
     ]
    },
    {
     "name": "stdout",
     "output_type": "stream",
     "text": [
      "[CV 4/5] END ............model__alpha=1.7575106248547893e-08; total time=   0.1s\n",
      "[CV 5/5] END ............model__alpha=1.7575106248547893e-08; total time=   0.2s\n"
     ]
    },
    {
     "name": "stderr",
     "output_type": "stream",
     "text": [
      "/opt/conda/lib/python3.8/site-packages/sklearn/linear_model/_coordinate_descent.py:530: ConvergenceWarning: Objective did not converge. You might want to increase the number of iterations. Duality gap: 87835.37891889868, tolerance: 42.15494324530278\n",
      "  model = cd_fast.enet_coordinate_descent(\n",
      "/opt/conda/lib/python3.8/site-packages/sklearn/linear_model/_coordinate_descent.py:530: ConvergenceWarning: Objective did not converge. You might want to increase the number of iterations. Duality gap: 83284.73418007414, tolerance: 39.51671704886386\n",
      "  model = cd_fast.enet_coordinate_descent(\n"
     ]
    },
    {
     "name": "stdout",
     "output_type": "stream",
     "text": [
      "[CV 1/5] END ............model__alpha=2.9470517025518096e-08; total time=   0.1s\n",
      "[CV 2/5] END ............model__alpha=2.9470517025518096e-08; total time=   0.1s\n"
     ]
    },
    {
     "name": "stderr",
     "output_type": "stream",
     "text": [
      "/opt/conda/lib/python3.8/site-packages/sklearn/linear_model/_coordinate_descent.py:530: ConvergenceWarning: Objective did not converge. You might want to increase the number of iterations. Duality gap: 94929.78453273543, tolerance: 46.82165537631606\n",
      "  model = cd_fast.enet_coordinate_descent(\n",
      "/opt/conda/lib/python3.8/site-packages/sklearn/linear_model/_coordinate_descent.py:530: ConvergenceWarning: Objective did not converge. You might want to increase the number of iterations. Duality gap: 93276.23958332463, tolerance: 45.42169515132507\n",
      "  model = cd_fast.enet_coordinate_descent(\n"
     ]
    },
    {
     "name": "stdout",
     "output_type": "stream",
     "text": [
      "[CV 3/5] END ............model__alpha=2.9470517025518096e-08; total time=   0.2s\n",
      "[CV 4/5] END ............model__alpha=2.9470517025518096e-08; total time=   0.1s\n"
     ]
    },
    {
     "name": "stderr",
     "output_type": "stream",
     "text": [
      "/opt/conda/lib/python3.8/site-packages/sklearn/linear_model/_coordinate_descent.py:530: ConvergenceWarning: Objective did not converge. You might want to increase the number of iterations. Duality gap: 89817.51282629369, tolerance: 45.21092072956093\n",
      "  model = cd_fast.enet_coordinate_descent(\n",
      "/opt/conda/lib/python3.8/site-packages/sklearn/linear_model/_coordinate_descent.py:530: ConvergenceWarning: Objective did not converge. You might want to increase the number of iterations. Duality gap: 87835.1017598323, tolerance: 42.15494324530278\n",
      "  model = cd_fast.enet_coordinate_descent(\n"
     ]
    },
    {
     "name": "stdout",
     "output_type": "stream",
     "text": [
      "[CV 5/5] END ............model__alpha=2.9470517025518096e-08; total time=   0.2s\n",
      "[CV 1/5] END ............model__alpha=4.9417133613238385e-08; total time=   0.1s\n"
     ]
    },
    {
     "name": "stderr",
     "output_type": "stream",
     "text": [
      "/opt/conda/lib/python3.8/site-packages/sklearn/linear_model/_coordinate_descent.py:530: ConvergenceWarning: Objective did not converge. You might want to increase the number of iterations. Duality gap: 83284.62233922914, tolerance: 39.51671704886386\n",
      "  model = cd_fast.enet_coordinate_descent(\n",
      "/opt/conda/lib/python3.8/site-packages/sklearn/linear_model/_coordinate_descent.py:530: ConvergenceWarning: Objective did not converge. You might want to increase the number of iterations. Duality gap: 94929.66463452, tolerance: 46.82165537631606\n",
      "  model = cd_fast.enet_coordinate_descent(\n"
     ]
    },
    {
     "name": "stdout",
     "output_type": "stream",
     "text": [
      "[CV 2/5] END ............model__alpha=4.9417133613238385e-08; total time=   0.2s\n",
      "[CV 3/5] END ............model__alpha=4.9417133613238385e-08; total time=   0.1s\n"
     ]
    },
    {
     "name": "stderr",
     "output_type": "stream",
     "text": [
      "/opt/conda/lib/python3.8/site-packages/sklearn/linear_model/_coordinate_descent.py:530: ConvergenceWarning: Objective did not converge. You might want to increase the number of iterations. Duality gap: 93276.12346763337, tolerance: 45.42169515132507\n",
      "  model = cd_fast.enet_coordinate_descent(\n",
      "/opt/conda/lib/python3.8/site-packages/sklearn/linear_model/_coordinate_descent.py:530: ConvergenceWarning: Objective did not converge. You might want to increase the number of iterations. Duality gap: 89817.35398593756, tolerance: 45.21092072956093\n",
      "  model = cd_fast.enet_coordinate_descent(\n"
     ]
    },
    {
     "name": "stdout",
     "output_type": "stream",
     "text": [
      "[CV 4/5] END ............model__alpha=4.9417133613238385e-08; total time=   0.1s\n",
      "[CV 5/5] END ............model__alpha=4.9417133613238385e-08; total time=   0.2s\n"
     ]
    },
    {
     "name": "stderr",
     "output_type": "stream",
     "text": [
      "/opt/conda/lib/python3.8/site-packages/sklearn/linear_model/_coordinate_descent.py:530: ConvergenceWarning: Objective did not converge. You might want to increase the number of iterations. Duality gap: 87834.63701336809, tolerance: 42.15494324530278\n",
      "  model = cd_fast.enet_coordinate_descent(\n",
      "/opt/conda/lib/python3.8/site-packages/sklearn/linear_model/_coordinate_descent.py:530: ConvergenceWarning: Objective did not converge. You might want to increase the number of iterations. Duality gap: 83284.43480083946, tolerance: 39.51671704886386\n",
      "  model = cd_fast.enet_coordinate_descent(\n"
     ]
    },
    {
     "name": "stdout",
     "output_type": "stream",
     "text": [
      "[CV 1/5] END .............model__alpha=8.286427728546843e-08; total time=   0.1s\n",
      "[CV 2/5] END .............model__alpha=8.286427728546843e-08; total time=   0.2s\n"
     ]
    },
    {
     "name": "stderr",
     "output_type": "stream",
     "text": [
      "/opt/conda/lib/python3.8/site-packages/sklearn/linear_model/_coordinate_descent.py:530: ConvergenceWarning: Objective did not converge. You might want to increase the number of iterations. Duality gap: 94929.46358537293, tolerance: 46.82165537631606\n",
      "  model = cd_fast.enet_coordinate_descent(\n",
      "/opt/conda/lib/python3.8/site-packages/sklearn/linear_model/_coordinate_descent.py:530: ConvergenceWarning: Objective did not converge. You might want to increase the number of iterations. Duality gap: 93275.92876081007, tolerance: 45.42169515132507\n",
      "  model = cd_fast.enet_coordinate_descent(\n"
     ]
    },
    {
     "name": "stdout",
     "output_type": "stream",
     "text": [
      "[CV 3/5] END .............model__alpha=8.286427728546843e-08; total time=   0.2s\n",
      "[CV 4/5] END .............model__alpha=8.286427728546843e-08; total time=   0.1s\n"
     ]
    },
    {
     "name": "stderr",
     "output_type": "stream",
     "text": [
      "/opt/conda/lib/python3.8/site-packages/sklearn/linear_model/_coordinate_descent.py:530: ConvergenceWarning: Objective did not converge. You might want to increase the number of iterations. Duality gap: 89817.08763683261, tolerance: 45.21092072956093\n",
      "  model = cd_fast.enet_coordinate_descent(\n",
      "/opt/conda/lib/python3.8/site-packages/sklearn/linear_model/_coordinate_descent.py:530: ConvergenceWarning: Objective did not converge. You might want to increase the number of iterations. Duality gap: 87833.85771958668, tolerance: 42.15494324530278\n",
      "  model = cd_fast.enet_coordinate_descent(\n"
     ]
    },
    {
     "name": "stdout",
     "output_type": "stream",
     "text": [
      "[CV 5/5] END .............model__alpha=8.286427728546843e-08; total time=   0.2s\n",
      "[CV 1/5] END .............model__alpha=1.389495494373136e-07; total time=   0.1s\n"
     ]
    },
    {
     "name": "stderr",
     "output_type": "stream",
     "text": [
      "/opt/conda/lib/python3.8/site-packages/sklearn/linear_model/_coordinate_descent.py:530: ConvergenceWarning: Objective did not converge. You might want to increase the number of iterations. Duality gap: 83284.12033035558, tolerance: 39.51671704886386\n",
      "  model = cd_fast.enet_coordinate_descent(\n",
      "/opt/conda/lib/python3.8/site-packages/sklearn/linear_model/_coordinate_descent.py:530: ConvergenceWarning: Objective did not converge. You might want to increase the number of iterations. Duality gap: 94929.12645990764, tolerance: 46.82165537631606\n",
      "  model = cd_fast.enet_coordinate_descent(\n"
     ]
    },
    {
     "name": "stdout",
     "output_type": "stream",
     "text": [
      "[CV 2/5] END .............model__alpha=1.389495494373136e-07; total time=   0.1s\n",
      "[CV 3/5] END .............model__alpha=1.389495494373136e-07; total time=   0.2s\n"
     ]
    },
    {
     "name": "stderr",
     "output_type": "stream",
     "text": [
      "/opt/conda/lib/python3.8/site-packages/sklearn/linear_model/_coordinate_descent.py:530: ConvergenceWarning: Objective did not converge. You might want to increase the number of iterations. Duality gap: 93275.60226941068, tolerance: 45.42169515132507\n",
      "  model = cd_fast.enet_coordinate_descent(\n",
      "/opt/conda/lib/python3.8/site-packages/sklearn/linear_model/_coordinate_descent.py:530: ConvergenceWarning: Objective did not converge. You might want to increase the number of iterations. Duality gap: 89816.64101285863, tolerance: 45.21092072956093\n",
      "  model = cd_fast.enet_coordinate_descent(\n"
     ]
    },
    {
     "name": "stdout",
     "output_type": "stream",
     "text": [
      "[CV 4/5] END .............model__alpha=1.389495494373136e-07; total time=   0.1s\n",
      "[CV 5/5] END .............model__alpha=1.389495494373136e-07; total time=   0.2s\n"
     ]
    },
    {
     "name": "stderr",
     "output_type": "stream",
     "text": [
      "/opt/conda/lib/python3.8/site-packages/sklearn/linear_model/_coordinate_descent.py:530: ConvergenceWarning: Objective did not converge. You might want to increase the number of iterations. Duality gap: 87832.55099771461, tolerance: 42.15494324530278\n",
      "  model = cd_fast.enet_coordinate_descent(\n",
      "/opt/conda/lib/python3.8/site-packages/sklearn/linear_model/_coordinate_descent.py:530: ConvergenceWarning: Objective did not converge. You might want to increase the number of iterations. Duality gap: 83283.59301607285, tolerance: 39.51671704886386\n",
      "  model = cd_fast.enet_coordinate_descent(\n"
     ]
    },
    {
     "name": "stdout",
     "output_type": "stream",
     "text": [
      "[CV 1/5] END .............model__alpha=2.329951810515372e-07; total time=   0.1s\n",
      "[CV 2/5] END .............model__alpha=2.329951810515372e-07; total time=   0.2s\n"
     ]
    },
    {
     "name": "stderr",
     "output_type": "stream",
     "text": [
      "/opt/conda/lib/python3.8/site-packages/sklearn/linear_model/_coordinate_descent.py:530: ConvergenceWarning: Objective did not converge. You might want to increase the number of iterations. Duality gap: 94928.56115785139, tolerance: 46.82165537631606\n",
      "  model = cd_fast.enet_coordinate_descent(\n",
      "/opt/conda/lib/python3.8/site-packages/sklearn/linear_model/_coordinate_descent.py:530: ConvergenceWarning: Objective did not converge. You might want to increase the number of iterations. Duality gap: 93275.0547962321, tolerance: 45.42169515132507\n",
      "  model = cd_fast.enet_coordinate_descent(\n"
     ]
    },
    {
     "name": "stdout",
     "output_type": "stream",
     "text": [
      "[CV 3/5] END .............model__alpha=2.329951810515372e-07; total time=   0.1s\n",
      "[CV 4/5] END .............model__alpha=2.329951810515372e-07; total time=   0.1s\n"
     ]
    },
    {
     "name": "stderr",
     "output_type": "stream",
     "text": [
      "/opt/conda/lib/python3.8/site-packages/sklearn/linear_model/_coordinate_descent.py:530: ConvergenceWarning: Objective did not converge. You might want to increase the number of iterations. Duality gap: 89815.89209619298, tolerance: 45.21092072956093\n",
      "  model = cd_fast.enet_coordinate_descent(\n",
      "/opt/conda/lib/python3.8/site-packages/sklearn/linear_model/_coordinate_descent.py:530: ConvergenceWarning: Objective did not converge. You might want to increase the number of iterations. Duality gap: 87830.35990982549, tolerance: 42.15494324530278\n",
      "  model = cd_fast.enet_coordinate_descent(\n"
     ]
    },
    {
     "name": "stdout",
     "output_type": "stream",
     "text": [
      "[CV 5/5] END .............model__alpha=2.329951810515372e-07; total time=   0.2s\n",
      "[CV 1/5] END .............model__alpha=3.906939937054621e-07; total time=   0.1s\n"
     ]
    },
    {
     "name": "stderr",
     "output_type": "stream",
     "text": [
      "/opt/conda/lib/python3.8/site-packages/sklearn/linear_model/_coordinate_descent.py:530: ConvergenceWarning: Objective did not converge. You might want to increase the number of iterations. Duality gap: 83282.70879862928, tolerance: 39.51671704886386\n",
      "  model = cd_fast.enet_coordinate_descent(\n",
      "/opt/conda/lib/python3.8/site-packages/sklearn/linear_model/_coordinate_descent.py:530: ConvergenceWarning: Objective did not converge. You might want to increase the number of iterations. Duality gap: 94927.61324363804, tolerance: 46.82165537631606\n",
      "  model = cd_fast.enet_coordinate_descent(\n"
     ]
    },
    {
     "name": "stdout",
     "output_type": "stream",
     "text": [
      "[CV 2/5] END .............model__alpha=3.906939937054621e-07; total time=   0.2s\n",
      "[CV 3/5] END .............model__alpha=3.906939937054621e-07; total time=   0.1s\n"
     ]
    },
    {
     "name": "stderr",
     "output_type": "stream",
     "text": [
      "/opt/conda/lib/python3.8/site-packages/sklearn/linear_model/_coordinate_descent.py:530: ConvergenceWarning: Objective did not converge. You might want to increase the number of iterations. Duality gap: 93274.13677054534, tolerance: 45.42169515132507\n",
      "  model = cd_fast.enet_coordinate_descent(\n",
      "/opt/conda/lib/python3.8/site-packages/sklearn/linear_model/_coordinate_descent.py:530: ConvergenceWarning: Objective did not converge. You might want to increase the number of iterations. Duality gap: 89814.63627997685, tolerance: 45.21092072956093\n",
      "  model = cd_fast.enet_coordinate_descent(\n"
     ]
    },
    {
     "name": "stdout",
     "output_type": "stream",
     "text": [
      "[CV 4/5] END .............model__alpha=3.906939937054621e-07; total time=   0.1s\n",
      "[CV 5/5] END .............model__alpha=3.906939937054621e-07; total time=   0.2s\n"
     ]
    },
    {
     "name": "stderr",
     "output_type": "stream",
     "text": [
      "/opt/conda/lib/python3.8/site-packages/sklearn/linear_model/_coordinate_descent.py:530: ConvergenceWarning: Objective did not converge. You might want to increase the number of iterations. Duality gap: 87826.68600812899, tolerance: 42.15494324530278\n",
      "  model = cd_fast.enet_coordinate_descent(\n",
      "/opt/conda/lib/python3.8/site-packages/sklearn/linear_model/_coordinate_descent.py:530: ConvergenceWarning: Objective did not converge. You might want to increase the number of iterations. Duality gap: 83281.22611513965, tolerance: 39.51671704886386\n",
      "  model = cd_fast.enet_coordinate_descent(\n"
     ]
    },
    {
     "name": "stdout",
     "output_type": "stream",
     "text": [
      "[CV 1/5] END ..............model__alpha=6.55128556859551e-07; total time=   0.1s\n",
      "[CV 2/5] END ..............model__alpha=6.55128556859551e-07; total time=   0.1s\n"
     ]
    },
    {
     "name": "stderr",
     "output_type": "stream",
     "text": [
      "/opt/conda/lib/python3.8/site-packages/sklearn/linear_model/_coordinate_descent.py:530: ConvergenceWarning: Objective did not converge. You might want to increase the number of iterations. Duality gap: 94926.02375799687, tolerance: 46.82165537631606\n",
      "  model = cd_fast.enet_coordinate_descent(\n",
      "/opt/conda/lib/python3.8/site-packages/sklearn/linear_model/_coordinate_descent.py:530: ConvergenceWarning: Objective did not converge. You might want to increase the number of iterations. Duality gap: 93272.59738182373, tolerance: 45.42169515132507\n",
      "  model = cd_fast.enet_coordinate_descent(\n"
     ]
    },
    {
     "name": "stdout",
     "output_type": "stream",
     "text": [
      "[CV 3/5] END ..............model__alpha=6.55128556859551e-07; total time=   0.2s\n",
      "[CV 4/5] END ..............model__alpha=6.55128556859551e-07; total time=   0.1s\n"
     ]
    },
    {
     "name": "stderr",
     "output_type": "stream",
     "text": [
      "/opt/conda/lib/python3.8/site-packages/sklearn/linear_model/_coordinate_descent.py:530: ConvergenceWarning: Objective did not converge. You might want to increase the number of iterations. Duality gap: 89812.53046325163, tolerance: 45.21092072956093\n",
      "  model = cd_fast.enet_coordinate_descent(\n",
      "/opt/conda/lib/python3.8/site-packages/sklearn/linear_model/_coordinate_descent.py:530: ConvergenceWarning: Objective did not converge. You might want to increase the number of iterations. Duality gap: 87820.52601350429, tolerance: 42.15494324530278\n",
      "  model = cd_fast.enet_coordinate_descent(\n"
     ]
    },
    {
     "name": "stdout",
     "output_type": "stream",
     "text": [
      "[CV 5/5] END ..............model__alpha=6.55128556859551e-07; total time=   0.2s\n",
      "[CV 1/5] END ............model__alpha=1.0985411419875572e-06; total time=   0.1s\n"
     ]
    },
    {
     "name": "stderr",
     "output_type": "stream",
     "text": [
      "/opt/conda/lib/python3.8/site-packages/sklearn/linear_model/_coordinate_descent.py:530: ConvergenceWarning: Objective did not converge. You might want to increase the number of iterations. Duality gap: 83278.73990668729, tolerance: 39.51671704886386\n",
      "  model = cd_fast.enet_coordinate_descent(\n",
      "/opt/conda/lib/python3.8/site-packages/sklearn/linear_model/_coordinate_descent.py:530: ConvergenceWarning: Objective did not converge. You might want to increase the number of iterations. Duality gap: 94923.3584791745, tolerance: 46.82165537631606\n",
      "  model = cd_fast.enet_coordinate_descent(\n"
     ]
    },
    {
     "name": "stdout",
     "output_type": "stream",
     "text": [
      "[CV 2/5] END ............model__alpha=1.0985411419875572e-06; total time=   0.1s\n",
      "[CV 3/5] END ............model__alpha=1.0985411419875572e-06; total time=   0.2s\n"
     ]
    },
    {
     "name": "stderr",
     "output_type": "stream",
     "text": [
      "/opt/conda/lib/python3.8/site-packages/sklearn/linear_model/_coordinate_descent.py:530: ConvergenceWarning: Objective did not converge. You might want to increase the number of iterations. Duality gap: 93270.01604752037, tolerance: 45.42169515132507\n",
      "  model = cd_fast.enet_coordinate_descent(\n",
      "/opt/conda/lib/python3.8/site-packages/sklearn/linear_model/_coordinate_descent.py:530: ConvergenceWarning: Objective did not converge. You might want to increase the number of iterations. Duality gap: 89808.9992964951, tolerance: 45.21092072956093\n",
      "  model = cd_fast.enet_coordinate_descent(\n"
     ]
    },
    {
     "name": "stdout",
     "output_type": "stream",
     "text": [
      "[CV 4/5] END ............model__alpha=1.0985411419875572e-06; total time=   0.1s\n",
      "[CV 5/5] END ............model__alpha=1.0985411419875572e-06; total time=   0.1s\n"
     ]
    },
    {
     "name": "stderr",
     "output_type": "stream",
     "text": [
      "/opt/conda/lib/python3.8/site-packages/sklearn/linear_model/_coordinate_descent.py:530: ConvergenceWarning: Objective did not converge. You might want to increase the number of iterations. Duality gap: 87810.19820686382, tolerance: 42.15494324530278\n",
      "  model = cd_fast.enet_coordinate_descent(\n",
      "/opt/conda/lib/python3.8/site-packages/sklearn/linear_model/_coordinate_descent.py:530: ConvergenceWarning: Objective did not converge. You might want to increase the number of iterations. Duality gap: 83274.57096187654, tolerance: 39.51671704886386\n",
      "  model = cd_fast.enet_coordinate_descent(\n"
     ]
    },
    {
     "name": "stdout",
     "output_type": "stream",
     "text": [
      "[CV 1/5] END ............model__alpha=1.8420699693267164e-06; total time=   0.2s\n",
      "[CV 2/5] END ............model__alpha=1.8420699693267164e-06; total time=   0.1s\n"
     ]
    },
    {
     "name": "stderr",
     "output_type": "stream",
     "text": [
      "/opt/conda/lib/python3.8/site-packages/sklearn/linear_model/_coordinate_descent.py:530: ConvergenceWarning: Objective did not converge. You might want to increase the number of iterations. Duality gap: 94918.88931644865, tolerance: 46.82165537631606\n",
      "  model = cd_fast.enet_coordinate_descent(\n",
      "/opt/conda/lib/python3.8/site-packages/sklearn/linear_model/_coordinate_descent.py:530: ConvergenceWarning: Objective did not converge. You might want to increase the number of iterations. Duality gap: 93265.6874782546, tolerance: 45.42169515132507\n",
      "  model = cd_fast.enet_coordinate_descent(\n"
     ]
    },
    {
     "name": "stdout",
     "output_type": "stream",
     "text": [
      "[CV 3/5] END ............model__alpha=1.8420699693267164e-06; total time=   0.1s\n",
      "[CV 4/5] END ............model__alpha=1.8420699693267164e-06; total time=   0.2s\n"
     ]
    },
    {
     "name": "stderr",
     "output_type": "stream",
     "text": [
      "/opt/conda/lib/python3.8/site-packages/sklearn/linear_model/_coordinate_descent.py:530: ConvergenceWarning: Objective did not converge. You might want to increase the number of iterations. Duality gap: 89803.07794006424, tolerance: 45.21092072956093\n",
      "  model = cd_fast.enet_coordinate_descent(\n",
      "/opt/conda/lib/python3.8/site-packages/sklearn/linear_model/_coordinate_descent.py:530: ConvergenceWarning: Objective did not converge. You might want to increase the number of iterations. Duality gap: 87792.88434743295, tolerance: 42.15494324530278\n",
      "  model = cd_fast.enet_coordinate_descent(\n"
     ]
    },
    {
     "name": "stdout",
     "output_type": "stream",
     "text": [
      "[CV 5/5] END ............model__alpha=1.8420699693267164e-06; total time=   0.1s\n",
      "[CV 1/5] END ............model__alpha=3.0888435964774785e-06; total time=   0.2s\n"
     ]
    },
    {
     "name": "stderr",
     "output_type": "stream",
     "text": [
      "/opt/conda/lib/python3.8/site-packages/sklearn/linear_model/_coordinate_descent.py:530: ConvergenceWarning: Objective did not converge. You might want to increase the number of iterations. Duality gap: 83267.58036999071, tolerance: 39.51671704886386\n",
      "  model = cd_fast.enet_coordinate_descent(\n",
      "/opt/conda/lib/python3.8/site-packages/sklearn/linear_model/_coordinate_descent.py:530: ConvergenceWarning: Objective did not converge. You might want to increase the number of iterations. Duality gap: 94911.39545863635, tolerance: 46.82165537631606\n",
      "  model = cd_fast.enet_coordinate_descent(\n"
     ]
    },
    {
     "name": "stdout",
     "output_type": "stream",
     "text": [
      "[CV 2/5] END ............model__alpha=3.0888435964774785e-06; total time=   0.1s\n",
      "[CV 3/5] END ............model__alpha=3.0888435964774785e-06; total time=   0.2s\n"
     ]
    },
    {
     "name": "stderr",
     "output_type": "stream",
     "text": [
      "/opt/conda/lib/python3.8/site-packages/sklearn/linear_model/_coordinate_descent.py:530: ConvergenceWarning: Objective did not converge. You might want to increase the number of iterations. Duality gap: 93258.42891021441, tolerance: 45.42169515132507\n",
      "  model = cd_fast.enet_coordinate_descent(\n",
      "/opt/conda/lib/python3.8/site-packages/sklearn/linear_model/_coordinate_descent.py:530: ConvergenceWarning: Objective did not converge. You might want to increase the number of iterations. Duality gap: 89793.14830926489, tolerance: 45.21092072956093\n",
      "  model = cd_fast.enet_coordinate_descent(\n"
     ]
    },
    {
     "name": "stdout",
     "output_type": "stream",
     "text": [
      "[CV 4/5] END ............model__alpha=3.0888435964774785e-06; total time=   0.1s\n",
      "[CV 5/5] END ............model__alpha=3.0888435964774785e-06; total time=   0.1s\n"
     ]
    },
    {
     "name": "stderr",
     "output_type": "stream",
     "text": [
      "/opt/conda/lib/python3.8/site-packages/sklearn/linear_model/_coordinate_descent.py:530: ConvergenceWarning: Objective did not converge. You might want to increase the number of iterations. Duality gap: 87763.86355258466, tolerance: 42.15494324530278\n",
      "  model = cd_fast.enet_coordinate_descent(\n",
      "/opt/conda/lib/python3.8/site-packages/sklearn/linear_model/_coordinate_descent.py:530: ConvergenceWarning: Objective did not converge. You might want to increase the number of iterations. Duality gap: 83255.85840549834, tolerance: 39.51671704886386\n",
      "  model = cd_fast.enet_coordinate_descent(\n"
     ]
    },
    {
     "name": "stdout",
     "output_type": "stream",
     "text": [
      "[CV 1/5] END .............model__alpha=5.179474679231212e-06; total time=   0.2s\n",
      "[CV 2/5] END .............model__alpha=5.179474679231212e-06; total time=   0.1s\n"
     ]
    },
    {
     "name": "stderr",
     "output_type": "stream",
     "text": [
      "/opt/conda/lib/python3.8/site-packages/sklearn/linear_model/_coordinate_descent.py:530: ConvergenceWarning: Objective did not converge. You might want to increase the number of iterations. Duality gap: 94898.83003266712, tolerance: 46.82165537631606\n",
      "  model = cd_fast.enet_coordinate_descent(\n",
      "/opt/conda/lib/python3.8/site-packages/sklearn/linear_model/_coordinate_descent.py:530: ConvergenceWarning: Objective did not converge. You might want to increase the number of iterations. Duality gap: 93246.25670078305, tolerance: 45.42169515132507\n",
      "  model = cd_fast.enet_coordinate_descent(\n"
     ]
    },
    {
     "name": "stdout",
     "output_type": "stream",
     "text": [
      "[CV 3/5] END .............model__alpha=5.179474679231212e-06; total time=   0.1s\n",
      "[CV 4/5] END .............model__alpha=5.179474679231212e-06; total time=   0.2s\n"
     ]
    },
    {
     "name": "stderr",
     "output_type": "stream",
     "text": [
      "/opt/conda/lib/python3.8/site-packages/sklearn/linear_model/_coordinate_descent.py:530: ConvergenceWarning: Objective did not converge. You might want to increase the number of iterations. Duality gap: 89776.49655662218, tolerance: 45.21092072956093\n",
      "  model = cd_fast.enet_coordinate_descent(\n",
      "/opt/conda/lib/python3.8/site-packages/sklearn/linear_model/_coordinate_descent.py:530: ConvergenceWarning: Objective did not converge. You might want to increase the number of iterations. Duality gap: 87715.23327415471, tolerance: 42.15494324530278\n",
      "  model = cd_fast.enet_coordinate_descent(\n"
     ]
    },
    {
     "name": "stdout",
     "output_type": "stream",
     "text": [
      "[CV 5/5] END .............model__alpha=5.179474679231212e-06; total time=   0.1s\n",
      "[CV 1/5] END ..............model__alpha=8.68511373751352e-06; total time=   0.1s\n"
     ]
    },
    {
     "name": "stderr",
     "output_type": "stream",
     "text": [
      "/opt/conda/lib/python3.8/site-packages/sklearn/linear_model/_coordinate_descent.py:530: ConvergenceWarning: Objective did not converge. You might want to increase the number of iterations. Duality gap: 83236.20288312029, tolerance: 39.51671704886386\n",
      "  model = cd_fast.enet_coordinate_descent(\n",
      "/opt/conda/lib/python3.8/site-packages/sklearn/linear_model/_coordinate_descent.py:530: ConvergenceWarning: Objective did not converge. You might want to increase the number of iterations. Duality gap: 94877.76140191114, tolerance: 46.82165537631606\n",
      "  model = cd_fast.enet_coordinate_descent(\n"
     ]
    },
    {
     "name": "stdout",
     "output_type": "stream",
     "text": [
      "[CV 2/5] END ..............model__alpha=8.68511373751352e-06; total time=   0.2s\n",
      "[CV 3/5] END ..............model__alpha=8.68511373751352e-06; total time=   0.1s\n"
     ]
    },
    {
     "name": "stderr",
     "output_type": "stream",
     "text": [
      "/opt/conda/lib/python3.8/site-packages/sklearn/linear_model/_coordinate_descent.py:530: ConvergenceWarning: Objective did not converge. You might want to increase the number of iterations. Duality gap: 93225.84366455566, tolerance: 45.42169515132507\n",
      "  model = cd_fast.enet_coordinate_descent(\n",
      "/opt/conda/lib/python3.8/site-packages/sklearn/linear_model/_coordinate_descent.py:530: ConvergenceWarning: Objective did not converge. You might want to increase the number of iterations. Duality gap: 89748.57035502767, tolerance: 45.21092072956093\n",
      "  model = cd_fast.enet_coordinate_descent(\n"
     ]
    },
    {
     "name": "stdout",
     "output_type": "stream",
     "text": [
      "[CV 4/5] END ..............model__alpha=8.68511373751352e-06; total time=   0.1s\n",
      "[CV 5/5] END ..............model__alpha=8.68511373751352e-06; total time=   0.2s\n"
     ]
    },
    {
     "name": "stderr",
     "output_type": "stream",
     "text": [
      "/opt/conda/lib/python3.8/site-packages/sklearn/linear_model/_coordinate_descent.py:530: ConvergenceWarning: Objective did not converge. You might want to increase the number of iterations. Duality gap: 87633.78038752728, tolerance: 42.15494324530278\n",
      "  model = cd_fast.enet_coordinate_descent(\n",
      "/opt/conda/lib/python3.8/site-packages/sklearn/linear_model/_coordinate_descent.py:530: ConvergenceWarning: Objective did not converge. You might want to increase the number of iterations. Duality gap: 83203.24453119816, tolerance: 39.51671704886386\n",
      "  model = cd_fast.enet_coordinate_descent(\n"
     ]
    },
    {
     "name": "stdout",
     "output_type": "stream",
     "text": [
      "[CV 1/5] END ............model__alpha=1.4563484775012445e-05; total time=   0.1s\n",
      "[CV 2/5] END ............model__alpha=1.4563484775012445e-05; total time=   0.2s\n"
     ]
    },
    {
     "name": "stderr",
     "output_type": "stream",
     "text": [
      "/opt/conda/lib/python3.8/site-packages/sklearn/linear_model/_coordinate_descent.py:530: ConvergenceWarning: Objective did not converge. You might want to increase the number of iterations. Duality gap: 94842.4370811289, tolerance: 46.82165537631606\n",
      "  model = cd_fast.enet_coordinate_descent(\n",
      "/opt/conda/lib/python3.8/site-packages/sklearn/linear_model/_coordinate_descent.py:530: ConvergenceWarning: Objective did not converge. You might want to increase the number of iterations. Duality gap: 93191.60802380215, tolerance: 45.42169515132507\n",
      "  model = cd_fast.enet_coordinate_descent(\n"
     ]
    },
    {
     "name": "stdout",
     "output_type": "stream",
     "text": [
      "[CV 3/5] END ............model__alpha=1.4563484775012445e-05; total time=   0.1s\n",
      "[CV 4/5] END ............model__alpha=1.4563484775012445e-05; total time=   0.1s\n"
     ]
    },
    {
     "name": "stderr",
     "output_type": "stream",
     "text": [
      "/opt/conda/lib/python3.8/site-packages/sklearn/linear_model/_coordinate_descent.py:530: ConvergenceWarning: Objective did not converge. You might want to increase the number of iterations. Duality gap: 89701.73155033345, tolerance: 45.21092072956093\n",
      "  model = cd_fast.enet_coordinate_descent(\n",
      "/opt/conda/lib/python3.8/site-packages/sklearn/linear_model/_coordinate_descent.py:530: ConvergenceWarning: Objective did not converge. You might want to increase the number of iterations. Duality gap: 87497.45457582216, tolerance: 42.15494324530278\n",
      "  model = cd_fast.enet_coordinate_descent(\n"
     ]
    },
    {
     "name": "stdout",
     "output_type": "stream",
     "text": [
      "[CV 5/5] END ............model__alpha=1.4563484775012445e-05; total time=   0.2s\n",
      "[CV 1/5] END ............model__alpha=2.4420530945486497e-05; total time=   0.1s\n"
     ]
    },
    {
     "name": "stderr",
     "output_type": "stream",
     "text": [
      "/opt/conda/lib/python3.8/site-packages/sklearn/linear_model/_coordinate_descent.py:530: ConvergenceWarning: Objective did not converge. You might want to increase the number of iterations. Duality gap: 83147.98049666458, tolerance: 39.51671704886386\n",
      "  model = cd_fast.enet_coordinate_descent(\n",
      "/opt/conda/lib/python3.8/site-packages/sklearn/linear_model/_coordinate_descent.py:530: ConvergenceWarning: Objective did not converge. You might want to increase the number of iterations. Duality gap: 94783.21564101148, tolerance: 46.82165537631606\n",
      "  model = cd_fast.enet_coordinate_descent(\n"
     ]
    },
    {
     "name": "stdout",
     "output_type": "stream",
     "text": [
      "[CV 2/5] END ............model__alpha=2.4420530945486497e-05; total time=   0.1s\n",
      "[CV 3/5] END ............model__alpha=2.4420530945486497e-05; total time=   0.2s\n"
     ]
    },
    {
     "name": "stderr",
     "output_type": "stream",
     "text": [
      "/opt/conda/lib/python3.8/site-packages/sklearn/linear_model/_coordinate_descent.py:530: ConvergenceWarning: Objective did not converge. You might want to increase the number of iterations. Duality gap: 93134.18284379969, tolerance: 45.42169515132507\n",
      "  model = cd_fast.enet_coordinate_descent(\n",
      "/opt/conda/lib/python3.8/site-packages/sklearn/linear_model/_coordinate_descent.py:530: ConvergenceWarning: Objective did not converge. You might want to increase the number of iterations. Duality gap: 89623.15921121548, tolerance: 45.21092072956093\n",
      "  model = cd_fast.enet_coordinate_descent(\n"
     ]
    },
    {
     "name": "stdout",
     "output_type": "stream",
     "text": [
      "[CV 4/5] END ............model__alpha=2.4420530945486497e-05; total time=   0.1s\n",
      "[CV 5/5] END ............model__alpha=2.4420530945486497e-05; total time=   0.1s\n"
     ]
    },
    {
     "name": "stderr",
     "output_type": "stream",
     "text": [
      "/opt/conda/lib/python3.8/site-packages/sklearn/linear_model/_coordinate_descent.py:530: ConvergenceWarning: Objective did not converge. You might want to increase the number of iterations. Duality gap: 87269.58225029917, tolerance: 42.15494324530278\n",
      "  model = cd_fast.enet_coordinate_descent(\n",
      "/opt/conda/lib/python3.8/site-packages/sklearn/linear_model/_coordinate_descent.py:530: ConvergenceWarning: Objective did not converge. You might want to increase the number of iterations. Duality gap: 83055.31873610469, tolerance: 39.51671704886386\n",
      "  model = cd_fast.enet_coordinate_descent(\n"
     ]
    },
    {
     "name": "stdout",
     "output_type": "stream",
     "text": [
      "[CV 1/5] END .............model__alpha=4.094915062380427e-05; total time=   0.2s\n",
      "[CV 2/5] END .............model__alpha=4.094915062380427e-05; total time=   0.1s\n"
     ]
    },
    {
     "name": "stderr",
     "output_type": "stream",
     "text": [
      "/opt/conda/lib/python3.8/site-packages/sklearn/linear_model/_coordinate_descent.py:530: ConvergenceWarning: Objective did not converge. You might want to increase the number of iterations. Duality gap: 94683.94363110796, tolerance: 46.82165537631606\n",
      "  model = cd_fast.enet_coordinate_descent(\n",
      "/opt/conda/lib/python3.8/site-packages/sklearn/linear_model/_coordinate_descent.py:530: ConvergenceWarning: Objective did not converge. You might want to increase the number of iterations. Duality gap: 93037.84232954484, tolerance: 45.42169515132507\n",
      "  model = cd_fast.enet_coordinate_descent(\n"
     ]
    },
    {
     "name": "stdout",
     "output_type": "stream",
     "text": [
      "[CV 3/5] END .............model__alpha=4.094915062380427e-05; total time=   0.2s\n",
      "[CV 4/5] END .............model__alpha=4.094915062380427e-05; total time=   0.1s\n"
     ]
    },
    {
     "name": "stderr",
     "output_type": "stream",
     "text": [
      "/opt/conda/lib/python3.8/site-packages/sklearn/linear_model/_coordinate_descent.py:530: ConvergenceWarning: Objective did not converge. You might want to increase the number of iterations. Duality gap: 89491.31821057366, tolerance: 45.21092072956093\n",
      "  model = cd_fast.enet_coordinate_descent(\n",
      "/opt/conda/lib/python3.8/site-packages/sklearn/linear_model/_coordinate_descent.py:530: ConvergenceWarning: Objective did not converge. You might want to increase the number of iterations. Duality gap: 86889.50079996297, tolerance: 42.15494324530278\n",
      "  model = cd_fast.enet_coordinate_descent(\n"
     ]
    },
    {
     "name": "stdout",
     "output_type": "stream",
     "text": [
      "[CV 5/5] END .............model__alpha=4.094915062380427e-05; total time=   0.2s\n",
      "[CV 1/5] END .............model__alpha=6.866488450042999e-05; total time=   0.1s\n"
     ]
    },
    {
     "name": "stderr",
     "output_type": "stream",
     "text": [
      "/opt/conda/lib/python3.8/site-packages/sklearn/linear_model/_coordinate_descent.py:530: ConvergenceWarning: Objective did not converge. You might want to increase the number of iterations. Duality gap: 82899.96255980279, tolerance: 39.51671704886386\n",
      "  model = cd_fast.enet_coordinate_descent(\n",
      "/opt/conda/lib/python3.8/site-packages/sklearn/linear_model/_coordinate_descent.py:530: ConvergenceWarning: Objective did not converge. You might want to increase the number of iterations. Duality gap: 94517.57686567625, tolerance: 46.82165537631606\n",
      "  model = cd_fast.enet_coordinate_descent(\n"
     ]
    },
    {
     "name": "stdout",
     "output_type": "stream",
     "text": [
      "[CV 2/5] END .............model__alpha=6.866488450042999e-05; total time=   0.1s\n",
      "[CV 3/5] END .............model__alpha=6.866488450042999e-05; total time=   0.2s\n"
     ]
    },
    {
     "name": "stderr",
     "output_type": "stream",
     "text": [
      "/opt/conda/lib/python3.8/site-packages/sklearn/linear_model/_coordinate_descent.py:530: ConvergenceWarning: Objective did not converge. You might want to increase the number of iterations. Duality gap: 92876.15923252005, tolerance: 45.42169515132507\n",
      "  model = cd_fast.enet_coordinate_descent(\n",
      "/opt/conda/lib/python3.8/site-packages/sklearn/linear_model/_coordinate_descent.py:530: ConvergenceWarning: Objective did not converge. You might want to increase the number of iterations. Duality gap: 89269.99831020007, tolerance: 45.21092072956093\n",
      "  model = cd_fast.enet_coordinate_descent(\n"
     ]
    },
    {
     "name": "stdout",
     "output_type": "stream",
     "text": [
      "[CV 4/5] END .............model__alpha=6.866488450042999e-05; total time=   0.1s\n",
      "[CV 5/5] END .............model__alpha=6.866488450042999e-05; total time=   0.2s\n"
     ]
    },
    {
     "name": "stderr",
     "output_type": "stream",
     "text": [
      "/opt/conda/lib/python3.8/site-packages/sklearn/linear_model/_coordinate_descent.py:530: ConvergenceWarning: Objective did not converge. You might want to increase the number of iterations. Duality gap: 86257.80521178628, tolerance: 42.15494324530278\n",
      "  model = cd_fast.enet_coordinate_descent(\n",
      "/opt/conda/lib/python3.8/site-packages/sklearn/linear_model/_coordinate_descent.py:530: ConvergenceWarning: Objective did not converge. You might want to increase the number of iterations. Duality gap: 82639.51801385146, tolerance: 39.51671704886386\n",
      "  model = cd_fast.enet_coordinate_descent(\n"
     ]
    },
    {
     "name": "stdout",
     "output_type": "stream",
     "text": [
      "[CV 1/5] END ............model__alpha=0.00011513953993264481; total time=   0.1s\n",
      "[CV 2/5] END ............model__alpha=0.00011513953993264481; total time=   0.2s\n"
     ]
    },
    {
     "name": "stderr",
     "output_type": "stream",
     "text": [
      "/opt/conda/lib/python3.8/site-packages/sklearn/linear_model/_coordinate_descent.py:530: ConvergenceWarning: Objective did not converge. You might want to increase the number of iterations. Duality gap: 94238.89480814185, tolerance: 46.82165537631606\n",
      "  model = cd_fast.enet_coordinate_descent(\n",
      "/opt/conda/lib/python3.8/site-packages/sklearn/linear_model/_coordinate_descent.py:530: ConvergenceWarning: Objective did not converge. You might want to increase the number of iterations. Duality gap: 92604.67899916772, tolerance: 45.42169515132507\n",
      "  model = cd_fast.enet_coordinate_descent(\n"
     ]
    },
    {
     "name": "stdout",
     "output_type": "stream",
     "text": [
      "[CV 3/5] END ............model__alpha=0.00011513953993264481; total time=   0.1s\n",
      "[CV 4/5] END ............model__alpha=0.00011513953993264481; total time=   0.2s\n"
     ]
    },
    {
     "name": "stderr",
     "output_type": "stream",
     "text": [
      "/opt/conda/lib/python3.8/site-packages/sklearn/linear_model/_coordinate_descent.py:530: ConvergenceWarning: Objective did not converge. You might want to increase the number of iterations. Duality gap: 88898.2043500377, tolerance: 45.21092072956093\n",
      "  model = cd_fast.enet_coordinate_descent(\n",
      "/opt/conda/lib/python3.8/site-packages/sklearn/linear_model/_coordinate_descent.py:530: ConvergenceWarning: Objective did not converge. You might want to increase the number of iterations. Duality gap: 85214.17360512697, tolerance: 42.15494324530278\n",
      "  model = cd_fast.enet_coordinate_descent(\n"
     ]
    },
    {
     "name": "stdout",
     "output_type": "stream",
     "text": [
      "[CV 5/5] END ............model__alpha=0.00011513953993264481; total time=   0.1s\n",
      "[CV 1/5] END ............model__alpha=0.00019306977288832496; total time=   0.1s\n"
     ]
    },
    {
     "name": "stderr",
     "output_type": "stream",
     "text": [
      "/opt/conda/lib/python3.8/site-packages/sklearn/linear_model/_coordinate_descent.py:530: ConvergenceWarning: Objective did not converge. You might want to increase the number of iterations. Duality gap: 82203.01541541656, tolerance: 39.51671704886386\n",
      "  model = cd_fast.enet_coordinate_descent(\n",
      "/opt/conda/lib/python3.8/site-packages/sklearn/linear_model/_coordinate_descent.py:530: ConvergenceWarning: Objective did not converge. You might want to increase the number of iterations. Duality gap: 93772.41394403462, tolerance: 46.82165537631606\n",
      "  model = cd_fast.enet_coordinate_descent(\n"
     ]
    },
    {
     "name": "stdout",
     "output_type": "stream",
     "text": [
      "[CV 2/5] END ............model__alpha=0.00019306977288832496; total time=   0.2s\n",
      "[CV 3/5] END ............model__alpha=0.00019306977288832496; total time=   0.1s\n"
     ]
    },
    {
     "name": "stderr",
     "output_type": "stream",
     "text": [
      "/opt/conda/lib/python3.8/site-packages/sklearn/linear_model/_coordinate_descent.py:530: ConvergenceWarning: Objective did not converge. You might want to increase the number of iterations. Duality gap: 92148.46641425334, tolerance: 45.42169515132507\n",
      "  model = cd_fast.enet_coordinate_descent(\n",
      "/opt/conda/lib/python3.8/site-packages/sklearn/linear_model/_coordinate_descent.py:530: ConvergenceWarning: Objective did not converge. You might want to increase the number of iterations. Duality gap: 88272.9250793127, tolerance: 45.21092072956093\n",
      "  model = cd_fast.enet_coordinate_descent(\n"
     ]
    },
    {
     "name": "stdout",
     "output_type": "stream",
     "text": [
      "[CV 4/5] END ............model__alpha=0.00019306977288832496; total time=   0.2s\n",
      "[CV 5/5] END ............model__alpha=0.00019306977288832496; total time=   0.1s\n"
     ]
    },
    {
     "name": "stderr",
     "output_type": "stream",
     "text": [
      "/opt/conda/lib/python3.8/site-packages/sklearn/linear_model/_coordinate_descent.py:530: ConvergenceWarning: Objective did not converge. You might want to increase the number of iterations. Duality gap: 83506.68992166666, tolerance: 42.15494324530278\n",
      "  model = cd_fast.enet_coordinate_descent(\n",
      "/opt/conda/lib/python3.8/site-packages/sklearn/linear_model/_coordinate_descent.py:530: ConvergenceWarning: Objective did not converge. You might want to increase the number of iterations. Duality gap: 81471.3704181109, tolerance: 39.51671704886386\n",
      "  model = cd_fast.enet_coordinate_descent(\n"
     ]
    },
    {
     "name": "stdout",
     "output_type": "stream",
     "text": [
      "[CV 1/5] END ............model__alpha=0.00032374575428176466; total time=   0.2s\n",
      "[CV 2/5] END ............model__alpha=0.00032374575428176466; total time=   0.1s\n"
     ]
    },
    {
     "name": "stderr",
     "output_type": "stream",
     "text": [
      "/opt/conda/lib/python3.8/site-packages/sklearn/linear_model/_coordinate_descent.py:530: ConvergenceWarning: Objective did not converge. You might want to increase the number of iterations. Duality gap: 92993.40116924187, tolerance: 46.82165537631606\n",
      "  model = cd_fast.enet_coordinate_descent(\n",
      "/opt/conda/lib/python3.8/site-packages/sklearn/linear_model/_coordinate_descent.py:530: ConvergenceWarning: Objective did not converge. You might want to increase the number of iterations. Duality gap: 91381.00674788558, tolerance: 45.42169515132507\n",
      "  model = cd_fast.enet_coordinate_descent(\n"
     ]
    },
    {
     "name": "stdout",
     "output_type": "stream",
     "text": [
      "[CV 3/5] END ............model__alpha=0.00032374575428176466; total time=   0.2s\n",
      "[CV 4/5] END ............model__alpha=0.00032374575428176466; total time=   0.2s\n"
     ]
    },
    {
     "name": "stderr",
     "output_type": "stream",
     "text": [
      "/opt/conda/lib/python3.8/site-packages/sklearn/linear_model/_coordinate_descent.py:530: ConvergenceWarning: Objective did not converge. You might want to increase the number of iterations. Duality gap: 87219.54008072086, tolerance: 45.21092072956093\n",
      "  model = cd_fast.enet_coordinate_descent(\n",
      "/opt/conda/lib/python3.8/site-packages/sklearn/linear_model/_coordinate_descent.py:530: ConvergenceWarning: Objective did not converge. You might want to increase the number of iterations. Duality gap: 80759.34969361927, tolerance: 42.15494324530278\n",
      "  model = cd_fast.enet_coordinate_descent(\n"
     ]
    },
    {
     "name": "stdout",
     "output_type": "stream",
     "text": [
      "[CV 5/5] END ............model__alpha=0.00032374575428176466; total time=   0.1s\n",
      "[CV 1/5] END .............model__alpha=0.0005428675439323859; total time=   0.1s\n"
     ]
    },
    {
     "name": "stderr",
     "output_type": "stream",
     "text": [
      "/opt/conda/lib/python3.8/site-packages/sklearn/linear_model/_coordinate_descent.py:530: ConvergenceWarning: Objective did not converge. You might want to increase the number of iterations. Duality gap: 80246.8509286941, tolerance: 39.51671704886386\n",
      "  model = cd_fast.enet_coordinate_descent(\n",
      "/opt/conda/lib/python3.8/site-packages/sklearn/linear_model/_coordinate_descent.py:530: ConvergenceWarning: Objective did not converge. You might want to increase the number of iterations. Duality gap: 91701.12044441549, tolerance: 46.82165537631606\n",
      "  model = cd_fast.enet_coordinate_descent(\n"
     ]
    },
    {
     "name": "stdout",
     "output_type": "stream",
     "text": [
      "[CV 2/5] END .............model__alpha=0.0005428675439323859; total time=   0.2s\n",
      "[CV 3/5] END .............model__alpha=0.0005428675439323859; total time=   0.1s\n"
     ]
    },
    {
     "name": "stderr",
     "output_type": "stream",
     "text": [
      "/opt/conda/lib/python3.8/site-packages/sklearn/linear_model/_coordinate_descent.py:530: ConvergenceWarning: Objective did not converge. You might want to increase the number of iterations. Duality gap: 90106.49263216795, tolerance: 45.42169515132507\n",
      "  model = cd_fast.enet_coordinate_descent(\n",
      "/opt/conda/lib/python3.8/site-packages/sklearn/linear_model/_coordinate_descent.py:530: ConvergenceWarning: Objective did not converge. You might want to increase the number of iterations. Duality gap: 85439.97734619345, tolerance: 45.21092072956093\n",
      "  model = cd_fast.enet_coordinate_descent(\n"
     ]
    },
    {
     "name": "stdout",
     "output_type": "stream",
     "text": [
      "[CV 4/5] END .............model__alpha=0.0005428675439323859; total time=   0.2s\n",
      "[CV 5/5] END .............model__alpha=0.0005428675439323859; total time=   0.1s\n"
     ]
    },
    {
     "name": "stderr",
     "output_type": "stream",
     "text": [
      "/opt/conda/lib/python3.8/site-packages/sklearn/linear_model/_coordinate_descent.py:530: ConvergenceWarning: Objective did not converge. You might want to increase the number of iterations. Duality gap: 76453.68791096545, tolerance: 42.15494324530278\n",
      "  model = cd_fast.enet_coordinate_descent(\n",
      "/opt/conda/lib/python3.8/site-packages/sklearn/linear_model/_coordinate_descent.py:530: ConvergenceWarning: Objective did not converge. You might want to increase the number of iterations. Duality gap: 78207.02822472392, tolerance: 39.51671704886386\n",
      "  model = cd_fast.enet_coordinate_descent(\n"
     ]
    },
    {
     "name": "stdout",
     "output_type": "stream",
     "text": [
      "[CV 1/5] END .............model__alpha=0.0009102981779915227; total time=   0.2s\n",
      "[CV 2/5] END .............model__alpha=0.0009102981779915227; total time=   0.1s\n"
     ]
    },
    {
     "name": "stderr",
     "output_type": "stream",
     "text": [
      "/opt/conda/lib/python3.8/site-packages/sklearn/linear_model/_coordinate_descent.py:530: ConvergenceWarning: Objective did not converge. You might want to increase the number of iterations. Duality gap: 89562.7791204886, tolerance: 46.82165537631606\n",
      "  model = cd_fast.enet_coordinate_descent(\n",
      "/opt/conda/lib/python3.8/site-packages/sklearn/linear_model/_coordinate_descent.py:530: ConvergenceWarning: Objective did not converge. You might want to increase the number of iterations. Duality gap: 87975.68880971562, tolerance: 45.42169515132507\n",
      "  model = cd_fast.enet_coordinate_descent(\n"
     ]
    },
    {
     "name": "stdout",
     "output_type": "stream",
     "text": [
      "[CV 3/5] END .............model__alpha=0.0009102981779915227; total time=   0.1s\n",
      "[CV 4/5] END .............model__alpha=0.0009102981779915227; total time=   0.2s\n"
     ]
    },
    {
     "name": "stderr",
     "output_type": "stream",
     "text": [
      "/opt/conda/lib/python3.8/site-packages/sklearn/linear_model/_coordinate_descent.py:530: ConvergenceWarning: Objective did not converge. You might want to increase the number of iterations. Duality gap: 82424.46574027272, tolerance: 45.21092072956093\n",
      "  model = cd_fast.enet_coordinate_descent(\n",
      "/opt/conda/lib/python3.8/site-packages/sklearn/linear_model/_coordinate_descent.py:530: ConvergenceWarning: Objective did not converge. You might want to increase the number of iterations. Duality gap: 69980.47295727965, tolerance: 42.15494324530278\n",
      "  model = cd_fast.enet_coordinate_descent(\n"
     ]
    },
    {
     "name": "stdout",
     "output_type": "stream",
     "text": [
      "[CV 5/5] END .............model__alpha=0.0009102981779915227; total time=   0.1s\n",
      "[CV 1/5] END .............model__alpha=0.0015264179671752333; total time=   0.1s\n"
     ]
    },
    {
     "name": "stderr",
     "output_type": "stream",
     "text": [
      "/opt/conda/lib/python3.8/site-packages/sklearn/linear_model/_coordinate_descent.py:530: ConvergenceWarning: Objective did not converge. You might want to increase the number of iterations. Duality gap: 74822.48806425545, tolerance: 39.51671704886386\n",
      "  model = cd_fast.enet_coordinate_descent(\n",
      "/opt/conda/lib/python3.8/site-packages/sklearn/linear_model/_coordinate_descent.py:530: ConvergenceWarning: Objective did not converge. You might want to increase the number of iterations. Duality gap: 86066.83551754686, tolerance: 46.82165537631606\n",
      "  model = cd_fast.enet_coordinate_descent(\n"
     ]
    },
    {
     "name": "stdout",
     "output_type": "stream",
     "text": [
      "[CV 2/5] END .............model__alpha=0.0015264179671752333; total time=   0.2s\n",
      "[CV 3/5] END .............model__alpha=0.0015264179671752333; total time=   0.1s\n"
     ]
    },
    {
     "name": "stderr",
     "output_type": "stream",
     "text": [
      "/opt/conda/lib/python3.8/site-packages/sklearn/linear_model/_coordinate_descent.py:530: ConvergenceWarning: Objective did not converge. You might want to increase the number of iterations. Duality gap: 84447.57997912145, tolerance: 45.42169515132507\n",
      "  model = cd_fast.enet_coordinate_descent(\n",
      "/opt/conda/lib/python3.8/site-packages/sklearn/linear_model/_coordinate_descent.py:530: ConvergenceWarning: Objective did not converge. You might want to increase the number of iterations. Duality gap: 77283.79178154362, tolerance: 45.21092072956093\n",
      "  model = cd_fast.enet_coordinate_descent(\n"
     ]
    },
    {
     "name": "stdout",
     "output_type": "stream",
     "text": [
      "[CV 4/5] END .............model__alpha=0.0015264179671752333; total time=   0.1s\n",
      "[CV 5/5] END .............model__alpha=0.0015264179671752333; total time=   0.2s\n"
     ]
    },
    {
     "name": "stderr",
     "output_type": "stream",
     "text": [
      "/opt/conda/lib/python3.8/site-packages/sklearn/linear_model/_coordinate_descent.py:530: ConvergenceWarning: Objective did not converge. You might want to increase the number of iterations. Duality gap: 60890.60176165067, tolerance: 42.15494324530278\n",
      "  model = cd_fast.enet_coordinate_descent(\n",
      "/opt/conda/lib/python3.8/site-packages/sklearn/linear_model/_coordinate_descent.py:530: ConvergenceWarning: Objective did not converge. You might want to increase the number of iterations. Duality gap: 69258.30417747471, tolerance: 39.51671704886386\n",
      "  model = cd_fast.enet_coordinate_descent(\n"
     ]
    },
    {
     "name": "stdout",
     "output_type": "stream",
     "text": [
      "[CV 1/5] END .............model__alpha=0.0025595479226995332; total time=   0.1s\n",
      "[CV 2/5] END .............model__alpha=0.0025595479226995332; total time=   0.1s\n"
     ]
    },
    {
     "name": "stderr",
     "output_type": "stream",
     "text": [
      "/opt/conda/lib/python3.8/site-packages/sklearn/linear_model/_coordinate_descent.py:530: ConvergenceWarning: Objective did not converge. You might want to increase the number of iterations. Duality gap: 80449.12856589991, tolerance: 46.82165537631606\n",
      "  model = cd_fast.enet_coordinate_descent(\n",
      "/opt/conda/lib/python3.8/site-packages/sklearn/linear_model/_coordinate_descent.py:530: ConvergenceWarning: Objective did not converge. You might want to increase the number of iterations. Duality gap: 78511.4908809119, tolerance: 45.42169515132507\n",
      "  model = cd_fast.enet_coordinate_descent(\n"
     ]
    },
    {
     "name": "stdout",
     "output_type": "stream",
     "text": [
      "[CV 3/5] END .............model__alpha=0.0025595479226995332; total time=   0.2s\n",
      "[CV 4/5] END .............model__alpha=0.0025595479226995332; total time=   0.1s\n"
     ]
    },
    {
     "name": "stderr",
     "output_type": "stream",
     "text": [
      "/opt/conda/lib/python3.8/site-packages/sklearn/linear_model/_coordinate_descent.py:530: ConvergenceWarning: Objective did not converge. You might want to increase the number of iterations. Duality gap: 68686.3473522394, tolerance: 45.21092072956093\n",
      "  model = cd_fast.enet_coordinate_descent(\n",
      "/opt/conda/lib/python3.8/site-packages/sklearn/linear_model/_coordinate_descent.py:530: ConvergenceWarning: Objective did not converge. You might want to increase the number of iterations. Duality gap: 49225.266093685714, tolerance: 42.15494324530278\n",
      "  model = cd_fast.enet_coordinate_descent(\n"
     ]
    },
    {
     "name": "stdout",
     "output_type": "stream",
     "text": [
      "[CV 5/5] END .............model__alpha=0.0025595479226995332; total time=   0.1s\n",
      "[CV 1/5] END ..............model__alpha=0.004291934260128779; total time=   0.1s\n"
     ]
    },
    {
     "name": "stderr",
     "output_type": "stream",
     "text": [
      "/opt/conda/lib/python3.8/site-packages/sklearn/linear_model/_coordinate_descent.py:530: ConvergenceWarning: Objective did not converge. You might want to increase the number of iterations. Duality gap: 58705.39441138438, tolerance: 39.51671704886386\n",
      "  model = cd_fast.enet_coordinate_descent(\n",
      "/opt/conda/lib/python3.8/site-packages/sklearn/linear_model/_coordinate_descent.py:530: ConvergenceWarning: Objective did not converge. You might want to increase the number of iterations. Duality gap: 71674.93142320195, tolerance: 46.82165537631606\n",
      "  model = cd_fast.enet_coordinate_descent(\n"
     ]
    },
    {
     "name": "stdout",
     "output_type": "stream",
     "text": [
      "[CV 2/5] END ..............model__alpha=0.004291934260128779; total time=   0.2s\n",
      "[CV 3/5] END ..............model__alpha=0.004291934260128779; total time=   0.1s\n"
     ]
    },
    {
     "name": "stderr",
     "output_type": "stream",
     "text": [
      "/opt/conda/lib/python3.8/site-packages/sklearn/linear_model/_coordinate_descent.py:530: ConvergenceWarning: Objective did not converge. You might want to increase the number of iterations. Duality gap: 68572.8937169663, tolerance: 45.42169515132507\n",
      "  model = cd_fast.enet_coordinate_descent(\n",
      "/opt/conda/lib/python3.8/site-packages/sklearn/linear_model/_coordinate_descent.py:530: ConvergenceWarning: Objective did not converge. You might want to increase the number of iterations. Duality gap: 56527.89231032676, tolerance: 45.21092072956093\n",
      "  model = cd_fast.enet_coordinate_descent(\n"
     ]
    },
    {
     "name": "stdout",
     "output_type": "stream",
     "text": [
      "[CV 4/5] END ..............model__alpha=0.004291934260128779; total time=   0.1s\n",
      "[CV 5/5] END ..............model__alpha=0.004291934260128779; total time=   0.1s\n"
     ]
    },
    {
     "name": "stderr",
     "output_type": "stream",
     "text": [
      "/opt/conda/lib/python3.8/site-packages/sklearn/linear_model/_coordinate_descent.py:530: ConvergenceWarning: Objective did not converge. You might want to increase the number of iterations. Duality gap: 38667.26024274667, tolerance: 42.15494324530278\n",
      "  model = cd_fast.enet_coordinate_descent(\n",
      "/opt/conda/lib/python3.8/site-packages/sklearn/linear_model/_coordinate_descent.py:530: ConvergenceWarning: Objective did not converge. You might want to increase the number of iterations. Duality gap: 40621.06504125099, tolerance: 39.51671704886386\n",
      "  model = cd_fast.enet_coordinate_descent(\n"
     ]
    },
    {
     "name": "stdout",
     "output_type": "stream",
     "text": [
      "[CV 1/5] END ..............model__alpha=0.007196856730011514; total time=   0.1s\n",
      "[CV 2/5] END ..............model__alpha=0.007196856730011514; total time=   0.2s\n"
     ]
    },
    {
     "name": "stderr",
     "output_type": "stream",
     "text": [
      "/opt/conda/lib/python3.8/site-packages/sklearn/linear_model/_coordinate_descent.py:530: ConvergenceWarning: Objective did not converge. You might want to increase the number of iterations. Duality gap: 55398.126838646735, tolerance: 46.82165537631606\n",
      "  model = cd_fast.enet_coordinate_descent(\n",
      "/opt/conda/lib/python3.8/site-packages/sklearn/linear_model/_coordinate_descent.py:530: ConvergenceWarning: Objective did not converge. You might want to increase the number of iterations. Duality gap: 56251.374790386784, tolerance: 45.42169515132507\n",
      "  model = cd_fast.enet_coordinate_descent(\n"
     ]
    },
    {
     "name": "stdout",
     "output_type": "stream",
     "text": [
      "[CV 3/5] END ..............model__alpha=0.007196856730011514; total time=   0.1s\n",
      "[CV 4/5] END ..............model__alpha=0.007196856730011514; total time=   0.1s\n"
     ]
    },
    {
     "name": "stderr",
     "output_type": "stream",
     "text": [
      "/opt/conda/lib/python3.8/site-packages/sklearn/linear_model/_coordinate_descent.py:530: ConvergenceWarning: Objective did not converge. You might want to increase the number of iterations. Duality gap: 35385.08044038435, tolerance: 45.21092072956093\n",
      "  model = cd_fast.enet_coordinate_descent(\n",
      "/opt/conda/lib/python3.8/site-packages/sklearn/linear_model/_coordinate_descent.py:530: ConvergenceWarning: Objective did not converge. You might want to increase the number of iterations. Duality gap: 27580.594013652735, tolerance: 42.15494324530278\n",
      "  model = cd_fast.enet_coordinate_descent(\n"
     ]
    },
    {
     "name": "stdout",
     "output_type": "stream",
     "text": [
      "[CV 5/5] END ..............model__alpha=0.007196856730011514; total time=   0.1s\n",
      "[CV 1/5] END ..............model__alpha=0.012067926406393264; total time=   0.1s\n"
     ]
    },
    {
     "name": "stderr",
     "output_type": "stream",
     "text": [
      "/opt/conda/lib/python3.8/site-packages/sklearn/linear_model/_coordinate_descent.py:530: ConvergenceWarning: Objective did not converge. You might want to increase the number of iterations. Duality gap: 24788.672725425145, tolerance: 39.51671704886386\n",
      "  model = cd_fast.enet_coordinate_descent(\n",
      "/opt/conda/lib/python3.8/site-packages/sklearn/linear_model/_coordinate_descent.py:530: ConvergenceWarning: Objective did not converge. You might want to increase the number of iterations. Duality gap: 33325.83110443603, tolerance: 46.82165537631606\n",
      "  model = cd_fast.enet_coordinate_descent(\n"
     ]
    },
    {
     "name": "stdout",
     "output_type": "stream",
     "text": [
      "[CV 2/5] END ..............model__alpha=0.012067926406393264; total time=   0.2s\n",
      "[CV 3/5] END ..............model__alpha=0.012067926406393264; total time=   0.1s\n"
     ]
    },
    {
     "name": "stderr",
     "output_type": "stream",
     "text": [
      "/opt/conda/lib/python3.8/site-packages/sklearn/linear_model/_coordinate_descent.py:530: ConvergenceWarning: Objective did not converge. You might want to increase the number of iterations. Duality gap: 39920.03850806285, tolerance: 45.42169515132507\n",
      "  model = cd_fast.enet_coordinate_descent(\n",
      "/opt/conda/lib/python3.8/site-packages/sklearn/linear_model/_coordinate_descent.py:530: ConvergenceWarning: Objective did not converge. You might want to increase the number of iterations. Duality gap: 8890.26856511811, tolerance: 45.21092072956093\n",
      "  model = cd_fast.enet_coordinate_descent(\n"
     ]
    },
    {
     "name": "stdout",
     "output_type": "stream",
     "text": [
      "[CV 4/5] END ..............model__alpha=0.012067926406393264; total time=   0.1s\n",
      "[CV 5/5] END ..............model__alpha=0.012067926406393264; total time=   0.1s\n"
     ]
    },
    {
     "name": "stderr",
     "output_type": "stream",
     "text": [
      "/opt/conda/lib/python3.8/site-packages/sklearn/linear_model/_coordinate_descent.py:530: ConvergenceWarning: Objective did not converge. You might want to increase the number of iterations. Duality gap: 17260.961216887998, tolerance: 42.15494324530278\n",
      "  model = cd_fast.enet_coordinate_descent(\n",
      "/opt/conda/lib/python3.8/site-packages/sklearn/linear_model/_coordinate_descent.py:530: ConvergenceWarning: Objective did not converge. You might want to increase the number of iterations. Duality gap: 8067.075472019234, tolerance: 39.51671704886386\n",
      "  model = cd_fast.enet_coordinate_descent(\n"
     ]
    },
    {
     "name": "stdout",
     "output_type": "stream",
     "text": [
      "[CV 1/5] END ..............model__alpha=0.020235896477251554; total time=   0.1s\n",
      "[CV 2/5] END ..............model__alpha=0.020235896477251554; total time=   0.1s\n"
     ]
    },
    {
     "name": "stderr",
     "output_type": "stream",
     "text": [
      "/opt/conda/lib/python3.8/site-packages/sklearn/linear_model/_coordinate_descent.py:530: ConvergenceWarning: Objective did not converge. You might want to increase the number of iterations. Duality gap: 2163.1731394323288, tolerance: 46.82165537631606\n",
      "  model = cd_fast.enet_coordinate_descent(\n",
      "/opt/conda/lib/python3.8/site-packages/sklearn/linear_model/_coordinate_descent.py:530: ConvergenceWarning: Objective did not converge. You might want to increase the number of iterations. Duality gap: 33033.885880971226, tolerance: 45.42169515132507\n",
      "  model = cd_fast.enet_coordinate_descent(\n"
     ]
    },
    {
     "name": "stdout",
     "output_type": "stream",
     "text": [
      "[CV 3/5] END ..............model__alpha=0.020235896477251554; total time=   0.2s\n",
      "[CV 4/5] END ..............model__alpha=0.020235896477251554; total time=   0.1s\n"
     ]
    },
    {
     "name": "stderr",
     "output_type": "stream",
     "text": [
      "/opt/conda/lib/python3.8/site-packages/sklearn/linear_model/_coordinate_descent.py:530: ConvergenceWarning: Objective did not converge. You might want to increase the number of iterations. Duality gap: 2567.4287290248612, tolerance: 45.21092072956093\n",
      "  model = cd_fast.enet_coordinate_descent(\n",
      "/opt/conda/lib/python3.8/site-packages/sklearn/linear_model/_coordinate_descent.py:530: ConvergenceWarning: Objective did not converge. You might want to increase the number of iterations. Duality gap: 1488.9450654326938, tolerance: 42.15494324530278\n",
      "  model = cd_fast.enet_coordinate_descent(\n"
     ]
    },
    {
     "name": "stdout",
     "output_type": "stream",
     "text": [
      "[CV 5/5] END ..............model__alpha=0.020235896477251554; total time=   0.1s\n",
      "[CV 1/5] END ................model__alpha=0.0339322177189533; total time=   0.1s\n"
     ]
    },
    {
     "name": "stderr",
     "output_type": "stream",
     "text": [
      "/opt/conda/lib/python3.8/site-packages/sklearn/linear_model/_coordinate_descent.py:530: ConvergenceWarning: Objective did not converge. You might want to increase the number of iterations. Duality gap: 3062.552539763594, tolerance: 39.51671704886386\n",
      "  model = cd_fast.enet_coordinate_descent(\n",
      "/opt/conda/lib/python3.8/site-packages/sklearn/linear_model/_coordinate_descent.py:530: ConvergenceWarning: Objective did not converge. You might want to increase the number of iterations. Duality gap: 4659.446015682537, tolerance: 46.82165537631606\n",
      "  model = cd_fast.enet_coordinate_descent(\n"
     ]
    },
    {
     "name": "stdout",
     "output_type": "stream",
     "text": [
      "[CV 2/5] END ................model__alpha=0.0339322177189533; total time=   0.1s\n",
      "[CV 3/5] END ................model__alpha=0.0339322177189533; total time=   0.1s\n"
     ]
    },
    {
     "name": "stderr",
     "output_type": "stream",
     "text": [
      "/opt/conda/lib/python3.8/site-packages/sklearn/linear_model/_coordinate_descent.py:530: ConvergenceWarning: Objective did not converge. You might want to increase the number of iterations. Duality gap: 7439.548330419115, tolerance: 45.42169515132507\n",
      "  model = cd_fast.enet_coordinate_descent(\n",
      "/opt/conda/lib/python3.8/site-packages/sklearn/linear_model/_coordinate_descent.py:530: ConvergenceWarning: Objective did not converge. You might want to increase the number of iterations. Duality gap: 722.5969044891535, tolerance: 45.21092072956093\n",
      "  model = cd_fast.enet_coordinate_descent(\n"
     ]
    },
    {
     "name": "stdout",
     "output_type": "stream",
     "text": [
      "[CV 4/5] END ................model__alpha=0.0339322177189533; total time=   0.1s\n",
      "[CV 5/5] END ................model__alpha=0.0339322177189533; total time=   0.1s\n",
      "[CV 1/5] END ...............model__alpha=0.05689866029018305; total time=   0.1s\n"
     ]
    },
    {
     "name": "stderr",
     "output_type": "stream",
     "text": [
      "/opt/conda/lib/python3.8/site-packages/sklearn/linear_model/_coordinate_descent.py:530: ConvergenceWarning: Objective did not converge. You might want to increase the number of iterations. Duality gap: 373.4566101998789, tolerance: 42.15494324530278\n",
      "  model = cd_fast.enet_coordinate_descent(\n",
      "/opt/conda/lib/python3.8/site-packages/sklearn/linear_model/_coordinate_descent.py:530: ConvergenceWarning: Objective did not converge. You might want to increase the number of iterations. Duality gap: 984.5058453206439, tolerance: 39.51671704886386\n",
      "  model = cd_fast.enet_coordinate_descent(\n",
      "/opt/conda/lib/python3.8/site-packages/sklearn/linear_model/_coordinate_descent.py:530: ConvergenceWarning: Objective did not converge. You might want to increase the number of iterations. Duality gap: 3303.409208305704, tolerance: 46.82165537631606\n",
      "  model = cd_fast.enet_coordinate_descent(\n",
      "/opt/conda/lib/python3.8/site-packages/sklearn/linear_model/_coordinate_descent.py:530: ConvergenceWarning: Objective did not converge. You might want to increase the number of iterations. Duality gap: 102.7645727119525, tolerance: 45.42169515132507\n",
      "  model = cd_fast.enet_coordinate_descent(\n"
     ]
    },
    {
     "name": "stdout",
     "output_type": "stream",
     "text": [
      "[CV 2/5] END ...............model__alpha=0.05689866029018305; total time=   0.1s\n",
      "[CV 3/5] END ...............model__alpha=0.05689866029018305; total time=   0.1s\n"
     ]
    },
    {
     "name": "stderr",
     "output_type": "stream",
     "text": [
      "/opt/conda/lib/python3.8/site-packages/sklearn/linear_model/_coordinate_descent.py:530: ConvergenceWarning: Objective did not converge. You might want to increase the number of iterations. Duality gap: 111.09017731278436, tolerance: 45.21092072956093\n",
      "  model = cd_fast.enet_coordinate_descent(\n",
      "/opt/conda/lib/python3.8/site-packages/sklearn/linear_model/_coordinate_descent.py:530: ConvergenceWarning: Objective did not converge. You might want to increase the number of iterations. Duality gap: 111.9042639239924, tolerance: 42.15494324530278\n",
      "  model = cd_fast.enet_coordinate_descent(\n",
      "/opt/conda/lib/python3.8/site-packages/sklearn/linear_model/_coordinate_descent.py:530: ConvergenceWarning: Objective did not converge. You might want to increase the number of iterations. Duality gap: 83.56679872627137, tolerance: 39.51671704886386\n",
      "  model = cd_fast.enet_coordinate_descent(\n"
     ]
    },
    {
     "name": "stdout",
     "output_type": "stream",
     "text": [
      "[CV 4/5] END ...............model__alpha=0.05689866029018305; total time=   0.2s\n",
      "[CV 5/5] END ...............model__alpha=0.05689866029018305; total time=   0.1s\n",
      "[CV 1/5] END ...............model__alpha=0.09540954763499924; total time=   0.1s\n"
     ]
    },
    {
     "name": "stderr",
     "output_type": "stream",
     "text": [
      "/opt/conda/lib/python3.8/site-packages/sklearn/linear_model/_coordinate_descent.py:530: ConvergenceWarning: Objective did not converge. You might want to increase the number of iterations. Duality gap: 482.9002209872997, tolerance: 46.82165537631606\n",
      "  model = cd_fast.enet_coordinate_descent(\n",
      "/opt/conda/lib/python3.8/site-packages/sklearn/linear_model/_coordinate_descent.py:530: ConvergenceWarning: Objective did not converge. You might want to increase the number of iterations. Duality gap: 86.29899796127575, tolerance: 45.42169515132507\n",
      "  model = cd_fast.enet_coordinate_descent(\n",
      "/opt/conda/lib/python3.8/site-packages/sklearn/linear_model/_coordinate_descent.py:530: ConvergenceWarning: Objective did not converge. You might want to increase the number of iterations. Duality gap: 196.1715537729615, tolerance: 45.21092072956093\n",
      "  model = cd_fast.enet_coordinate_descent(\n"
     ]
    },
    {
     "name": "stdout",
     "output_type": "stream",
     "text": [
      "[CV 2/5] END ...............model__alpha=0.09540954763499924; total time=   0.1s\n",
      "[CV 3/5] END ...............model__alpha=0.09540954763499924; total time=   0.1s\n",
      "[CV 4/5] END ...............model__alpha=0.09540954763499924; total time=   0.1s\n"
     ]
    },
    {
     "name": "stderr",
     "output_type": "stream",
     "text": [
      "/opt/conda/lib/python3.8/site-packages/sklearn/linear_model/_coordinate_descent.py:530: ConvergenceWarning: Objective did not converge. You might want to increase the number of iterations. Duality gap: 93.17399485071655, tolerance: 42.15494324530278\n",
      "  model = cd_fast.enet_coordinate_descent(\n"
     ]
    },
    {
     "name": "stdout",
     "output_type": "stream",
     "text": [
      "[CV 5/5] END ...............model__alpha=0.09540954763499924; total time=   0.1s\n",
      "[CV 1/5] END ...............model__alpha=0.15998587196060574; total time=   0.0s\n",
      "[CV 2/5] END ...............model__alpha=0.15998587196060574; total time=   0.1s\n",
      "[CV 3/5] END ...............model__alpha=0.15998587196060574; total time=   0.1s\n",
      "[CV 4/5] END ...............model__alpha=0.15998587196060574; total time=   0.1s\n"
     ]
    },
    {
     "name": "stderr",
     "output_type": "stream",
     "text": [
      "/opt/conda/lib/python3.8/site-packages/sklearn/linear_model/_coordinate_descent.py:530: ConvergenceWarning: Objective did not converge. You might want to increase the number of iterations. Duality gap: 192.74319582417957, tolerance: 45.21092072956093\n",
      "  model = cd_fast.enet_coordinate_descent(\n",
      "/opt/conda/lib/python3.8/site-packages/sklearn/linear_model/_coordinate_descent.py:530: ConvergenceWarning: Objective did not converge. You might want to increase the number of iterations. Duality gap: 44.44893698755186, tolerance: 42.15494324530278\n",
      "  model = cd_fast.enet_coordinate_descent(\n"
     ]
    },
    {
     "name": "stdout",
     "output_type": "stream",
     "text": [
      "[CV 5/5] END ...............model__alpha=0.15998587196060574; total time=   0.1s\n",
      "[CV 1/5] END ...............model__alpha=0.26826957952797276; total time=   0.1s\n",
      "[CV 2/5] END ...............model__alpha=0.26826957952797276; total time=   0.1s\n"
     ]
    },
    {
     "name": "stderr",
     "output_type": "stream",
     "text": [
      "/opt/conda/lib/python3.8/site-packages/sklearn/linear_model/_coordinate_descent.py:530: ConvergenceWarning: Objective did not converge. You might want to increase the number of iterations. Duality gap: 71.36714428351843, tolerance: 46.82165537631606\n",
      "  model = cd_fast.enet_coordinate_descent(\n"
     ]
    },
    {
     "name": "stdout",
     "output_type": "stream",
     "text": [
      "[CV 3/5] END ...............model__alpha=0.26826957952797276; total time=   0.1s\n",
      "[CV 4/5] END ...............model__alpha=0.26826957952797276; total time=   0.0s\n",
      "[CV 5/5] END ...............model__alpha=0.26826957952797276; total time=   0.1s\n",
      "[CV 1/5] END ................model__alpha=0.4498432668969453; total time=   0.1s\n",
      "[CV 2/5] END ................model__alpha=0.4498432668969453; total time=   0.0s\n",
      "[CV 3/5] END ................model__alpha=0.4498432668969453; total time=   0.0s\n",
      "[CV 4/5] END ................model__alpha=0.4498432668969453; total time=   0.1s\n",
      "[CV 5/5] END ................model__alpha=0.4498432668969453; total time=   0.1s\n",
      "[CV 1/5] END ................model__alpha=0.7543120063354607; total time=   0.0s\n",
      "[CV 2/5] END ................model__alpha=0.7543120063354607; total time=   0.0s\n",
      "[CV 3/5] END ................model__alpha=0.7543120063354607; total time=   0.1s\n",
      "[CV 4/5] END ................model__alpha=0.7543120063354607; total time=   0.0s\n",
      "[CV 5/5] END ................model__alpha=0.7543120063354607; total time=   0.1s\n",
      "[CV 1/5] END ................model__alpha=1.2648552168552958; total time=   0.0s\n",
      "[CV 2/5] END ................model__alpha=1.2648552168552958; total time=   0.0s\n",
      "[CV 3/5] END ................model__alpha=1.2648552168552958; total time=   0.1s\n",
      "[CV 4/5] END ................model__alpha=1.2648552168552958; total time=   0.0s\n",
      "[CV 5/5] END ................model__alpha=1.2648552168552958; total time=   0.0s\n",
      "[CV 1/5] END ................model__alpha=2.1209508879201926; total time=   0.1s\n",
      "[CV 2/5] END ................model__alpha=2.1209508879201926; total time=   0.0s\n",
      "[CV 3/5] END ................model__alpha=2.1209508879201926; total time=   0.0s\n",
      "[CV 4/5] END ................model__alpha=2.1209508879201926; total time=   0.1s\n",
      "[CV 5/5] END ................model__alpha=2.1209508879201926; total time=   0.0s\n",
      "[CV 1/5] END .................model__alpha=3.556480306223136; total time=   0.0s\n",
      "[CV 2/5] END .................model__alpha=3.556480306223136; total time=   0.1s\n",
      "[CV 3/5] END .................model__alpha=3.556480306223136; total time=   0.0s\n",
      "[CV 4/5] END .................model__alpha=3.556480306223136; total time=   0.0s\n",
      "[CV 5/5] END .................model__alpha=3.556480306223136; total time=   0.1s\n",
      "[CV 1/5] END .................model__alpha=5.963623316594637; total time=   0.0s\n",
      "[CV 2/5] END .................model__alpha=5.963623316594637; total time=   0.0s\n",
      "[CV 3/5] END .................model__alpha=5.963623316594637; total time=   0.0s\n",
      "[CV 4/5] END .................model__alpha=5.963623316594637; total time=   0.0s\n",
      "[CV 5/5] END .................model__alpha=5.963623316594637; total time=   0.0s\n",
      "[CV 1/5] END ..............................model__alpha=10.0; total time=   0.0s\n",
      "[CV 2/5] END ..............................model__alpha=10.0; total time=   0.1s\n",
      "[CV 3/5] END ..............................model__alpha=10.0; total time=   0.0s\n",
      "[CV 4/5] END ..............................model__alpha=10.0; total time=   0.0s\n",
      "[CV 5/5] END ..............................model__alpha=10.0; total time=   0.1s\n",
      "CPU times: user 2min 52s, sys: 8.86 s, total: 3min 1s\n",
      "Wall time: 30.3 s\n"
     ]
    },
    {
     "name": "stderr",
     "output_type": "stream",
     "text": [
      "/opt/conda/lib/python3.8/site-packages/sklearn/linear_model/_coordinate_descent.py:530: ConvergenceWarning: Objective did not converge. You might want to increase the number of iterations. Duality gap: 166.17113832791802, tolerance: 55.03564595258523\n",
      "  model = cd_fast.enet_coordinate_descent(\n"
     ]
    },
    {
     "data": {
      "text/plain": [
       "GridSearchCV(cv=5,\n",
       "             estimator=Pipeline(steps=[('scaler', StandardScaler()),\n",
       "                                       ('model', Lasso())]),\n",
       "             param_grid={'model__alpha': array([1.00000000e-10, 1.67683294e-10, 2.81176870e-10, 4.71486636e-10,\n",
       "       7.90604321e-10, 1.32571137e-09, 2.22299648e-09, 3.72759372e-09,\n",
       "       6.25055193e-09, 1.04811313e-08, 1.75751062e-08, 2.94705170e-08,\n",
       "       4.94171336e-08, 8.28642773e-08, 1.38949549e-07...\n",
       "       1.93069773e-04, 3.23745754e-04, 5.42867544e-04, 9.10298178e-04,\n",
       "       1.52641797e-03, 2.55954792e-03, 4.29193426e-03, 7.19685673e-03,\n",
       "       1.20679264e-02, 2.02358965e-02, 3.39322177e-02, 5.68986603e-02,\n",
       "       9.54095476e-02, 1.59985872e-01, 2.68269580e-01, 4.49843267e-01,\n",
       "       7.54312006e-01, 1.26485522e+00, 2.12095089e+00, 3.55648031e+00,\n",
       "       5.96362332e+00, 1.00000000e+01])},\n",
       "             scoring='neg_mean_squared_error', verbose=3)"
      ]
     },
     "execution_count": 8,
     "metadata": {},
     "output_type": "execute_result"
    }
   ],
   "source": [
    "%%time\n",
    "steps = [('scaler', StandardScaler()), ('model', Lasso())]\n",
    "pipeline = Pipeline(steps)\n",
    "parameters = {'model__alpha': np.logspace(-10, 1, 50)}\n",
    "\n",
    "lasso_search = GridSearchCV(pipeline, \n",
    "                         parameters, \n",
    "                         cv = 5, \n",
    "                         scoring=\"neg_mean_squared_error\", \n",
    "                         verbose=3)\n",
    "\n",
    "lasso_search.fit(X_train, Y_train)"
   ]
  },
  {
   "cell_type": "code",
   "execution_count": 9,
   "id": "normal-tennessee",
   "metadata": {},
   "outputs": [
    {
     "data": {
      "text/plain": [
       "{'model__alpha': 0.09540954763499924}"
      ]
     },
     "execution_count": 9,
     "metadata": {},
     "output_type": "execute_result"
    }
   ],
   "source": [
    "lasso_search.best_params_"
   ]
  },
  {
   "cell_type": "code",
   "execution_count": 10,
   "id": "limiting-terrorist",
   "metadata": {},
   "outputs": [
    {
     "data": {
      "text/plain": [
       "Pipeline(steps=[('scaler', StandardScaler()),\n",
       "                ('model', Lasso(alpha=0.09540954763499924))])"
      ]
     },
     "execution_count": 10,
     "metadata": {},
     "output_type": "execute_result"
    }
   ],
   "source": [
    "lasso_search.best_estimator_"
   ]
  },
  {
   "cell_type": "markdown",
   "id": "backed-processing",
   "metadata": {},
   "source": [
    "### External Ligand set Evaluation"
   ]
  },
  {
   "cell_type": "code",
   "execution_count": 11,
   "id": "nearby-commander",
   "metadata": {},
   "outputs": [],
   "source": [
    "ext_y=ex_dataset['Yield']\n",
    "ext_X=ex_dataset.iloc[:, ex_dataset.columns.isin(X_train.columns)]\n",
    "\n",
    "Y_Pred = lasso_search.best_estimator_.predict(ext_X)"
   ]
  },
  {
   "cell_type": "code",
   "execution_count": 12,
   "id": "portuguese-sleeping",
   "metadata": {},
   "outputs": [
    {
     "name": "stdout",
     "output_type": "stream",
     "text": [
      "16.60806158301225\n"
     ]
    }
   ],
   "source": [
    "mse = mean_squared_error(ext_y, Y_Pred)\n",
    "print(math.sqrt(mse))"
   ]
  },
  {
   "cell_type": "code",
   "execution_count": 13,
   "id": "accepting-palmer",
   "metadata": {},
   "outputs": [
    {
     "data": {
      "image/png": "[encoded data removed]",
      "text/plain": [
       "<Figure size 900x600 with 1 Axes>"
      ]
     },
     "metadata": {
      "needs_background": "light"
     },
     "output_type": "display_data"
    }
   ],
   "source": [
    "plt.rcParams['figure.dpi'] = 150\n",
    "fig, ax = plt.subplots()\n",
    "ax.scatter(Y_Pred,ext_y,label=\"Validation\")\n",
    "ax.plot( [0,100],[0,100], 'k--', lw=4)\n",
    "ax.plot(lasso_search.best_estimator_.predict(X_train), Y_train, \"or\", alpha=0.5, label=\"Training\")\n",
    "ax.text(60,15,r'$R^2$: {:0.2f}'.format(r2_score(ext_y,Y_Pred)))\n",
    "ax.text(60,10,'Validation MAE: {:0.2f}'.format(mean_absolute_error(Y_Pred,ext_y)))\n",
    "ax.text(60,5,'Validation RMSE: {:0.2f}'.format(np.sqrt(mean_squared_error(Y_Pred,ext_y))))\n",
    "ax.set_xlabel('Predicted')\n",
    "ax.set_ylabel('Measured')\n",
    "ax.set_title('Lasso External Ligand set in MeOH prediction')\n",
    "plt.legend()\n",
    "plt.show()"
   ]
  },
  {
   "cell_type": "code",
   "execution_count": 14,
   "id": "developing-efficiency",
   "metadata": {},
   "outputs": [
    {
     "data": {
      "text/plain": [
       "<AxesSubplot:ylabel='feature'>"
      ]
     },
     "execution_count": 14,
     "metadata": {},
     "output_type": "execute_result"
    },
    {
     "data": {
      "image/png": "[encoded data removed]",
      "text/plain": [
       "<Figure size 900x600 with 1 Axes>"
      ]
     },
     "metadata": {
      "needs_background": "light"
     },
     "output_type": "display_data"
    }
   ],
   "source": [
    "#Top features in Lasso\n",
    "coefs=lasso_search.best_estimator_.named_steps['model'].coef_\n",
    "importance=np.abs(coefs)\n",
    "features=X_train.columns\n",
    "df=pd.DataFrame(zip(features,importance))\n",
    "df2 = df.sort_values(by=[1], ascending=False).head(25)\n",
    "df2.columns = ['feature', 'importance']\n",
    "df2.set_index('feature',inplace=True)\n",
    "df2.plot(kind='barh')"
   ]
  },
  {
   "cell_type": "code",
   "execution_count": 15,
   "id": "mysterious-reputation",
   "metadata": {},
   "outputs": [],
   "source": [
    "%load_ext watermark"
   ]
  },
  {
   "cell_type": "code",
   "execution_count": 16,
   "id": "thirty-london",
   "metadata": {},
   "outputs": [
    {
     "name": "stdout",
     "output_type": "stream",
     "text": [
      "sklearn   : 0.24.0\n",
      "numpy     : 1.19.2\n",
      "pandas    : 1.2.0\n",
      "matplotlib: 3.3.3\n",
      "\n"
     ]
    }
   ],
   "source": [
    "%watermark --iversions"
   ]
  },
  {
   "cell_type": "code",
   "execution_count": null,
   "id": "boolean-envelope",
   "metadata": {},
   "outputs": [],
   "source": []
  }
 ],
 "metadata": {
  "kernelspec": {
   "display_name": "Python 3",
   "language": "python",
   "name": "python3"
  },
  "language_info": {
   "codemirror_mode": {
    "name": "ipython",
    "version": 3
   },
   "file_extension": ".py",
   "mimetype": "text/x-python",
   "name": "python",
   "nbconvert_exporter": "python",
   "pygments_lexer": "ipython3",
   "version": "3.8.5"
  }
 },
 "nbformat": 4,
 "nbformat_minor": 5
}
