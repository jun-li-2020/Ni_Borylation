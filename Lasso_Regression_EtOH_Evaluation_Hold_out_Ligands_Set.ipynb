{
 "cells": [
  {
   "cell_type": "markdown",
   "id": "improved-utilization",
   "metadata": {},
   "source": [
    "In this notebook, we will explore Lasso Regression Machine Learning model for the external Ligand set in ethanol dataset."
   ]
  },
  {
   "cell_type": "markdown",
   "id": "unusual-lotus",
   "metadata": {},
   "source": [
    "# Machine Learning for Nickel Catalyzed Borylation in EtOH"
   ]
  },
  {
   "cell_type": "code",
   "execution_count": 1,
   "id": "ranking-prospect",
   "metadata": {},
   "outputs": [],
   "source": [
    "import numpy as np\n",
    "import pandas as pd\n",
    "import sklearn\n",
    "\n",
    "from sklearn.model_selection import GridSearchCV\n",
    "from sklearn.preprocessing import StandardScaler\n",
    "\n",
    "from sklearn.pipeline import Pipeline\n",
    "from sklearn.metrics import mean_squared_error, mean_absolute_error, r2_score\n",
    "import math as math\n",
    "import matplotlib.pyplot as plt\n",
    "\n",
    "from sklearn.linear_model import Lasso"
   ]
  },
  {
   "cell_type": "markdown",
   "id": "patent-guatemala",
   "metadata": {},
   "source": [
    "### Load Preprocessed Ethanol Dataset "
   ]
  },
  {
   "cell_type": "code",
   "execution_count": 2,
   "id": "demanding-dominican",
   "metadata": {},
   "outputs": [
    {
     "data": {
      "text/html": [
       "<div>\n",
       "<style scoped>\n",
       "    .dataframe tbody tr th:only-of-type {\n",
       "        vertical-align: middle;\n",
       "    }\n",
       "\n",
       "    .dataframe tbody tr th {\n",
       "        vertical-align: top;\n",
       "    }\n",
       "\n",
       "    .dataframe thead th {\n",
       "        text-align: right;\n",
       "    }\n",
       "</style>\n",
       "<table border=\"1\" class=\"dataframe\">\n",
       "  <thead>\n",
       "    <tr style=\"text-align: right;\">\n",
       "      <th></th>\n",
       "      <th>ArylHalide_CX_Lowdin</th>\n",
       "      <th>ArylHalide_C_Chem Shift</th>\n",
       "      <th>ArylHalide_C_Electrostatic</th>\n",
       "      <th>ArylHalide_C_Exposed Area</th>\n",
       "      <th>ArylHalide_C_Mulliken</th>\n",
       "      <th>ArylHalide_XY_Chem Shift_Max</th>\n",
       "      <th>ArylHalide_XY_Chem Shift_Min</th>\n",
       "      <th>ArylHalide_XY_Electrostatic_Max</th>\n",
       "      <th>ArylHalide_XY_Electrostatic_Min</th>\n",
       "      <th>ArylHalide_XY_Exposed Area_Avg</th>\n",
       "      <th>...</th>\n",
       "      <th>Kraken_vbur_vbur_max</th>\n",
       "      <th>Kraken_vbur_vbur_min</th>\n",
       "      <th>Kraken_vbur_vtot_boltz</th>\n",
       "      <th>Kraken_vmin_r_boltz</th>\n",
       "      <th>Kraken_vmin_vmin_boltz</th>\n",
       "      <th>Ligand</th>\n",
       "      <th>Ligand_inchi</th>\n",
       "      <th>Product_inchi</th>\n",
       "      <th>Solvent_inchi</th>\n",
       "      <th>Yield</th>\n",
       "    </tr>\n",
       "  </thead>\n",
       "  <tbody>\n",
       "    <tr>\n",
       "      <th>0</th>\n",
       "      <td>1.11</td>\n",
       "      <td>140.296</td>\n",
       "      <td>0.33</td>\n",
       "      <td>8.371</td>\n",
       "      <td>0.338</td>\n",
       "      <td>105.274</td>\n",
       "      <td>102.178</td>\n",
       "      <td>-0.291</td>\n",
       "      <td>-0.456</td>\n",
       "      <td>12.9615</td>\n",
       "      <td>...</td>\n",
       "      <td>50.731606</td>\n",
       "      <td>50.731606</td>\n",
       "      <td>351.19888</td>\n",
       "      <td>1.840787</td>\n",
       "      <td>-0.055960</td>\n",
       "      <td>A-paPhos</td>\n",
       "      <td>InChI=1S/C20H20NP/c1-21(2)17-13-15-20(16-14-17...</td>\n",
       "      <td>InChI=1S/C8H8BNO2/c11-9(12)7-1-2-8-6(5-7)3-4-1...</td>\n",
       "      <td>InChI=1S/C2H6O/c1-2-3/h3H,2H2,1H3</td>\n",
       "      <td>87.13</td>\n",
       "    </tr>\n",
       "    <tr>\n",
       "      <th>1</th>\n",
       "      <td>1.11</td>\n",
       "      <td>140.296</td>\n",
       "      <td>0.33</td>\n",
       "      <td>8.371</td>\n",
       "      <td>0.338</td>\n",
       "      <td>105.274</td>\n",
       "      <td>102.178</td>\n",
       "      <td>-0.291</td>\n",
       "      <td>-0.456</td>\n",
       "      <td>12.9615</td>\n",
       "      <td>...</td>\n",
       "      <td>80.673770</td>\n",
       "      <td>61.935337</td>\n",
       "      <td>479.46484</td>\n",
       "      <td>1.803143</td>\n",
       "      <td>-0.058457</td>\n",
       "      <td>CX-FBu</td>\n",
       "      <td>InChI=1S/C29H39P.BF4/c1-2-3-22-29(27-20-12-10-...</td>\n",
       "      <td>InChI=1S/C8H8BNO2/c11-9(12)7-1-2-8-6(5-7)3-4-1...</td>\n",
       "      <td>InChI=1S/C2H6O/c1-2-3/h3H,2H2,1H3</td>\n",
       "      <td>6.37</td>\n",
       "    </tr>\n",
       "    <tr>\n",
       "      <th>2</th>\n",
       "      <td>1.11</td>\n",
       "      <td>140.296</td>\n",
       "      <td>0.33</td>\n",
       "      <td>8.371</td>\n",
       "      <td>0.338</td>\n",
       "      <td>105.274</td>\n",
       "      <td>102.178</td>\n",
       "      <td>-0.291</td>\n",
       "      <td>-0.456</td>\n",
       "      <td>12.9615</td>\n",
       "      <td>...</td>\n",
       "      <td>107.755370</td>\n",
       "      <td>56.694310</td>\n",
       "      <td>386.44120</td>\n",
       "      <td>1.805810</td>\n",
       "      <td>-0.058387</td>\n",
       "      <td>CX-PCy</td>\n",
       "      <td>InChI=1S/C22H30NP/c1-4-11-19(12-5-1)23-18-10-1...</td>\n",
       "      <td>InChI=1S/C8H8BNO2/c11-9(12)7-1-2-8-6(5-7)3-4-1...</td>\n",
       "      <td>InChI=1S/C2H6O/c1-2-3/h3H,2H2,1H3</td>\n",
       "      <td>71.75</td>\n",
       "    </tr>\n",
       "    <tr>\n",
       "      <th>3</th>\n",
       "      <td>1.11</td>\n",
       "      <td>140.296</td>\n",
       "      <td>0.33</td>\n",
       "      <td>8.371</td>\n",
       "      <td>0.338</td>\n",
       "      <td>105.274</td>\n",
       "      <td>102.178</td>\n",
       "      <td>-0.291</td>\n",
       "      <td>-0.456</td>\n",
       "      <td>12.9615</td>\n",
       "      <td>...</td>\n",
       "      <td>117.597336</td>\n",
       "      <td>54.091050</td>\n",
       "      <td>618.03375</td>\n",
       "      <td>1.817123</td>\n",
       "      <td>-0.054418</td>\n",
       "      <td>Cy-BippyPhos</td>\n",
       "      <td>InChI=1S/C36H39N4P/c1-6-16-28(17-7-1)34-36(35(...</td>\n",
       "      <td>InChI=1S/C8H8BNO2/c11-9(12)7-1-2-8-6(5-7)3-4-1...</td>\n",
       "      <td>InChI=1S/C2H6O/c1-2-3/h3H,2H2,1H3</td>\n",
       "      <td>64.52</td>\n",
       "    </tr>\n",
       "    <tr>\n",
       "      <th>4</th>\n",
       "      <td>1.11</td>\n",
       "      <td>140.296</td>\n",
       "      <td>0.33</td>\n",
       "      <td>8.371</td>\n",
       "      <td>0.338</td>\n",
       "      <td>105.274</td>\n",
       "      <td>102.178</td>\n",
       "      <td>-0.291</td>\n",
       "      <td>-0.456</td>\n",
       "      <td>12.9615</td>\n",
       "      <td>...</td>\n",
       "      <td>111.484024</td>\n",
       "      <td>57.033180</td>\n",
       "      <td>402.37967</td>\n",
       "      <td>1.816461</td>\n",
       "      <td>-0.061351</td>\n",
       "      <td>Cy-JohnPhos</td>\n",
       "      <td>InChI=1S/C24H31P/c1-4-12-20(13-5-1)23-18-10-11...</td>\n",
       "      <td>InChI=1S/C8H8BNO2/c11-9(12)7-1-2-8-6(5-7)3-4-1...</td>\n",
       "      <td>InChI=1S/C2H6O/c1-2-3/h3H,2H2,1H3</td>\n",
       "      <td>80.44</td>\n",
       "    </tr>\n",
       "  </tbody>\n",
       "</table>\n",
       "<p>5 rows × 163 columns</p>\n",
       "</div>"
      ],
      "text/plain": [
       "   ArylHalide_CX_Lowdin  ArylHalide_C_Chem Shift  ArylHalide_C_Electrostatic  \\\n",
       "0                  1.11                  140.296                        0.33   \n",
       "1                  1.11                  140.296                        0.33   \n",
       "2                  1.11                  140.296                        0.33   \n",
       "3                  1.11                  140.296                        0.33   \n",
       "4                  1.11                  140.296                        0.33   \n",
       "\n",
       "   ArylHalide_C_Exposed Area  ArylHalide_C_Mulliken  \\\n",
       "0                      8.371                  0.338   \n",
       "1                      8.371                  0.338   \n",
       "2                      8.371                  0.338   \n",
       "3                      8.371                  0.338   \n",
       "4                      8.371                  0.338   \n",
       "\n",
       "   ArylHalide_XY_Chem Shift_Max  ArylHalide_XY_Chem Shift_Min  \\\n",
       "0                       105.274                       102.178   \n",
       "1                       105.274                       102.178   \n",
       "2                       105.274                       102.178   \n",
       "3                       105.274                       102.178   \n",
       "4                       105.274                       102.178   \n",
       "\n",
       "   ArylHalide_XY_Electrostatic_Max  ArylHalide_XY_Electrostatic_Min  \\\n",
       "0                           -0.291                           -0.456   \n",
       "1                           -0.291                           -0.456   \n",
       "2                           -0.291                           -0.456   \n",
       "3                           -0.291                           -0.456   \n",
       "4                           -0.291                           -0.456   \n",
       "\n",
       "   ArylHalide_XY_Exposed Area_Avg  ...  Kraken_vbur_vbur_max  \\\n",
       "0                         12.9615  ...             50.731606   \n",
       "1                         12.9615  ...             80.673770   \n",
       "2                         12.9615  ...            107.755370   \n",
       "3                         12.9615  ...            117.597336   \n",
       "4                         12.9615  ...            111.484024   \n",
       "\n",
       "   Kraken_vbur_vbur_min  Kraken_vbur_vtot_boltz  Kraken_vmin_r_boltz  \\\n",
       "0             50.731606               351.19888             1.840787   \n",
       "1             61.935337               479.46484             1.803143   \n",
       "2             56.694310               386.44120             1.805810   \n",
       "3             54.091050               618.03375             1.817123   \n",
       "4             57.033180               402.37967             1.816461   \n",
       "\n",
       "   Kraken_vmin_vmin_boltz        Ligand  \\\n",
       "0               -0.055960      A-paPhos   \n",
       "1               -0.058457        CX-FBu   \n",
       "2               -0.058387        CX-PCy   \n",
       "3               -0.054418  Cy-BippyPhos   \n",
       "4               -0.061351   Cy-JohnPhos   \n",
       "\n",
       "                                        Ligand_inchi  \\\n",
       "0  InChI=1S/C20H20NP/c1-21(2)17-13-15-20(16-14-17...   \n",
       "1  InChI=1S/C29H39P.BF4/c1-2-3-22-29(27-20-12-10-...   \n",
       "2  InChI=1S/C22H30NP/c1-4-11-19(12-5-1)23-18-10-1...   \n",
       "3  InChI=1S/C36H39N4P/c1-6-16-28(17-7-1)34-36(35(...   \n",
       "4  InChI=1S/C24H31P/c1-4-12-20(13-5-1)23-18-10-11...   \n",
       "\n",
       "                                       Product_inchi  \\\n",
       "0  InChI=1S/C8H8BNO2/c11-9(12)7-1-2-8-6(5-7)3-4-1...   \n",
       "1  InChI=1S/C8H8BNO2/c11-9(12)7-1-2-8-6(5-7)3-4-1...   \n",
       "2  InChI=1S/C8H8BNO2/c11-9(12)7-1-2-8-6(5-7)3-4-1...   \n",
       "3  InChI=1S/C8H8BNO2/c11-9(12)7-1-2-8-6(5-7)3-4-1...   \n",
       "4  InChI=1S/C8H8BNO2/c11-9(12)7-1-2-8-6(5-7)3-4-1...   \n",
       "\n",
       "                       Solvent_inchi  Yield  \n",
       "0  InChI=1S/C2H6O/c1-2-3/h3H,2H2,1H3  87.13  \n",
       "1  InChI=1S/C2H6O/c1-2-3/h3H,2H2,1H3   6.37  \n",
       "2  InChI=1S/C2H6O/c1-2-3/h3H,2H2,1H3  71.75  \n",
       "3  InChI=1S/C2H6O/c1-2-3/h3H,2H2,1H3  64.52  \n",
       "4  InChI=1S/C2H6O/c1-2-3/h3H,2H2,1H3  80.44  \n",
       "\n",
       "[5 rows x 163 columns]"
      ]
     },
     "execution_count": 2,
     "metadata": {},
     "output_type": "execute_result"
    }
   ],
   "source": [
    "dataset = pd.read_csv(\"./data/data_EtOH_Final.csv\")\n",
    "dataset.head()"
   ]
  },
  {
   "cell_type": "code",
   "execution_count": 3,
   "id": "plain-amino",
   "metadata": {},
   "outputs": [
    {
     "data": {
      "text/plain": [
       "['A-paPhos',\n",
       " 'CX-FBu',\n",
       " 'CX-PCy',\n",
       " 'Cy-BippyPhos',\n",
       " 'Cy-JohnPhos',\n",
       " 'Cy-PhenCar-Phos',\n",
       " 'Cy-vBRIDP',\n",
       " 'Kwong',\n",
       " 'MePhos',\n",
       " 'PCy3 HBF4',\n",
       " 'Ph-DavePhos',\n",
       " 'Ph-SPhos',\n",
       " 'Ph-XPhos',\n",
       " 'PMe3 HBF4',\n",
       " 'PnBu3 HBF4',\n",
       " 'P(o-Anis)3',\n",
       " 'P(p-Anis)3',\n",
       " 'P(p-F-Ph)3',\n",
       " 'PPh2Cy',\n",
       " 'PPh3',\n",
       " 'PPhtBu2',\n",
       " 'PXy3',\n",
       " 'VPhos']"
      ]
     },
     "execution_count": 3,
     "metadata": {},
     "output_type": "execute_result"
    }
   ],
   "source": [
    "dataset.Ligand.unique().tolist()"
   ]
  },
  {
   "cell_type": "code",
   "execution_count": 4,
   "id": "connected-buyer",
   "metadata": {},
   "outputs": [
    {
     "data": {
      "text/html": [
       "<div>\n",
       "<style scoped>\n",
       "    .dataframe tbody tr th:only-of-type {\n",
       "        vertical-align: middle;\n",
       "    }\n",
       "\n",
       "    .dataframe tbody tr th {\n",
       "        vertical-align: top;\n",
       "    }\n",
       "\n",
       "    .dataframe thead th {\n",
       "        text-align: right;\n",
       "    }\n",
       "</style>\n",
       "<table border=\"1\" class=\"dataframe\">\n",
       "  <thead>\n",
       "    <tr style=\"text-align: right;\">\n",
       "      <th></th>\n",
       "      <th>ArylHalide_CX_Lowdin</th>\n",
       "      <th>ArylHalide_C_Chem Shift</th>\n",
       "      <th>ArylHalide_C_Electrostatic</th>\n",
       "      <th>ArylHalide_C_Exposed Area</th>\n",
       "      <th>ArylHalide_C_Mulliken</th>\n",
       "      <th>ArylHalide_XY_Chem Shift_Max</th>\n",
       "      <th>ArylHalide_XY_Chem Shift_Min</th>\n",
       "      <th>ArylHalide_XY_Electrostatic_Max</th>\n",
       "      <th>ArylHalide_XY_Electrostatic_Min</th>\n",
       "      <th>ArylHalide_XY_Exposed Area_Avg</th>\n",
       "      <th>...</th>\n",
       "      <th>Kraken_vbur_vbur_max</th>\n",
       "      <th>Kraken_vbur_vbur_min</th>\n",
       "      <th>Kraken_vbur_vtot_boltz</th>\n",
       "      <th>Kraken_vmin_r_boltz</th>\n",
       "      <th>Kraken_vmin_vmin_boltz</th>\n",
       "      <th>Ligand</th>\n",
       "      <th>Ligand_inchi</th>\n",
       "      <th>Product_inchi</th>\n",
       "      <th>Solvent_inchi</th>\n",
       "      <th>Yield</th>\n",
       "    </tr>\n",
       "  </thead>\n",
       "  <tbody>\n",
       "    <tr>\n",
       "      <th>0</th>\n",
       "      <td>1.09</td>\n",
       "      <td>129.449</td>\n",
       "      <td>0.124</td>\n",
       "      <td>7.356</td>\n",
       "      <td>0.004</td>\n",
       "      <td>120.935</td>\n",
       "      <td>118.065</td>\n",
       "      <td>-0.177</td>\n",
       "      <td>-0.341</td>\n",
       "      <td>13.589</td>\n",
       "      <td>...</td>\n",
       "      <td>117.552360</td>\n",
       "      <td>56.790530</td>\n",
       "      <td>430.68256</td>\n",
       "      <td>1.797235</td>\n",
       "      <td>-0.062511</td>\n",
       "      <td>Cy-JohnPhos-OMe</td>\n",
       "      <td>InChI=1S/C25H33OP/c1-26-24-18-10-8-16-22(24)23...</td>\n",
       "      <td>InChI=1S/C8H7BO3/c10-9(11)7-1-2-8-6(5-7)3-4-12...</td>\n",
       "      <td>InChI=1S/C2H6O/c1-2-3/h3H,2H2,1H3</td>\n",
       "      <td>80.58</td>\n",
       "    </tr>\n",
       "    <tr>\n",
       "      <th>1</th>\n",
       "      <td>1.09</td>\n",
       "      <td>129.449</td>\n",
       "      <td>0.124</td>\n",
       "      <td>7.356</td>\n",
       "      <td>0.004</td>\n",
       "      <td>120.935</td>\n",
       "      <td>118.065</td>\n",
       "      <td>-0.177</td>\n",
       "      <td>-0.341</td>\n",
       "      <td>13.589</td>\n",
       "      <td>...</td>\n",
       "      <td>124.748184</td>\n",
       "      <td>58.538240</td>\n",
       "      <td>497.10650</td>\n",
       "      <td>1.784157</td>\n",
       "      <td>-0.063670</td>\n",
       "      <td>CPhos</td>\n",
       "      <td>InChI=1S/C28H41N2P/c1-29(2)25-19-13-20-26(30(3...</td>\n",
       "      <td>InChI=1S/C8H7BO3/c10-9(11)7-1-2-8-6(5-7)3-4-12...</td>\n",
       "      <td>InChI=1S/C2H6O/c1-2-3/h3H,2H2,1H3</td>\n",
       "      <td>67.06</td>\n",
       "    </tr>\n",
       "    <tr>\n",
       "      <th>2</th>\n",
       "      <td>1.09</td>\n",
       "      <td>129.449</td>\n",
       "      <td>0.124</td>\n",
       "      <td>7.356</td>\n",
       "      <td>0.004</td>\n",
       "      <td>120.935</td>\n",
       "      <td>118.065</td>\n",
       "      <td>-0.177</td>\n",
       "      <td>-0.341</td>\n",
       "      <td>13.589</td>\n",
       "      <td>...</td>\n",
       "      <td>109.966415</td>\n",
       "      <td>55.457000</td>\n",
       "      <td>415.06253</td>\n",
       "      <td>1.801754</td>\n",
       "      <td>-0.061979</td>\n",
       "      <td>CX-POMeCy</td>\n",
       "      <td>InChI=1S/C23H32NOP/c1-25-22-16-9-8-15-21(22)24...</td>\n",
       "      <td>InChI=1S/C8H7BO3/c10-9(11)7-1-2-8-6(5-7)3-4-12...</td>\n",
       "      <td>InChI=1S/C2H6O/c1-2-3/h3H,2H2,1H3</td>\n",
       "      <td>78.86</td>\n",
       "    </tr>\n",
       "    <tr>\n",
       "      <th>3</th>\n",
       "      <td>1.09</td>\n",
       "      <td>129.449</td>\n",
       "      <td>0.124</td>\n",
       "      <td>7.356</td>\n",
       "      <td>0.004</td>\n",
       "      <td>120.935</td>\n",
       "      <td>118.065</td>\n",
       "      <td>-0.177</td>\n",
       "      <td>-0.341</td>\n",
       "      <td>13.589</td>\n",
       "      <td>...</td>\n",
       "      <td>49.582157</td>\n",
       "      <td>43.828636</td>\n",
       "      <td>151.64550</td>\n",
       "      <td>1.826696</td>\n",
       "      <td>-0.062157</td>\n",
       "      <td>PEt3</td>\n",
       "      <td>InChI=1S/C6H15P/c1-4-7(5-2)6-3/h4-6H2,1-3H3</td>\n",
       "      <td>InChI=1S/C8H7BO3/c10-9(11)7-1-2-8-6(5-7)3-4-12...</td>\n",
       "      <td>InChI=1S/C2H6O/c1-2-3/h3H,2H2,1H3</td>\n",
       "      <td>8.66</td>\n",
       "    </tr>\n",
       "    <tr>\n",
       "      <th>4</th>\n",
       "      <td>1.09</td>\n",
       "      <td>129.449</td>\n",
       "      <td>0.124</td>\n",
       "      <td>7.356</td>\n",
       "      <td>0.004</td>\n",
       "      <td>120.935</td>\n",
       "      <td>118.065</td>\n",
       "      <td>-0.177</td>\n",
       "      <td>-0.341</td>\n",
       "      <td>13.589</td>\n",
       "      <td>...</td>\n",
       "      <td>54.862930</td>\n",
       "      <td>51.901974</td>\n",
       "      <td>330.64270</td>\n",
       "      <td>1.833448</td>\n",
       "      <td>-0.054343</td>\n",
       "      <td>PPh2(o-Anis)</td>\n",
       "      <td>InChI=1S/C19H17OP/c1-20-18-14-8-9-15-19(18)21(...</td>\n",
       "      <td>InChI=1S/C8H7BO3/c10-9(11)7-1-2-8-6(5-7)3-4-12...</td>\n",
       "      <td>InChI=1S/C2H6O/c1-2-3/h3H,2H2,1H3</td>\n",
       "      <td>79.61</td>\n",
       "    </tr>\n",
       "  </tbody>\n",
       "</table>\n",
       "<p>5 rows × 163 columns</p>\n",
       "</div>"
      ],
      "text/plain": [
       "   ArylHalide_CX_Lowdin  ArylHalide_C_Chem Shift  ArylHalide_C_Electrostatic  \\\n",
       "0                  1.09                  129.449                       0.124   \n",
       "1                  1.09                  129.449                       0.124   \n",
       "2                  1.09                  129.449                       0.124   \n",
       "3                  1.09                  129.449                       0.124   \n",
       "4                  1.09                  129.449                       0.124   \n",
       "\n",
       "   ArylHalide_C_Exposed Area  ArylHalide_C_Mulliken  \\\n",
       "0                      7.356                  0.004   \n",
       "1                      7.356                  0.004   \n",
       "2                      7.356                  0.004   \n",
       "3                      7.356                  0.004   \n",
       "4                      7.356                  0.004   \n",
       "\n",
       "   ArylHalide_XY_Chem Shift_Max  ArylHalide_XY_Chem Shift_Min  \\\n",
       "0                       120.935                       118.065   \n",
       "1                       120.935                       118.065   \n",
       "2                       120.935                       118.065   \n",
       "3                       120.935                       118.065   \n",
       "4                       120.935                       118.065   \n",
       "\n",
       "   ArylHalide_XY_Electrostatic_Max  ArylHalide_XY_Electrostatic_Min  \\\n",
       "0                           -0.177                           -0.341   \n",
       "1                           -0.177                           -0.341   \n",
       "2                           -0.177                           -0.341   \n",
       "3                           -0.177                           -0.341   \n",
       "4                           -0.177                           -0.341   \n",
       "\n",
       "   ArylHalide_XY_Exposed Area_Avg  ...  Kraken_vbur_vbur_max  \\\n",
       "0                          13.589  ...            117.552360   \n",
       "1                          13.589  ...            124.748184   \n",
       "2                          13.589  ...            109.966415   \n",
       "3                          13.589  ...             49.582157   \n",
       "4                          13.589  ...             54.862930   \n",
       "\n",
       "   Kraken_vbur_vbur_min  Kraken_vbur_vtot_boltz  Kraken_vmin_r_boltz  \\\n",
       "0             56.790530               430.68256             1.797235   \n",
       "1             58.538240               497.10650             1.784157   \n",
       "2             55.457000               415.06253             1.801754   \n",
       "3             43.828636               151.64550             1.826696   \n",
       "4             51.901974               330.64270             1.833448   \n",
       "\n",
       "   Kraken_vmin_vmin_boltz           Ligand  \\\n",
       "0               -0.062511  Cy-JohnPhos-OMe   \n",
       "1               -0.063670            CPhos   \n",
       "2               -0.061979        CX-POMeCy   \n",
       "3               -0.062157             PEt3   \n",
       "4               -0.054343     PPh2(o-Anis)   \n",
       "\n",
       "                                        Ligand_inchi  \\\n",
       "0  InChI=1S/C25H33OP/c1-26-24-18-10-8-16-22(24)23...   \n",
       "1  InChI=1S/C28H41N2P/c1-29(2)25-19-13-20-26(30(3...   \n",
       "2  InChI=1S/C23H32NOP/c1-25-22-16-9-8-15-21(22)24...   \n",
       "3        InChI=1S/C6H15P/c1-4-7(5-2)6-3/h4-6H2,1-3H3   \n",
       "4  InChI=1S/C19H17OP/c1-20-18-14-8-9-15-19(18)21(...   \n",
       "\n",
       "                                       Product_inchi  \\\n",
       "0  InChI=1S/C8H7BO3/c10-9(11)7-1-2-8-6(5-7)3-4-12...   \n",
       "1  InChI=1S/C8H7BO3/c10-9(11)7-1-2-8-6(5-7)3-4-12...   \n",
       "2  InChI=1S/C8H7BO3/c10-9(11)7-1-2-8-6(5-7)3-4-12...   \n",
       "3  InChI=1S/C8H7BO3/c10-9(11)7-1-2-8-6(5-7)3-4-12...   \n",
       "4  InChI=1S/C8H7BO3/c10-9(11)7-1-2-8-6(5-7)3-4-12...   \n",
       "\n",
       "                       Solvent_inchi  Yield  \n",
       "0  InChI=1S/C2H6O/c1-2-3/h3H,2H2,1H3  80.58  \n",
       "1  InChI=1S/C2H6O/c1-2-3/h3H,2H2,1H3  67.06  \n",
       "2  InChI=1S/C2H6O/c1-2-3/h3H,2H2,1H3  78.86  \n",
       "3  InChI=1S/C2H6O/c1-2-3/h3H,2H2,1H3   8.66  \n",
       "4  InChI=1S/C2H6O/c1-2-3/h3H,2H2,1H3  79.61  \n",
       "\n",
       "[5 rows x 163 columns]"
      ]
     },
     "execution_count": 4,
     "metadata": {},
     "output_type": "execute_result"
    }
   ],
   "source": [
    "#load external ligand dataset in EtOH\n",
    "ex_dataset = pd.read_csv(\"./data/external_ligand_data_EtOH.csv\")\n",
    "ex_dataset.head()"
   ]
  },
  {
   "cell_type": "code",
   "execution_count": 5,
   "id": "mental-mambo",
   "metadata": {},
   "outputs": [
    {
     "data": {
      "text/plain": [
       "['Cy-JohnPhos-OMe',\n",
       " 'CPhos',\n",
       " 'CX-POMeCy',\n",
       " 'PEt3',\n",
       " 'PPh2(o-Anis)',\n",
       " 'RuPhos',\n",
       " 'P(p-CF3-Ph)3',\n",
       " 'CM-Phos',\n",
       " 'PBn3',\n",
       " 'CX-PInCy',\n",
       " 'S-Phos',\n",
       " 'PPhCy2']"
      ]
     },
     "execution_count": 5,
     "metadata": {},
     "output_type": "execute_result"
    }
   ],
   "source": [
    "ex_dataset.Ligand.unique().tolist()"
   ]
  },
  {
   "cell_type": "code",
   "execution_count": 6,
   "id": "contemporary-coverage",
   "metadata": {},
   "outputs": [
    {
     "name": "stdout",
     "output_type": "stream",
     "text": [
      "(779, 157)\n"
     ]
    },
    {
     "data": {
      "text/html": [
       "<div>\n",
       "<style scoped>\n",
       "    .dataframe tbody tr th:only-of-type {\n",
       "        vertical-align: middle;\n",
       "    }\n",
       "\n",
       "    .dataframe tbody tr th {\n",
       "        vertical-align: top;\n",
       "    }\n",
       "\n",
       "    .dataframe thead th {\n",
       "        text-align: right;\n",
       "    }\n",
       "</style>\n",
       "<table border=\"1\" class=\"dataframe\">\n",
       "  <thead>\n",
       "    <tr style=\"text-align: right;\">\n",
       "      <th></th>\n",
       "      <th>ArylHalide_CX_Lowdin</th>\n",
       "      <th>ArylHalide_C_Chem Shift</th>\n",
       "      <th>ArylHalide_C_Electrostatic</th>\n",
       "      <th>ArylHalide_C_Exposed Area</th>\n",
       "      <th>ArylHalide_C_Mulliken</th>\n",
       "      <th>ArylHalide_XY_Chem Shift_Max</th>\n",
       "      <th>ArylHalide_XY_Chem Shift_Min</th>\n",
       "      <th>ArylHalide_XY_Electrostatic_Max</th>\n",
       "      <th>ArylHalide_XY_Electrostatic_Min</th>\n",
       "      <th>ArylHalide_XY_Exposed Area_Avg</th>\n",
       "      <th>...</th>\n",
       "      <th>Kraken_vbur_qvtot_min_min</th>\n",
       "      <th>Kraken_vbur_qvtot_min_vburminconf</th>\n",
       "      <th>Kraken_vbur_ratio_vbur_vtot_boltz</th>\n",
       "      <th>Kraken_vbur_vbur_boltz</th>\n",
       "      <th>Kraken_vbur_vbur_max</th>\n",
       "      <th>Kraken_vbur_vbur_min</th>\n",
       "      <th>Kraken_vbur_vtot_boltz</th>\n",
       "      <th>Kraken_vmin_r_boltz</th>\n",
       "      <th>Kraken_vmin_vmin_boltz</th>\n",
       "      <th>Yield</th>\n",
       "    </tr>\n",
       "  </thead>\n",
       "  <tbody>\n",
       "    <tr>\n",
       "      <th>0</th>\n",
       "      <td>1.11</td>\n",
       "      <td>140.296</td>\n",
       "      <td>0.33</td>\n",
       "      <td>8.371</td>\n",
       "      <td>0.338</td>\n",
       "      <td>105.274</td>\n",
       "      <td>102.178</td>\n",
       "      <td>-0.291</td>\n",
       "      <td>-0.456</td>\n",
       "      <td>12.9615</td>\n",
       "      <td>...</td>\n",
       "      <td>59.829678</td>\n",
       "      <td>59.829678</td>\n",
       "      <td>0.144453</td>\n",
       "      <td>50.731606</td>\n",
       "      <td>50.731606</td>\n",
       "      <td>50.731606</td>\n",
       "      <td>351.19888</td>\n",
       "      <td>1.840787</td>\n",
       "      <td>-0.055960</td>\n",
       "      <td>87.13</td>\n",
       "    </tr>\n",
       "    <tr>\n",
       "      <th>1</th>\n",
       "      <td>1.11</td>\n",
       "      <td>140.296</td>\n",
       "      <td>0.33</td>\n",
       "      <td>8.371</td>\n",
       "      <td>0.338</td>\n",
       "      <td>105.274</td>\n",
       "      <td>102.178</td>\n",
       "      <td>-0.291</td>\n",
       "      <td>-0.456</td>\n",
       "      <td>12.9615</td>\n",
       "      <td>...</td>\n",
       "      <td>47.895260</td>\n",
       "      <td>67.167030</td>\n",
       "      <td>0.134809</td>\n",
       "      <td>64.636100</td>\n",
       "      <td>80.673770</td>\n",
       "      <td>61.935337</td>\n",
       "      <td>479.46484</td>\n",
       "      <td>1.803143</td>\n",
       "      <td>-0.058457</td>\n",
       "      <td>6.37</td>\n",
       "    </tr>\n",
       "    <tr>\n",
       "      <th>2</th>\n",
       "      <td>1.11</td>\n",
       "      <td>140.296</td>\n",
       "      <td>0.33</td>\n",
       "      <td>8.371</td>\n",
       "      <td>0.338</td>\n",
       "      <td>105.274</td>\n",
       "      <td>102.178</td>\n",
       "      <td>-0.291</td>\n",
       "      <td>-0.456</td>\n",
       "      <td>12.9615</td>\n",
       "      <td>...</td>\n",
       "      <td>36.894516</td>\n",
       "      <td>75.417816</td>\n",
       "      <td>0.211005</td>\n",
       "      <td>81.541550</td>\n",
       "      <td>107.755370</td>\n",
       "      <td>56.694310</td>\n",
       "      <td>386.44120</td>\n",
       "      <td>1.805810</td>\n",
       "      <td>-0.058387</td>\n",
       "      <td>71.75</td>\n",
       "    </tr>\n",
       "    <tr>\n",
       "      <th>3</th>\n",
       "      <td>1.11</td>\n",
       "      <td>140.296</td>\n",
       "      <td>0.33</td>\n",
       "      <td>8.371</td>\n",
       "      <td>0.338</td>\n",
       "      <td>105.274</td>\n",
       "      <td>102.178</td>\n",
       "      <td>-0.291</td>\n",
       "      <td>-0.456</td>\n",
       "      <td>12.9615</td>\n",
       "      <td>...</td>\n",
       "      <td>45.164505</td>\n",
       "      <td>77.044235</td>\n",
       "      <td>0.160584</td>\n",
       "      <td>99.246600</td>\n",
       "      <td>117.597336</td>\n",
       "      <td>54.091050</td>\n",
       "      <td>618.03375</td>\n",
       "      <td>1.817123</td>\n",
       "      <td>-0.054418</td>\n",
       "      <td>64.52</td>\n",
       "    </tr>\n",
       "    <tr>\n",
       "      <th>4</th>\n",
       "      <td>1.11</td>\n",
       "      <td>140.296</td>\n",
       "      <td>0.33</td>\n",
       "      <td>8.371</td>\n",
       "      <td>0.338</td>\n",
       "      <td>105.274</td>\n",
       "      <td>102.178</td>\n",
       "      <td>-0.291</td>\n",
       "      <td>-0.456</td>\n",
       "      <td>12.9615</td>\n",
       "      <td>...</td>\n",
       "      <td>44.561430</td>\n",
       "      <td>72.197180</td>\n",
       "      <td>0.212085</td>\n",
       "      <td>85.339290</td>\n",
       "      <td>111.484024</td>\n",
       "      <td>57.033180</td>\n",
       "      <td>402.37967</td>\n",
       "      <td>1.816461</td>\n",
       "      <td>-0.061351</td>\n",
       "      <td>80.44</td>\n",
       "    </tr>\n",
       "  </tbody>\n",
       "</table>\n",
       "<p>5 rows × 157 columns</p>\n",
       "</div>"
      ],
      "text/plain": [
       "   ArylHalide_CX_Lowdin  ArylHalide_C_Chem Shift  ArylHalide_C_Electrostatic  \\\n",
       "0                  1.11                  140.296                        0.33   \n",
       "1                  1.11                  140.296                        0.33   \n",
       "2                  1.11                  140.296                        0.33   \n",
       "3                  1.11                  140.296                        0.33   \n",
       "4                  1.11                  140.296                        0.33   \n",
       "\n",
       "   ArylHalide_C_Exposed Area  ArylHalide_C_Mulliken  \\\n",
       "0                      8.371                  0.338   \n",
       "1                      8.371                  0.338   \n",
       "2                      8.371                  0.338   \n",
       "3                      8.371                  0.338   \n",
       "4                      8.371                  0.338   \n",
       "\n",
       "   ArylHalide_XY_Chem Shift_Max  ArylHalide_XY_Chem Shift_Min  \\\n",
       "0                       105.274                       102.178   \n",
       "1                       105.274                       102.178   \n",
       "2                       105.274                       102.178   \n",
       "3                       105.274                       102.178   \n",
       "4                       105.274                       102.178   \n",
       "\n",
       "   ArylHalide_XY_Electrostatic_Max  ArylHalide_XY_Electrostatic_Min  \\\n",
       "0                           -0.291                           -0.456   \n",
       "1                           -0.291                           -0.456   \n",
       "2                           -0.291                           -0.456   \n",
       "3                           -0.291                           -0.456   \n",
       "4                           -0.291                           -0.456   \n",
       "\n",
       "   ArylHalide_XY_Exposed Area_Avg  ...  Kraken_vbur_qvtot_min_min  \\\n",
       "0                         12.9615  ...                  59.829678   \n",
       "1                         12.9615  ...                  47.895260   \n",
       "2                         12.9615  ...                  36.894516   \n",
       "3                         12.9615  ...                  45.164505   \n",
       "4                         12.9615  ...                  44.561430   \n",
       "\n",
       "   Kraken_vbur_qvtot_min_vburminconf  Kraken_vbur_ratio_vbur_vtot_boltz  \\\n",
       "0                          59.829678                           0.144453   \n",
       "1                          67.167030                           0.134809   \n",
       "2                          75.417816                           0.211005   \n",
       "3                          77.044235                           0.160584   \n",
       "4                          72.197180                           0.212085   \n",
       "\n",
       "   Kraken_vbur_vbur_boltz  Kraken_vbur_vbur_max  Kraken_vbur_vbur_min  \\\n",
       "0               50.731606             50.731606             50.731606   \n",
       "1               64.636100             80.673770             61.935337   \n",
       "2               81.541550            107.755370             56.694310   \n",
       "3               99.246600            117.597336             54.091050   \n",
       "4               85.339290            111.484024             57.033180   \n",
       "\n",
       "   Kraken_vbur_vtot_boltz  Kraken_vmin_r_boltz  Kraken_vmin_vmin_boltz  Yield  \n",
       "0               351.19888             1.840787               -0.055960  87.13  \n",
       "1               479.46484             1.803143               -0.058457   6.37  \n",
       "2               386.44120             1.805810               -0.058387  71.75  \n",
       "3               618.03375             1.817123               -0.054418  64.52  \n",
       "4               402.37967             1.816461               -0.061351  80.44  \n",
       "\n",
       "[5 rows x 157 columns]"
      ]
     },
     "execution_count": 6,
     "metadata": {},
     "output_type": "execute_result"
    }
   ],
   "source": [
    "#Training set\n",
    "ML_data_traintest = dataset\n",
    "ML_data_traintest2 = ML_data_traintest.drop(['Electrophile_inchi', 'Solvent_inchi', 'Ligand_inchi', 'Product_inchi', 'Electrophile', 'Ligand'], axis = 1)\n",
    "print (ML_data_traintest2.shape)\n",
    "ML_data_traintest2.head()"
   ]
  },
  {
   "cell_type": "code",
   "execution_count": 7,
   "id": "active-fireplace",
   "metadata": {},
   "outputs": [],
   "source": [
    "X_train=ML_data_traintest2.drop(columns=['Yield'])\n",
    "Y_train=ML_data_traintest2['Yield']"
   ]
  },
  {
   "cell_type": "markdown",
   "id": "completed-learning",
   "metadata": {},
   "source": [
    "### Lasso"
   ]
  },
  {
   "cell_type": "code",
   "execution_count": 8,
   "id": "casual-civilian",
   "metadata": {},
   "outputs": [
    {
     "name": "stdout",
     "output_type": "stream",
     "text": [
      "Fitting 5 folds for each of 50 candidates, totalling 250 fits\n",
      "[CV 1/5] END .............................model__alpha=1e-10; total time=   0.1s\n"
     ]
    },
    {
     "name": "stderr",
     "output_type": "stream",
     "text": [
      "/opt/conda/lib/python3.8/site-packages/sklearn/linear_model/_coordinate_descent.py:530: ConvergenceWarning: Objective did not converge. You might want to increase the number of iterations. Duality gap: 65199.71514053541, tolerance: 39.78987416850729\n",
      "  model = cd_fast.enet_coordinate_descent(\n",
      "/opt/conda/lib/python3.8/site-packages/sklearn/linear_model/_coordinate_descent.py:530: ConvergenceWarning: Objective did not converge. You might want to increase the number of iterations. Duality gap: 73764.87512216749, tolerance: 44.57595086941136\n",
      "  model = cd_fast.enet_coordinate_descent(\n"
     ]
    },
    {
     "name": "stdout",
     "output_type": "stream",
     "text": [
      "[CV 2/5] END .............................model__alpha=1e-10; total time=   0.2s\n"
     ]
    },
    {
     "name": "stderr",
     "output_type": "stream",
     "text": [
      "/opt/conda/lib/python3.8/site-packages/sklearn/linear_model/_coordinate_descent.py:530: ConvergenceWarning: Objective did not converge. You might want to increase the number of iterations. Duality gap: 85156.35085450395, tolerance: 46.82437454234459\n",
      "  model = cd_fast.enet_coordinate_descent(\n"
     ]
    },
    {
     "name": "stdout",
     "output_type": "stream",
     "text": [
      "[CV 3/5] END .............................model__alpha=1e-10; total time=   0.2s\n"
     ]
    },
    {
     "name": "stderr",
     "output_type": "stream",
     "text": [
      "/opt/conda/lib/python3.8/site-packages/sklearn/linear_model/_coordinate_descent.py:530: ConvergenceWarning: Objective did not converge. You might want to increase the number of iterations. Duality gap: 78316.04468624858, tolerance: 45.05783419193453\n",
      "  model = cd_fast.enet_coordinate_descent(\n"
     ]
    },
    {
     "name": "stdout",
     "output_type": "stream",
     "text": [
      "[CV 4/5] END .............................model__alpha=1e-10; total time=   0.2s\n"
     ]
    },
    {
     "name": "stderr",
     "output_type": "stream",
     "text": [
      "/opt/conda/lib/python3.8/site-packages/sklearn/linear_model/_coordinate_descent.py:530: ConvergenceWarning: Objective did not converge. You might want to increase the number of iterations. Duality gap: 78401.92545405032, tolerance: 42.123115404364526\n",
      "  model = cd_fast.enet_coordinate_descent(\n"
     ]
    },
    {
     "name": "stdout",
     "output_type": "stream",
     "text": [
      "[CV 5/5] END .............................model__alpha=1e-10; total time=   0.3s\n",
      "[CV 1/5] END ..............model__alpha=1.67683293681101e-10; total time=   0.2s\n"
     ]
    },
    {
     "name": "stderr",
     "output_type": "stream",
     "text": [
      "/opt/conda/lib/python3.8/site-packages/sklearn/linear_model/_coordinate_descent.py:530: ConvergenceWarning: Objective did not converge. You might want to increase the number of iterations. Duality gap: 65199.71489573774, tolerance: 39.78987416850729\n",
      "  model = cd_fast.enet_coordinate_descent(\n",
      "/opt/conda/lib/python3.8/site-packages/sklearn/linear_model/_coordinate_descent.py:530: ConvergenceWarning: Objective did not converge. You might want to increase the number of iterations. Duality gap: 73764.87468550206, tolerance: 44.57595086941136\n",
      "  model = cd_fast.enet_coordinate_descent(\n",
      "/opt/conda/lib/python3.8/site-packages/sklearn/linear_model/_coordinate_descent.py:530: ConvergenceWarning: Objective did not converge. You might want to increase the number of iterations. Duality gap: 85156.35051835763, tolerance: 46.82437454234459\n",
      "  model = cd_fast.enet_coordinate_descent(\n"
     ]
    },
    {
     "name": "stdout",
     "output_type": "stream",
     "text": [
      "[CV 2/5] END ..............model__alpha=1.67683293681101e-10; total time=   0.2s\n",
      "[CV 3/5] END ..............model__alpha=1.67683293681101e-10; total time=   0.2s\n"
     ]
    },
    {
     "name": "stderr",
     "output_type": "stream",
     "text": [
      "/opt/conda/lib/python3.8/site-packages/sklearn/linear_model/_coordinate_descent.py:530: ConvergenceWarning: Objective did not converge. You might want to increase the number of iterations. Duality gap: 78316.04431912611, tolerance: 45.05783419193453\n",
      "  model = cd_fast.enet_coordinate_descent(\n",
      "/opt/conda/lib/python3.8/site-packages/sklearn/linear_model/_coordinate_descent.py:530: ConvergenceWarning: Objective did not converge. You might want to increase the number of iterations. Duality gap: 78401.92513545163, tolerance: 42.123115404364526\n",
      "  model = cd_fast.enet_coordinate_descent(\n"
     ]
    },
    {
     "name": "stdout",
     "output_type": "stream",
     "text": [
      "[CV 4/5] END ..............model__alpha=1.67683293681101e-10; total time=   0.2s\n",
      "[CV 5/5] END ..............model__alpha=1.67683293681101e-10; total time=   0.2s\n"
     ]
    },
    {
     "name": "stderr",
     "output_type": "stream",
     "text": [
      "/opt/conda/lib/python3.8/site-packages/sklearn/linear_model/_coordinate_descent.py:530: ConvergenceWarning: Objective did not converge. You might want to increase the number of iterations. Duality gap: 65199.71448525159, tolerance: 39.78987416850729\n",
      "  model = cd_fast.enet_coordinate_descent(\n"
     ]
    },
    {
     "name": "stdout",
     "output_type": "stream",
     "text": [
      "[CV 1/5] END .............model__alpha=2.811768697974225e-10; total time=   0.2s\n",
      "[CV 2/5] END .............model__alpha=2.811768697974225e-10; total time=   0.2s\n"
     ]
    },
    {
     "name": "stderr",
     "output_type": "stream",
     "text": [
      "/opt/conda/lib/python3.8/site-packages/sklearn/linear_model/_coordinate_descent.py:530: ConvergenceWarning: Objective did not converge. You might want to increase the number of iterations. Duality gap: 73764.8739532859, tolerance: 44.57595086941136\n",
      "  model = cd_fast.enet_coordinate_descent(\n",
      "/opt/conda/lib/python3.8/site-packages/sklearn/linear_model/_coordinate_descent.py:530: ConvergenceWarning: Objective did not converge. You might want to increase the number of iterations. Duality gap: 85156.349954697, tolerance: 46.82437454234459\n",
      "  model = cd_fast.enet_coordinate_descent(\n",
      "/opt/conda/lib/python3.8/site-packages/sklearn/linear_model/_coordinate_descent.py:530: ConvergenceWarning: Objective did not converge. You might want to increase the number of iterations. Duality gap: 78316.0437035226, tolerance: 45.05783419193453\n",
      "  model = cd_fast.enet_coordinate_descent(\n"
     ]
    },
    {
     "name": "stdout",
     "output_type": "stream",
     "text": [
      "[CV 3/5] END .............model__alpha=2.811768697974225e-10; total time=   0.3s\n",
      "[CV 4/5] END .............model__alpha=2.811768697974225e-10; total time=   0.2s\n"
     ]
    },
    {
     "name": "stderr",
     "output_type": "stream",
     "text": [
      "/opt/conda/lib/python3.8/site-packages/sklearn/linear_model/_coordinate_descent.py:530: ConvergenceWarning: Objective did not converge. You might want to increase the number of iterations. Duality gap: 78401.92460121456, tolerance: 42.123115404364526\n",
      "  model = cd_fast.enet_coordinate_descent(\n"
     ]
    },
    {
     "name": "stdout",
     "output_type": "stream",
     "text": [
      "[CV 5/5] END .............model__alpha=2.811768697974225e-10; total time=   0.2s\n"
     ]
    },
    {
     "name": "stderr",
     "output_type": "stream",
     "text": [
      "/opt/conda/lib/python3.8/site-packages/sklearn/linear_model/_coordinate_descent.py:530: ConvergenceWarning: Objective did not converge. You might want to increase the number of iterations. Duality gap: 65199.71379693524, tolerance: 39.78987416850729\n",
      "  model = cd_fast.enet_coordinate_descent(\n"
     ]
    },
    {
     "name": "stdout",
     "output_type": "stream",
     "text": [
      "[CV 1/5] END ..............model__alpha=4.71486636345739e-10; total time=   0.2s\n"
     ]
    },
    {
     "name": "stderr",
     "output_type": "stream",
     "text": [
      "/opt/conda/lib/python3.8/site-packages/sklearn/linear_model/_coordinate_descent.py:530: ConvergenceWarning: Objective did not converge. You might want to increase the number of iterations. Duality gap: 73764.87272548277, tolerance: 44.57595086941136\n",
      "  model = cd_fast.enet_coordinate_descent(\n"
     ]
    },
    {
     "name": "stdout",
     "output_type": "stream",
     "text": [
      "[CV 2/5] END ..............model__alpha=4.71486636345739e-10; total time=   0.2s\n"
     ]
    },
    {
     "name": "stderr",
     "output_type": "stream",
     "text": [
      "/opt/conda/lib/python3.8/site-packages/sklearn/linear_model/_coordinate_descent.py:530: ConvergenceWarning: Objective did not converge. You might want to increase the number of iterations. Duality gap: 85156.34900953124, tolerance: 46.82437454234459\n",
      "  model = cd_fast.enet_coordinate_descent(\n",
      "/opt/conda/lib/python3.8/site-packages/sklearn/linear_model/_coordinate_descent.py:530: ConvergenceWarning: Objective did not converge. You might want to increase the number of iterations. Duality gap: 78316.04267125855, tolerance: 45.05783419193453\n",
      "  model = cd_fast.enet_coordinate_descent(\n"
     ]
    },
    {
     "name": "stdout",
     "output_type": "stream",
     "text": [
      "[CV 3/5] END ..............model__alpha=4.71486636345739e-10; total time=   0.2s\n",
      "[CV 4/5] END ..............model__alpha=4.71486636345739e-10; total time=   0.2s\n"
     ]
    },
    {
     "name": "stderr",
     "output_type": "stream",
     "text": [
      "/opt/conda/lib/python3.8/site-packages/sklearn/linear_model/_coordinate_descent.py:530: ConvergenceWarning: Objective did not converge. You might want to increase the number of iterations. Duality gap: 78401.92370538852, tolerance: 42.123115404364526\n",
      "  model = cd_fast.enet_coordinate_descent(\n"
     ]
    },
    {
     "name": "stdout",
     "output_type": "stream",
     "text": [
      "[CV 5/5] END ..............model__alpha=4.71486636345739e-10; total time=   0.3s\n"
     ]
    },
    {
     "name": "stderr",
     "output_type": "stream",
     "text": [
      "/opt/conda/lib/python3.8/site-packages/sklearn/linear_model/_coordinate_descent.py:530: ConvergenceWarning: Objective did not converge. You might want to increase the number of iterations. Duality gap: 65199.71264274363, tolerance: 39.78987416850729\n",
      "  model = cd_fast.enet_coordinate_descent(\n"
     ]
    },
    {
     "name": "stdout",
     "output_type": "stream",
     "text": [
      "[CV 1/5] END .............model__alpha=7.906043210907701e-10; total time=   0.2s\n"
     ]
    },
    {
     "name": "stderr",
     "output_type": "stream",
     "text": [
      "/opt/conda/lib/python3.8/site-packages/sklearn/linear_model/_coordinate_descent.py:530: ConvergenceWarning: Objective did not converge. You might want to increase the number of iterations. Duality gap: 73764.87066666117, tolerance: 44.57595086941136\n",
      "  model = cd_fast.enet_coordinate_descent(\n",
      "/opt/conda/lib/python3.8/site-packages/sklearn/linear_model/_coordinate_descent.py:530: ConvergenceWarning: Objective did not converge. You might want to increase the number of iterations. Duality gap: 85156.34742464643, tolerance: 46.82437454234459\n",
      "  model = cd_fast.enet_coordinate_descent(\n"
     ]
    },
    {
     "name": "stdout",
     "output_type": "stream",
     "text": [
      "[CV 2/5] END .............model__alpha=7.906043210907701e-10; total time=   0.2s\n",
      "[CV 3/5] END .............model__alpha=7.906043210907701e-10; total time=   0.2s\n"
     ]
    },
    {
     "name": "stderr",
     "output_type": "stream",
     "text": [
      "/opt/conda/lib/python3.8/site-packages/sklearn/linear_model/_coordinate_descent.py:530: ConvergenceWarning: Objective did not converge. You might want to increase the number of iterations. Duality gap: 78316.04094032384, tolerance: 45.05783419193453\n",
      "  model = cd_fast.enet_coordinate_descent(\n",
      "/opt/conda/lib/python3.8/site-packages/sklearn/linear_model/_coordinate_descent.py:530: ConvergenceWarning: Objective did not converge. You might want to increase the number of iterations. Duality gap: 78401.92220323754, tolerance: 42.123115404364526\n",
      "  model = cd_fast.enet_coordinate_descent(\n"
     ]
    },
    {
     "name": "stdout",
     "output_type": "stream",
     "text": [
      "[CV 4/5] END .............model__alpha=7.906043210907701e-10; total time=   0.2s\n",
      "[CV 5/5] END .............model__alpha=7.906043210907701e-10; total time=   0.2s\n"
     ]
    },
    {
     "name": "stderr",
     "output_type": "stream",
     "text": [
      "/opt/conda/lib/python3.8/site-packages/sklearn/linear_model/_coordinate_descent.py:530: ConvergenceWarning: Objective did not converge. You might want to increase the number of iterations. Duality gap: 65199.71070735694, tolerance: 39.78987416850729\n",
      "  model = cd_fast.enet_coordinate_descent(\n",
      "/opt/conda/lib/python3.8/site-packages/sklearn/linear_model/_coordinate_descent.py:530: ConvergenceWarning: Objective did not converge. You might want to increase the number of iterations. Duality gap: 73764.86721436151, tolerance: 44.57595086941136\n",
      "  model = cd_fast.enet_coordinate_descent(\n"
     ]
    },
    {
     "name": "stdout",
     "output_type": "stream",
     "text": [
      "[CV 1/5] END ............model__alpha=1.3257113655901108e-09; total time=   0.1s\n",
      "[CV 2/5] END ............model__alpha=1.3257113655901108e-09; total time=   0.2s\n"
     ]
    },
    {
     "name": "stderr",
     "output_type": "stream",
     "text": [
      "/opt/conda/lib/python3.8/site-packages/sklearn/linear_model/_coordinate_descent.py:530: ConvergenceWarning: Objective did not converge. You might want to increase the number of iterations. Duality gap: 85156.34476705984, tolerance: 46.82437454234459\n",
      "  model = cd_fast.enet_coordinate_descent(\n",
      "/opt/conda/lib/python3.8/site-packages/sklearn/linear_model/_coordinate_descent.py:530: ConvergenceWarning: Objective did not converge. You might want to increase the number of iterations. Duality gap: 78316.03803783575, tolerance: 45.05783419193453\n",
      "  model = cd_fast.enet_coordinate_descent(\n"
     ]
    },
    {
     "name": "stdout",
     "output_type": "stream",
     "text": [
      "[CV 3/5] END ............model__alpha=1.3257113655901108e-09; total time=   0.1s\n",
      "[CV 4/5] END ............model__alpha=1.3257113655901108e-09; total time=   0.1s\n"
     ]
    },
    {
     "name": "stderr",
     "output_type": "stream",
     "text": [
      "/opt/conda/lib/python3.8/site-packages/sklearn/linear_model/_coordinate_descent.py:530: ConvergenceWarning: Objective did not converge. You might want to increase the number of iterations. Duality gap: 78401.91968438216, tolerance: 42.123115404364526\n",
      "  model = cd_fast.enet_coordinate_descent(\n",
      "/opt/conda/lib/python3.8/site-packages/sklearn/linear_model/_coordinate_descent.py:530: ConvergenceWarning: Objective did not converge. You might want to increase the number of iterations. Duality gap: 65199.707462037426, tolerance: 39.78987416850729\n",
      "  model = cd_fast.enet_coordinate_descent(\n"
     ]
    },
    {
     "name": "stdout",
     "output_type": "stream",
     "text": [
      "[CV 5/5] END ............model__alpha=1.3257113655901108e-09; total time=   0.2s\n",
      "[CV 1/5] END .............model__alpha=2.222996482526191e-09; total time=   0.1s\n"
     ]
    },
    {
     "name": "stderr",
     "output_type": "stream",
     "text": [
      "/opt/conda/lib/python3.8/site-packages/sklearn/linear_model/_coordinate_descent.py:530: ConvergenceWarning: Objective did not converge. You might want to increase the number of iterations. Duality gap: 73764.86142543213, tolerance: 44.57595086941136\n",
      "  model = cd_fast.enet_coordinate_descent(\n",
      "/opt/conda/lib/python3.8/site-packages/sklearn/linear_model/_coordinate_descent.py:530: ConvergenceWarning: Objective did not converge. You might want to increase the number of iterations. Duality gap: 85156.34031073116, tolerance: 46.82437454234459\n",
      "  model = cd_fast.enet_coordinate_descent(\n"
     ]
    },
    {
     "name": "stdout",
     "output_type": "stream",
     "text": [
      "[CV 2/5] END .............model__alpha=2.222996482526191e-09; total time=   0.2s\n",
      "[CV 3/5] END .............model__alpha=2.222996482526191e-09; total time=   0.1s\n"
     ]
    },
    {
     "name": "stderr",
     "output_type": "stream",
     "text": [
      "/opt/conda/lib/python3.8/site-packages/sklearn/linear_model/_coordinate_descent.py:530: ConvergenceWarning: Objective did not converge. You might want to increase the number of iterations. Duality gap: 78316.03317084805, tolerance: 45.05783419193453\n",
      "  model = cd_fast.enet_coordinate_descent(\n",
      "/opt/conda/lib/python3.8/site-packages/sklearn/linear_model/_coordinate_descent.py:530: ConvergenceWarning: Objective did not converge. You might want to increase the number of iterations. Duality gap: 78401.91546068189, tolerance: 42.123115404364526\n",
      "  model = cd_fast.enet_coordinate_descent(\n"
     ]
    },
    {
     "name": "stdout",
     "output_type": "stream",
     "text": [
      "[CV 4/5] END .............model__alpha=2.222996482526191e-09; total time=   0.2s\n",
      "[CV 5/5] END .............model__alpha=2.222996482526191e-09; total time=   0.1s\n"
     ]
    },
    {
     "name": "stderr",
     "output_type": "stream",
     "text": [
      "/opt/conda/lib/python3.8/site-packages/sklearn/linear_model/_coordinate_descent.py:530: ConvergenceWarning: Objective did not converge. You might want to increase the number of iterations. Duality gap: 65199.702020177654, tolerance: 39.78987416850729\n",
      "  model = cd_fast.enet_coordinate_descent(\n",
      "/opt/conda/lib/python3.8/site-packages/sklearn/linear_model/_coordinate_descent.py:530: ConvergenceWarning: Objective did not converge. You might want to increase the number of iterations. Duality gap: 73764.85171836337, tolerance: 44.57595086941136\n",
      "  model = cd_fast.enet_coordinate_descent(\n"
     ]
    },
    {
     "name": "stdout",
     "output_type": "stream",
     "text": [
      "[CV 1/5] END .............model__alpha=3.727593720314938e-09; total time=   0.2s\n",
      "[CV 2/5] END .............model__alpha=3.727593720314938e-09; total time=   0.1s\n"
     ]
    },
    {
     "name": "stderr",
     "output_type": "stream",
     "text": [
      "/opt/conda/lib/python3.8/site-packages/sklearn/linear_model/_coordinate_descent.py:530: ConvergenceWarning: Objective did not converge. You might want to increase the number of iterations. Duality gap: 85156.33283821173, tolerance: 46.82437454234459\n",
      "  model = cd_fast.enet_coordinate_descent(\n",
      "/opt/conda/lib/python3.8/site-packages/sklearn/linear_model/_coordinate_descent.py:530: ConvergenceWarning: Objective did not converge. You might want to increase the number of iterations. Duality gap: 78316.02500972239, tolerance: 45.05783419193453\n",
      "  model = cd_fast.enet_coordinate_descent(\n"
     ]
    },
    {
     "name": "stdout",
     "output_type": "stream",
     "text": [
      "[CV 3/5] END .............model__alpha=3.727593720314938e-09; total time=   0.2s\n",
      "[CV 4/5] END .............model__alpha=3.727593720314938e-09; total time=   0.1s\n"
     ]
    },
    {
     "name": "stderr",
     "output_type": "stream",
     "text": [
      "/opt/conda/lib/python3.8/site-packages/sklearn/linear_model/_coordinate_descent.py:530: ConvergenceWarning: Objective did not converge. You might want to increase the number of iterations. Duality gap: 78401.90837824263, tolerance: 42.123115404364526\n",
      "  model = cd_fast.enet_coordinate_descent(\n",
      "/opt/conda/lib/python3.8/site-packages/sklearn/linear_model/_coordinate_descent.py:530: ConvergenceWarning: Objective did not converge. You might want to increase the number of iterations. Duality gap: 65199.69289508718, tolerance: 39.78987416850729\n",
      "  model = cd_fast.enet_coordinate_descent(\n"
     ]
    },
    {
     "name": "stdout",
     "output_type": "stream",
     "text": [
      "[CV 5/5] END .............model__alpha=3.727593720314938e-09; total time=   0.1s\n",
      "[CV 1/5] END .............model__alpha=6.250551925273976e-09; total time=   0.2s\n"
     ]
    },
    {
     "name": "stderr",
     "output_type": "stream",
     "text": [
      "/opt/conda/lib/python3.8/site-packages/sklearn/linear_model/_coordinate_descent.py:530: ConvergenceWarning: Objective did not converge. You might want to increase the number of iterations. Duality gap: 73764.8354412316, tolerance: 44.57595086941136\n",
      "  model = cd_fast.enet_coordinate_descent(\n",
      "/opt/conda/lib/python3.8/site-packages/sklearn/linear_model/_coordinate_descent.py:530: ConvergenceWarning: Objective did not converge. You might want to increase the number of iterations. Duality gap: 85156.32030804317, tolerance: 46.82437454234459\n",
      "  model = cd_fast.enet_coordinate_descent(\n"
     ]
    },
    {
     "name": "stdout",
     "output_type": "stream",
     "text": [
      "[CV 2/5] END .............model__alpha=6.250551925273976e-09; total time=   0.1s\n",
      "[CV 3/5] END .............model__alpha=6.250551925273976e-09; total time=   0.1s\n"
     ]
    },
    {
     "name": "stderr",
     "output_type": "stream",
     "text": [
      "/opt/conda/lib/python3.8/site-packages/sklearn/linear_model/_coordinate_descent.py:530: ConvergenceWarning: Objective did not converge. You might want to increase the number of iterations. Duality gap: 78316.01132487801, tolerance: 45.05783419193453\n",
      "  model = cd_fast.enet_coordinate_descent(\n",
      "/opt/conda/lib/python3.8/site-packages/sklearn/linear_model/_coordinate_descent.py:530: ConvergenceWarning: Objective did not converge. You might want to increase the number of iterations. Duality gap: 78401.89650217592, tolerance: 42.123115404364526\n",
      "  model = cd_fast.enet_coordinate_descent(\n"
     ]
    },
    {
     "name": "stdout",
     "output_type": "stream",
     "text": [
      "[CV 4/5] END .............model__alpha=6.250551925273976e-09; total time=   0.2s\n",
      "[CV 5/5] END .............model__alpha=6.250551925273976e-09; total time=   0.1s\n"
     ]
    },
    {
     "name": "stderr",
     "output_type": "stream",
     "text": [
      "/opt/conda/lib/python3.8/site-packages/sklearn/linear_model/_coordinate_descent.py:530: ConvergenceWarning: Objective did not converge. You might want to increase the number of iterations. Duality gap: 65199.67759383129, tolerance: 39.78987416850729\n",
      "  model = cd_fast.enet_coordinate_descent(\n",
      "/opt/conda/lib/python3.8/site-packages/sklearn/linear_model/_coordinate_descent.py:530: ConvergenceWarning: Objective did not converge. You might want to increase the number of iterations. Duality gap: 73764.80814719916, tolerance: 44.57595086941136\n",
      "  model = cd_fast.enet_coordinate_descent(\n"
     ]
    },
    {
     "name": "stdout",
     "output_type": "stream",
     "text": [
      "[CV 1/5] END ............model__alpha=1.0481131341546852e-08; total time=   0.1s\n",
      "[CV 2/5] END ............model__alpha=1.0481131341546852e-08; total time=   0.2s\n"
     ]
    },
    {
     "name": "stderr",
     "output_type": "stream",
     "text": [
      "/opt/conda/lib/python3.8/site-packages/sklearn/linear_model/_coordinate_descent.py:530: ConvergenceWarning: Objective did not converge. You might want to increase the number of iterations. Duality gap: 85156.29929703924, tolerance: 46.82437454234459\n",
      "  model = cd_fast.enet_coordinate_descent(\n",
      "/opt/conda/lib/python3.8/site-packages/sklearn/linear_model/_coordinate_descent.py:530: ConvergenceWarning: Objective did not converge. You might want to increase the number of iterations. Duality gap: 78315.9883776782, tolerance: 45.05783419193453\n",
      "  model = cd_fast.enet_coordinate_descent(\n"
     ]
    },
    {
     "name": "stdout",
     "output_type": "stream",
     "text": [
      "[CV 3/5] END ............model__alpha=1.0481131341546852e-08; total time=   0.1s\n",
      "[CV 4/5] END ............model__alpha=1.0481131341546852e-08; total time=   0.2s\n"
     ]
    },
    {
     "name": "stderr",
     "output_type": "stream",
     "text": [
      "/opt/conda/lib/python3.8/site-packages/sklearn/linear_model/_coordinate_descent.py:530: ConvergenceWarning: Objective did not converge. You might want to increase the number of iterations. Duality gap: 78401.87658799949, tolerance: 42.123115404364526\n",
      "  model = cd_fast.enet_coordinate_descent(\n",
      "/opt/conda/lib/python3.8/site-packages/sklearn/linear_model/_coordinate_descent.py:530: ConvergenceWarning: Objective did not converge. You might want to increase the number of iterations. Duality gap: 65199.65193617107, tolerance: 39.78987416850729\n",
      "  model = cd_fast.enet_coordinate_descent(\n"
     ]
    },
    {
     "name": "stdout",
     "output_type": "stream",
     "text": [
      "[CV 5/5] END ............model__alpha=1.0481131341546852e-08; total time=   0.1s\n",
      "[CV 1/5] END ............model__alpha=1.7575106248547893e-08; total time=   0.1s\n"
     ]
    },
    {
     "name": "stderr",
     "output_type": "stream",
     "text": [
      "/opt/conda/lib/python3.8/site-packages/sklearn/linear_model/_coordinate_descent.py:530: ConvergenceWarning: Objective did not converge. You might want to increase the number of iterations. Duality gap: 73764.76237966224, tolerance: 44.57595086941136\n",
      "  model = cd_fast.enet_coordinate_descent(\n",
      "/opt/conda/lib/python3.8/site-packages/sklearn/linear_model/_coordinate_descent.py:530: ConvergenceWarning: Objective did not converge. You might want to increase the number of iterations. Duality gap: 85156.26406508526, tolerance: 46.82437454234459\n",
      "  model = cd_fast.enet_coordinate_descent(\n"
     ]
    },
    {
     "name": "stdout",
     "output_type": "stream",
     "text": [
      "[CV 2/5] END ............model__alpha=1.7575106248547893e-08; total time=   0.2s\n",
      "[CV 3/5] END ............model__alpha=1.7575106248547893e-08; total time=   0.1s\n"
     ]
    },
    {
     "name": "stderr",
     "output_type": "stream",
     "text": [
      "/opt/conda/lib/python3.8/site-packages/sklearn/linear_model/_coordinate_descent.py:530: ConvergenceWarning: Objective did not converge. You might want to increase the number of iterations. Duality gap: 78315.949899053, tolerance: 45.05783419193453\n",
      "  model = cd_fast.enet_coordinate_descent(\n",
      "/opt/conda/lib/python3.8/site-packages/sklearn/linear_model/_coordinate_descent.py:530: ConvergenceWarning: Objective did not converge. You might want to increase the number of iterations. Duality gap: 78401.8431952588, tolerance: 42.123115404364526\n",
      "  model = cd_fast.enet_coordinate_descent(\n"
     ]
    },
    {
     "name": "stdout",
     "output_type": "stream",
     "text": [
      "[CV 4/5] END ............model__alpha=1.7575106248547893e-08; total time=   0.1s\n",
      "[CV 5/5] END ............model__alpha=1.7575106248547893e-08; total time=   0.2s\n"
     ]
    },
    {
     "name": "stderr",
     "output_type": "stream",
     "text": [
      "/opt/conda/lib/python3.8/site-packages/sklearn/linear_model/_coordinate_descent.py:530: ConvergenceWarning: Objective did not converge. You might want to increase the number of iterations. Duality gap: 65199.6089125349, tolerance: 39.78987416850729\n",
      "  model = cd_fast.enet_coordinate_descent(\n",
      "/opt/conda/lib/python3.8/site-packages/sklearn/linear_model/_coordinate_descent.py:530: ConvergenceWarning: Objective did not converge. You might want to increase the number of iterations. Duality gap: 73764.68563513768, tolerance: 44.57595086941136\n",
      "  model = cd_fast.enet_coordinate_descent(\n"
     ]
    },
    {
     "name": "stdout",
     "output_type": "stream",
     "text": [
      "[CV 1/5] END ............model__alpha=2.9470517025518096e-08; total time=   0.1s\n",
      "[CV 2/5] END ............model__alpha=2.9470517025518096e-08; total time=   0.1s\n"
     ]
    },
    {
     "name": "stderr",
     "output_type": "stream",
     "text": [
      "/opt/conda/lib/python3.8/site-packages/sklearn/linear_model/_coordinate_descent.py:530: ConvergenceWarning: Objective did not converge. You might want to increase the number of iterations. Duality gap: 85156.20498695101, tolerance: 46.82437454234459\n",
      "  model = cd_fast.enet_coordinate_descent(\n",
      "/opt/conda/lib/python3.8/site-packages/sklearn/linear_model/_coordinate_descent.py:530: ConvergenceWarning: Objective did not converge. You might want to increase the number of iterations. Duality gap: 78315.8853768156, tolerance: 45.05783419193453\n",
      "  model = cd_fast.enet_coordinate_descent(\n"
     ]
    },
    {
     "name": "stdout",
     "output_type": "stream",
     "text": [
      "[CV 3/5] END ............model__alpha=2.9470517025518096e-08; total time=   0.2s\n",
      "[CV 4/5] END ............model__alpha=2.9470517025518096e-08; total time=   0.1s\n"
     ]
    },
    {
     "name": "stderr",
     "output_type": "stream",
     "text": [
      "/opt/conda/lib/python3.8/site-packages/sklearn/linear_model/_coordinate_descent.py:530: ConvergenceWarning: Objective did not converge. You might want to increase the number of iterations. Duality gap: 78401.7872012317, tolerance: 42.123115404364526\n",
      "  model = cd_fast.enet_coordinate_descent(\n",
      "/opt/conda/lib/python3.8/site-packages/sklearn/linear_model/_coordinate_descent.py:530: ConvergenceWarning: Objective did not converge. You might want to increase the number of iterations. Duality gap: 65199.53676900847, tolerance: 39.78987416850729\n",
      "  model = cd_fast.enet_coordinate_descent(\n"
     ]
    },
    {
     "name": "stdout",
     "output_type": "stream",
     "text": [
      "[CV 5/5] END ............model__alpha=2.9470517025518096e-08; total time=   0.1s\n",
      "[CV 1/5] END ............model__alpha=4.9417133613238385e-08; total time=   0.2s\n"
     ]
    },
    {
     "name": "stderr",
     "output_type": "stream",
     "text": [
      "/opt/conda/lib/python3.8/site-packages/sklearn/linear_model/_coordinate_descent.py:530: ConvergenceWarning: Objective did not converge. You might want to increase the number of iterations. Duality gap: 73764.55694736133, tolerance: 44.57595086941136\n",
      "  model = cd_fast.enet_coordinate_descent(\n",
      "/opt/conda/lib/python3.8/site-packages/sklearn/linear_model/_coordinate_descent.py:530: ConvergenceWarning: Objective did not converge. You might want to increase the number of iterations. Duality gap: 85156.10592270007, tolerance: 46.82437454234459\n",
      "  model = cd_fast.enet_coordinate_descent(\n"
     ]
    },
    {
     "name": "stdout",
     "output_type": "stream",
     "text": [
      "[CV 2/5] END ............model__alpha=4.9417133613238385e-08; total time=   0.1s\n",
      "[CV 3/5] END ............model__alpha=4.9417133613238385e-08; total time=   0.1s\n"
     ]
    },
    {
     "name": "stderr",
     "output_type": "stream",
     "text": [
      "/opt/conda/lib/python3.8/site-packages/sklearn/linear_model/_coordinate_descent.py:530: ConvergenceWarning: Objective did not converge. You might want to increase the number of iterations. Duality gap: 78315.7771837672, tolerance: 45.05783419193453\n",
      "  model = cd_fast.enet_coordinate_descent(\n",
      "/opt/conda/lib/python3.8/site-packages/sklearn/linear_model/_coordinate_descent.py:530: ConvergenceWarning: Objective did not converge. You might want to increase the number of iterations. Duality gap: 78401.69330865792, tolerance: 42.123115404364526\n",
      "  model = cd_fast.enet_coordinate_descent(\n"
     ]
    },
    {
     "name": "stdout",
     "output_type": "stream",
     "text": [
      "[CV 4/5] END ............model__alpha=4.9417133613238385e-08; total time=   0.2s\n",
      "[CV 5/5] END ............model__alpha=4.9417133613238385e-08; total time=   0.1s\n"
     ]
    },
    {
     "name": "stderr",
     "output_type": "stream",
     "text": [
      "/opt/conda/lib/python3.8/site-packages/sklearn/linear_model/_coordinate_descent.py:530: ConvergenceWarning: Objective did not converge. You might want to increase the number of iterations. Duality gap: 65199.41579615153, tolerance: 39.78987416850729\n",
      "  model = cd_fast.enet_coordinate_descent(\n",
      "/opt/conda/lib/python3.8/site-packages/sklearn/linear_model/_coordinate_descent.py:530: ConvergenceWarning: Objective did not converge. You might want to increase the number of iterations. Duality gap: 73764.34115937157, tolerance: 44.57595086941136\n",
      "  model = cd_fast.enet_coordinate_descent(\n"
     ]
    },
    {
     "name": "stdout",
     "output_type": "stream",
     "text": [
      "[CV 1/5] END .............model__alpha=8.286427728546843e-08; total time=   0.2s\n",
      "[CV 2/5] END .............model__alpha=8.286427728546843e-08; total time=   0.1s\n"
     ]
    },
    {
     "name": "stderr",
     "output_type": "stream",
     "text": [
      "/opt/conda/lib/python3.8/site-packages/sklearn/linear_model/_coordinate_descent.py:530: ConvergenceWarning: Objective did not converge. You might want to increase the number of iterations. Duality gap: 85155.93980824531, tolerance: 46.82437454234459\n",
      "  model = cd_fast.enet_coordinate_descent(\n",
      "/opt/conda/lib/python3.8/site-packages/sklearn/linear_model/_coordinate_descent.py:530: ConvergenceWarning: Objective did not converge. You might want to increase the number of iterations. Duality gap: 78315.59576200153, tolerance: 45.05783419193453\n",
      "  model = cd_fast.enet_coordinate_descent(\n"
     ]
    },
    {
     "name": "stdout",
     "output_type": "stream",
     "text": [
      "[CV 3/5] END .............model__alpha=8.286427728546843e-08; total time=   0.1s\n",
      "[CV 4/5] END .............model__alpha=8.286427728546843e-08; total time=   0.2s\n"
     ]
    },
    {
     "name": "stderr",
     "output_type": "stream",
     "text": [
      "/opt/conda/lib/python3.8/site-packages/sklearn/linear_model/_coordinate_descent.py:530: ConvergenceWarning: Objective did not converge. You might want to increase the number of iterations. Duality gap: 78401.53586665637, tolerance: 42.123115404364526\n",
      "  model = cd_fast.enet_coordinate_descent(\n",
      "/opt/conda/lib/python3.8/site-packages/sklearn/linear_model/_coordinate_descent.py:530: ConvergenceWarning: Objective did not converge. You might want to increase the number of iterations. Duality gap: 65199.21294427537, tolerance: 39.78987416850729\n",
      "  model = cd_fast.enet_coordinate_descent(\n"
     ]
    },
    {
     "name": "stdout",
     "output_type": "stream",
     "text": [
      "[CV 5/5] END .............model__alpha=8.286427728546843e-08; total time=   0.1s\n",
      "[CV 1/5] END .............model__alpha=1.389495494373136e-07; total time=   0.2s\n"
     ]
    },
    {
     "name": "stderr",
     "output_type": "stream",
     "text": [
      "/opt/conda/lib/python3.8/site-packages/sklearn/linear_model/_coordinate_descent.py:530: ConvergenceWarning: Objective did not converge. You might want to increase the number of iterations. Duality gap: 73763.97931871963, tolerance: 44.57595086941136\n",
      "  model = cd_fast.enet_coordinate_descent(\n",
      "/opt/conda/lib/python3.8/site-packages/sklearn/linear_model/_coordinate_descent.py:530: ConvergenceWarning: Objective did not converge. You might want to increase the number of iterations. Duality gap: 85155.66126133736, tolerance: 46.82437454234459\n",
      "  model = cd_fast.enet_coordinate_descent(\n"
     ]
    },
    {
     "name": "stdout",
     "output_type": "stream",
     "text": [
      "[CV 2/5] END .............model__alpha=1.389495494373136e-07; total time=   0.1s\n",
      "[CV 3/5] END .............model__alpha=1.389495494373136e-07; total time=   0.1s\n"
     ]
    },
    {
     "name": "stderr",
     "output_type": "stream",
     "text": [
      "/opt/conda/lib/python3.8/site-packages/sklearn/linear_model/_coordinate_descent.py:530: ConvergenceWarning: Objective did not converge. You might want to increase the number of iterations. Duality gap: 78315.29154773291, tolerance: 45.05783419193453\n",
      "  model = cd_fast.enet_coordinate_descent(\n",
      "/opt/conda/lib/python3.8/site-packages/sklearn/linear_model/_coordinate_descent.py:530: ConvergenceWarning: Objective did not converge. You might want to increase the number of iterations. Duality gap: 78401.27186316656, tolerance: 42.123115404364526\n",
      "  model = cd_fast.enet_coordinate_descent(\n"
     ]
    },
    {
     "name": "stdout",
     "output_type": "stream",
     "text": [
      "[CV 4/5] END .............model__alpha=1.389495494373136e-07; total time=   0.2s\n",
      "[CV 5/5] END .............model__alpha=1.389495494373136e-07; total time=   0.1s\n"
     ]
    },
    {
     "name": "stderr",
     "output_type": "stream",
     "text": [
      "/opt/conda/lib/python3.8/site-packages/sklearn/linear_model/_coordinate_descent.py:530: ConvergenceWarning: Objective did not converge. You might want to increase the number of iterations. Duality gap: 65198.87279386951, tolerance: 39.78987416850729\n",
      "  model = cd_fast.enet_coordinate_descent(\n",
      "/opt/conda/lib/python3.8/site-packages/sklearn/linear_model/_coordinate_descent.py:530: ConvergenceWarning: Objective did not converge. You might want to increase the number of iterations. Duality gap: 73763.3725717108, tolerance: 44.57595086941136\n",
      "  model = cd_fast.enet_coordinate_descent(\n"
     ]
    },
    {
     "name": "stdout",
     "output_type": "stream",
     "text": [
      "[CV 1/5] END .............model__alpha=2.329951810515372e-07; total time=   0.1s\n",
      "[CV 2/5] END .............model__alpha=2.329951810515372e-07; total time=   0.2s\n"
     ]
    },
    {
     "name": "stderr",
     "output_type": "stream",
     "text": [
      "/opt/conda/lib/python3.8/site-packages/sklearn/linear_model/_coordinate_descent.py:530: ConvergenceWarning: Objective did not converge. You might want to increase the number of iterations. Duality gap: 85155.19418268696, tolerance: 46.82437454234459\n",
      "  model = cd_fast.enet_coordinate_descent(\n",
      "/opt/conda/lib/python3.8/site-packages/sklearn/linear_model/_coordinate_descent.py:530: ConvergenceWarning: Objective did not converge. You might want to increase the number of iterations. Duality gap: 78314.78143045236, tolerance: 45.05783419193453\n",
      "  model = cd_fast.enet_coordinate_descent(\n"
     ]
    },
    {
     "name": "stdout",
     "output_type": "stream",
     "text": [
      "[CV 3/5] END .............model__alpha=2.329951810515372e-07; total time=   0.1s\n",
      "[CV 4/5] END .............model__alpha=2.329951810515372e-07; total time=   0.1s\n"
     ]
    },
    {
     "name": "stderr",
     "output_type": "stream",
     "text": [
      "/opt/conda/lib/python3.8/site-packages/sklearn/linear_model/_coordinate_descent.py:530: ConvergenceWarning: Objective did not converge. You might want to increase the number of iterations. Duality gap: 78400.8291746672, tolerance: 42.123115404364526\n",
      "  model = cd_fast.enet_coordinate_descent(\n",
      "/opt/conda/lib/python3.8/site-packages/sklearn/linear_model/_coordinate_descent.py:530: ConvergenceWarning: Objective did not converge. You might want to increase the number of iterations. Duality gap: 65198.302413684076, tolerance: 39.78987416850729\n",
      "  model = cd_fast.enet_coordinate_descent(\n"
     ]
    },
    {
     "name": "stdout",
     "output_type": "stream",
     "text": [
      "[CV 5/5] END .............model__alpha=2.329951810515372e-07; total time=   0.2s\n",
      "[CV 1/5] END .............model__alpha=3.906939937054621e-07; total time=   0.1s\n"
     ]
    },
    {
     "name": "stderr",
     "output_type": "stream",
     "text": [
      "/opt/conda/lib/python3.8/site-packages/sklearn/linear_model/_coordinate_descent.py:530: ConvergenceWarning: Objective did not converge. You might want to increase the number of iterations. Duality gap: 73762.35515641331, tolerance: 44.57595086941136\n",
      "  model = cd_fast.enet_coordinate_descent(\n",
      "/opt/conda/lib/python3.8/site-packages/sklearn/linear_model/_coordinate_descent.py:530: ConvergenceWarning: Objective did not converge. You might want to increase the number of iterations. Duality gap: 85154.41096414132, tolerance: 46.82437454234459\n",
      "  model = cd_fast.enet_coordinate_descent(\n"
     ]
    },
    {
     "name": "stdout",
     "output_type": "stream",
     "text": [
      "[CV 2/5] END .............model__alpha=3.906939937054621e-07; total time=   0.1s\n",
      "[CV 3/5] END .............model__alpha=3.906939937054621e-07; total time=   0.2s\n"
     ]
    },
    {
     "name": "stderr",
     "output_type": "stream",
     "text": [
      "/opt/conda/lib/python3.8/site-packages/sklearn/linear_model/_coordinate_descent.py:530: ConvergenceWarning: Objective did not converge. You might want to increase the number of iterations. Duality gap: 78313.92604681027, tolerance: 45.05783419193453\n",
      "  model = cd_fast.enet_coordinate_descent(\n",
      "/opt/conda/lib/python3.8/site-packages/sklearn/linear_model/_coordinate_descent.py:530: ConvergenceWarning: Objective did not converge. You might want to increase the number of iterations. Duality gap: 78400.08686351817, tolerance: 42.123115404364526\n",
      "  model = cd_fast.enet_coordinate_descent(\n"
     ]
    },
    {
     "name": "stdout",
     "output_type": "stream",
     "text": [
      "[CV 4/5] END .............model__alpha=3.906939937054621e-07; total time=   0.1s\n",
      "[CV 5/5] END .............model__alpha=3.906939937054621e-07; total time=   0.1s\n"
     ]
    },
    {
     "name": "stderr",
     "output_type": "stream",
     "text": [
      "/opt/conda/lib/python3.8/site-packages/sklearn/linear_model/_coordinate_descent.py:530: ConvergenceWarning: Objective did not converge. You might want to increase the number of iterations. Duality gap: 65197.345967960864, tolerance: 39.78987416850729\n",
      "  model = cd_fast.enet_coordinate_descent(\n",
      "/opt/conda/lib/python3.8/site-packages/sklearn/linear_model/_coordinate_descent.py:530: ConvergenceWarning: Objective did not converge. You might want to increase the number of iterations. Duality gap: 73760.64911550918, tolerance: 44.57595086941136\n",
      "  model = cd_fast.enet_coordinate_descent(\n"
     ]
    },
    {
     "name": "stdout",
     "output_type": "stream",
     "text": [
      "[CV 1/5] END ..............model__alpha=6.55128556859551e-07; total time=   0.2s\n",
      "[CV 2/5] END ..............model__alpha=6.55128556859551e-07; total time=   0.1s\n"
     ]
    },
    {
     "name": "stderr",
     "output_type": "stream",
     "text": [
      "/opt/conda/lib/python3.8/site-packages/sklearn/linear_model/_coordinate_descent.py:530: ConvergenceWarning: Objective did not converge. You might want to increase the number of iterations. Duality gap: 85153.09762151132, tolerance: 46.82437454234459\n",
      "  model = cd_fast.enet_coordinate_descent(\n",
      "/opt/conda/lib/python3.8/site-packages/sklearn/linear_model/_coordinate_descent.py:530: ConvergenceWarning: Objective did not converge. You might want to increase the number of iterations. Duality gap: 78312.49170520957, tolerance: 45.05783419193453\n",
      "  model = cd_fast.enet_coordinate_descent(\n"
     ]
    },
    {
     "name": "stdout",
     "output_type": "stream",
     "text": [
      "[CV 3/5] END ..............model__alpha=6.55128556859551e-07; total time=   0.1s\n",
      "[CV 4/5] END ..............model__alpha=6.55128556859551e-07; total time=   0.2s\n"
     ]
    },
    {
     "name": "stderr",
     "output_type": "stream",
     "text": [
      "/opt/conda/lib/python3.8/site-packages/sklearn/linear_model/_coordinate_descent.py:530: ConvergenceWarning: Objective did not converge. You might want to increase the number of iterations. Duality gap: 78398.84214159887, tolerance: 42.123115404364526\n",
      "  model = cd_fast.enet_coordinate_descent(\n",
      "/opt/conda/lib/python3.8/site-packages/sklearn/linear_model/_coordinate_descent.py:530: ConvergenceWarning: Objective did not converge. You might want to increase the number of iterations. Duality gap: 65195.74213047631, tolerance: 39.78987416850729\n",
      "  model = cd_fast.enet_coordinate_descent(\n"
     ]
    },
    {
     "name": "stdout",
     "output_type": "stream",
     "text": [
      "[CV 5/5] END ..............model__alpha=6.55128556859551e-07; total time=   0.1s\n",
      "[CV 1/5] END ............model__alpha=1.0985411419875572e-06; total time=   0.1s\n"
     ]
    },
    {
     "name": "stderr",
     "output_type": "stream",
     "text": [
      "/opt/conda/lib/python3.8/site-packages/sklearn/linear_model/_coordinate_descent.py:530: ConvergenceWarning: Objective did not converge. You might want to increase the number of iterations. Duality gap: 73757.78835468352, tolerance: 44.57595086941136\n",
      "  model = cd_fast.enet_coordinate_descent(\n",
      "/opt/conda/lib/python3.8/site-packages/sklearn/linear_model/_coordinate_descent.py:530: ConvergenceWarning: Objective did not converge. You might want to increase the number of iterations. Duality gap: 85150.89532041542, tolerance: 46.82437454234459\n",
      "  model = cd_fast.enet_coordinate_descent(\n"
     ]
    },
    {
     "name": "stdout",
     "output_type": "stream",
     "text": [
      "[CV 2/5] END ............model__alpha=1.0985411419875572e-06; total time=   0.2s\n",
      "[CV 3/5] END ............model__alpha=1.0985411419875572e-06; total time=   0.1s\n"
     ]
    },
    {
     "name": "stderr",
     "output_type": "stream",
     "text": [
      "/opt/conda/lib/python3.8/site-packages/sklearn/linear_model/_coordinate_descent.py:530: ConvergenceWarning: Objective did not converge. You might want to increase the number of iterations. Duality gap: 78310.08653672285, tolerance: 45.05783419193453\n",
      "  model = cd_fast.enet_coordinate_descent(\n",
      "/opt/conda/lib/python3.8/site-packages/sklearn/linear_model/_coordinate_descent.py:530: ConvergenceWarning: Objective did not converge. You might want to increase the number of iterations. Duality gap: 78396.75497862174, tolerance: 42.123115404364526\n",
      "  model = cd_fast.enet_coordinate_descent(\n"
     ]
    },
    {
     "name": "stdout",
     "output_type": "stream",
     "text": [
      "[CV 4/5] END ............model__alpha=1.0985411419875572e-06; total time=   0.2s\n",
      "[CV 5/5] END ............model__alpha=1.0985411419875572e-06; total time=   0.1s\n"
     ]
    },
    {
     "name": "stderr",
     "output_type": "stream",
     "text": [
      "/opt/conda/lib/python3.8/site-packages/sklearn/linear_model/_coordinate_descent.py:530: ConvergenceWarning: Objective did not converge. You might want to increase the number of iterations. Duality gap: 65193.0526567001, tolerance: 39.78987416850729\n",
      "  model = cd_fast.enet_coordinate_descent(\n",
      "/opt/conda/lib/python3.8/site-packages/sklearn/linear_model/_coordinate_descent.py:530: ConvergenceWarning: Objective did not converge. You might want to increase the number of iterations. Duality gap: 73752.99129384388, tolerance: 44.57595086941136\n",
      "  model = cd_fast.enet_coordinate_descent(\n"
     ]
    },
    {
     "name": "stdout",
     "output_type": "stream",
     "text": [
      "[CV 1/5] END ............model__alpha=1.8420699693267164e-06; total time=   0.1s\n",
      "[CV 2/5] END ............model__alpha=1.8420699693267164e-06; total time=   0.2s\n"
     ]
    },
    {
     "name": "stderr",
     "output_type": "stream",
     "text": [
      "/opt/conda/lib/python3.8/site-packages/sklearn/linear_model/_coordinate_descent.py:530: ConvergenceWarning: Objective did not converge. You might want to increase the number of iterations. Duality gap: 85147.20230310311, tolerance: 46.82437454234459\n",
      "  model = cd_fast.enet_coordinate_descent(\n",
      "/opt/conda/lib/python3.8/site-packages/sklearn/linear_model/_coordinate_descent.py:530: ConvergenceWarning: Objective did not converge. You might want to increase the number of iterations. Duality gap: 78306.053422516, tolerance: 45.05783419193453\n",
      "  model = cd_fast.enet_coordinate_descent(\n"
     ]
    },
    {
     "name": "stdout",
     "output_type": "stream",
     "text": [
      "[CV 3/5] END ............model__alpha=1.8420699693267164e-06; total time=   0.1s\n",
      "[CV 4/5] END ............model__alpha=1.8420699693267164e-06; total time=   0.2s\n"
     ]
    },
    {
     "name": "stderr",
     "output_type": "stream",
     "text": [
      "/opt/conda/lib/python3.8/site-packages/sklearn/linear_model/_coordinate_descent.py:530: ConvergenceWarning: Objective did not converge. You might want to increase the number of iterations. Duality gap: 78393.25523297625, tolerance: 42.123115404364526\n",
      "  model = cd_fast.enet_coordinate_descent(\n",
      "/opt/conda/lib/python3.8/site-packages/sklearn/linear_model/_coordinate_descent.py:530: ConvergenceWarning: Objective did not converge. You might want to increase the number of iterations. Duality gap: 65188.54255845107, tolerance: 39.78987416850729\n",
      "  model = cd_fast.enet_coordinate_descent(\n"
     ]
    },
    {
     "name": "stdout",
     "output_type": "stream",
     "text": [
      "[CV 5/5] END ............model__alpha=1.8420699693267164e-06; total time=   0.1s\n",
      "[CV 1/5] END ............model__alpha=3.0888435964774785e-06; total time=   0.1s\n"
     ]
    },
    {
     "name": "stderr",
     "output_type": "stream",
     "text": [
      "/opt/conda/lib/python3.8/site-packages/sklearn/linear_model/_coordinate_descent.py:530: ConvergenceWarning: Objective did not converge. You might want to increase the number of iterations. Duality gap: 73744.9473037239, tolerance: 44.57595086941136\n",
      "  model = cd_fast.enet_coordinate_descent(\n",
      "/opt/conda/lib/python3.8/site-packages/sklearn/linear_model/_coordinate_descent.py:530: ConvergenceWarning: Objective did not converge. You might want to increase the number of iterations. Duality gap: 85141.00937864349, tolerance: 46.82437454234459\n",
      "  model = cd_fast.enet_coordinate_descent(\n"
     ]
    },
    {
     "name": "stdout",
     "output_type": "stream",
     "text": [
      "[CV 2/5] END ............model__alpha=3.0888435964774785e-06; total time=   0.2s\n",
      "[CV 3/5] END ............model__alpha=3.0888435964774785e-06; total time=   0.1s\n"
     ]
    },
    {
     "name": "stderr",
     "output_type": "stream",
     "text": [
      "/opt/conda/lib/python3.8/site-packages/sklearn/linear_model/_coordinate_descent.py:530: ConvergenceWarning: Objective did not converge. You might want to increase the number of iterations. Duality gap: 78299.29042759955, tolerance: 45.05783419193453\n",
      "  model = cd_fast.enet_coordinate_descent(\n",
      "/opt/conda/lib/python3.8/site-packages/sklearn/linear_model/_coordinate_descent.py:530: ConvergenceWarning: Objective did not converge. You might want to increase the number of iterations. Duality gap: 78387.38696344322, tolerance: 42.123115404364526\n",
      "  model = cd_fast.enet_coordinate_descent(\n"
     ]
    },
    {
     "name": "stdout",
     "output_type": "stream",
     "text": [
      "[CV 4/5] END ............model__alpha=3.0888435964774785e-06; total time=   0.1s\n",
      "[CV 5/5] END ............model__alpha=3.0888435964774785e-06; total time=   0.2s\n"
     ]
    },
    {
     "name": "stderr",
     "output_type": "stream",
     "text": [
      "/opt/conda/lib/python3.8/site-packages/sklearn/linear_model/_coordinate_descent.py:530: ConvergenceWarning: Objective did not converge. You might want to increase the number of iterations. Duality gap: 65180.97904302459, tolerance: 39.78987416850729\n",
      "  model = cd_fast.enet_coordinate_descent(\n",
      "/opt/conda/lib/python3.8/site-packages/sklearn/linear_model/_coordinate_descent.py:530: ConvergenceWarning: Objective did not converge. You might want to increase the number of iterations. Duality gap: 73731.4586692451, tolerance: 44.57595086941136\n",
      "  model = cd_fast.enet_coordinate_descent(\n"
     ]
    },
    {
     "name": "stdout",
     "output_type": "stream",
     "text": [
      "[CV 1/5] END .............model__alpha=5.179474679231212e-06; total time=   0.1s\n",
      "[CV 2/5] END .............model__alpha=5.179474679231212e-06; total time=   0.2s\n"
     ]
    },
    {
     "name": "stderr",
     "output_type": "stream",
     "text": [
      "/opt/conda/lib/python3.8/site-packages/sklearn/linear_model/_coordinate_descent.py:530: ConvergenceWarning: Objective did not converge. You might want to increase the number of iterations. Duality gap: 85130.6238877676, tolerance: 46.82437454234459\n",
      "  model = cd_fast.enet_coordinate_descent(\n",
      "/opt/conda/lib/python3.8/site-packages/sklearn/linear_model/_coordinate_descent.py:530: ConvergenceWarning: Objective did not converge. You might want to increase the number of iterations. Duality gap: 78287.94965698851, tolerance: 45.05783419193453\n",
      "  model = cd_fast.enet_coordinate_descent(\n"
     ]
    },
    {
     "name": "stdout",
     "output_type": "stream",
     "text": [
      "[CV 3/5] END .............model__alpha=5.179474679231212e-06; total time=   0.1s\n",
      "[CV 4/5] END .............model__alpha=5.179474679231212e-06; total time=   0.2s\n"
     ]
    },
    {
     "name": "stderr",
     "output_type": "stream",
     "text": [
      "/opt/conda/lib/python3.8/site-packages/sklearn/linear_model/_coordinate_descent.py:530: ConvergenceWarning: Objective did not converge. You might want to increase the number of iterations. Duality gap: 78377.5474721487, tolerance: 42.123115404364526\n",
      "  model = cd_fast.enet_coordinate_descent(\n",
      "/opt/conda/lib/python3.8/site-packages/sklearn/linear_model/_coordinate_descent.py:530: ConvergenceWarning: Objective did not converge. You might want to increase the number of iterations. Duality gap: 65168.293951475345, tolerance: 39.78987416850729\n",
      "  model = cd_fast.enet_coordinate_descent(\n"
     ]
    },
    {
     "name": "stdout",
     "output_type": "stream",
     "text": [
      "[CV 5/5] END .............model__alpha=5.179474679231212e-06; total time=   0.1s\n",
      "[CV 1/5] END ..............model__alpha=8.68511373751352e-06; total time=   0.1s\n"
     ]
    },
    {
     "name": "stderr",
     "output_type": "stream",
     "text": [
      "/opt/conda/lib/python3.8/site-packages/sklearn/linear_model/_coordinate_descent.py:530: ConvergenceWarning: Objective did not converge. You might want to increase the number of iterations. Duality gap: 73708.83942263552, tolerance: 44.57595086941136\n",
      "  model = cd_fast.enet_coordinate_descent(\n",
      "/opt/conda/lib/python3.8/site-packages/sklearn/linear_model/_coordinate_descent.py:530: ConvergenceWarning: Objective did not converge. You might want to increase the number of iterations. Duality gap: 85113.20636462345, tolerance: 46.82437454234459\n",
      "  model = cd_fast.enet_coordinate_descent(\n"
     ]
    },
    {
     "name": "stdout",
     "output_type": "stream",
     "text": [
      "[CV 2/5] END ..............model__alpha=8.68511373751352e-06; total time=   0.2s\n",
      "[CV 3/5] END ..............model__alpha=8.68511373751352e-06; total time=   0.1s\n"
     ]
    },
    {
     "name": "stderr",
     "output_type": "stream",
     "text": [
      "/opt/conda/lib/python3.8/site-packages/sklearn/linear_model/_coordinate_descent.py:530: ConvergenceWarning: Objective did not converge. You might want to increase the number of iterations. Duality gap: 78268.93206555086, tolerance: 45.05783419193453\n",
      "  model = cd_fast.enet_coordinate_descent(\n",
      "/opt/conda/lib/python3.8/site-packages/sklearn/linear_model/_coordinate_descent.py:530: ConvergenceWarning: Objective did not converge. You might want to increase the number of iterations. Duality gap: 78361.05017858617, tolerance: 42.123115404364526\n",
      "  model = cd_fast.enet_coordinate_descent(\n"
     ]
    },
    {
     "name": "stdout",
     "output_type": "stream",
     "text": [
      "[CV 4/5] END ..............model__alpha=8.68511373751352e-06; total time=   0.2s\n",
      "[CV 5/5] END ..............model__alpha=8.68511373751352e-06; total time=   0.1s\n"
     ]
    },
    {
     "name": "stderr",
     "output_type": "stream",
     "text": [
      "/opt/conda/lib/python3.8/site-packages/sklearn/linear_model/_coordinate_descent.py:530: ConvergenceWarning: Objective did not converge. You might want to increase the number of iterations. Duality gap: 65147.01667394123, tolerance: 39.78987416850729\n",
      "  model = cd_fast.enet_coordinate_descent(\n",
      "/opt/conda/lib/python3.8/site-packages/sklearn/linear_model/_coordinate_descent.py:530: ConvergenceWarning: Objective did not converge. You might want to increase the number of iterations. Duality gap: 73670.90809956289, tolerance: 44.57595086941136\n",
      "  model = cd_fast.enet_coordinate_descent(\n"
     ]
    },
    {
     "name": "stdout",
     "output_type": "stream",
     "text": [
      "[CV 1/5] END ............model__alpha=1.4563484775012445e-05; total time=   0.1s\n",
      "[CV 2/5] END ............model__alpha=1.4563484775012445e-05; total time=   0.2s\n"
     ]
    },
    {
     "name": "stderr",
     "output_type": "stream",
     "text": [
      "/opt/conda/lib/python3.8/site-packages/sklearn/linear_model/_coordinate_descent.py:530: ConvergenceWarning: Objective did not converge. You might want to increase the number of iterations. Duality gap: 85083.9922400167, tolerance: 46.82437454234459\n",
      "  model = cd_fast.enet_coordinate_descent(\n",
      "/opt/conda/lib/python3.8/site-packages/sklearn/linear_model/_coordinate_descent.py:530: ConvergenceWarning: Objective did not converge. You might want to increase the number of iterations. Duality gap: 78237.04000947, tolerance: 45.05783419193453\n",
      "  model = cd_fast.enet_coordinate_descent(\n"
     ]
    },
    {
     "name": "stdout",
     "output_type": "stream",
     "text": [
      "[CV 3/5] END ............model__alpha=1.4563484775012445e-05; total time=   0.1s\n",
      "[CV 4/5] END ............model__alpha=1.4563484775012445e-05; total time=   0.1s\n"
     ]
    },
    {
     "name": "stderr",
     "output_type": "stream",
     "text": [
      "/opt/conda/lib/python3.8/site-packages/sklearn/linear_model/_coordinate_descent.py:530: ConvergenceWarning: Objective did not converge. You might want to increase the number of iterations. Duality gap: 78333.3919648373, tolerance: 42.123115404364526\n",
      "  model = cd_fast.enet_coordinate_descent(\n",
      "/opt/conda/lib/python3.8/site-packages/sklearn/linear_model/_coordinate_descent.py:530: ConvergenceWarning: Objective did not converge. You might want to increase the number of iterations. Duality gap: 65111.32071457992, tolerance: 39.78987416850729\n",
      "  model = cd_fast.enet_coordinate_descent(\n"
     ]
    },
    {
     "name": "stdout",
     "output_type": "stream",
     "text": [
      "[CV 5/5] END ............model__alpha=1.4563484775012445e-05; total time=   0.2s\n",
      "[CV 1/5] END ............model__alpha=2.4420530945486497e-05; total time=   0.1s\n"
     ]
    },
    {
     "name": "stderr",
     "output_type": "stream",
     "text": [
      "/opt/conda/lib/python3.8/site-packages/sklearn/linear_model/_coordinate_descent.py:530: ConvergenceWarning: Objective did not converge. You might want to increase the number of iterations. Duality gap: 73607.29653853273, tolerance: 44.57595086941136\n",
      "  model = cd_fast.enet_coordinate_descent(\n",
      "/opt/conda/lib/python3.8/site-packages/sklearn/linear_model/_coordinate_descent.py:530: ConvergenceWarning: Objective did not converge. You might want to increase the number of iterations. Duality gap: 85034.98296588613, tolerance: 46.82437454234459\n",
      "  model = cd_fast.enet_coordinate_descent(\n"
     ]
    },
    {
     "name": "stdout",
     "output_type": "stream",
     "text": [
      "[CV 2/5] END ............model__alpha=2.4420530945486497e-05; total time=   0.1s\n",
      "[CV 3/5] END ............model__alpha=2.4420530945486497e-05; total time=   0.2s\n"
     ]
    },
    {
     "name": "stderr",
     "output_type": "stream",
     "text": [
      "/opt/conda/lib/python3.8/site-packages/sklearn/linear_model/_coordinate_descent.py:530: ConvergenceWarning: Objective did not converge. You might want to increase the number of iterations. Duality gap: 78183.55413118337, tolerance: 45.05783419193453\n",
      "  model = cd_fast.enet_coordinate_descent(\n",
      "/opt/conda/lib/python3.8/site-packages/sklearn/linear_model/_coordinate_descent.py:530: ConvergenceWarning: Objective did not converge. You might want to increase the number of iterations. Duality gap: 78287.02825001285, tolerance: 42.123115404364526\n",
      "  model = cd_fast.enet_coordinate_descent(\n"
     ]
    },
    {
     "name": "stdout",
     "output_type": "stream",
     "text": [
      "[CV 4/5] END ............model__alpha=2.4420530945486497e-05; total time=   0.1s\n",
      "[CV 5/5] END ............model__alpha=2.4420530945486497e-05; total time=   0.1s\n"
     ]
    },
    {
     "name": "stderr",
     "output_type": "stream",
     "text": [
      "/opt/conda/lib/python3.8/site-packages/sklearn/linear_model/_coordinate_descent.py:530: ConvergenceWarning: Objective did not converge. You might want to increase the number of iterations. Duality gap: 65051.414622466174, tolerance: 39.78987416850729\n",
      "  model = cd_fast.enet_coordinate_descent(\n",
      "/opt/conda/lib/python3.8/site-packages/sklearn/linear_model/_coordinate_descent.py:530: ConvergenceWarning: Objective did not converge. You might want to increase the number of iterations. Duality gap: 73500.61065686465, tolerance: 44.57595086941136\n",
      "  model = cd_fast.enet_coordinate_descent(\n"
     ]
    },
    {
     "name": "stdout",
     "output_type": "stream",
     "text": [
      "[CV 1/5] END .............model__alpha=4.094915062380427e-05; total time=   0.2s\n",
      "[CV 2/5] END .............model__alpha=4.094915062380427e-05; total time=   0.1s\n"
     ]
    },
    {
     "name": "stderr",
     "output_type": "stream",
     "text": [
      "/opt/conda/lib/python3.8/site-packages/sklearn/linear_model/_coordinate_descent.py:530: ConvergenceWarning: Objective did not converge. You might want to increase the number of iterations. Duality gap: 84952.74134681883, tolerance: 46.82437454234459\n",
      "  model = cd_fast.enet_coordinate_descent(\n",
      "/opt/conda/lib/python3.8/site-packages/sklearn/linear_model/_coordinate_descent.py:530: ConvergenceWarning: Objective did not converge. You might want to increase the number of iterations. Duality gap: 78093.84459734183, tolerance: 45.05783419193453\n",
      "  model = cd_fast.enet_coordinate_descent(\n"
     ]
    },
    {
     "name": "stdout",
     "output_type": "stream",
     "text": [
      "[CV 3/5] END .............model__alpha=4.094915062380427e-05; total time=   0.2s\n",
      "[CV 4/5] END .............model__alpha=4.094915062380427e-05; total time=   0.1s\n"
     ]
    },
    {
     "name": "stderr",
     "output_type": "stream",
     "text": [
      "/opt/conda/lib/python3.8/site-packages/sklearn/linear_model/_coordinate_descent.py:530: ConvergenceWarning: Objective did not converge. You might want to increase the number of iterations. Duality gap: 78209.32525284725, tolerance: 42.123115404364526\n",
      "  model = cd_fast.enet_coordinate_descent(\n",
      "/opt/conda/lib/python3.8/site-packages/sklearn/linear_model/_coordinate_descent.py:530: ConvergenceWarning: Objective did not converge. You might want to increase the number of iterations. Duality gap: 64950.82152295201, tolerance: 39.78987416850729\n",
      "  model = cd_fast.enet_coordinate_descent(\n"
     ]
    },
    {
     "name": "stdout",
     "output_type": "stream",
     "text": [
      "[CV 5/5] END .............model__alpha=4.094915062380427e-05; total time=   0.1s\n",
      "[CV 1/5] END .............model__alpha=6.866488450042999e-05; total time=   0.2s\n"
     ]
    },
    {
     "name": "stderr",
     "output_type": "stream",
     "text": [
      "/opt/conda/lib/python3.8/site-packages/sklearn/linear_model/_coordinate_descent.py:530: ConvergenceWarning: Objective did not converge. You might want to increase the number of iterations. Duality gap: 73321.66576625152, tolerance: 44.57595086941136\n",
      "  model = cd_fast.enet_coordinate_descent(\n",
      "/opt/conda/lib/python3.8/site-packages/sklearn/linear_model/_coordinate_descent.py:530: ConvergenceWarning: Objective did not converge. You might want to increase the number of iterations. Duality gap: 84814.66834291602, tolerance: 46.82437454234459\n",
      "  model = cd_fast.enet_coordinate_descent(\n"
     ]
    },
    {
     "name": "stdout",
     "output_type": "stream",
     "text": [
      "[CV 2/5] END .............model__alpha=6.866488450042999e-05; total time=   0.1s\n",
      "[CV 3/5] END .............model__alpha=6.866488450042999e-05; total time=   0.2s\n"
     ]
    },
    {
     "name": "stderr",
     "output_type": "stream",
     "text": [
      "/opt/conda/lib/python3.8/site-packages/sklearn/linear_model/_coordinate_descent.py:530: ConvergenceWarning: Objective did not converge. You might want to increase the number of iterations. Duality gap: 77943.35359153293, tolerance: 45.05783419193453\n",
      "  model = cd_fast.enet_coordinate_descent(\n",
      "/opt/conda/lib/python3.8/site-packages/sklearn/linear_model/_coordinate_descent.py:530: ConvergenceWarning: Objective did not converge. You might want to increase the number of iterations. Duality gap: 78079.15302197241, tolerance: 42.123115404364526\n",
      "  model = cd_fast.enet_coordinate_descent(\n"
     ]
    },
    {
     "name": "stdout",
     "output_type": "stream",
     "text": [
      "[CV 4/5] END .............model__alpha=6.866488450042999e-05; total time=   0.1s\n",
      "[CV 5/5] END .............model__alpha=6.866488450042999e-05; total time=   0.2s\n"
     ]
    },
    {
     "name": "stderr",
     "output_type": "stream",
     "text": [
      "/opt/conda/lib/python3.8/site-packages/sklearn/linear_model/_coordinate_descent.py:530: ConvergenceWarning: Objective did not converge. You might want to increase the number of iterations. Duality gap: 64781.78424857011, tolerance: 39.78987416850729\n",
      "  model = cd_fast.enet_coordinate_descent(\n",
      "/opt/conda/lib/python3.8/site-packages/sklearn/linear_model/_coordinate_descent.py:530: ConvergenceWarning: Objective did not converge. You might want to increase the number of iterations. Duality gap: 73021.48140359769, tolerance: 44.57595086941136\n",
      "  model = cd_fast.enet_coordinate_descent(\n"
     ]
    },
    {
     "name": "stdout",
     "output_type": "stream",
     "text": [
      "[CV 1/5] END ............model__alpha=0.00011513953993264481; total time=   0.1s\n",
      "[CV 2/5] END ............model__alpha=0.00011513953993264481; total time=   0.2s\n"
     ]
    },
    {
     "name": "stderr",
     "output_type": "stream",
     "text": [
      "/opt/conda/lib/python3.8/site-packages/sklearn/linear_model/_coordinate_descent.py:530: ConvergenceWarning: Objective did not converge. You might want to increase the number of iterations. Duality gap: 84582.68581881009, tolerance: 46.82437454234459\n",
      "  model = cd_fast.enet_coordinate_descent(\n",
      "/opt/conda/lib/python3.8/site-packages/sklearn/linear_model/_coordinate_descent.py:530: ConvergenceWarning: Objective did not converge. You might want to increase the number of iterations. Duality gap: 77690.85491052327, tolerance: 45.05783419193453\n",
      "  model = cd_fast.enet_coordinate_descent(\n"
     ]
    },
    {
     "name": "stdout",
     "output_type": "stream",
     "text": [
      "[CV 3/5] END ............model__alpha=0.00011513953993264481; total time=   0.1s\n",
      "[CV 4/5] END ............model__alpha=0.00011513953993264481; total time=   0.1s\n"
     ]
    },
    {
     "name": "stderr",
     "output_type": "stream",
     "text": [
      "/opt/conda/lib/python3.8/site-packages/sklearn/linear_model/_coordinate_descent.py:530: ConvergenceWarning: Objective did not converge. You might want to increase the number of iterations. Duality gap: 77861.24390050884, tolerance: 42.123115404364526\n",
      "  model = cd_fast.enet_coordinate_descent(\n",
      "/opt/conda/lib/python3.8/site-packages/sklearn/linear_model/_coordinate_descent.py:530: ConvergenceWarning: Objective did not converge. You might want to increase the number of iterations. Duality gap: 64497.36416021963, tolerance: 39.78987416850729\n",
      "  model = cd_fast.enet_coordinate_descent(\n"
     ]
    },
    {
     "name": "stdout",
     "output_type": "stream",
     "text": [
      "[CV 5/5] END ............model__alpha=0.00011513953993264481; total time=   0.2s\n",
      "[CV 1/5] END ............model__alpha=0.00019306977288832496; total time=   0.1s\n"
     ]
    },
    {
     "name": "stderr",
     "output_type": "stream",
     "text": [
      "/opt/conda/lib/python3.8/site-packages/sklearn/linear_model/_coordinate_descent.py:530: ConvergenceWarning: Objective did not converge. You might want to increase the number of iterations. Duality gap: 72517.83477885165, tolerance: 44.57595086941136\n",
      "  model = cd_fast.enet_coordinate_descent(\n",
      "/opt/conda/lib/python3.8/site-packages/sklearn/linear_model/_coordinate_descent.py:530: ConvergenceWarning: Objective did not converge. You might want to increase the number of iterations. Duality gap: 84192.4852801785, tolerance: 46.82437454234459\n",
      "  model = cd_fast.enet_coordinate_descent(\n"
     ]
    },
    {
     "name": "stdout",
     "output_type": "stream",
     "text": [
      "[CV 2/5] END ............model__alpha=0.00019306977288832496; total time=   0.1s\n",
      "[CV 3/5] END ............model__alpha=0.00019306977288832496; total time=   0.2s\n"
     ]
    },
    {
     "name": "stderr",
     "output_type": "stream",
     "text": [
      "/opt/conda/lib/python3.8/site-packages/sklearn/linear_model/_coordinate_descent.py:530: ConvergenceWarning: Objective did not converge. You might want to increase the number of iterations. Duality gap: 77267.10299841803, tolerance: 45.05783419193453\n",
      "  model = cd_fast.enet_coordinate_descent(\n",
      "/opt/conda/lib/python3.8/site-packages/sklearn/linear_model/_coordinate_descent.py:530: ConvergenceWarning: Objective did not converge. You might want to increase the number of iterations. Duality gap: 77496.93614975749, tolerance: 42.123115404364526\n",
      "  model = cd_fast.enet_coordinate_descent(\n"
     ]
    },
    {
     "name": "stdout",
     "output_type": "stream",
     "text": [
      "[CV 4/5] END ............model__alpha=0.00019306977288832496; total time=   0.1s\n",
      "[CV 5/5] END ............model__alpha=0.00019306977288832496; total time=   0.1s\n"
     ]
    },
    {
     "name": "stderr",
     "output_type": "stream",
     "text": [
      "/opt/conda/lib/python3.8/site-packages/sklearn/linear_model/_coordinate_descent.py:530: ConvergenceWarning: Objective did not converge. You might want to increase the number of iterations. Duality gap: 64018.067564234545, tolerance: 39.78987416850729\n",
      "  model = cd_fast.enet_coordinate_descent(\n",
      "/opt/conda/lib/python3.8/site-packages/sklearn/linear_model/_coordinate_descent.py:530: ConvergenceWarning: Objective did not converge. You might want to increase the number of iterations. Duality gap: 71672.54971771852, tolerance: 44.57595086941136\n",
      "  model = cd_fast.enet_coordinate_descent(\n"
     ]
    },
    {
     "name": "stdout",
     "output_type": "stream",
     "text": [
      "[CV 1/5] END ............model__alpha=0.00032374575428176466; total time=   0.2s\n",
      "[CV 2/5] END ............model__alpha=0.00032374575428176466; total time=   0.1s\n"
     ]
    },
    {
     "name": "stderr",
     "output_type": "stream",
     "text": [
      "/opt/conda/lib/python3.8/site-packages/sklearn/linear_model/_coordinate_descent.py:530: ConvergenceWarning: Objective did not converge. You might want to increase the number of iterations. Duality gap: 83535.00261233034, tolerance: 46.82437454234459\n",
      "  model = cd_fast.enet_coordinate_descent(\n",
      "/opt/conda/lib/python3.8/site-packages/sklearn/linear_model/_coordinate_descent.py:530: ConvergenceWarning: Objective did not converge. You might want to increase the number of iterations. Duality gap: 76555.7813801172, tolerance: 45.05783419193453\n",
      "  model = cd_fast.enet_coordinate_descent(\n"
     ]
    },
    {
     "name": "stdout",
     "output_type": "stream",
     "text": [
      "[CV 3/5] END ............model__alpha=0.00032374575428176466; total time=   0.1s\n",
      "[CV 4/5] END ............model__alpha=0.00032374575428176466; total time=   0.2s\n"
     ]
    },
    {
     "name": "stderr",
     "output_type": "stream",
     "text": [
      "/opt/conda/lib/python3.8/site-packages/sklearn/linear_model/_coordinate_descent.py:530: ConvergenceWarning: Objective did not converge. You might want to increase the number of iterations. Duality gap: 76889.24869698881, tolerance: 42.123115404364526\n",
      "  model = cd_fast.enet_coordinate_descent(\n",
      "/opt/conda/lib/python3.8/site-packages/sklearn/linear_model/_coordinate_descent.py:530: ConvergenceWarning: Objective did not converge. You might want to increase the number of iterations. Duality gap: 63209.8537285927, tolerance: 39.78987416850729\n",
      "  model = cd_fast.enet_coordinate_descent(\n"
     ]
    },
    {
     "name": "stdout",
     "output_type": "stream",
     "text": [
      "[CV 5/5] END ............model__alpha=0.00032374575428176466; total time=   0.1s\n",
      "[CV 1/5] END .............model__alpha=0.0005428675439323859; total time=   0.2s\n"
     ]
    },
    {
     "name": "stderr",
     "output_type": "stream",
     "text": [
      "/opt/conda/lib/python3.8/site-packages/sklearn/linear_model/_coordinate_descent.py:530: ConvergenceWarning: Objective did not converge. You might want to increase the number of iterations. Duality gap: 70254.18628955029, tolerance: 44.57595086941136\n",
      "  model = cd_fast.enet_coordinate_descent(\n",
      "/opt/conda/lib/python3.8/site-packages/sklearn/linear_model/_coordinate_descent.py:530: ConvergenceWarning: Objective did not converge. You might want to increase the number of iterations. Duality gap: 82424.43892308259, tolerance: 46.82437454234459\n",
      "  model = cd_fast.enet_coordinate_descent(\n"
     ]
    },
    {
     "name": "stdout",
     "output_type": "stream",
     "text": [
      "[CV 2/5] END .............model__alpha=0.0005428675439323859; total time=   0.1s\n",
      "[CV 3/5] END .............model__alpha=0.0005428675439323859; total time=   0.2s\n"
     ]
    },
    {
     "name": "stderr",
     "output_type": "stream",
     "text": [
      "/opt/conda/lib/python3.8/site-packages/sklearn/linear_model/_coordinate_descent.py:530: ConvergenceWarning: Objective did not converge. You might want to increase the number of iterations. Duality gap: 75361.45667947484, tolerance: 45.05783419193453\n",
      "  model = cd_fast.enet_coordinate_descent(\n",
      "/opt/conda/lib/python3.8/site-packages/sklearn/linear_model/_coordinate_descent.py:530: ConvergenceWarning: Objective did not converge. You might want to increase the number of iterations. Duality gap: 75880.23827209834, tolerance: 42.123115404364526\n",
      "  model = cd_fast.enet_coordinate_descent(\n"
     ]
    },
    {
     "name": "stdout",
     "output_type": "stream",
     "text": [
      "[CV 4/5] END .............model__alpha=0.0005428675439323859; total time=   0.1s\n",
      "[CV 5/5] END .............model__alpha=0.0005428675439323859; total time=   0.1s\n"
     ]
    },
    {
     "name": "stderr",
     "output_type": "stream",
     "text": [
      "/opt/conda/lib/python3.8/site-packages/sklearn/linear_model/_coordinate_descent.py:530: ConvergenceWarning: Objective did not converge. You might want to increase the number of iterations. Duality gap: 61839.43163894237, tolerance: 39.78987416850729\n",
      "  model = cd_fast.enet_coordinate_descent(\n",
      "/opt/conda/lib/python3.8/site-packages/sklearn/linear_model/_coordinate_descent.py:530: ConvergenceWarning: Objective did not converge. You might want to increase the number of iterations. Duality gap: 67875.7365914329, tolerance: 44.57595086941136\n",
      "  model = cd_fast.enet_coordinate_descent(\n"
     ]
    },
    {
     "name": "stdout",
     "output_type": "stream",
     "text": [
      "[CV 1/5] END .............model__alpha=0.0009102981779915227; total time=   0.2s\n",
      "[CV 2/5] END .............model__alpha=0.0009102981779915227; total time=   0.1s\n"
     ]
    },
    {
     "name": "stderr",
     "output_type": "stream",
     "text": [
      "/opt/conda/lib/python3.8/site-packages/sklearn/linear_model/_coordinate_descent.py:530: ConvergenceWarning: Objective did not converge. You might want to increase the number of iterations. Duality gap: 80541.1624059646, tolerance: 46.82437454234459\n",
      "  model = cd_fast.enet_coordinate_descent(\n",
      "/opt/conda/lib/python3.8/site-packages/sklearn/linear_model/_coordinate_descent.py:530: ConvergenceWarning: Objective did not converge. You might want to increase the number of iterations. Duality gap: 73358.7524299973, tolerance: 45.05783419193453\n",
      "  model = cd_fast.enet_coordinate_descent(\n"
     ]
    },
    {
     "name": "stdout",
     "output_type": "stream",
     "text": [
      "[CV 3/5] END .............model__alpha=0.0009102981779915227; total time=   0.1s\n",
      "[CV 4/5] END .............model__alpha=0.0009102981779915227; total time=   0.1s\n"
     ]
    },
    {
     "name": "stderr",
     "output_type": "stream",
     "text": [
      "/opt/conda/lib/python3.8/site-packages/sklearn/linear_model/_coordinate_descent.py:530: ConvergenceWarning: Objective did not converge. You might want to increase the number of iterations. Duality gap: 74217.35895095917, tolerance: 42.123115404364526\n",
      "  model = cd_fast.enet_coordinate_descent(\n",
      "/opt/conda/lib/python3.8/site-packages/sklearn/linear_model/_coordinate_descent.py:530: ConvergenceWarning: Objective did not converge. You might want to increase the number of iterations. Duality gap: 59508.19829415553, tolerance: 39.78987416850729\n",
      "  model = cd_fast.enet_coordinate_descent(\n"
     ]
    },
    {
     "name": "stdout",
     "output_type": "stream",
     "text": [
      "[CV 5/5] END .............model__alpha=0.0009102981779915227; total time=   0.2s\n",
      "[CV 1/5] END .............model__alpha=0.0015264179671752333; total time=   0.1s\n"
     ]
    },
    {
     "name": "stderr",
     "output_type": "stream",
     "text": [
      "/opt/conda/lib/python3.8/site-packages/sklearn/linear_model/_coordinate_descent.py:530: ConvergenceWarning: Objective did not converge. You might want to increase the number of iterations. Duality gap: 64002.02568733315, tolerance: 44.57595086941136\n",
      "  model = cd_fast.enet_coordinate_descent(\n",
      "/opt/conda/lib/python3.8/site-packages/sklearn/linear_model/_coordinate_descent.py:530: ConvergenceWarning: Objective did not converge. You might want to increase the number of iterations. Duality gap: 77330.69695189121, tolerance: 46.82437454234459\n",
      "  model = cd_fast.enet_coordinate_descent(\n"
     ]
    },
    {
     "name": "stdout",
     "output_type": "stream",
     "text": [
      "[CV 2/5] END .............model__alpha=0.0015264179671752333; total time=   0.1s\n",
      "[CV 3/5] END .............model__alpha=0.0015264179671752333; total time=   0.1s\n"
     ]
    },
    {
     "name": "stderr",
     "output_type": "stream",
     "text": [
      "/opt/conda/lib/python3.8/site-packages/sklearn/linear_model/_coordinate_descent.py:530: ConvergenceWarning: Objective did not converge. You might want to increase the number of iterations. Duality gap: 70002.83571977945, tolerance: 45.05783419193453\n",
      "  model = cd_fast.enet_coordinate_descent(\n",
      "/opt/conda/lib/python3.8/site-packages/sklearn/linear_model/_coordinate_descent.py:530: ConvergenceWarning: Objective did not converge. You might want to increase the number of iterations. Duality gap: 71587.93990669487, tolerance: 42.123115404364526\n",
      "  model = cd_fast.enet_coordinate_descent(\n"
     ]
    },
    {
     "name": "stdout",
     "output_type": "stream",
     "text": [
      "[CV 4/5] END .............model__alpha=0.0015264179671752333; total time=   0.2s\n",
      "[CV 5/5] END .............model__alpha=0.0015264179671752333; total time=   0.1s\n"
     ]
    },
    {
     "name": "stderr",
     "output_type": "stream",
     "text": [
      "/opt/conda/lib/python3.8/site-packages/sklearn/linear_model/_coordinate_descent.py:530: ConvergenceWarning: Objective did not converge. You might want to increase the number of iterations. Duality gap: 55519.696607869686, tolerance: 39.78987416850729\n",
      "  model = cd_fast.enet_coordinate_descent(\n",
      "/opt/conda/lib/python3.8/site-packages/sklearn/linear_model/_coordinate_descent.py:530: ConvergenceWarning: Objective did not converge. You might want to increase the number of iterations. Duality gap: 57820.78228664629, tolerance: 44.57595086941136\n",
      "  model = cd_fast.enet_coordinate_descent(\n"
     ]
    },
    {
     "name": "stdout",
     "output_type": "stream",
     "text": [
      "[CV 1/5] END .............model__alpha=0.0025595479226995332; total time=   0.1s\n",
      "[CV 2/5] END .............model__alpha=0.0025595479226995332; total time=   0.2s\n"
     ]
    },
    {
     "name": "stderr",
     "output_type": "stream",
     "text": [
      "/opt/conda/lib/python3.8/site-packages/sklearn/linear_model/_coordinate_descent.py:530: ConvergenceWarning: Objective did not converge. You might want to increase the number of iterations. Duality gap: 72322.67141772271, tolerance: 46.82437454234459\n",
      "  model = cd_fast.enet_coordinate_descent(\n",
      "/opt/conda/lib/python3.8/site-packages/sklearn/linear_model/_coordinate_descent.py:530: ConvergenceWarning: Objective did not converge. You might want to increase the number of iterations. Duality gap: 64404.96033280648, tolerance: 45.05783419193453\n",
      "  model = cd_fast.enet_coordinate_descent(\n"
     ]
    },
    {
     "name": "stdout",
     "output_type": "stream",
     "text": [
      "[CV 3/5] END .............model__alpha=0.0025595479226995332; total time=   0.1s\n",
      "[CV 4/5] END .............model__alpha=0.0025595479226995332; total time=   0.2s\n"
     ]
    },
    {
     "name": "stderr",
     "output_type": "stream",
     "text": [
      "/opt/conda/lib/python3.8/site-packages/sklearn/linear_model/_coordinate_descent.py:530: ConvergenceWarning: Objective did not converge. You might want to increase the number of iterations. Duality gap: 67295.11416296347, tolerance: 42.123115404364526\n",
      "  model = cd_fast.enet_coordinate_descent(\n",
      "/opt/conda/lib/python3.8/site-packages/sklearn/linear_model/_coordinate_descent.py:530: ConvergenceWarning: Objective did not converge. You might want to increase the number of iterations. Duality gap: 48741.02599981504, tolerance: 39.78987416850729\n",
      "  model = cd_fast.enet_coordinate_descent(\n"
     ]
    },
    {
     "name": "stdout",
     "output_type": "stream",
     "text": [
      "[CV 5/5] END .............model__alpha=0.0025595479226995332; total time=   0.1s\n",
      "[CV 1/5] END ..............model__alpha=0.004291934260128779; total time=   0.2s\n"
     ]
    },
    {
     "name": "stderr",
     "output_type": "stream",
     "text": [
      "/opt/conda/lib/python3.8/site-packages/sklearn/linear_model/_coordinate_descent.py:530: ConvergenceWarning: Objective did not converge. You might want to increase the number of iterations. Duality gap: 50429.30880554143, tolerance: 44.57595086941136\n",
      "  model = cd_fast.enet_coordinate_descent(\n",
      "/opt/conda/lib/python3.8/site-packages/sklearn/linear_model/_coordinate_descent.py:530: ConvergenceWarning: Objective did not converge. You might want to increase the number of iterations. Duality gap: 64442.33869222267, tolerance: 46.82437454234459\n",
      "  model = cd_fast.enet_coordinate_descent(\n"
     ]
    },
    {
     "name": "stdout",
     "output_type": "stream",
     "text": [
      "[CV 2/5] END ..............model__alpha=0.004291934260128779; total time=   0.1s\n",
      "[CV 3/5] END ..............model__alpha=0.004291934260128779; total time=   0.2s\n"
     ]
    },
    {
     "name": "stderr",
     "output_type": "stream",
     "text": [
      "/opt/conda/lib/python3.8/site-packages/sklearn/linear_model/_coordinate_descent.py:530: ConvergenceWarning: Objective did not converge. You might want to increase the number of iterations. Duality gap: 55119.78001729772, tolerance: 45.05783419193453\n",
      "  model = cd_fast.enet_coordinate_descent(\n",
      "/opt/conda/lib/python3.8/site-packages/sklearn/linear_model/_coordinate_descent.py:530: ConvergenceWarning: Objective did not converge. You might want to increase the number of iterations. Duality gap: 59873.32965171077, tolerance: 42.123115404364526\n",
      "  model = cd_fast.enet_coordinate_descent(\n"
     ]
    },
    {
     "name": "stdout",
     "output_type": "stream",
     "text": [
      "[CV 4/5] END ..............model__alpha=0.004291934260128779; total time=   0.1s\n",
      "[CV 5/5] END ..............model__alpha=0.004291934260128779; total time=   0.2s\n"
     ]
    },
    {
     "name": "stderr",
     "output_type": "stream",
     "text": [
      "/opt/conda/lib/python3.8/site-packages/sklearn/linear_model/_coordinate_descent.py:530: ConvergenceWarning: Objective did not converge. You might want to increase the number of iterations. Duality gap: 37483.47888995145, tolerance: 39.78987416850729\n",
      "  model = cd_fast.enet_coordinate_descent(\n",
      "/opt/conda/lib/python3.8/site-packages/sklearn/linear_model/_coordinate_descent.py:530: ConvergenceWarning: Objective did not converge. You might want to increase the number of iterations. Duality gap: 41115.37658483827, tolerance: 44.57595086941136\n",
      "  model = cd_fast.enet_coordinate_descent(\n"
     ]
    },
    {
     "name": "stdout",
     "output_type": "stream",
     "text": [
      "[CV 1/5] END ..............model__alpha=0.007196856730011514; total time=   0.1s\n",
      "[CV 2/5] END ..............model__alpha=0.007196856730011514; total time=   0.2s\n"
     ]
    },
    {
     "name": "stderr",
     "output_type": "stream",
     "text": [
      "/opt/conda/lib/python3.8/site-packages/sklearn/linear_model/_coordinate_descent.py:530: ConvergenceWarning: Objective did not converge. You might want to increase the number of iterations. Duality gap: 51556.332319302266, tolerance: 46.82437454234459\n",
      "  model = cd_fast.enet_coordinate_descent(\n",
      "/opt/conda/lib/python3.8/site-packages/sklearn/linear_model/_coordinate_descent.py:530: ConvergenceWarning: Objective did not converge. You might want to increase the number of iterations. Duality gap: 40368.04391186103, tolerance: 45.05783419193453\n",
      "  model = cd_fast.enet_coordinate_descent(\n"
     ]
    },
    {
     "name": "stdout",
     "output_type": "stream",
     "text": [
      "[CV 3/5] END ..............model__alpha=0.007196856730011514; total time=   0.1s\n",
      "[CV 4/5] END ..............model__alpha=0.007196856730011514; total time=   0.1s\n"
     ]
    },
    {
     "name": "stderr",
     "output_type": "stream",
     "text": [
      "/opt/conda/lib/python3.8/site-packages/sklearn/linear_model/_coordinate_descent.py:530: ConvergenceWarning: Objective did not converge. You might want to increase the number of iterations. Duality gap: 48604.11808362191, tolerance: 42.123115404364526\n",
      "  model = cd_fast.enet_coordinate_descent(\n",
      "/opt/conda/lib/python3.8/site-packages/sklearn/linear_model/_coordinate_descent.py:530: ConvergenceWarning: Objective did not converge. You might want to increase the number of iterations. Duality gap: 20094.267544392336, tolerance: 39.78987416850729\n",
      "  model = cd_fast.enet_coordinate_descent(\n"
     ]
    },
    {
     "name": "stdout",
     "output_type": "stream",
     "text": [
      "[CV 5/5] END ..............model__alpha=0.007196856730011514; total time=   0.2s\n",
      "[CV 1/5] END ..............model__alpha=0.012067926406393264; total time=   0.1s\n"
     ]
    },
    {
     "name": "stderr",
     "output_type": "stream",
     "text": [
      "/opt/conda/lib/python3.8/site-packages/sklearn/linear_model/_coordinate_descent.py:530: ConvergenceWarning: Objective did not converge. You might want to increase the number of iterations. Duality gap: 30174.54863163361, tolerance: 44.57595086941136\n",
      "  model = cd_fast.enet_coordinate_descent(\n",
      "/opt/conda/lib/python3.8/site-packages/sklearn/linear_model/_coordinate_descent.py:530: ConvergenceWarning: Objective did not converge. You might want to increase the number of iterations. Duality gap: 41724.08217675742, tolerance: 46.82437454234459\n",
      "  model = cd_fast.enet_coordinate_descent(\n"
     ]
    },
    {
     "name": "stdout",
     "output_type": "stream",
     "text": [
      "[CV 2/5] END ..............model__alpha=0.012067926406393264; total time=   0.2s\n",
      "[CV 3/5] END ..............model__alpha=0.012067926406393264; total time=   0.1s\n"
     ]
    },
    {
     "name": "stderr",
     "output_type": "stream",
     "text": [
      "/opt/conda/lib/python3.8/site-packages/sklearn/linear_model/_coordinate_descent.py:530: ConvergenceWarning: Objective did not converge. You might want to increase the number of iterations. Duality gap: 19241.34902978946, tolerance: 45.05783419193453\n",
      "  model = cd_fast.enet_coordinate_descent(\n",
      "/opt/conda/lib/python3.8/site-packages/sklearn/linear_model/_coordinate_descent.py:530: ConvergenceWarning: Objective did not converge. You might want to increase the number of iterations. Duality gap: 34006.771779866525, tolerance: 42.123115404364526\n",
      "  model = cd_fast.enet_coordinate_descent(\n"
     ]
    },
    {
     "name": "stdout",
     "output_type": "stream",
     "text": [
      "[CV 4/5] END ..............model__alpha=0.012067926406393264; total time=   0.1s\n",
      "[CV 5/5] END ..............model__alpha=0.012067926406393264; total time=   0.2s\n"
     ]
    },
    {
     "name": "stderr",
     "output_type": "stream",
     "text": [
      "/opt/conda/lib/python3.8/site-packages/sklearn/linear_model/_coordinate_descent.py:530: ConvergenceWarning: Objective did not converge. You might want to increase the number of iterations. Duality gap: 5376.780967358223, tolerance: 39.78987416850729\n",
      "  model = cd_fast.enet_coordinate_descent(\n",
      "/opt/conda/lib/python3.8/site-packages/sklearn/linear_model/_coordinate_descent.py:530: ConvergenceWarning: Objective did not converge. You might want to increase the number of iterations. Duality gap: 16330.977569751354, tolerance: 44.57595086941136\n",
      "  model = cd_fast.enet_coordinate_descent(\n"
     ]
    },
    {
     "name": "stdout",
     "output_type": "stream",
     "text": [
      "[CV 1/5] END ..............model__alpha=0.020235896477251554; total time=   0.1s\n",
      "[CV 2/5] END ..............model__alpha=0.020235896477251554; total time=   0.1s\n"
     ]
    },
    {
     "name": "stderr",
     "output_type": "stream",
     "text": [
      "/opt/conda/lib/python3.8/site-packages/sklearn/linear_model/_coordinate_descent.py:530: ConvergenceWarning: Objective did not converge. You might want to increase the number of iterations. Duality gap: 30762.337504123716, tolerance: 46.82437454234459\n",
      "  model = cd_fast.enet_coordinate_descent(\n",
      "/opt/conda/lib/python3.8/site-packages/sklearn/linear_model/_coordinate_descent.py:530: ConvergenceWarning: Objective did not converge. You might want to increase the number of iterations. Duality gap: 3716.773170968343, tolerance: 45.05783419193453\n",
      "  model = cd_fast.enet_coordinate_descent(\n"
     ]
    },
    {
     "name": "stdout",
     "output_type": "stream",
     "text": [
      "[CV 3/5] END ..............model__alpha=0.020235896477251554; total time=   0.1s\n",
      "[CV 4/5] END ..............model__alpha=0.020235896477251554; total time=   0.2s\n"
     ]
    },
    {
     "name": "stderr",
     "output_type": "stream",
     "text": [
      "/opt/conda/lib/python3.8/site-packages/sklearn/linear_model/_coordinate_descent.py:530: ConvergenceWarning: Objective did not converge. You might want to increase the number of iterations. Duality gap: 12388.148132372517, tolerance: 42.123115404364526\n",
      "  model = cd_fast.enet_coordinate_descent(\n",
      "/opt/conda/lib/python3.8/site-packages/sklearn/linear_model/_coordinate_descent.py:530: ConvergenceWarning: Objective did not converge. You might want to increase the number of iterations. Duality gap: 1533.4013241182838, tolerance: 39.78987416850729\n",
      "  model = cd_fast.enet_coordinate_descent(\n"
     ]
    },
    {
     "name": "stdout",
     "output_type": "stream",
     "text": [
      "[CV 5/5] END ..............model__alpha=0.020235896477251554; total time=   0.1s\n",
      "[CV 1/5] END ................model__alpha=0.0339322177189533; total time=   0.1s\n"
     ]
    },
    {
     "name": "stderr",
     "output_type": "stream",
     "text": [
      "/opt/conda/lib/python3.8/site-packages/sklearn/linear_model/_coordinate_descent.py:530: ConvergenceWarning: Objective did not converge. You might want to increase the number of iterations. Duality gap: 6267.670826530462, tolerance: 44.57595086941136\n",
      "  model = cd_fast.enet_coordinate_descent(\n",
      "/opt/conda/lib/python3.8/site-packages/sklearn/linear_model/_coordinate_descent.py:530: ConvergenceWarning: Objective did not converge. You might want to increase the number of iterations. Duality gap: 2280.7878184840956, tolerance: 46.82437454234459\n",
      "  model = cd_fast.enet_coordinate_descent(\n"
     ]
    },
    {
     "name": "stdout",
     "output_type": "stream",
     "text": [
      "[CV 2/5] END ................model__alpha=0.0339322177189533; total time=   0.1s\n",
      "[CV 3/5] END ................model__alpha=0.0339322177189533; total time=   0.2s\n"
     ]
    },
    {
     "name": "stderr",
     "output_type": "stream",
     "text": [
      "/opt/conda/lib/python3.8/site-packages/sklearn/linear_model/_coordinate_descent.py:530: ConvergenceWarning: Objective did not converge. You might want to increase the number of iterations. Duality gap: 1407.829154860985, tolerance: 45.05783419193453\n",
      "  model = cd_fast.enet_coordinate_descent(\n",
      "/opt/conda/lib/python3.8/site-packages/sklearn/linear_model/_coordinate_descent.py:530: ConvergenceWarning: Objective did not converge. You might want to increase the number of iterations. Duality gap: 7015.726481239515, tolerance: 42.123115404364526\n",
      "  model = cd_fast.enet_coordinate_descent(\n"
     ]
    },
    {
     "name": "stdout",
     "output_type": "stream",
     "text": [
      "[CV 4/5] END ................model__alpha=0.0339322177189533; total time=   0.1s\n",
      "[CV 5/5] END ................model__alpha=0.0339322177189533; total time=   0.1s\n"
     ]
    },
    {
     "name": "stderr",
     "output_type": "stream",
     "text": [
      "/opt/conda/lib/python3.8/site-packages/sklearn/linear_model/_coordinate_descent.py:530: ConvergenceWarning: Objective did not converge. You might want to increase the number of iterations. Duality gap: 593.0534027893154, tolerance: 39.78987416850729\n",
      "  model = cd_fast.enet_coordinate_descent(\n",
      "/opt/conda/lib/python3.8/site-packages/sklearn/linear_model/_coordinate_descent.py:530: ConvergenceWarning: Objective did not converge. You might want to increase the number of iterations. Duality gap: 766.0972751805966, tolerance: 44.57595086941136\n",
      "  model = cd_fast.enet_coordinate_descent(\n"
     ]
    },
    {
     "name": "stdout",
     "output_type": "stream",
     "text": [
      "[CV 1/5] END ...............model__alpha=0.05689866029018305; total time=   0.1s\n",
      "[CV 2/5] END ...............model__alpha=0.05689866029018305; total time=   0.2s\n"
     ]
    },
    {
     "name": "stderr",
     "output_type": "stream",
     "text": [
      "/opt/conda/lib/python3.8/site-packages/sklearn/linear_model/_coordinate_descent.py:530: ConvergenceWarning: Objective did not converge. You might want to increase the number of iterations. Duality gap: 406.60830317719956, tolerance: 46.82437454234459\n",
      "  model = cd_fast.enet_coordinate_descent(\n",
      "/opt/conda/lib/python3.8/site-packages/sklearn/linear_model/_coordinate_descent.py:530: ConvergenceWarning: Objective did not converge. You might want to increase the number of iterations. Duality gap: 597.3778496702143, tolerance: 45.05783419193453\n",
      "  model = cd_fast.enet_coordinate_descent(\n"
     ]
    },
    {
     "name": "stdout",
     "output_type": "stream",
     "text": [
      "[CV 3/5] END ...............model__alpha=0.05689866029018305; total time=   0.1s\n",
      "[CV 4/5] END ...............model__alpha=0.05689866029018305; total time=   0.1s\n"
     ]
    },
    {
     "name": "stderr",
     "output_type": "stream",
     "text": [
      "/opt/conda/lib/python3.8/site-packages/sklearn/linear_model/_coordinate_descent.py:530: ConvergenceWarning: Objective did not converge. You might want to increase the number of iterations. Duality gap: 134.60843845075578, tolerance: 42.123115404364526\n",
      "  model = cd_fast.enet_coordinate_descent(\n",
      "/opt/conda/lib/python3.8/site-packages/sklearn/linear_model/_coordinate_descent.py:530: ConvergenceWarning: Objective did not converge. You might want to increase the number of iterations. Duality gap: 88.781461172126, tolerance: 39.78987416850729\n",
      "  model = cd_fast.enet_coordinate_descent(\n"
     ]
    },
    {
     "name": "stdout",
     "output_type": "stream",
     "text": [
      "[CV 5/5] END ...............model__alpha=0.05689866029018305; total time=   0.1s\n",
      "[CV 1/5] END ...............model__alpha=0.09540954763499924; total time=   0.2s\n"
     ]
    },
    {
     "name": "stderr",
     "output_type": "stream",
     "text": [
      "/opt/conda/lib/python3.8/site-packages/sklearn/linear_model/_coordinate_descent.py:530: ConvergenceWarning: Objective did not converge. You might want to increase the number of iterations. Duality gap: 92.58288963587256, tolerance: 44.57595086941136\n",
      "  model = cd_fast.enet_coordinate_descent(\n",
      "/opt/conda/lib/python3.8/site-packages/sklearn/linear_model/_coordinate_descent.py:530: ConvergenceWarning: Objective did not converge. You might want to increase the number of iterations. Duality gap: 393.3017109911889, tolerance: 46.82437454234459\n",
      "  model = cd_fast.enet_coordinate_descent(\n"
     ]
    },
    {
     "name": "stdout",
     "output_type": "stream",
     "text": [
      "[CV 2/5] END ...............model__alpha=0.09540954763499924; total time=   0.1s\n",
      "[CV 3/5] END ...............model__alpha=0.09540954763499924; total time=   0.1s\n"
     ]
    },
    {
     "name": "stderr",
     "output_type": "stream",
     "text": [
      "/opt/conda/lib/python3.8/site-packages/sklearn/linear_model/_coordinate_descent.py:530: ConvergenceWarning: Objective did not converge. You might want to increase the number of iterations. Duality gap: 791.6905354444461, tolerance: 45.05783419193453\n",
      "  model = cd_fast.enet_coordinate_descent(\n",
      "/opt/conda/lib/python3.8/site-packages/sklearn/linear_model/_coordinate_descent.py:530: ConvergenceWarning: Objective did not converge. You might want to increase the number of iterations. Duality gap: 232.97453530548955, tolerance: 42.123115404364526\n",
      "  model = cd_fast.enet_coordinate_descent(\n"
     ]
    },
    {
     "name": "stdout",
     "output_type": "stream",
     "text": [
      "[CV 4/5] END ...............model__alpha=0.09540954763499924; total time=   0.1s\n",
      "[CV 5/5] END ...............model__alpha=0.09540954763499924; total time=   0.1s\n",
      "[CV 1/5] END ...............model__alpha=0.15998587196060574; total time=   0.1s\n",
      "[CV 2/5] END ...............model__alpha=0.15998587196060574; total time=   0.1s\n",
      "[CV 3/5] END ...............model__alpha=0.15998587196060574; total time=   0.1s\n",
      "[CV 4/5] END ...............model__alpha=0.15998587196060574; total time=   0.1s\n",
      "[CV 5/5] END ...............model__alpha=0.15998587196060574; total time=   0.1s\n",
      "[CV 1/5] END ...............model__alpha=0.26826957952797276; total time=   0.1s\n"
     ]
    },
    {
     "name": "stderr",
     "output_type": "stream",
     "text": [
      "/opt/conda/lib/python3.8/site-packages/sklearn/linear_model/_coordinate_descent.py:530: ConvergenceWarning: Objective did not converge. You might want to increase the number of iterations. Duality gap: 44.278338671894744, tolerance: 42.123115404364526\n",
      "  model = cd_fast.enet_coordinate_descent(\n"
     ]
    },
    {
     "name": "stdout",
     "output_type": "stream",
     "text": [
      "[CV 2/5] END ...............model__alpha=0.26826957952797276; total time=   0.0s\n",
      "[CV 3/5] END ...............model__alpha=0.26826957952797276; total time=   0.1s\n",
      "[CV 4/5] END ...............model__alpha=0.26826957952797276; total time=   0.1s\n",
      "[CV 5/5] END ...............model__alpha=0.26826957952797276; total time=   0.0s\n",
      "[CV 1/5] END ................model__alpha=0.4498432668969453; total time=   0.1s\n",
      "[CV 2/5] END ................model__alpha=0.4498432668969453; total time=   0.0s\n",
      "[CV 3/5] END ................model__alpha=0.4498432668969453; total time=   0.1s\n",
      "[CV 4/5] END ................model__alpha=0.4498432668969453; total time=   0.1s\n",
      "[CV 5/5] END ................model__alpha=0.4498432668969453; total time=   0.0s\n",
      "[CV 1/5] END ................model__alpha=0.7543120063354607; total time=   0.1s\n",
      "[CV 2/5] END ................model__alpha=0.7543120063354607; total time=   0.0s\n",
      "[CV 3/5] END ................model__alpha=0.7543120063354607; total time=   0.1s\n",
      "[CV 4/5] END ................model__alpha=0.7543120063354607; total time=   0.0s\n",
      "[CV 5/5] END ................model__alpha=0.7543120063354607; total time=   0.1s\n",
      "[CV 1/5] END ................model__alpha=1.2648552168552958; total time=   0.0s\n",
      "[CV 2/5] END ................model__alpha=1.2648552168552958; total time=   0.1s\n",
      "[CV 3/5] END ................model__alpha=1.2648552168552958; total time=   0.0s\n",
      "[CV 4/5] END ................model__alpha=1.2648552168552958; total time=   0.1s\n",
      "[CV 5/5] END ................model__alpha=1.2648552168552958; total time=   0.0s\n",
      "[CV 1/5] END ................model__alpha=2.1209508879201926; total time=   0.1s\n",
      "[CV 2/5] END ................model__alpha=2.1209508879201926; total time=   0.0s\n",
      "[CV 3/5] END ................model__alpha=2.1209508879201926; total time=   0.1s\n",
      "[CV 4/5] END ................model__alpha=2.1209508879201926; total time=   0.0s\n",
      "[CV 5/5] END ................model__alpha=2.1209508879201926; total time=   0.1s\n",
      "[CV 1/5] END .................model__alpha=3.556480306223136; total time=   0.0s\n",
      "[CV 2/5] END .................model__alpha=3.556480306223136; total time=   0.0s\n",
      "[CV 3/5] END .................model__alpha=3.556480306223136; total time=   0.1s\n",
      "[CV 4/5] END .................model__alpha=3.556480306223136; total time=   0.0s\n",
      "[CV 5/5] END .................model__alpha=3.556480306223136; total time=   0.1s\n",
      "[CV 1/5] END .................model__alpha=5.963623316594637; total time=   0.0s\n",
      "[CV 2/5] END .................model__alpha=5.963623316594637; total time=   0.0s\n",
      "[CV 3/5] END .................model__alpha=5.963623316594637; total time=   0.1s\n",
      "[CV 4/5] END .................model__alpha=5.963623316594637; total time=   0.0s\n",
      "[CV 5/5] END .................model__alpha=5.963623316594637; total time=   0.0s\n",
      "[CV 1/5] END ..............................model__alpha=10.0; total time=   0.1s\n",
      "[CV 2/5] END ..............................model__alpha=10.0; total time=   0.0s\n",
      "[CV 3/5] END ..............................model__alpha=10.0; total time=   0.0s\n",
      "[CV 4/5] END ..............................model__alpha=10.0; total time=   0.1s\n",
      "[CV 5/5] END ..............................model__alpha=10.0; total time=   0.0s\n",
      "CPU times: user 3min 8s, sys: 4.91 s, total: 3min 13s\n",
      "Wall time: 32.3 s\n"
     ]
    },
    {
     "data": {
      "text/plain": [
       "GridSearchCV(cv=5,\n",
       "             estimator=Pipeline(steps=[('scaler', StandardScaler()),\n",
       "                                       ('model', Lasso())]),\n",
       "             param_grid={'model__alpha': array([1.00000000e-10, 1.67683294e-10, 2.81176870e-10, 4.71486636e-10,\n",
       "       7.90604321e-10, 1.32571137e-09, 2.22299648e-09, 3.72759372e-09,\n",
       "       6.25055193e-09, 1.04811313e-08, 1.75751062e-08, 2.94705170e-08,\n",
       "       4.94171336e-08, 8.28642773e-08, 1.38949549e-07...\n",
       "       1.93069773e-04, 3.23745754e-04, 5.42867544e-04, 9.10298178e-04,\n",
       "       1.52641797e-03, 2.55954792e-03, 4.29193426e-03, 7.19685673e-03,\n",
       "       1.20679264e-02, 2.02358965e-02, 3.39322177e-02, 5.68986603e-02,\n",
       "       9.54095476e-02, 1.59985872e-01, 2.68269580e-01, 4.49843267e-01,\n",
       "       7.54312006e-01, 1.26485522e+00, 2.12095089e+00, 3.55648031e+00,\n",
       "       5.96362332e+00, 1.00000000e+01])},\n",
       "             scoring='neg_mean_squared_error', verbose=3)"
      ]
     },
     "execution_count": 8,
     "metadata": {},
     "output_type": "execute_result"
    }
   ],
   "source": [
    "%%time\n",
    "steps = [('scaler', StandardScaler()), ('model', Lasso())]\n",
    "pipeline = Pipeline(steps)\n",
    "parameters = {'model__alpha': np.logspace(-10, 1, 50)}\n",
    "\n",
    "lasso_search = GridSearchCV(pipeline, \n",
    "                         parameters, \n",
    "                         cv = 5, \n",
    "                         scoring=\"neg_mean_squared_error\", \n",
    "                         verbose=3)\n",
    "\n",
    "lasso_search.fit(X_train, Y_train)"
   ]
  },
  {
   "cell_type": "code",
   "execution_count": 9,
   "id": "normal-tennessee",
   "metadata": {},
   "outputs": [
    {
     "data": {
      "text/plain": [
       "{'model__alpha': 0.26826957952797276}"
      ]
     },
     "execution_count": 9,
     "metadata": {},
     "output_type": "execute_result"
    }
   ],
   "source": [
    "lasso_search.best_params_"
   ]
  },
  {
   "cell_type": "code",
   "execution_count": 10,
   "id": "limiting-terrorist",
   "metadata": {},
   "outputs": [
    {
     "data": {
      "text/plain": [
       "Pipeline(steps=[('scaler', StandardScaler()),\n",
       "                ('model', Lasso(alpha=0.26826957952797276))])"
      ]
     },
     "execution_count": 10,
     "metadata": {},
     "output_type": "execute_result"
    }
   ],
   "source": [
    "lasso_search.best_estimator_"
   ]
  },
  {
   "cell_type": "markdown",
   "id": "backed-processing",
   "metadata": {},
   "source": [
    "### External Ligand set Evaluation"
   ]
  },
  {
   "cell_type": "code",
   "execution_count": 11,
   "id": "nearby-commander",
   "metadata": {},
   "outputs": [],
   "source": [
    "ext_y=ex_dataset['Yield']\n",
    "ext_X=ex_dataset.iloc[:, ex_dataset.columns.isin(X_train.columns)]\n",
    "\n",
    "Y_Pred = lasso_search.best_estimator_.predict(ext_X)"
   ]
  },
  {
   "cell_type": "code",
   "execution_count": 12,
   "id": "portuguese-sleeping",
   "metadata": {},
   "outputs": [
    {
     "name": "stdout",
     "output_type": "stream",
     "text": [
      "20.967009468034657\n"
     ]
    }
   ],
   "source": [
    "mse = mean_squared_error(ext_y, Y_Pred)\n",
    "print(math.sqrt(mse))"
   ]
  },
  {
   "cell_type": "code",
   "execution_count": 13,
   "id": "accepting-palmer",
   "metadata": {},
   "outputs": [
    {
     "data": {
      "image/png": "[encoded data removed]",
      "text/plain": [
       "<Figure size 900x600 with 1 Axes>"
      ]
     },
     "metadata": {
      "needs_background": "light"
     },
     "output_type": "display_data"
    }
   ],
   "source": [
    "plt.rcParams['figure.dpi'] = 150\n",
    "fig, ax = plt.subplots()\n",
    "ax.scatter(Y_Pred,ext_y,label=\"Validation\")\n",
    "ax.plot( [0,100],[0,100], 'k--', lw=4)\n",
    "ax.plot(lasso_search.best_estimator_.predict(X_train), Y_train, \"or\", alpha=0.5, label=\"Training\")\n",
    "ax.text(60,15,r'$R^2$: {:0.2f}'.format(r2_score(ext_y,Y_Pred)))\n",
    "ax.text(60,10,'Validation MAE: {:0.2f}'.format(mean_absolute_error(Y_Pred,ext_y)))\n",
    "ax.text(60,5,'Validation RMSE: {:0.2f}'.format(np.sqrt(mean_squared_error(Y_Pred,ext_y))))\n",
    "ax.set_xlabel('Predicted')\n",
    "ax.set_ylabel('Measured')\n",
    "ax.set_title('Lasso External Ligand set in EtOH prediction')\n",
    "plt.legend()\n",
    "plt.show()"
   ]
  },
  {
   "cell_type": "code",
   "execution_count": 14,
   "id": "developing-efficiency",
   "metadata": {},
   "outputs": [
    {
     "data": {
      "text/plain": [
       "<AxesSubplot:ylabel='feature'>"
      ]
     },
     "execution_count": 14,
     "metadata": {},
     "output_type": "execute_result"
    },
    {
     "data": {
      "image/png": "[encoded data removed]",
      "text/plain": [
       "<Figure size 900x600 with 1 Axes>"
      ]
     },
     "metadata": {
      "needs_background": "light"
     },
     "output_type": "display_data"
    }
   ],
   "source": [
    "#Top features in Lasso\n",
    "coefs=lasso_search.best_estimator_.named_steps['model'].coef_\n",
    "importance=np.abs(coefs)\n",
    "features=X_train.columns\n",
    "df=pd.DataFrame(zip(features,importance))\n",
    "df2 = df.sort_values(by=[1], ascending=False).head(25)\n",
    "df2.columns = ['feature', 'importance']\n",
    "df2.set_index('feature',inplace=True)\n",
    "df2.plot(kind='barh')"
   ]
  },
  {
   "cell_type": "code",
   "execution_count": 15,
   "id": "liable-software",
   "metadata": {},
   "outputs": [
    {
     "name": "stderr",
     "output_type": "stream",
     "text": [
      "<ipython-input-15-46571998fb2a>:3: SettingWithCopyWarning: \n",
      "A value is trying to be set on a copy of a slice from a DataFrame.\n",
      "Try using .loc[row_indexer,col_indexer] = value instead\n",
      "\n",
      "See the caveats in the documentation: https://pandas.pydata.org/pandas-docs/stable/user_guide/indexing.html#returning-a-view-versus-a-copy\n",
      "  results['Pred_Yield']=Y_Pred\n"
     ]
    }
   ],
   "source": [
    "results=ex_dataset[['Electrophile','Ligand','Yield']]\n",
    "results.reset_index(drop=True, inplace=True)\n",
    "results['Pred_Yield']=Y_Pred\n",
    "results.to_csv(\"results/Lasso_EtOH_Ligand_prediction.csv\",index=False)"
   ]
  },
  {
   "cell_type": "code",
   "execution_count": 16,
   "id": "exotic-maria",
   "metadata": {},
   "outputs": [
    {
     "data": {
      "text/html": [
       "<div>\n",
       "<style scoped>\n",
       "    .dataframe tbody tr th:only-of-type {\n",
       "        vertical-align: middle;\n",
       "    }\n",
       "\n",
       "    .dataframe tbody tr th {\n",
       "        vertical-align: top;\n",
       "    }\n",
       "\n",
       "    .dataframe thead th {\n",
       "        text-align: right;\n",
       "    }\n",
       "</style>\n",
       "<table border=\"1\" class=\"dataframe\">\n",
       "  <thead>\n",
       "    <tr style=\"text-align: right;\">\n",
       "      <th></th>\n",
       "      <th>Electrophile</th>\n",
       "      <th>Ligand</th>\n",
       "      <th>Yield</th>\n",
       "      <th>Pred_Yield</th>\n",
       "    </tr>\n",
       "  </thead>\n",
       "  <tbody>\n",
       "    <tr>\n",
       "      <th>0</th>\n",
       "      <td>5-Bromobenzofuran</td>\n",
       "      <td>Cy-JohnPhos-OMe</td>\n",
       "      <td>80.58</td>\n",
       "      <td>54.896585</td>\n",
       "    </tr>\n",
       "    <tr>\n",
       "      <th>1</th>\n",
       "      <td>5-Bromobenzofuran</td>\n",
       "      <td>CPhos</td>\n",
       "      <td>67.06</td>\n",
       "      <td>50.605824</td>\n",
       "    </tr>\n",
       "    <tr>\n",
       "      <th>2</th>\n",
       "      <td>5-Bromobenzofuran</td>\n",
       "      <td>CX-POMeCy</td>\n",
       "      <td>78.86</td>\n",
       "      <td>62.405135</td>\n",
       "    </tr>\n",
       "    <tr>\n",
       "      <th>3</th>\n",
       "      <td>5-Bromobenzofuran</td>\n",
       "      <td>PEt3</td>\n",
       "      <td>8.66</td>\n",
       "      <td>31.932956</td>\n",
       "    </tr>\n",
       "    <tr>\n",
       "      <th>4</th>\n",
       "      <td>5-Bromobenzofuran</td>\n",
       "      <td>PPh2(o-Anis)</td>\n",
       "      <td>79.61</td>\n",
       "      <td>61.194855</td>\n",
       "    </tr>\n",
       "    <tr>\n",
       "      <th>5</th>\n",
       "      <td>5-Bromobenzofuran</td>\n",
       "      <td>RuPhos</td>\n",
       "      <td>75.21</td>\n",
       "      <td>43.482815</td>\n",
       "    </tr>\n",
       "    <tr>\n",
       "      <th>6</th>\n",
       "      <td>5-Bromobenzofuran</td>\n",
       "      <td>P(p-CF3-Ph)3</td>\n",
       "      <td>80.15</td>\n",
       "      <td>86.995710</td>\n",
       "    </tr>\n",
       "    <tr>\n",
       "      <th>7</th>\n",
       "      <td>5-Bromobenzofuran</td>\n",
       "      <td>CM-Phos</td>\n",
       "      <td>82.63</td>\n",
       "      <td>68.366001</td>\n",
       "    </tr>\n",
       "    <tr>\n",
       "      <th>8</th>\n",
       "      <td>5-Bromobenzofuran</td>\n",
       "      <td>PBn3</td>\n",
       "      <td>27.75</td>\n",
       "      <td>54.858958</td>\n",
       "    </tr>\n",
       "    <tr>\n",
       "      <th>9</th>\n",
       "      <td>5-Bromobenzofuran</td>\n",
       "      <td>CX-PInCy</td>\n",
       "      <td>77.80</td>\n",
       "      <td>62.557478</td>\n",
       "    </tr>\n",
       "    <tr>\n",
       "      <th>10</th>\n",
       "      <td>5-Bromobenzofuran</td>\n",
       "      <td>S-Phos</td>\n",
       "      <td>74.02</td>\n",
       "      <td>45.010042</td>\n",
       "    </tr>\n",
       "    <tr>\n",
       "      <th>11</th>\n",
       "      <td>5-Bromobenzofuran</td>\n",
       "      <td>PPhCy2</td>\n",
       "      <td>76.40</td>\n",
       "      <td>63.742895</td>\n",
       "    </tr>\n",
       "    <tr>\n",
       "      <th>12</th>\n",
       "      <td>4-Bromo-2-fluorobenzonitrile</td>\n",
       "      <td>Cy-JohnPhos-OMe</td>\n",
       "      <td>72.04</td>\n",
       "      <td>61.736868</td>\n",
       "    </tr>\n",
       "    <tr>\n",
       "      <th>13</th>\n",
       "      <td>4-Bromo-2-fluorobenzonitrile</td>\n",
       "      <td>CPhos</td>\n",
       "      <td>36.76</td>\n",
       "      <td>57.446107</td>\n",
       "    </tr>\n",
       "    <tr>\n",
       "      <th>14</th>\n",
       "      <td>4-Bromo-2-fluorobenzonitrile</td>\n",
       "      <td>CX-POMeCy</td>\n",
       "      <td>74.62</td>\n",
       "      <td>69.245418</td>\n",
       "    </tr>\n",
       "    <tr>\n",
       "      <th>15</th>\n",
       "      <td>4-Bromo-2-fluorobenzonitrile</td>\n",
       "      <td>PEt3</td>\n",
       "      <td>8.96</td>\n",
       "      <td>38.773239</td>\n",
       "    </tr>\n",
       "    <tr>\n",
       "      <th>16</th>\n",
       "      <td>4-Bromo-2-fluorobenzonitrile</td>\n",
       "      <td>PPh2(o-Anis)</td>\n",
       "      <td>60.12</td>\n",
       "      <td>68.035138</td>\n",
       "    </tr>\n",
       "    <tr>\n",
       "      <th>17</th>\n",
       "      <td>4-Bromo-2-fluorobenzonitrile</td>\n",
       "      <td>RuPhos</td>\n",
       "      <td>46.26</td>\n",
       "      <td>50.323098</td>\n",
       "    </tr>\n",
       "    <tr>\n",
       "      <th>18</th>\n",
       "      <td>4-Bromo-2-fluorobenzonitrile</td>\n",
       "      <td>P(p-CF3-Ph)3</td>\n",
       "      <td>78.46</td>\n",
       "      <td>93.835993</td>\n",
       "    </tr>\n",
       "    <tr>\n",
       "      <th>19</th>\n",
       "      <td>4-Bromo-2-fluorobenzonitrile</td>\n",
       "      <td>CM-Phos</td>\n",
       "      <td>76.77</td>\n",
       "      <td>75.206283</td>\n",
       "    </tr>\n",
       "    <tr>\n",
       "      <th>20</th>\n",
       "      <td>4-Bromo-2-fluorobenzonitrile</td>\n",
       "      <td>PBn3</td>\n",
       "      <td>14.68</td>\n",
       "      <td>61.699241</td>\n",
       "    </tr>\n",
       "    <tr>\n",
       "      <th>21</th>\n",
       "      <td>4-Bromo-2-fluorobenzonitrile</td>\n",
       "      <td>CX-PInCy</td>\n",
       "      <td>72.96</td>\n",
       "      <td>69.397760</td>\n",
       "    </tr>\n",
       "    <tr>\n",
       "      <th>22</th>\n",
       "      <td>4-Bromo-2-fluorobenzonitrile</td>\n",
       "      <td>S-Phos</td>\n",
       "      <td>53.67</td>\n",
       "      <td>51.850325</td>\n",
       "    </tr>\n",
       "    <tr>\n",
       "      <th>23</th>\n",
       "      <td>4-Bromo-2-fluorobenzonitrile</td>\n",
       "      <td>PPhCy2</td>\n",
       "      <td>35.28</td>\n",
       "      <td>70.583178</td>\n",
       "    </tr>\n",
       "  </tbody>\n",
       "</table>\n",
       "</div>"
      ],
      "text/plain": [
       "                    Electrophile           Ligand  Yield  Pred_Yield\n",
       "0              5-Bromobenzofuran  Cy-JohnPhos-OMe  80.58   54.896585\n",
       "1              5-Bromobenzofuran            CPhos  67.06   50.605824\n",
       "2              5-Bromobenzofuran        CX-POMeCy  78.86   62.405135\n",
       "3              5-Bromobenzofuran             PEt3   8.66   31.932956\n",
       "4              5-Bromobenzofuran     PPh2(o-Anis)  79.61   61.194855\n",
       "5              5-Bromobenzofuran           RuPhos  75.21   43.482815\n",
       "6              5-Bromobenzofuran     P(p-CF3-Ph)3  80.15   86.995710\n",
       "7              5-Bromobenzofuran          CM-Phos  82.63   68.366001\n",
       "8              5-Bromobenzofuran             PBn3  27.75   54.858958\n",
       "9              5-Bromobenzofuran         CX-PInCy  77.80   62.557478\n",
       "10             5-Bromobenzofuran           S-Phos  74.02   45.010042\n",
       "11             5-Bromobenzofuran           PPhCy2  76.40   63.742895\n",
       "12  4-Bromo-2-fluorobenzonitrile  Cy-JohnPhos-OMe  72.04   61.736868\n",
       "13  4-Bromo-2-fluorobenzonitrile            CPhos  36.76   57.446107\n",
       "14  4-Bromo-2-fluorobenzonitrile        CX-POMeCy  74.62   69.245418\n",
       "15  4-Bromo-2-fluorobenzonitrile             PEt3   8.96   38.773239\n",
       "16  4-Bromo-2-fluorobenzonitrile     PPh2(o-Anis)  60.12   68.035138\n",
       "17  4-Bromo-2-fluorobenzonitrile           RuPhos  46.26   50.323098\n",
       "18  4-Bromo-2-fluorobenzonitrile     P(p-CF3-Ph)3  78.46   93.835993\n",
       "19  4-Bromo-2-fluorobenzonitrile          CM-Phos  76.77   75.206283\n",
       "20  4-Bromo-2-fluorobenzonitrile             PBn3  14.68   61.699241\n",
       "21  4-Bromo-2-fluorobenzonitrile         CX-PInCy  72.96   69.397760\n",
       "22  4-Bromo-2-fluorobenzonitrile           S-Phos  53.67   51.850325\n",
       "23  4-Bromo-2-fluorobenzonitrile           PPhCy2  35.28   70.583178"
      ]
     },
     "execution_count": 16,
     "metadata": {},
     "output_type": "execute_result"
    }
   ],
   "source": [
    "results"
   ]
  },
  {
   "cell_type": "code",
   "execution_count": 17,
   "id": "mysterious-reputation",
   "metadata": {},
   "outputs": [],
   "source": [
    "%load_ext watermark"
   ]
  },
  {
   "cell_type": "code",
   "execution_count": 18,
   "id": "thirty-london",
   "metadata": {},
   "outputs": [
    {
     "name": "stdout",
     "output_type": "stream",
     "text": [
      "pandas    : 1.2.0\n",
      "sklearn   : 0.0\n",
      "matplotlib: 3.3.3\n",
      "numpy     : 1.19.2\n",
      "\n"
     ]
    }
   ],
   "source": [
    "%watermark --iversions"
   ]
  },
  {
   "cell_type": "code",
   "execution_count": null,
   "id": "boolean-envelope",
   "metadata": {},
   "outputs": [],
   "source": []
  }
 ],
 "metadata": {
  "kernelspec": {
   "display_name": "Python 3",
   "language": "python",
   "name": "python3"
  },
  "language_info": {
   "codemirror_mode": {
    "name": "ipython",
    "version": 3
   },
   "file_extension": ".py",
   "mimetype": "text/x-python",
   "name": "python",
   "nbconvert_exporter": "python",
   "pygments_lexer": "ipython3",
   "version": "3.8.5"
  }
 },
 "nbformat": 4,
 "nbformat_minor": 5
}
