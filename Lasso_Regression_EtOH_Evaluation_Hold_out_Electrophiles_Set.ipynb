{
 "cells": [
  {
   "cell_type": "markdown",
   "id": "improved-utilization",
   "metadata": {},
   "source": [
    "In this notebook, we will explore Gaussian Process Machine Learning model for the ethanol dataset. The hold-out set containing three electrophiles of 1H-indol-5-yl N,N-dimethylsulfamate, Ethyl 4-chloro-3-fluorobenzoate, and Clofibrate will be used as the external electrophile testing set."
   ]
  },
  {
   "cell_type": "markdown",
   "id": "unusual-lotus",
   "metadata": {},
   "source": [
    "# Machine Learning for Nickel Catalyzed Borylation in EtOH"
   ]
  },
  {
   "cell_type": "code",
   "execution_count": 1,
   "id": "ranking-prospect",
   "metadata": {},
   "outputs": [],
   "source": [
    "import numpy as np\n",
    "import pandas as pd\n",
    "import sklearn\n",
    "\n",
    "from sklearn.model_selection import GridSearchCV\n",
    "from sklearn.preprocessing import StandardScaler\n",
    "\n",
    "from sklearn.pipeline import Pipeline\n",
    "from sklearn.metrics import mean_squared_error, mean_absolute_error, r2_score\n",
    "import math as math\n",
    "import matplotlib.pyplot as plt\n",
    "\n",
    "from sklearn.linear_model import Lasso"
   ]
  },
  {
   "cell_type": "markdown",
   "id": "limited-snake",
   "metadata": {},
   "source": [
    "### Load Preprocessed Ethanol Dataset"
   ]
  },
  {
   "cell_type": "code",
   "execution_count": 2,
   "id": "demanding-dominican",
   "metadata": {},
   "outputs": [
    {
     "data": {
      "text/html": [
       "<div>\n",
       "<style scoped>\n",
       "    .dataframe tbody tr th:only-of-type {\n",
       "        vertical-align: middle;\n",
       "    }\n",
       "\n",
       "    .dataframe tbody tr th {\n",
       "        vertical-align: top;\n",
       "    }\n",
       "\n",
       "    .dataframe thead th {\n",
       "        text-align: right;\n",
       "    }\n",
       "</style>\n",
       "<table border=\"1\" class=\"dataframe\">\n",
       "  <thead>\n",
       "    <tr style=\"text-align: right;\">\n",
       "      <th></th>\n",
       "      <th>ArylHalide_CX_Lowdin</th>\n",
       "      <th>ArylHalide_C_Chem Shift</th>\n",
       "      <th>ArylHalide_C_Electrostatic</th>\n",
       "      <th>ArylHalide_C_Exposed Area</th>\n",
       "      <th>ArylHalide_C_Mulliken</th>\n",
       "      <th>ArylHalide_XY_Chem Shift_Max</th>\n",
       "      <th>ArylHalide_XY_Chem Shift_Min</th>\n",
       "      <th>ArylHalide_XY_Electrostatic_Max</th>\n",
       "      <th>ArylHalide_XY_Electrostatic_Min</th>\n",
       "      <th>ArylHalide_XY_Exposed Area_Avg</th>\n",
       "      <th>...</th>\n",
       "      <th>Kraken_vbur_vbur_max</th>\n",
       "      <th>Kraken_vbur_vbur_min</th>\n",
       "      <th>Kraken_vbur_vtot_boltz</th>\n",
       "      <th>Kraken_vmin_r_boltz</th>\n",
       "      <th>Kraken_vmin_vmin_boltz</th>\n",
       "      <th>Ligand</th>\n",
       "      <th>Ligand_inchi</th>\n",
       "      <th>Product_inchi</th>\n",
       "      <th>Solvent_inchi</th>\n",
       "      <th>Yield</th>\n",
       "    </tr>\n",
       "  </thead>\n",
       "  <tbody>\n",
       "    <tr>\n",
       "      <th>0</th>\n",
       "      <td>1.11</td>\n",
       "      <td>140.296</td>\n",
       "      <td>0.33</td>\n",
       "      <td>8.371</td>\n",
       "      <td>0.338</td>\n",
       "      <td>105.274</td>\n",
       "      <td>102.178</td>\n",
       "      <td>-0.291</td>\n",
       "      <td>-0.456</td>\n",
       "      <td>12.9615</td>\n",
       "      <td>...</td>\n",
       "      <td>50.731606</td>\n",
       "      <td>50.731606</td>\n",
       "      <td>351.19888</td>\n",
       "      <td>1.840787</td>\n",
       "      <td>-0.055960</td>\n",
       "      <td>A-paPhos</td>\n",
       "      <td>InChI=1S/C20H20NP/c1-21(2)17-13-15-20(16-14-17...</td>\n",
       "      <td>InChI=1S/C8H8BNO2/c11-9(12)7-1-2-8-6(5-7)3-4-1...</td>\n",
       "      <td>InChI=1S/C2H6O/c1-2-3/h3H,2H2,1H3</td>\n",
       "      <td>87.13</td>\n",
       "    </tr>\n",
       "    <tr>\n",
       "      <th>1</th>\n",
       "      <td>1.11</td>\n",
       "      <td>140.296</td>\n",
       "      <td>0.33</td>\n",
       "      <td>8.371</td>\n",
       "      <td>0.338</td>\n",
       "      <td>105.274</td>\n",
       "      <td>102.178</td>\n",
       "      <td>-0.291</td>\n",
       "      <td>-0.456</td>\n",
       "      <td>12.9615</td>\n",
       "      <td>...</td>\n",
       "      <td>80.673770</td>\n",
       "      <td>61.935337</td>\n",
       "      <td>479.46484</td>\n",
       "      <td>1.803143</td>\n",
       "      <td>-0.058457</td>\n",
       "      <td>CX-FBu</td>\n",
       "      <td>InChI=1S/C29H39P.BF4/c1-2-3-22-29(27-20-12-10-...</td>\n",
       "      <td>InChI=1S/C8H8BNO2/c11-9(12)7-1-2-8-6(5-7)3-4-1...</td>\n",
       "      <td>InChI=1S/C2H6O/c1-2-3/h3H,2H2,1H3</td>\n",
       "      <td>6.37</td>\n",
       "    </tr>\n",
       "    <tr>\n",
       "      <th>2</th>\n",
       "      <td>1.11</td>\n",
       "      <td>140.296</td>\n",
       "      <td>0.33</td>\n",
       "      <td>8.371</td>\n",
       "      <td>0.338</td>\n",
       "      <td>105.274</td>\n",
       "      <td>102.178</td>\n",
       "      <td>-0.291</td>\n",
       "      <td>-0.456</td>\n",
       "      <td>12.9615</td>\n",
       "      <td>...</td>\n",
       "      <td>107.755370</td>\n",
       "      <td>56.694310</td>\n",
       "      <td>386.44120</td>\n",
       "      <td>1.805810</td>\n",
       "      <td>-0.058387</td>\n",
       "      <td>CX-PCy</td>\n",
       "      <td>InChI=1S/C22H30NP/c1-4-11-19(12-5-1)23-18-10-1...</td>\n",
       "      <td>InChI=1S/C8H8BNO2/c11-9(12)7-1-2-8-6(5-7)3-4-1...</td>\n",
       "      <td>InChI=1S/C2H6O/c1-2-3/h3H,2H2,1H3</td>\n",
       "      <td>71.75</td>\n",
       "    </tr>\n",
       "    <tr>\n",
       "      <th>3</th>\n",
       "      <td>1.11</td>\n",
       "      <td>140.296</td>\n",
       "      <td>0.33</td>\n",
       "      <td>8.371</td>\n",
       "      <td>0.338</td>\n",
       "      <td>105.274</td>\n",
       "      <td>102.178</td>\n",
       "      <td>-0.291</td>\n",
       "      <td>-0.456</td>\n",
       "      <td>12.9615</td>\n",
       "      <td>...</td>\n",
       "      <td>117.597336</td>\n",
       "      <td>54.091050</td>\n",
       "      <td>618.03375</td>\n",
       "      <td>1.817123</td>\n",
       "      <td>-0.054418</td>\n",
       "      <td>Cy-BippyPhos</td>\n",
       "      <td>InChI=1S/C36H39N4P/c1-6-16-28(17-7-1)34-36(35(...</td>\n",
       "      <td>InChI=1S/C8H8BNO2/c11-9(12)7-1-2-8-6(5-7)3-4-1...</td>\n",
       "      <td>InChI=1S/C2H6O/c1-2-3/h3H,2H2,1H3</td>\n",
       "      <td>64.52</td>\n",
       "    </tr>\n",
       "    <tr>\n",
       "      <th>4</th>\n",
       "      <td>1.11</td>\n",
       "      <td>140.296</td>\n",
       "      <td>0.33</td>\n",
       "      <td>8.371</td>\n",
       "      <td>0.338</td>\n",
       "      <td>105.274</td>\n",
       "      <td>102.178</td>\n",
       "      <td>-0.291</td>\n",
       "      <td>-0.456</td>\n",
       "      <td>12.9615</td>\n",
       "      <td>...</td>\n",
       "      <td>111.484024</td>\n",
       "      <td>57.033180</td>\n",
       "      <td>402.37967</td>\n",
       "      <td>1.816461</td>\n",
       "      <td>-0.061351</td>\n",
       "      <td>Cy-JohnPhos</td>\n",
       "      <td>InChI=1S/C24H31P/c1-4-12-20(13-5-1)23-18-10-11...</td>\n",
       "      <td>InChI=1S/C8H8BNO2/c11-9(12)7-1-2-8-6(5-7)3-4-1...</td>\n",
       "      <td>InChI=1S/C2H6O/c1-2-3/h3H,2H2,1H3</td>\n",
       "      <td>80.44</td>\n",
       "    </tr>\n",
       "  </tbody>\n",
       "</table>\n",
       "<p>5 rows × 163 columns</p>\n",
       "</div>"
      ],
      "text/plain": [
       "   ArylHalide_CX_Lowdin  ArylHalide_C_Chem Shift  ArylHalide_C_Electrostatic  \\\n",
       "0                  1.11                  140.296                        0.33   \n",
       "1                  1.11                  140.296                        0.33   \n",
       "2                  1.11                  140.296                        0.33   \n",
       "3                  1.11                  140.296                        0.33   \n",
       "4                  1.11                  140.296                        0.33   \n",
       "\n",
       "   ArylHalide_C_Exposed Area  ArylHalide_C_Mulliken  \\\n",
       "0                      8.371                  0.338   \n",
       "1                      8.371                  0.338   \n",
       "2                      8.371                  0.338   \n",
       "3                      8.371                  0.338   \n",
       "4                      8.371                  0.338   \n",
       "\n",
       "   ArylHalide_XY_Chem Shift_Max  ArylHalide_XY_Chem Shift_Min  \\\n",
       "0                       105.274                       102.178   \n",
       "1                       105.274                       102.178   \n",
       "2                       105.274                       102.178   \n",
       "3                       105.274                       102.178   \n",
       "4                       105.274                       102.178   \n",
       "\n",
       "   ArylHalide_XY_Electrostatic_Max  ArylHalide_XY_Electrostatic_Min  \\\n",
       "0                           -0.291                           -0.456   \n",
       "1                           -0.291                           -0.456   \n",
       "2                           -0.291                           -0.456   \n",
       "3                           -0.291                           -0.456   \n",
       "4                           -0.291                           -0.456   \n",
       "\n",
       "   ArylHalide_XY_Exposed Area_Avg  ...  Kraken_vbur_vbur_max  \\\n",
       "0                         12.9615  ...             50.731606   \n",
       "1                         12.9615  ...             80.673770   \n",
       "2                         12.9615  ...            107.755370   \n",
       "3                         12.9615  ...            117.597336   \n",
       "4                         12.9615  ...            111.484024   \n",
       "\n",
       "   Kraken_vbur_vbur_min  Kraken_vbur_vtot_boltz  Kraken_vmin_r_boltz  \\\n",
       "0             50.731606               351.19888             1.840787   \n",
       "1             61.935337               479.46484             1.803143   \n",
       "2             56.694310               386.44120             1.805810   \n",
       "3             54.091050               618.03375             1.817123   \n",
       "4             57.033180               402.37967             1.816461   \n",
       "\n",
       "   Kraken_vmin_vmin_boltz        Ligand  \\\n",
       "0               -0.055960      A-paPhos   \n",
       "1               -0.058457        CX-FBu   \n",
       "2               -0.058387        CX-PCy   \n",
       "3               -0.054418  Cy-BippyPhos   \n",
       "4               -0.061351   Cy-JohnPhos   \n",
       "\n",
       "                                        Ligand_inchi  \\\n",
       "0  InChI=1S/C20H20NP/c1-21(2)17-13-15-20(16-14-17...   \n",
       "1  InChI=1S/C29H39P.BF4/c1-2-3-22-29(27-20-12-10-...   \n",
       "2  InChI=1S/C22H30NP/c1-4-11-19(12-5-1)23-18-10-1...   \n",
       "3  InChI=1S/C36H39N4P/c1-6-16-28(17-7-1)34-36(35(...   \n",
       "4  InChI=1S/C24H31P/c1-4-12-20(13-5-1)23-18-10-11...   \n",
       "\n",
       "                                       Product_inchi  \\\n",
       "0  InChI=1S/C8H8BNO2/c11-9(12)7-1-2-8-6(5-7)3-4-1...   \n",
       "1  InChI=1S/C8H8BNO2/c11-9(12)7-1-2-8-6(5-7)3-4-1...   \n",
       "2  InChI=1S/C8H8BNO2/c11-9(12)7-1-2-8-6(5-7)3-4-1...   \n",
       "3  InChI=1S/C8H8BNO2/c11-9(12)7-1-2-8-6(5-7)3-4-1...   \n",
       "4  InChI=1S/C8H8BNO2/c11-9(12)7-1-2-8-6(5-7)3-4-1...   \n",
       "\n",
       "                       Solvent_inchi  Yield  \n",
       "0  InChI=1S/C2H6O/c1-2-3/h3H,2H2,1H3  87.13  \n",
       "1  InChI=1S/C2H6O/c1-2-3/h3H,2H2,1H3   6.37  \n",
       "2  InChI=1S/C2H6O/c1-2-3/h3H,2H2,1H3  71.75  \n",
       "3  InChI=1S/C2H6O/c1-2-3/h3H,2H2,1H3  64.52  \n",
       "4  InChI=1S/C2H6O/c1-2-3/h3H,2H2,1H3  80.44  \n",
       "\n",
       "[5 rows x 163 columns]"
      ]
     },
     "execution_count": 2,
     "metadata": {},
     "output_type": "execute_result"
    }
   ],
   "source": [
    "dataset = pd.read_csv(\"./data/data_EtOH_Final.csv\")\n",
    "dataset.head()"
   ]
  },
  {
   "cell_type": "markdown",
   "id": "damaged-madonna",
   "metadata": {},
   "source": [
    "### Prepare Hold-out Electrophiles Testing Set¶"
   ]
  },
  {
   "cell_type": "code",
   "execution_count": 3,
   "id": "plain-amino",
   "metadata": {},
   "outputs": [
    {
     "data": {
      "text/plain": [
       "['1H-indol-5-yl\\xa0N,N-dimethylsulfamate',\n",
       " \"2-bromo-1,1'-biphenyl\",\n",
       " '2-Chloro-5-fluorotoluene',\n",
       " '2-Chloro-m-xylene',\n",
       " '(2-Methyl-1,3-benzothiazol-5-yl)\\xa0N,N-dimethylsulfamate',\n",
       " '3-Bromothiophene',\n",
       " '3-Chloro-2-methylaniline',\n",
       " '4-Bromoanisole',\n",
       " '4-Bromobenzotrifluoride',\n",
       " '4-Chloro-N,N-dimethylbenzamide',\n",
       " '5-chloroindole',\n",
       " 'BMS-929356',\n",
       " 'Ethyl\\xa04-chloro-3-fluorobenzoate',\n",
       " 'methyl\\xa04-bromobenzoate',\n",
       " 'quinolin-6-yl dimethylsulfamate',\n",
       " '3-Bromoquinoline',\n",
       " '3-bromo-2-methylpyridine',\n",
       " 'Clofibrate',\n",
       " '4-Bromo-2-fluoroanisole',\n",
       " '4-Bromo-2-fluorobenzonitrile',\n",
       " '(4-Phenylphenyl) N,N-dimethylsulfamate',\n",
       " '4-Bromo-1,2-(methylenedioxy)benzene',\n",
       " '5-Bromobenzofuran',\n",
       " '4-chloro-1-fluoro-2-methoxybenzene',\n",
       " '4-chlorobenzotrifluoride',\n",
       " '3-chloroquinoline',\n",
       " '5-bromo-2,4-dimethoxypyrimidine',\n",
       " 'methyl\\xa04-chlorobenzoate',\n",
       " '5-Chloro-1,3-benzodioxole',\n",
       " '4-chloro-2-fluoro-1-methoxybenzene',\n",
       " '4-Chloro-2-fluoroanisole',\n",
       " '4-Chlorobiphenyl',\n",
       " '4-Bromobiphenyl',\n",
       " '4-Chloro-2-fluorobenzonitrile']"
      ]
     },
     "execution_count": 3,
     "metadata": {},
     "output_type": "execute_result"
    }
   ],
   "source": [
    "dataset.Electrophile.unique().tolist()"
   ]
  },
  {
   "cell_type": "code",
   "execution_count": 4,
   "id": "mental-mambo",
   "metadata": {},
   "outputs": [
    {
     "name": "stdout",
     "output_type": "stream",
     "text": [
      "(69, 157)\n"
     ]
    },
    {
     "data": {
      "text/html": [
       "<div>\n",
       "<style scoped>\n",
       "    .dataframe tbody tr th:only-of-type {\n",
       "        vertical-align: middle;\n",
       "    }\n",
       "\n",
       "    .dataframe tbody tr th {\n",
       "        vertical-align: top;\n",
       "    }\n",
       "\n",
       "    .dataframe thead th {\n",
       "        text-align: right;\n",
       "    }\n",
       "</style>\n",
       "<table border=\"1\" class=\"dataframe\">\n",
       "  <thead>\n",
       "    <tr style=\"text-align: right;\">\n",
       "      <th></th>\n",
       "      <th>ArylHalide_CX_Lowdin</th>\n",
       "      <th>ArylHalide_C_Chem Shift</th>\n",
       "      <th>ArylHalide_C_Electrostatic</th>\n",
       "      <th>ArylHalide_C_Exposed Area</th>\n",
       "      <th>ArylHalide_C_Mulliken</th>\n",
       "      <th>ArylHalide_XY_Chem Shift_Max</th>\n",
       "      <th>ArylHalide_XY_Chem Shift_Min</th>\n",
       "      <th>ArylHalide_XY_Electrostatic_Max</th>\n",
       "      <th>ArylHalide_XY_Electrostatic_Min</th>\n",
       "      <th>ArylHalide_XY_Exposed Area_Avg</th>\n",
       "      <th>...</th>\n",
       "      <th>Kraken_vbur_qvtot_min_min</th>\n",
       "      <th>Kraken_vbur_qvtot_min_vburminconf</th>\n",
       "      <th>Kraken_vbur_ratio_vbur_vtot_boltz</th>\n",
       "      <th>Kraken_vbur_vbur_boltz</th>\n",
       "      <th>Kraken_vbur_vbur_max</th>\n",
       "      <th>Kraken_vbur_vbur_min</th>\n",
       "      <th>Kraken_vbur_vtot_boltz</th>\n",
       "      <th>Kraken_vmin_r_boltz</th>\n",
       "      <th>Kraken_vmin_vmin_boltz</th>\n",
       "      <th>Yield</th>\n",
       "    </tr>\n",
       "  </thead>\n",
       "  <tbody>\n",
       "    <tr>\n",
       "      <th>0</th>\n",
       "      <td>1.11</td>\n",
       "      <td>140.296</td>\n",
       "      <td>0.33</td>\n",
       "      <td>8.371</td>\n",
       "      <td>0.338</td>\n",
       "      <td>105.274</td>\n",
       "      <td>102.178</td>\n",
       "      <td>-0.291</td>\n",
       "      <td>-0.456</td>\n",
       "      <td>12.9615</td>\n",
       "      <td>...</td>\n",
       "      <td>59.829678</td>\n",
       "      <td>59.829678</td>\n",
       "      <td>0.144453</td>\n",
       "      <td>50.731606</td>\n",
       "      <td>50.731606</td>\n",
       "      <td>50.731606</td>\n",
       "      <td>351.19888</td>\n",
       "      <td>1.840787</td>\n",
       "      <td>-0.055960</td>\n",
       "      <td>87.13</td>\n",
       "    </tr>\n",
       "    <tr>\n",
       "      <th>1</th>\n",
       "      <td>1.11</td>\n",
       "      <td>140.296</td>\n",
       "      <td>0.33</td>\n",
       "      <td>8.371</td>\n",
       "      <td>0.338</td>\n",
       "      <td>105.274</td>\n",
       "      <td>102.178</td>\n",
       "      <td>-0.291</td>\n",
       "      <td>-0.456</td>\n",
       "      <td>12.9615</td>\n",
       "      <td>...</td>\n",
       "      <td>47.895260</td>\n",
       "      <td>67.167030</td>\n",
       "      <td>0.134809</td>\n",
       "      <td>64.636100</td>\n",
       "      <td>80.673770</td>\n",
       "      <td>61.935337</td>\n",
       "      <td>479.46484</td>\n",
       "      <td>1.803143</td>\n",
       "      <td>-0.058457</td>\n",
       "      <td>6.37</td>\n",
       "    </tr>\n",
       "    <tr>\n",
       "      <th>2</th>\n",
       "      <td>1.11</td>\n",
       "      <td>140.296</td>\n",
       "      <td>0.33</td>\n",
       "      <td>8.371</td>\n",
       "      <td>0.338</td>\n",
       "      <td>105.274</td>\n",
       "      <td>102.178</td>\n",
       "      <td>-0.291</td>\n",
       "      <td>-0.456</td>\n",
       "      <td>12.9615</td>\n",
       "      <td>...</td>\n",
       "      <td>36.894516</td>\n",
       "      <td>75.417816</td>\n",
       "      <td>0.211005</td>\n",
       "      <td>81.541550</td>\n",
       "      <td>107.755370</td>\n",
       "      <td>56.694310</td>\n",
       "      <td>386.44120</td>\n",
       "      <td>1.805810</td>\n",
       "      <td>-0.058387</td>\n",
       "      <td>71.75</td>\n",
       "    </tr>\n",
       "    <tr>\n",
       "      <th>3</th>\n",
       "      <td>1.11</td>\n",
       "      <td>140.296</td>\n",
       "      <td>0.33</td>\n",
       "      <td>8.371</td>\n",
       "      <td>0.338</td>\n",
       "      <td>105.274</td>\n",
       "      <td>102.178</td>\n",
       "      <td>-0.291</td>\n",
       "      <td>-0.456</td>\n",
       "      <td>12.9615</td>\n",
       "      <td>...</td>\n",
       "      <td>45.164505</td>\n",
       "      <td>77.044235</td>\n",
       "      <td>0.160584</td>\n",
       "      <td>99.246600</td>\n",
       "      <td>117.597336</td>\n",
       "      <td>54.091050</td>\n",
       "      <td>618.03375</td>\n",
       "      <td>1.817123</td>\n",
       "      <td>-0.054418</td>\n",
       "      <td>64.52</td>\n",
       "    </tr>\n",
       "    <tr>\n",
       "      <th>4</th>\n",
       "      <td>1.11</td>\n",
       "      <td>140.296</td>\n",
       "      <td>0.33</td>\n",
       "      <td>8.371</td>\n",
       "      <td>0.338</td>\n",
       "      <td>105.274</td>\n",
       "      <td>102.178</td>\n",
       "      <td>-0.291</td>\n",
       "      <td>-0.456</td>\n",
       "      <td>12.9615</td>\n",
       "      <td>...</td>\n",
       "      <td>44.561430</td>\n",
       "      <td>72.197180</td>\n",
       "      <td>0.212085</td>\n",
       "      <td>85.339290</td>\n",
       "      <td>111.484024</td>\n",
       "      <td>57.033180</td>\n",
       "      <td>402.37967</td>\n",
       "      <td>1.816461</td>\n",
       "      <td>-0.061351</td>\n",
       "      <td>80.44</td>\n",
       "    </tr>\n",
       "  </tbody>\n",
       "</table>\n",
       "<p>5 rows × 157 columns</p>\n",
       "</div>"
      ],
      "text/plain": [
       "   ArylHalide_CX_Lowdin  ArylHalide_C_Chem Shift  ArylHalide_C_Electrostatic  \\\n",
       "0                  1.11                  140.296                        0.33   \n",
       "1                  1.11                  140.296                        0.33   \n",
       "2                  1.11                  140.296                        0.33   \n",
       "3                  1.11                  140.296                        0.33   \n",
       "4                  1.11                  140.296                        0.33   \n",
       "\n",
       "   ArylHalide_C_Exposed Area  ArylHalide_C_Mulliken  \\\n",
       "0                      8.371                  0.338   \n",
       "1                      8.371                  0.338   \n",
       "2                      8.371                  0.338   \n",
       "3                      8.371                  0.338   \n",
       "4                      8.371                  0.338   \n",
       "\n",
       "   ArylHalide_XY_Chem Shift_Max  ArylHalide_XY_Chem Shift_Min  \\\n",
       "0                       105.274                       102.178   \n",
       "1                       105.274                       102.178   \n",
       "2                       105.274                       102.178   \n",
       "3                       105.274                       102.178   \n",
       "4                       105.274                       102.178   \n",
       "\n",
       "   ArylHalide_XY_Electrostatic_Max  ArylHalide_XY_Electrostatic_Min  \\\n",
       "0                           -0.291                           -0.456   \n",
       "1                           -0.291                           -0.456   \n",
       "2                           -0.291                           -0.456   \n",
       "3                           -0.291                           -0.456   \n",
       "4                           -0.291                           -0.456   \n",
       "\n",
       "   ArylHalide_XY_Exposed Area_Avg  ...  Kraken_vbur_qvtot_min_min  \\\n",
       "0                         12.9615  ...                  59.829678   \n",
       "1                         12.9615  ...                  47.895260   \n",
       "2                         12.9615  ...                  36.894516   \n",
       "3                         12.9615  ...                  45.164505   \n",
       "4                         12.9615  ...                  44.561430   \n",
       "\n",
       "   Kraken_vbur_qvtot_min_vburminconf  Kraken_vbur_ratio_vbur_vtot_boltz  \\\n",
       "0                          59.829678                           0.144453   \n",
       "1                          67.167030                           0.134809   \n",
       "2                          75.417816                           0.211005   \n",
       "3                          77.044235                           0.160584   \n",
       "4                          72.197180                           0.212085   \n",
       "\n",
       "   Kraken_vbur_vbur_boltz  Kraken_vbur_vbur_max  Kraken_vbur_vbur_min  \\\n",
       "0               50.731606             50.731606             50.731606   \n",
       "1               64.636100             80.673770             61.935337   \n",
       "2               81.541550            107.755370             56.694310   \n",
       "3               99.246600            117.597336             54.091050   \n",
       "4               85.339290            111.484024             57.033180   \n",
       "\n",
       "   Kraken_vbur_vtot_boltz  Kraken_vmin_r_boltz  Kraken_vmin_vmin_boltz  Yield  \n",
       "0               351.19888             1.840787               -0.055960  87.13  \n",
       "1               479.46484             1.803143               -0.058457   6.37  \n",
       "2               386.44120             1.805810               -0.058387  71.75  \n",
       "3               618.03375             1.817123               -0.054418  64.52  \n",
       "4               402.37967             1.816461               -0.061351  80.44  \n",
       "\n",
       "[5 rows x 157 columns]"
      ]
     },
     "execution_count": 4,
     "metadata": {},
     "output_type": "execute_result"
    }
   ],
   "source": [
    "#Retrieve the three electrophiles and store the features in a separate dataframe \n",
    "indices=[0,12,17]\n",
    "mapped = map(dataset.Electrophile.unique().tolist().__getitem__, indices)\n",
    "external_list=list(mapped)\n",
    "ML_data_validation = dataset[dataset['Electrophile'].isin(external_list)]\n",
    "ML_data_validation2 = ML_data_validation.drop(['Electrophile_inchi', 'Solvent_inchi', 'Ligand_inchi', 'Product_inchi', 'Electrophile', 'Ligand'], axis = 1)\n",
    "print (ML_data_validation2.shape)\n",
    "ML_data_validation2.head()"
   ]
  },
  {
   "cell_type": "code",
   "execution_count": 5,
   "id": "contemporary-coverage",
   "metadata": {},
   "outputs": [
    {
     "name": "stdout",
     "output_type": "stream",
     "text": [
      "(710, 157)\n"
     ]
    },
    {
     "data": {
      "text/html": [
       "<div>\n",
       "<style scoped>\n",
       "    .dataframe tbody tr th:only-of-type {\n",
       "        vertical-align: middle;\n",
       "    }\n",
       "\n",
       "    .dataframe tbody tr th {\n",
       "        vertical-align: top;\n",
       "    }\n",
       "\n",
       "    .dataframe thead th {\n",
       "        text-align: right;\n",
       "    }\n",
       "</style>\n",
       "<table border=\"1\" class=\"dataframe\">\n",
       "  <thead>\n",
       "    <tr style=\"text-align: right;\">\n",
       "      <th></th>\n",
       "      <th>ArylHalide_CX_Lowdin</th>\n",
       "      <th>ArylHalide_C_Chem Shift</th>\n",
       "      <th>ArylHalide_C_Electrostatic</th>\n",
       "      <th>ArylHalide_C_Exposed Area</th>\n",
       "      <th>ArylHalide_C_Mulliken</th>\n",
       "      <th>ArylHalide_XY_Chem Shift_Max</th>\n",
       "      <th>ArylHalide_XY_Chem Shift_Min</th>\n",
       "      <th>ArylHalide_XY_Electrostatic_Max</th>\n",
       "      <th>ArylHalide_XY_Electrostatic_Min</th>\n",
       "      <th>ArylHalide_XY_Exposed Area_Avg</th>\n",
       "      <th>...</th>\n",
       "      <th>Kraken_vbur_qvtot_min_min</th>\n",
       "      <th>Kraken_vbur_qvtot_min_vburminconf</th>\n",
       "      <th>Kraken_vbur_ratio_vbur_vtot_boltz</th>\n",
       "      <th>Kraken_vbur_vbur_boltz</th>\n",
       "      <th>Kraken_vbur_vbur_max</th>\n",
       "      <th>Kraken_vbur_vbur_min</th>\n",
       "      <th>Kraken_vbur_vtot_boltz</th>\n",
       "      <th>Kraken_vmin_r_boltz</th>\n",
       "      <th>Kraken_vmin_vmin_boltz</th>\n",
       "      <th>Yield</th>\n",
       "    </tr>\n",
       "  </thead>\n",
       "  <tbody>\n",
       "    <tr>\n",
       "      <th>23</th>\n",
       "      <td>1.09</td>\n",
       "      <td>136.282</td>\n",
       "      <td>-0.197</td>\n",
       "      <td>7.369</td>\n",
       "      <td>-0.025</td>\n",
       "      <td>139.527</td>\n",
       "      <td>126.017</td>\n",
       "      <td>0.327</td>\n",
       "      <td>0.007</td>\n",
       "      <td>8.957</td>\n",
       "      <td>...</td>\n",
       "      <td>59.829678</td>\n",
       "      <td>59.829678</td>\n",
       "      <td>0.144453</td>\n",
       "      <td>50.731606</td>\n",
       "      <td>50.731606</td>\n",
       "      <td>50.731606</td>\n",
       "      <td>351.19888</td>\n",
       "      <td>1.840787</td>\n",
       "      <td>-0.055960</td>\n",
       "      <td>79.290</td>\n",
       "    </tr>\n",
       "    <tr>\n",
       "      <th>24</th>\n",
       "      <td>1.09</td>\n",
       "      <td>136.282</td>\n",
       "      <td>-0.197</td>\n",
       "      <td>7.369</td>\n",
       "      <td>-0.025</td>\n",
       "      <td>139.527</td>\n",
       "      <td>126.017</td>\n",
       "      <td>0.327</td>\n",
       "      <td>0.007</td>\n",
       "      <td>8.957</td>\n",
       "      <td>...</td>\n",
       "      <td>47.895260</td>\n",
       "      <td>67.167030</td>\n",
       "      <td>0.134809</td>\n",
       "      <td>64.636100</td>\n",
       "      <td>80.673770</td>\n",
       "      <td>61.935337</td>\n",
       "      <td>479.46484</td>\n",
       "      <td>1.803143</td>\n",
       "      <td>-0.058457</td>\n",
       "      <td>15.445</td>\n",
       "    </tr>\n",
       "    <tr>\n",
       "      <th>25</th>\n",
       "      <td>1.09</td>\n",
       "      <td>136.282</td>\n",
       "      <td>-0.197</td>\n",
       "      <td>7.369</td>\n",
       "      <td>-0.025</td>\n",
       "      <td>139.527</td>\n",
       "      <td>126.017</td>\n",
       "      <td>0.327</td>\n",
       "      <td>0.007</td>\n",
       "      <td>8.957</td>\n",
       "      <td>...</td>\n",
       "      <td>36.894516</td>\n",
       "      <td>75.417816</td>\n",
       "      <td>0.211005</td>\n",
       "      <td>81.541550</td>\n",
       "      <td>107.755370</td>\n",
       "      <td>56.694310</td>\n",
       "      <td>386.44120</td>\n",
       "      <td>1.805810</td>\n",
       "      <td>-0.058387</td>\n",
       "      <td>54.590</td>\n",
       "    </tr>\n",
       "    <tr>\n",
       "      <th>26</th>\n",
       "      <td>1.09</td>\n",
       "      <td>136.282</td>\n",
       "      <td>-0.197</td>\n",
       "      <td>7.369</td>\n",
       "      <td>-0.025</td>\n",
       "      <td>139.527</td>\n",
       "      <td>126.017</td>\n",
       "      <td>0.327</td>\n",
       "      <td>0.007</td>\n",
       "      <td>8.957</td>\n",
       "      <td>...</td>\n",
       "      <td>45.164505</td>\n",
       "      <td>77.044235</td>\n",
       "      <td>0.160584</td>\n",
       "      <td>99.246600</td>\n",
       "      <td>117.597336</td>\n",
       "      <td>54.091050</td>\n",
       "      <td>618.03375</td>\n",
       "      <td>1.817123</td>\n",
       "      <td>-0.054418</td>\n",
       "      <td>51.530</td>\n",
       "    </tr>\n",
       "    <tr>\n",
       "      <th>27</th>\n",
       "      <td>1.09</td>\n",
       "      <td>136.282</td>\n",
       "      <td>-0.197</td>\n",
       "      <td>7.369</td>\n",
       "      <td>-0.025</td>\n",
       "      <td>139.527</td>\n",
       "      <td>126.017</td>\n",
       "      <td>0.327</td>\n",
       "      <td>0.007</td>\n",
       "      <td>8.957</td>\n",
       "      <td>...</td>\n",
       "      <td>44.561430</td>\n",
       "      <td>72.197180</td>\n",
       "      <td>0.212085</td>\n",
       "      <td>85.339290</td>\n",
       "      <td>111.484024</td>\n",
       "      <td>57.033180</td>\n",
       "      <td>402.37967</td>\n",
       "      <td>1.816461</td>\n",
       "      <td>-0.061351</td>\n",
       "      <td>45.430</td>\n",
       "    </tr>\n",
       "  </tbody>\n",
       "</table>\n",
       "<p>5 rows × 157 columns</p>\n",
       "</div>"
      ],
      "text/plain": [
       "    ArylHalide_CX_Lowdin  ArylHalide_C_Chem Shift  ArylHalide_C_Electrostatic  \\\n",
       "23                  1.09                  136.282                      -0.197   \n",
       "24                  1.09                  136.282                      -0.197   \n",
       "25                  1.09                  136.282                      -0.197   \n",
       "26                  1.09                  136.282                      -0.197   \n",
       "27                  1.09                  136.282                      -0.197   \n",
       "\n",
       "    ArylHalide_C_Exposed Area  ArylHalide_C_Mulliken  \\\n",
       "23                      7.369                 -0.025   \n",
       "24                      7.369                 -0.025   \n",
       "25                      7.369                 -0.025   \n",
       "26                      7.369                 -0.025   \n",
       "27                      7.369                 -0.025   \n",
       "\n",
       "    ArylHalide_XY_Chem Shift_Max  ArylHalide_XY_Chem Shift_Min  \\\n",
       "23                       139.527                       126.017   \n",
       "24                       139.527                       126.017   \n",
       "25                       139.527                       126.017   \n",
       "26                       139.527                       126.017   \n",
       "27                       139.527                       126.017   \n",
       "\n",
       "    ArylHalide_XY_Electrostatic_Max  ArylHalide_XY_Electrostatic_Min  \\\n",
       "23                            0.327                            0.007   \n",
       "24                            0.327                            0.007   \n",
       "25                            0.327                            0.007   \n",
       "26                            0.327                            0.007   \n",
       "27                            0.327                            0.007   \n",
       "\n",
       "    ArylHalide_XY_Exposed Area_Avg  ...  Kraken_vbur_qvtot_min_min  \\\n",
       "23                           8.957  ...                  59.829678   \n",
       "24                           8.957  ...                  47.895260   \n",
       "25                           8.957  ...                  36.894516   \n",
       "26                           8.957  ...                  45.164505   \n",
       "27                           8.957  ...                  44.561430   \n",
       "\n",
       "    Kraken_vbur_qvtot_min_vburminconf  Kraken_vbur_ratio_vbur_vtot_boltz  \\\n",
       "23                          59.829678                           0.144453   \n",
       "24                          67.167030                           0.134809   \n",
       "25                          75.417816                           0.211005   \n",
       "26                          77.044235                           0.160584   \n",
       "27                          72.197180                           0.212085   \n",
       "\n",
       "    Kraken_vbur_vbur_boltz  Kraken_vbur_vbur_max  Kraken_vbur_vbur_min  \\\n",
       "23               50.731606             50.731606             50.731606   \n",
       "24               64.636100             80.673770             61.935337   \n",
       "25               81.541550            107.755370             56.694310   \n",
       "26               99.246600            117.597336             54.091050   \n",
       "27               85.339290            111.484024             57.033180   \n",
       "\n",
       "    Kraken_vbur_vtot_boltz  Kraken_vmin_r_boltz  Kraken_vmin_vmin_boltz  \\\n",
       "23               351.19888             1.840787               -0.055960   \n",
       "24               479.46484             1.803143               -0.058457   \n",
       "25               386.44120             1.805810               -0.058387   \n",
       "26               618.03375             1.817123               -0.054418   \n",
       "27               402.37967             1.816461               -0.061351   \n",
       "\n",
       "     Yield  \n",
       "23  79.290  \n",
       "24  15.445  \n",
       "25  54.590  \n",
       "26  51.530  \n",
       "27  45.430  \n",
       "\n",
       "[5 rows x 157 columns]"
      ]
     },
     "execution_count": 5,
     "metadata": {},
     "output_type": "execute_result"
    }
   ],
   "source": [
    "#Keep the rest of the dataset for model training purpose\n",
    "exclude_list = ML_data_validation.index.values.tolist()\n",
    "ML_data_traintest = dataset[~dataset.index.isin(exclude_list)]\n",
    "ML_data_traintest2 = ML_data_traintest.drop(['Electrophile_inchi', 'Solvent_inchi', 'Ligand_inchi', 'Product_inchi', 'Electrophile', 'Ligand'], axis = 1)\n",
    "print (ML_data_traintest2.shape)\n",
    "ML_data_traintest2.head()"
   ]
  },
  {
   "cell_type": "code",
   "execution_count": 6,
   "id": "reserved-familiar",
   "metadata": {},
   "outputs": [],
   "source": [
    "Y_train = ML_data_traintest2['Yield']\n",
    "X_train = ML_data_traintest2.drop(columns=['Yield'])"
   ]
  },
  {
   "cell_type": "markdown",
   "id": "choice-capital",
   "metadata": {},
   "source": [
    "We will use Pipeline process from Scikit Learn where we can assemble several steps that can be cross-validated together while applying normalization and grid search to find optimal settings for different parameters."
   ]
  },
  {
   "cell_type": "markdown",
   "id": "completed-learning",
   "metadata": {},
   "source": [
    "### Lasso"
   ]
  },
  {
   "cell_type": "code",
   "execution_count": 7,
   "id": "casual-civilian",
   "metadata": {},
   "outputs": [
    {
     "name": "stdout",
     "output_type": "stream",
     "text": [
      "Fitting 5 folds for each of 50 candidates, totalling 250 fits\n",
      "[CV 1/5] END .............................model__alpha=1e-10; total time=   0.1s\n"
     ]
    },
    {
     "name": "stderr",
     "output_type": "stream",
     "text": [
      "/opt/conda/lib/python3.8/site-packages/sklearn/linear_model/_coordinate_descent.py:530: ConvergenceWarning: Objective did not converge. You might want to increase the number of iterations. Duality gap: 58832.5971936624, tolerance: 36.00594430408222\n",
      "  model = cd_fast.enet_coordinate_descent(\n",
      "/opt/conda/lib/python3.8/site-packages/sklearn/linear_model/_coordinate_descent.py:530: ConvergenceWarning: Objective did not converge. You might want to increase the number of iterations. Duality gap: 63665.193128829844, tolerance: 40.11242915907062\n",
      "  model = cd_fast.enet_coordinate_descent(\n"
     ]
    },
    {
     "name": "stdout",
     "output_type": "stream",
     "text": [
      "[CV 2/5] END .............................model__alpha=1e-10; total time=   0.1s\n",
      "[CV 3/5] END .............................model__alpha=1e-10; total time=   0.2s\n"
     ]
    },
    {
     "name": "stderr",
     "output_type": "stream",
     "text": [
      "/opt/conda/lib/python3.8/site-packages/sklearn/linear_model/_coordinate_descent.py:530: ConvergenceWarning: Objective did not converge. You might want to increase the number of iterations. Duality gap: 74240.97237751432, tolerance: 42.859971103167595\n",
      "  model = cd_fast.enet_coordinate_descent(\n",
      "/opt/conda/lib/python3.8/site-packages/sklearn/linear_model/_coordinate_descent.py:530: ConvergenceWarning: Objective did not converge. You might want to increase the number of iterations. Duality gap: 71413.56434457959, tolerance: 40.1785919770162\n",
      "  model = cd_fast.enet_coordinate_descent(\n"
     ]
    },
    {
     "name": "stdout",
     "output_type": "stream",
     "text": [
      "[CV 4/5] END .............................model__alpha=1e-10; total time=   0.1s\n",
      "[CV 5/5] END .............................model__alpha=1e-10; total time=   0.1s\n"
     ]
    },
    {
     "name": "stderr",
     "output_type": "stream",
     "text": [
      "/opt/conda/lib/python3.8/site-packages/sklearn/linear_model/_coordinate_descent.py:530: ConvergenceWarning: Objective did not converge. You might want to increase the number of iterations. Duality gap: 66877.5060355064, tolerance: 37.0766181102993\n",
      "  model = cd_fast.enet_coordinate_descent(\n",
      "/opt/conda/lib/python3.8/site-packages/sklearn/linear_model/_coordinate_descent.py:530: ConvergenceWarning: Objective did not converge. You might want to increase the number of iterations. Duality gap: 58832.59703641252, tolerance: 36.00594430408222\n",
      "  model = cd_fast.enet_coordinate_descent(\n"
     ]
    },
    {
     "name": "stdout",
     "output_type": "stream",
     "text": [
      "[CV 1/5] END ..............model__alpha=1.67683293681101e-10; total time=   0.2s\n",
      "[CV 2/5] END ..............model__alpha=1.67683293681101e-10; total time=   0.1s\n"
     ]
    },
    {
     "name": "stderr",
     "output_type": "stream",
     "text": [
      "/opt/conda/lib/python3.8/site-packages/sklearn/linear_model/_coordinate_descent.py:530: ConvergenceWarning: Objective did not converge. You might want to increase the number of iterations. Duality gap: 63665.19294746727, tolerance: 40.11242915907062\n",
      "  model = cd_fast.enet_coordinate_descent(\n",
      "/opt/conda/lib/python3.8/site-packages/sklearn/linear_model/_coordinate_descent.py:530: ConvergenceWarning: Objective did not converge. You might want to increase the number of iterations. Duality gap: 74240.97217984522, tolerance: 42.859971103167595\n",
      "  model = cd_fast.enet_coordinate_descent(\n"
     ]
    },
    {
     "name": "stdout",
     "output_type": "stream",
     "text": [
      "[CV 3/5] END ..............model__alpha=1.67683293681101e-10; total time=   0.2s\n",
      "[CV 4/5] END ..............model__alpha=1.67683293681101e-10; total time=   0.1s\n"
     ]
    },
    {
     "name": "stderr",
     "output_type": "stream",
     "text": [
      "/opt/conda/lib/python3.8/site-packages/sklearn/linear_model/_coordinate_descent.py:530: ConvergenceWarning: Objective did not converge. You might want to increase the number of iterations. Duality gap: 71413.56415025108, tolerance: 40.1785919770162\n",
      "  model = cd_fast.enet_coordinate_descent(\n",
      "/opt/conda/lib/python3.8/site-packages/sklearn/linear_model/_coordinate_descent.py:530: ConvergenceWarning: Objective did not converge. You might want to increase the number of iterations. Duality gap: 66877.50577382048, tolerance: 37.0766181102993\n",
      "  model = cd_fast.enet_coordinate_descent(\n"
     ]
    },
    {
     "name": "stdout",
     "output_type": "stream",
     "text": [
      "[CV 5/5] END ..............model__alpha=1.67683293681101e-10; total time=   0.2s\n",
      "[CV 1/5] END .............model__alpha=2.811768697974225e-10; total time=   0.1s\n"
     ]
    },
    {
     "name": "stderr",
     "output_type": "stream",
     "text": [
      "/opt/conda/lib/python3.8/site-packages/sklearn/linear_model/_coordinate_descent.py:530: ConvergenceWarning: Objective did not converge. You might want to increase the number of iterations. Duality gap: 58832.59677273025, tolerance: 36.00594430408222\n",
      "  model = cd_fast.enet_coordinate_descent(\n",
      "/opt/conda/lib/python3.8/site-packages/sklearn/linear_model/_coordinate_descent.py:530: ConvergenceWarning: Objective did not converge. You might want to increase the number of iterations. Duality gap: 63665.19264335138, tolerance: 40.11242915907062\n",
      "  model = cd_fast.enet_coordinate_descent(\n"
     ]
    },
    {
     "name": "stdout",
     "output_type": "stream",
     "text": [
      "[CV 2/5] END .............model__alpha=2.811768697974225e-10; total time=   0.2s\n",
      "[CV 3/5] END .............model__alpha=2.811768697974225e-10; total time=   0.1s\n"
     ]
    },
    {
     "name": "stderr",
     "output_type": "stream",
     "text": [
      "/opt/conda/lib/python3.8/site-packages/sklearn/linear_model/_coordinate_descent.py:530: ConvergenceWarning: Objective did not converge. You might want to increase the number of iterations. Duality gap: 74240.97184838638, tolerance: 42.859971103167595\n",
      "  model = cd_fast.enet_coordinate_descent(\n",
      "/opt/conda/lib/python3.8/site-packages/sklearn/linear_model/_coordinate_descent.py:530: ConvergenceWarning: Objective did not converge. You might want to increase the number of iterations. Duality gap: 71413.56382439453, tolerance: 40.1785919770162\n",
      "  model = cd_fast.enet_coordinate_descent(\n"
     ]
    },
    {
     "name": "stdout",
     "output_type": "stream",
     "text": [
      "[CV 4/5] END .............model__alpha=2.811768697974225e-10; total time=   0.1s\n",
      "[CV 5/5] END .............model__alpha=2.811768697974225e-10; total time=   0.2s\n"
     ]
    },
    {
     "name": "stderr",
     "output_type": "stream",
     "text": [
      "/opt/conda/lib/python3.8/site-packages/sklearn/linear_model/_coordinate_descent.py:530: ConvergenceWarning: Objective did not converge. You might want to increase the number of iterations. Duality gap: 66877.50533501651, tolerance: 37.0766181102993\n",
      "  model = cd_fast.enet_coordinate_descent(\n",
      "/opt/conda/lib/python3.8/site-packages/sklearn/linear_model/_coordinate_descent.py:530: ConvergenceWarning: Objective did not converge. You might want to increase the number of iterations. Duality gap: 58832.59633057973, tolerance: 36.00594430408222\n",
      "  model = cd_fast.enet_coordinate_descent(\n"
     ]
    },
    {
     "name": "stdout",
     "output_type": "stream",
     "text": [
      "[CV 1/5] END ..............model__alpha=4.71486636345739e-10; total time=   0.1s\n",
      "[CV 2/5] END ..............model__alpha=4.71486636345739e-10; total time=   0.2s\n"
     ]
    },
    {
     "name": "stderr",
     "output_type": "stream",
     "text": [
      "/opt/conda/lib/python3.8/site-packages/sklearn/linear_model/_coordinate_descent.py:530: ConvergenceWarning: Objective did not converge. You might want to increase the number of iterations. Duality gap: 63665.19213340165, tolerance: 40.11242915907062\n",
      "  model = cd_fast.enet_coordinate_descent(\n",
      "/opt/conda/lib/python3.8/site-packages/sklearn/linear_model/_coordinate_descent.py:530: ConvergenceWarning: Objective did not converge. You might want to increase the number of iterations. Duality gap: 74240.97129258595, tolerance: 42.859971103167595\n",
      "  model = cd_fast.enet_coordinate_descent(\n"
     ]
    },
    {
     "name": "stdout",
     "output_type": "stream",
     "text": [
      "[CV 3/5] END ..............model__alpha=4.71486636345739e-10; total time=   0.1s\n",
      "[CV 4/5] END ..............model__alpha=4.71486636345739e-10; total time=   0.1s\n"
     ]
    },
    {
     "name": "stderr",
     "output_type": "stream",
     "text": [
      "/opt/conda/lib/python3.8/site-packages/sklearn/linear_model/_coordinate_descent.py:530: ConvergenceWarning: Objective did not converge. You might want to increase the number of iterations. Duality gap: 71413.56327798768, tolerance: 40.1785919770162\n",
      "  model = cd_fast.enet_coordinate_descent(\n",
      "/opt/conda/lib/python3.8/site-packages/sklearn/linear_model/_coordinate_descent.py:530: ConvergenceWarning: Objective did not converge. You might want to increase the number of iterations. Duality gap: 66877.50459921619, tolerance: 37.0766181102993\n",
      "  model = cd_fast.enet_coordinate_descent(\n"
     ]
    },
    {
     "name": "stdout",
     "output_type": "stream",
     "text": [
      "[CV 5/5] END ..............model__alpha=4.71486636345739e-10; total time=   0.2s\n",
      "[CV 1/5] END .............model__alpha=7.906043210907701e-10; total time=   0.1s\n"
     ]
    },
    {
     "name": "stderr",
     "output_type": "stream",
     "text": [
      "/opt/conda/lib/python3.8/site-packages/sklearn/linear_model/_coordinate_descent.py:530: ConvergenceWarning: Objective did not converge. You might want to increase the number of iterations. Duality gap: 58832.595589167235, tolerance: 36.00594430408222\n",
      "  model = cd_fast.enet_coordinate_descent(\n",
      "/opt/conda/lib/python3.8/site-packages/sklearn/linear_model/_coordinate_descent.py:530: ConvergenceWarning: Objective did not converge. You might want to increase the number of iterations. Duality gap: 63665.19127829964, tolerance: 40.11242915907062\n",
      "  model = cd_fast.enet_coordinate_descent(\n"
     ]
    },
    {
     "name": "stdout",
     "output_type": "stream",
     "text": [
      "[CV 2/5] END .............model__alpha=7.906043210907701e-10; total time=   0.1s\n",
      "[CV 3/5] END .............model__alpha=7.906043210907701e-10; total time=   0.2s\n"
     ]
    },
    {
     "name": "stderr",
     "output_type": "stream",
     "text": [
      "/opt/conda/lib/python3.8/site-packages/sklearn/linear_model/_coordinate_descent.py:530: ConvergenceWarning: Objective did not converge. You might want to increase the number of iterations. Duality gap: 74240.97036060081, tolerance: 42.859971103167595\n",
      "  model = cd_fast.enet_coordinate_descent(\n",
      "/opt/conda/lib/python3.8/site-packages/sklearn/linear_model/_coordinate_descent.py:530: ConvergenceWarning: Objective did not converge. You might want to increase the number of iterations. Duality gap: 71413.562361755, tolerance: 40.1785919770162\n",
      "  model = cd_fast.enet_coordinate_descent(\n"
     ]
    },
    {
     "name": "stdout",
     "output_type": "stream",
     "text": [
      "[CV 4/5] END .............model__alpha=7.906043210907701e-10; total time=   0.1s\n",
      "[CV 5/5] END .............model__alpha=7.906043210907701e-10; total time=   0.2s\n"
     ]
    },
    {
     "name": "stderr",
     "output_type": "stream",
     "text": [
      "/opt/conda/lib/python3.8/site-packages/sklearn/linear_model/_coordinate_descent.py:530: ConvergenceWarning: Objective did not converge. You might want to increase the number of iterations. Duality gap: 66877.50336540156, tolerance: 37.0766181102993\n",
      "  model = cd_fast.enet_coordinate_descent(\n",
      "/opt/conda/lib/python3.8/site-packages/sklearn/linear_model/_coordinate_descent.py:530: ConvergenceWarning: Objective did not converge. You might want to increase the number of iterations. Duality gap: 58832.59434594186, tolerance: 36.00594430408222\n",
      "  model = cd_fast.enet_coordinate_descent(\n"
     ]
    },
    {
     "name": "stdout",
     "output_type": "stream",
     "text": [
      "[CV 1/5] END ............model__alpha=1.3257113655901108e-09; total time=   0.1s\n",
      "[CV 2/5] END ............model__alpha=1.3257113655901108e-09; total time=   0.2s\n"
     ]
    },
    {
     "name": "stderr",
     "output_type": "stream",
     "text": [
      "/opt/conda/lib/python3.8/site-packages/sklearn/linear_model/_coordinate_descent.py:530: ConvergenceWarning: Objective did not converge. You might want to increase the number of iterations. Duality gap: 63665.18984443679, tolerance: 40.11242915907062\n",
      "  model = cd_fast.enet_coordinate_descent(\n",
      "/opt/conda/lib/python3.8/site-packages/sklearn/linear_model/_coordinate_descent.py:530: ConvergenceWarning: Objective did not converge. You might want to increase the number of iterations. Duality gap: 74240.96879781835, tolerance: 42.859971103167595\n",
      "  model = cd_fast.enet_coordinate_descent(\n"
     ]
    },
    {
     "name": "stdout",
     "output_type": "stream",
     "text": [
      "[CV 3/5] END ............model__alpha=1.3257113655901108e-09; total time=   0.1s\n",
      "[CV 4/5] END ............model__alpha=1.3257113655901108e-09; total time=   0.1s\n"
     ]
    },
    {
     "name": "stderr",
     "output_type": "stream",
     "text": [
      "/opt/conda/lib/python3.8/site-packages/sklearn/linear_model/_coordinate_descent.py:530: ConvergenceWarning: Objective did not converge. You might want to increase the number of iterations. Duality gap: 71413.56082538524, tolerance: 40.1785919770162\n",
      "  model = cd_fast.enet_coordinate_descent(\n",
      "/opt/conda/lib/python3.8/site-packages/sklearn/linear_model/_coordinate_descent.py:530: ConvergenceWarning: Objective did not converge. You might want to increase the number of iterations. Duality gap: 66877.50129650033, tolerance: 37.0766181102993\n",
      "  model = cd_fast.enet_coordinate_descent(\n"
     ]
    },
    {
     "name": "stdout",
     "output_type": "stream",
     "text": [
      "[CV 5/5] END ............model__alpha=1.3257113655901108e-09; total time=   0.2s\n",
      "[CV 1/5] END .............model__alpha=2.222996482526191e-09; total time=   0.1s\n"
     ]
    },
    {
     "name": "stderr",
     "output_type": "stream",
     "text": [
      "/opt/conda/lib/python3.8/site-packages/sklearn/linear_model/_coordinate_descent.py:530: ConvergenceWarning: Objective did not converge. You might want to increase the number of iterations. Duality gap: 58832.59226126023, tolerance: 36.00594430408222\n",
      "  model = cd_fast.enet_coordinate_descent(\n",
      "/opt/conda/lib/python3.8/site-packages/sklearn/linear_model/_coordinate_descent.py:530: ConvergenceWarning: Objective did not converge. You might want to increase the number of iterations. Duality gap: 63665.18744008824, tolerance: 40.11242915907062\n",
      "  model = cd_fast.enet_coordinate_descent(\n"
     ]
    },
    {
     "name": "stdout",
     "output_type": "stream",
     "text": [
      "[CV 2/5] END .............model__alpha=2.222996482526191e-09; total time=   0.1s\n",
      "[CV 3/5] END .............model__alpha=2.222996482526191e-09; total time=   0.2s\n"
     ]
    },
    {
     "name": "stderr",
     "output_type": "stream",
     "text": [
      "/opt/conda/lib/python3.8/site-packages/sklearn/linear_model/_coordinate_descent.py:530: ConvergenceWarning: Objective did not converge. You might want to increase the number of iterations. Duality gap: 74240.96617729249, tolerance: 42.859971103167595\n",
      "  model = cd_fast.enet_coordinate_descent(\n",
      "/opt/conda/lib/python3.8/site-packages/sklearn/linear_model/_coordinate_descent.py:530: ConvergenceWarning: Objective did not converge. You might want to increase the number of iterations. Duality gap: 71413.55824914978, tolerance: 40.1785919770162\n",
      "  model = cd_fast.enet_coordinate_descent(\n"
     ]
    },
    {
     "name": "stdout",
     "output_type": "stream",
     "text": [
      "[CV 4/5] END .............model__alpha=2.222996482526191e-09; total time=   0.1s\n",
      "[CV 5/5] END .............model__alpha=2.222996482526191e-09; total time=   0.1s\n"
     ]
    },
    {
     "name": "stderr",
     "output_type": "stream",
     "text": [
      "/opt/conda/lib/python3.8/site-packages/sklearn/linear_model/_coordinate_descent.py:530: ConvergenceWarning: Objective did not converge. You might want to increase the number of iterations. Duality gap: 66877.49782729965, tolerance: 37.0766181102993\n",
      "  model = cd_fast.enet_coordinate_descent(\n",
      "/opt/conda/lib/python3.8/site-packages/sklearn/linear_model/_coordinate_descent.py:530: ConvergenceWarning: Objective did not converge. You might want to increase the number of iterations. Duality gap: 58832.58876559758, tolerance: 36.00594430408222\n",
      "  model = cd_fast.enet_coordinate_descent(\n"
     ]
    },
    {
     "name": "stdout",
     "output_type": "stream",
     "text": [
      "[CV 1/5] END .............model__alpha=3.727593720314938e-09; total time=   0.2s\n",
      "[CV 2/5] END .............model__alpha=3.727593720314938e-09; total time=   0.1s\n"
     ]
    },
    {
     "name": "stderr",
     "output_type": "stream",
     "text": [
      "/opt/conda/lib/python3.8/site-packages/sklearn/linear_model/_coordinate_descent.py:530: ConvergenceWarning: Objective did not converge. You might want to increase the number of iterations. Duality gap: 63665.18340839775, tolerance: 40.11242915907062\n",
      "  model = cd_fast.enet_coordinate_descent(\n",
      "/opt/conda/lib/python3.8/site-packages/sklearn/linear_model/_coordinate_descent.py:530: ConvergenceWarning: Objective did not converge. You might want to increase the number of iterations. Duality gap: 74240.96178310798, tolerance: 42.859971103167595\n",
      "  model = cd_fast.enet_coordinate_descent(\n"
     ]
    },
    {
     "name": "stdout",
     "output_type": "stream",
     "text": [
      "[CV 3/5] END .............model__alpha=3.727593720314938e-09; total time=   0.1s\n",
      "[CV 4/5] END .............model__alpha=3.727593720314938e-09; total time=   0.1s\n"
     ]
    },
    {
     "name": "stderr",
     "output_type": "stream",
     "text": [
      "/opt/conda/lib/python3.8/site-packages/sklearn/linear_model/_coordinate_descent.py:530: ConvergenceWarning: Objective did not converge. You might want to increase the number of iterations. Duality gap: 71413.55392923321, tolerance: 40.1785919770162\n",
      "  model = cd_fast.enet_coordinate_descent(\n",
      "/opt/conda/lib/python3.8/site-packages/sklearn/linear_model/_coordinate_descent.py:530: ConvergenceWarning: Objective did not converge. You might want to increase the number of iterations. Duality gap: 66877.49201002982, tolerance: 37.0766181102993\n",
      "  model = cd_fast.enet_coordinate_descent(\n"
     ]
    },
    {
     "name": "stdout",
     "output_type": "stream",
     "text": [
      "[CV 5/5] END .............model__alpha=3.727593720314938e-09; total time=   0.2s\n",
      "[CV 1/5] END .............model__alpha=6.250551925273976e-09; total time=   0.1s\n"
     ]
    },
    {
     "name": "stderr",
     "output_type": "stream",
     "text": [
      "/opt/conda/lib/python3.8/site-packages/sklearn/linear_model/_coordinate_descent.py:530: ConvergenceWarning: Objective did not converge. You might want to increase the number of iterations. Duality gap: 58832.582903954644, tolerance: 36.00594430408222\n",
      "  model = cd_fast.enet_coordinate_descent(\n",
      "/opt/conda/lib/python3.8/site-packages/sklearn/linear_model/_coordinate_descent.py:530: ConvergenceWarning: Objective did not converge. You might want to increase the number of iterations. Duality gap: 63665.17664792561, tolerance: 40.11242915907062\n",
      "  model = cd_fast.enet_coordinate_descent(\n"
     ]
    },
    {
     "name": "stdout",
     "output_type": "stream",
     "text": [
      "[CV 2/5] END .............model__alpha=6.250551925273976e-09; total time=   0.1s\n",
      "[CV 3/5] END .............model__alpha=6.250551925273976e-09; total time=   0.1s\n"
     ]
    },
    {
     "name": "stderr",
     "output_type": "stream",
     "text": [
      "/opt/conda/lib/python3.8/site-packages/sklearn/linear_model/_coordinate_descent.py:530: ConvergenceWarning: Objective did not converge. You might want to increase the number of iterations. Duality gap: 74240.95441479322, tolerance: 42.859971103167595\n",
      "  model = cd_fast.enet_coordinate_descent(\n",
      "/opt/conda/lib/python3.8/site-packages/sklearn/linear_model/_coordinate_descent.py:530: ConvergenceWarning: Objective did not converge. You might want to increase the number of iterations. Duality gap: 71413.54668545432, tolerance: 40.1785919770162\n",
      "  model = cd_fast.enet_coordinate_descent(\n"
     ]
    },
    {
     "name": "stdout",
     "output_type": "stream",
     "text": [
      "[CV 4/5] END .............model__alpha=6.250551925273976e-09; total time=   0.2s\n",
      "[CV 5/5] END .............model__alpha=6.250551925273976e-09; total time=   0.1s\n"
     ]
    },
    {
     "name": "stderr",
     "output_type": "stream",
     "text": [
      "/opt/conda/lib/python3.8/site-packages/sklearn/linear_model/_coordinate_descent.py:530: ConvergenceWarning: Objective did not converge. You might want to increase the number of iterations. Duality gap: 66877.48225544086, tolerance: 37.0766181102993\n",
      "  model = cd_fast.enet_coordinate_descent(\n",
      "/opt/conda/lib/python3.8/site-packages/sklearn/linear_model/_coordinate_descent.py:530: ConvergenceWarning: Objective did not converge. You might want to increase the number of iterations. Duality gap: 58832.57307495625, tolerance: 36.00594430408222\n",
      "  model = cd_fast.enet_coordinate_descent(\n"
     ]
    },
    {
     "name": "stdout",
     "output_type": "stream",
     "text": [
      "[CV 1/5] END ............model__alpha=1.0481131341546852e-08; total time=   0.2s\n",
      "[CV 2/5] END ............model__alpha=1.0481131341546852e-08; total time=   0.1s\n"
     ]
    },
    {
     "name": "stderr",
     "output_type": "stream",
     "text": [
      "/opt/conda/lib/python3.8/site-packages/sklearn/linear_model/_coordinate_descent.py:530: ConvergenceWarning: Objective did not converge. You might want to increase the number of iterations. Duality gap: 63665.16531174319, tolerance: 40.11242915907062\n",
      "  model = cd_fast.enet_coordinate_descent(\n",
      "/opt/conda/lib/python3.8/site-packages/sklearn/linear_model/_coordinate_descent.py:530: ConvergenceWarning: Objective did not converge. You might want to increase the number of iterations. Duality gap: 74240.94205935625, tolerance: 42.859971103167595\n",
      "  model = cd_fast.enet_coordinate_descent(\n"
     ]
    },
    {
     "name": "stdout",
     "output_type": "stream",
     "text": [
      "[CV 3/5] END ............model__alpha=1.0481131341546852e-08; total time=   0.1s\n",
      "[CV 4/5] END ............model__alpha=1.0481131341546852e-08; total time=   0.2s\n"
     ]
    },
    {
     "name": "stderr",
     "output_type": "stream",
     "text": [
      "/opt/conda/lib/python3.8/site-packages/sklearn/linear_model/_coordinate_descent.py:530: ConvergenceWarning: Objective did not converge. You might want to increase the number of iterations. Duality gap: 71413.5345388454, tolerance: 40.1785919770162\n",
      "  model = cd_fast.enet_coordinate_descent(\n",
      "/opt/conda/lib/python3.8/site-packages/sklearn/linear_model/_coordinate_descent.py:530: ConvergenceWarning: Objective did not converge. You might want to increase the number of iterations. Duality gap: 66877.46589862928, tolerance: 37.0766181102993\n",
      "  model = cd_fast.enet_coordinate_descent(\n"
     ]
    },
    {
     "name": "stdout",
     "output_type": "stream",
     "text": [
      "[CV 5/5] END ............model__alpha=1.0481131341546852e-08; total time=   0.1s\n",
      "[CV 1/5] END ............model__alpha=1.7575106248547893e-08; total time=   0.2s\n"
     ]
    },
    {
     "name": "stderr",
     "output_type": "stream",
     "text": [
      "/opt/conda/lib/python3.8/site-packages/sklearn/linear_model/_coordinate_descent.py:530: ConvergenceWarning: Objective did not converge. You might want to increase the number of iterations. Duality gap: 58832.556593362606, tolerance: 36.00594430408222\n",
      "  model = cd_fast.enet_coordinate_descent(\n",
      "/opt/conda/lib/python3.8/site-packages/sklearn/linear_model/_coordinate_descent.py:530: ConvergenceWarning: Objective did not converge. You might want to increase the number of iterations. Duality gap: 63665.14630285824, tolerance: 40.11242915907062\n",
      "  model = cd_fast.enet_coordinate_descent(\n"
     ]
    },
    {
     "name": "stdout",
     "output_type": "stream",
     "text": [
      "[CV 2/5] END ............model__alpha=1.7575106248547893e-08; total time=   0.1s\n",
      "[CV 3/5] END ............model__alpha=1.7575106248547893e-08; total time=   0.1s\n"
     ]
    },
    {
     "name": "stderr",
     "output_type": "stream",
     "text": [
      "/opt/conda/lib/python3.8/site-packages/sklearn/linear_model/_coordinate_descent.py:530: ConvergenceWarning: Objective did not converge. You might want to increase the number of iterations. Duality gap: 74240.92134134007, tolerance: 42.859971103167595\n",
      "  model = cd_fast.enet_coordinate_descent(\n",
      "/opt/conda/lib/python3.8/site-packages/sklearn/linear_model/_coordinate_descent.py:530: ConvergenceWarning: Objective did not converge. You might want to increase the number of iterations. Duality gap: 71413.51417100544, tolerance: 40.1785919770162\n",
      "  model = cd_fast.enet_coordinate_descent(\n"
     ]
    },
    {
     "name": "stdout",
     "output_type": "stream",
     "text": [
      "[CV 4/5] END ............model__alpha=1.7575106248547893e-08; total time=   0.2s\n",
      "[CV 5/5] END ............model__alpha=1.7575106248547893e-08; total time=   0.1s\n"
     ]
    },
    {
     "name": "stderr",
     "output_type": "stream",
     "text": [
      "/opt/conda/lib/python3.8/site-packages/sklearn/linear_model/_coordinate_descent.py:530: ConvergenceWarning: Objective did not converge. You might want to increase the number of iterations. Duality gap: 66877.43847099821, tolerance: 37.0766181102993\n",
      "  model = cd_fast.enet_coordinate_descent(\n",
      "/opt/conda/lib/python3.8/site-packages/sklearn/linear_model/_coordinate_descent.py:530: ConvergenceWarning: Objective did not converge. You might want to increase the number of iterations. Duality gap: 58832.528956465685, tolerance: 36.00594430408222\n",
      "  model = cd_fast.enet_coordinate_descent(\n"
     ]
    },
    {
     "name": "stdout",
     "output_type": "stream",
     "text": [
      "[CV 1/5] END ............model__alpha=2.9470517025518096e-08; total time=   0.2s\n",
      "[CV 2/5] END ............model__alpha=2.9470517025518096e-08; total time=   0.1s\n"
     ]
    },
    {
     "name": "stderr",
     "output_type": "stream",
     "text": [
      "/opt/conda/lib/python3.8/site-packages/sklearn/linear_model/_coordinate_descent.py:530: ConvergenceWarning: Objective did not converge. You might want to increase the number of iterations. Duality gap: 63665.114428132, tolerance: 40.11242915907062\n",
      "  model = cd_fast.enet_coordinate_descent(\n",
      "/opt/conda/lib/python3.8/site-packages/sklearn/linear_model/_coordinate_descent.py:530: ConvergenceWarning: Objective did not converge. You might want to increase the number of iterations. Duality gap: 74240.88660065437, tolerance: 42.859971103167595\n",
      "  model = cd_fast.enet_coordinate_descent(\n"
     ]
    },
    {
     "name": "stdout",
     "output_type": "stream",
     "text": [
      "[CV 3/5] END ............model__alpha=2.9470517025518096e-08; total time=   0.1s\n",
      "[CV 4/5] END ............model__alpha=2.9470517025518096e-08; total time=   0.2s\n"
     ]
    },
    {
     "name": "stderr",
     "output_type": "stream",
     "text": [
      "/opt/conda/lib/python3.8/site-packages/sklearn/linear_model/_coordinate_descent.py:530: ConvergenceWarning: Objective did not converge. You might want to increase the number of iterations. Duality gap: 71413.48001752389, tolerance: 40.1785919770162\n",
      "  model = cd_fast.enet_coordinate_descent(\n",
      "/opt/conda/lib/python3.8/site-packages/sklearn/linear_model/_coordinate_descent.py:530: ConvergenceWarning: Objective did not converge. You might want to increase the number of iterations. Duality gap: 66877.39247947192, tolerance: 37.0766181102993\n",
      "  model = cd_fast.enet_coordinate_descent(\n"
     ]
    },
    {
     "name": "stdout",
     "output_type": "stream",
     "text": [
      "[CV 5/5] END ............model__alpha=2.9470517025518096e-08; total time=   0.1s\n",
      "[CV 1/5] END ............model__alpha=4.9417133613238385e-08; total time=   0.1s\n"
     ]
    },
    {
     "name": "stderr",
     "output_type": "stream",
     "text": [
      "/opt/conda/lib/python3.8/site-packages/sklearn/linear_model/_coordinate_descent.py:530: ConvergenceWarning: Objective did not converge. You might want to increase the number of iterations. Duality gap: 58832.48261395911, tolerance: 36.00594430408222\n",
      "  model = cd_fast.enet_coordinate_descent(\n",
      "/opt/conda/lib/python3.8/site-packages/sklearn/linear_model/_coordinate_descent.py:530: ConvergenceWarning: Objective did not converge. You might want to increase the number of iterations. Duality gap: 63665.06097953339, tolerance: 40.11242915907062\n",
      "  model = cd_fast.enet_coordinate_descent(\n"
     ]
    },
    {
     "name": "stdout",
     "output_type": "stream",
     "text": [
      "[CV 2/5] END ............model__alpha=4.9417133613238385e-08; total time=   0.2s\n",
      "[CV 3/5] END ............model__alpha=4.9417133613238385e-08; total time=   0.1s\n"
     ]
    },
    {
     "name": "stderr",
     "output_type": "stream",
     "text": [
      "/opt/conda/lib/python3.8/site-packages/sklearn/linear_model/_coordinate_descent.py:530: ConvergenceWarning: Objective did not converge. You might want to increase the number of iterations. Duality gap: 74240.82834623358, tolerance: 42.859971103167595\n",
      "  model = cd_fast.enet_coordinate_descent(\n",
      "/opt/conda/lib/python3.8/site-packages/sklearn/linear_model/_coordinate_descent.py:530: ConvergenceWarning: Objective did not converge. You might want to increase the number of iterations. Duality gap: 71413.42274779725, tolerance: 40.1785919770162\n",
      "  model = cd_fast.enet_coordinate_descent(\n"
     ]
    },
    {
     "name": "stdout",
     "output_type": "stream",
     "text": [
      "[CV 4/5] END ............model__alpha=4.9417133613238385e-08; total time=   0.2s\n",
      "[CV 5/5] END ............model__alpha=4.9417133613238385e-08; total time=   0.1s\n"
     ]
    },
    {
     "name": "stderr",
     "output_type": "stream",
     "text": [
      "/opt/conda/lib/python3.8/site-packages/sklearn/linear_model/_coordinate_descent.py:530: ConvergenceWarning: Objective did not converge. You might want to increase the number of iterations. Duality gap: 66877.31535944543, tolerance: 37.0766181102993\n",
      "  model = cd_fast.enet_coordinate_descent(\n",
      "/opt/conda/lib/python3.8/site-packages/sklearn/linear_model/_coordinate_descent.py:530: ConvergenceWarning: Objective did not converge. You might want to increase the number of iterations. Duality gap: 58832.40490518388, tolerance: 36.00594430408222\n",
      "  model = cd_fast.enet_coordinate_descent(\n"
     ]
    },
    {
     "name": "stdout",
     "output_type": "stream",
     "text": [
      "[CV 1/5] END .............model__alpha=8.286427728546843e-08; total time=   0.2s\n",
      "[CV 2/5] END .............model__alpha=8.286427728546843e-08; total time=   0.1s\n"
     ]
    },
    {
     "name": "stderr",
     "output_type": "stream",
     "text": [
      "/opt/conda/lib/python3.8/site-packages/sklearn/linear_model/_coordinate_descent.py:530: ConvergenceWarning: Objective did not converge. You might want to increase the number of iterations. Duality gap: 63664.97135514349, tolerance: 40.11242915907062\n",
      "  model = cd_fast.enet_coordinate_descent(\n",
      "/opt/conda/lib/python3.8/site-packages/sklearn/linear_model/_coordinate_descent.py:530: ConvergenceWarning: Objective did not converge. You might want to increase the number of iterations. Duality gap: 74240.73066303405, tolerance: 42.859971103167595\n",
      "  model = cd_fast.enet_coordinate_descent(\n"
     ]
    },
    {
     "name": "stdout",
     "output_type": "stream",
     "text": [
      "[CV 3/5] END .............model__alpha=8.286427728546843e-08; total time=   0.1s\n",
      "[CV 4/5] END .............model__alpha=8.286427728546843e-08; total time=   0.2s\n"
     ]
    },
    {
     "name": "stderr",
     "output_type": "stream",
     "text": [
      "/opt/conda/lib/python3.8/site-packages/sklearn/linear_model/_coordinate_descent.py:530: ConvergenceWarning: Objective did not converge. You might want to increase the number of iterations. Duality gap: 71413.3267159046, tolerance: 40.1785919770162\n",
      "  model = cd_fast.enet_coordinate_descent(\n",
      "/opt/conda/lib/python3.8/site-packages/sklearn/linear_model/_coordinate_descent.py:530: ConvergenceWarning: Objective did not converge. You might want to increase the number of iterations. Duality gap: 66877.18604226988, tolerance: 37.0766181102993\n",
      "  model = cd_fast.enet_coordinate_descent(\n"
     ]
    },
    {
     "name": "stdout",
     "output_type": "stream",
     "text": [
      "[CV 5/5] END .............model__alpha=8.286427728546843e-08; total time=   0.1s\n",
      "[CV 1/5] END .............model__alpha=1.389495494373136e-07; total time=   0.2s\n"
     ]
    },
    {
     "name": "stderr",
     "output_type": "stream",
     "text": [
      "/opt/conda/lib/python3.8/site-packages/sklearn/linear_model/_coordinate_descent.py:530: ConvergenceWarning: Objective did not converge. You might want to increase the number of iterations. Duality gap: 58832.2746001724, tolerance: 36.00594430408222\n",
      "  model = cd_fast.enet_coordinate_descent(\n",
      "/opt/conda/lib/python3.8/site-packages/sklearn/linear_model/_coordinate_descent.py:530: ConvergenceWarning: Objective did not converge. You might want to increase the number of iterations. Duality gap: 63664.821069958176, tolerance: 40.11242915907062\n",
      "  model = cd_fast.enet_coordinate_descent(\n"
     ]
    },
    {
     "name": "stdout",
     "output_type": "stream",
     "text": [
      "[CV 2/5] END .............model__alpha=1.389495494373136e-07; total time=   0.1s\n",
      "[CV 3/5] END .............model__alpha=1.389495494373136e-07; total time=   0.2s\n"
     ]
    },
    {
     "name": "stderr",
     "output_type": "stream",
     "text": [
      "/opt/conda/lib/python3.8/site-packages/sklearn/linear_model/_coordinate_descent.py:530: ConvergenceWarning: Objective did not converge. You might want to increase the number of iterations. Duality gap: 74240.56686387522, tolerance: 42.859971103167595\n",
      "  model = cd_fast.enet_coordinate_descent(\n",
      "/opt/conda/lib/python3.8/site-packages/sklearn/linear_model/_coordinate_descent.py:530: ConvergenceWarning: Objective did not converge. You might want to increase the number of iterations. Duality gap: 71413.16568610711, tolerance: 40.1785919770162\n",
      "  model = cd_fast.enet_coordinate_descent(\n"
     ]
    },
    {
     "name": "stdout",
     "output_type": "stream",
     "text": [
      "[CV 4/5] END .............model__alpha=1.389495494373136e-07; total time=   0.1s\n",
      "[CV 5/5] END .............model__alpha=1.389495494373136e-07; total time=   0.1s\n"
     ]
    },
    {
     "name": "stderr",
     "output_type": "stream",
     "text": [
      "/opt/conda/lib/python3.8/site-packages/sklearn/linear_model/_coordinate_descent.py:530: ConvergenceWarning: Objective did not converge. You might want to increase the number of iterations. Duality gap: 66876.96919960117, tolerance: 37.0766181102993\n",
      "  model = cd_fast.enet_coordinate_descent(\n",
      "/opt/conda/lib/python3.8/site-packages/sklearn/linear_model/_coordinate_descent.py:530: ConvergenceWarning: Objective did not converge. You might want to increase the number of iterations. Duality gap: 58832.05609937537, tolerance: 36.00594430408222\n",
      "  model = cd_fast.enet_coordinate_descent(\n"
     ]
    },
    {
     "name": "stdout",
     "output_type": "stream",
     "text": [
      "[CV 1/5] END .............model__alpha=2.329951810515372e-07; total time=   0.2s\n",
      "[CV 2/5] END .............model__alpha=2.329951810515372e-07; total time=   0.1s\n"
     ]
    },
    {
     "name": "stderr",
     "output_type": "stream",
     "text": [
      "/opt/conda/lib/python3.8/site-packages/sklearn/linear_model/_coordinate_descent.py:530: ConvergenceWarning: Objective did not converge. You might want to increase the number of iterations. Duality gap: 63664.56906665451, tolerance: 40.11242915907062\n",
      "  model = cd_fast.enet_coordinate_descent(\n",
      "/opt/conda/lib/python3.8/site-packages/sklearn/linear_model/_coordinate_descent.py:530: ConvergenceWarning: Objective did not converge. You might want to increase the number of iterations. Duality gap: 74240.29219793528, tolerance: 42.859971103167595\n",
      "  model = cd_fast.enet_coordinate_descent(\n"
     ]
    },
    {
     "name": "stdout",
     "output_type": "stream",
     "text": [
      "[CV 3/5] END .............model__alpha=2.329951810515372e-07; total time=   0.2s\n",
      "[CV 4/5] END .............model__alpha=2.329951810515372e-07; total time=   0.1s\n"
     ]
    },
    {
     "name": "stderr",
     "output_type": "stream",
     "text": [
      "/opt/conda/lib/python3.8/site-packages/sklearn/linear_model/_coordinate_descent.py:530: ConvergenceWarning: Objective did not converge. You might want to increase the number of iterations. Duality gap: 71412.8956650314, tolerance: 40.1785919770162\n",
      "  model = cd_fast.enet_coordinate_descent(\n",
      "/opt/conda/lib/python3.8/site-packages/sklearn/linear_model/_coordinate_descent.py:530: ConvergenceWarning: Objective did not converge. You might want to increase the number of iterations. Duality gap: 66876.60559244771, tolerance: 37.0766181102993\n",
      "  model = cd_fast.enet_coordinate_descent(\n"
     ]
    },
    {
     "name": "stdout",
     "output_type": "stream",
     "text": [
      "[CV 5/5] END .............model__alpha=2.329951810515372e-07; total time=   0.1s\n",
      "[CV 1/5] END .............model__alpha=3.906939937054621e-07; total time=   0.2s\n"
     ]
    },
    {
     "name": "stderr",
     "output_type": "stream",
     "text": [
      "/opt/conda/lib/python3.8/site-packages/sklearn/linear_model/_coordinate_descent.py:530: ConvergenceWarning: Objective did not converge. You might want to increase the number of iterations. Duality gap: 58831.68970705694, tolerance: 36.00594430408222\n",
      "  model = cd_fast.enet_coordinate_descent(\n",
      "/opt/conda/lib/python3.8/site-packages/sklearn/linear_model/_coordinate_descent.py:530: ConvergenceWarning: Objective did not converge. You might want to increase the number of iterations. Duality gap: 63664.146498775735, tolerance: 40.11242915907062\n",
      "  model = cd_fast.enet_coordinate_descent(\n"
     ]
    },
    {
     "name": "stdout",
     "output_type": "stream",
     "text": [
      "[CV 2/5] END .............model__alpha=3.906939937054621e-07; total time=   0.1s\n",
      "[CV 3/5] END .............model__alpha=3.906939937054621e-07; total time=   0.1s\n"
     ]
    },
    {
     "name": "stderr",
     "output_type": "stream",
     "text": [
      "/opt/conda/lib/python3.8/site-packages/sklearn/linear_model/_coordinate_descent.py:530: ConvergenceWarning: Objective did not converge. You might want to increase the number of iterations. Duality gap: 74239.83162309264, tolerance: 42.859971103167595\n",
      "  model = cd_fast.enet_coordinate_descent(\n",
      "/opt/conda/lib/python3.8/site-packages/sklearn/linear_model/_coordinate_descent.py:530: ConvergenceWarning: Objective did not converge. You might want to increase the number of iterations. Duality gap: 71412.4428819687, tolerance: 40.1785919770162\n",
      "  model = cd_fast.enet_coordinate_descent(\n"
     ]
    },
    {
     "name": "stdout",
     "output_type": "stream",
     "text": [
      "[CV 4/5] END .............model__alpha=3.906939937054621e-07; total time=   0.2s\n",
      "[CV 5/5] END .............model__alpha=3.906939937054621e-07; total time=   0.1s\n"
     ]
    },
    {
     "name": "stderr",
     "output_type": "stream",
     "text": [
      "/opt/conda/lib/python3.8/site-packages/sklearn/linear_model/_coordinate_descent.py:530: ConvergenceWarning: Objective did not converge. You might want to increase the number of iterations. Duality gap: 66875.99588898779, tolerance: 37.0766181102993\n",
      "  model = cd_fast.enet_coordinate_descent(\n",
      "/opt/conda/lib/python3.8/site-packages/sklearn/linear_model/_coordinate_descent.py:530: ConvergenceWarning: Objective did not converge. You might want to increase the number of iterations. Duality gap: 58831.07531995892, tolerance: 36.00594430408222\n",
      "  model = cd_fast.enet_coordinate_descent(\n"
     ]
    },
    {
     "name": "stdout",
     "output_type": "stream",
     "text": [
      "[CV 1/5] END ..............model__alpha=6.55128556859551e-07; total time=   0.2s\n",
      "[CV 2/5] END ..............model__alpha=6.55128556859551e-07; total time=   0.1s\n"
     ]
    },
    {
     "name": "stderr",
     "output_type": "stream",
     "text": [
      "/opt/conda/lib/python3.8/site-packages/sklearn/linear_model/_coordinate_descent.py:530: ConvergenceWarning: Objective did not converge. You might want to increase the number of iterations. Duality gap: 63663.43792180834, tolerance: 40.11242915907062\n",
      "  model = cd_fast.enet_coordinate_descent(\n",
      "/opt/conda/lib/python3.8/site-packages/sklearn/linear_model/_coordinate_descent.py:530: ConvergenceWarning: Objective did not converge. You might want to increase the number of iterations. Duality gap: 74239.05929930089, tolerance: 42.859971103167595\n",
      "  model = cd_fast.enet_coordinate_descent(\n"
     ]
    },
    {
     "name": "stdout",
     "output_type": "stream",
     "text": [
      "[CV 3/5] END ..............model__alpha=6.55128556859551e-07; total time=   0.1s\n",
      "[CV 4/5] END ..............model__alpha=6.55128556859551e-07; total time=   0.2s\n"
     ]
    },
    {
     "name": "stderr",
     "output_type": "stream",
     "text": [
      "/opt/conda/lib/python3.8/site-packages/sklearn/linear_model/_coordinate_descent.py:530: ConvergenceWarning: Objective did not converge. You might want to increase the number of iterations. Duality gap: 71411.683632458, tolerance: 40.1785919770162\n",
      "  model = cd_fast.enet_coordinate_descent(\n",
      "/opt/conda/lib/python3.8/site-packages/sklearn/linear_model/_coordinate_descent.py:530: ConvergenceWarning: Objective did not converge. You might want to increase the number of iterations. Duality gap: 66874.97353217634, tolerance: 37.0766181102993\n",
      "  model = cd_fast.enet_coordinate_descent(\n"
     ]
    },
    {
     "name": "stdout",
     "output_type": "stream",
     "text": [
      "[CV 5/5] END ..............model__alpha=6.55128556859551e-07; total time=   0.1s\n",
      "[CV 1/5] END ............model__alpha=1.0985411419875572e-06; total time=   0.1s\n"
     ]
    },
    {
     "name": "stderr",
     "output_type": "stream",
     "text": [
      "/opt/conda/lib/python3.8/site-packages/sklearn/linear_model/_coordinate_descent.py:530: ConvergenceWarning: Objective did not converge. You might want to increase the number of iterations. Duality gap: 58830.04507183526, tolerance: 36.00594430408222\n",
      "  model = cd_fast.enet_coordinate_descent(\n",
      "/opt/conda/lib/python3.8/site-packages/sklearn/linear_model/_coordinate_descent.py:530: ConvergenceWarning: Objective did not converge. You might want to increase the number of iterations. Duality gap: 63662.24975315444, tolerance: 40.11242915907062\n",
      "  model = cd_fast.enet_coordinate_descent(\n"
     ]
    },
    {
     "name": "stdout",
     "output_type": "stream",
     "text": [
      "[CV 2/5] END ............model__alpha=1.0985411419875572e-06; total time=   0.2s\n",
      "[CV 3/5] END ............model__alpha=1.0985411419875572e-06; total time=   0.1s\n"
     ]
    },
    {
     "name": "stderr",
     "output_type": "stream",
     "text": [
      "/opt/conda/lib/python3.8/site-packages/sklearn/linear_model/_coordinate_descent.py:530: ConvergenceWarning: Objective did not converge. You might want to increase the number of iterations. Duality gap: 74237.76419430114, tolerance: 42.859971103167595\n",
      "  model = cd_fast.enet_coordinate_descent(\n",
      "/opt/conda/lib/python3.8/site-packages/sklearn/linear_model/_coordinate_descent.py:530: ConvergenceWarning: Objective did not converge. You might want to increase the number of iterations. Duality gap: 71410.41047549968, tolerance: 40.1785919770162\n",
      "  model = cd_fast.enet_coordinate_descent(\n"
     ]
    },
    {
     "name": "stdout",
     "output_type": "stream",
     "text": [
      "[CV 4/5] END ............model__alpha=1.0985411419875572e-06; total time=   0.1s\n",
      "[CV 5/5] END ............model__alpha=1.0985411419875572e-06; total time=   0.2s\n"
     ]
    },
    {
     "name": "stderr",
     "output_type": "stream",
     "text": [
      "/opt/conda/lib/python3.8/site-packages/sklearn/linear_model/_coordinate_descent.py:530: ConvergenceWarning: Objective did not converge. You might want to increase the number of iterations. Duality gap: 66873.25925005751, tolerance: 37.0766181102993\n",
      "  model = cd_fast.enet_coordinate_descent(\n",
      "/opt/conda/lib/python3.8/site-packages/sklearn/linear_model/_coordinate_descent.py:530: ConvergenceWarning: Objective did not converge. You might want to increase the number of iterations. Duality gap: 58828.31745149538, tolerance: 36.00594430408222\n",
      "  model = cd_fast.enet_coordinate_descent(\n"
     ]
    },
    {
     "name": "stdout",
     "output_type": "stream",
     "text": [
      "[CV 1/5] END ............model__alpha=1.8420699693267164e-06; total time=   0.1s\n",
      "[CV 2/5] END ............model__alpha=1.8420699693267164e-06; total time=   0.1s\n"
     ]
    },
    {
     "name": "stderr",
     "output_type": "stream",
     "text": [
      "/opt/conda/lib/python3.8/site-packages/sklearn/linear_model/_coordinate_descent.py:530: ConvergenceWarning: Objective did not converge. You might want to increase the number of iterations. Duality gap: 63660.25738058166, tolerance: 40.11242915907062\n",
      "  model = cd_fast.enet_coordinate_descent(\n",
      "/opt/conda/lib/python3.8/site-packages/sklearn/linear_model/_coordinate_descent.py:530: ConvergenceWarning: Objective did not converge. You might want to increase the number of iterations. Duality gap: 74235.59238734575, tolerance: 42.859971103167595\n",
      "  model = cd_fast.enet_coordinate_descent(\n"
     ]
    },
    {
     "name": "stdout",
     "output_type": "stream",
     "text": [
      "[CV 3/5] END ............model__alpha=1.8420699693267164e-06; total time=   0.2s\n",
      "[CV 4/5] END ............model__alpha=1.8420699693267164e-06; total time=   0.1s\n"
     ]
    },
    {
     "name": "stderr",
     "output_type": "stream",
     "text": [
      "/opt/conda/lib/python3.8/site-packages/sklearn/linear_model/_coordinate_descent.py:530: ConvergenceWarning: Objective did not converge. You might want to increase the number of iterations. Duality gap: 71408.27554106466, tolerance: 40.1785919770162\n",
      "  model = cd_fast.enet_coordinate_descent(\n",
      "/opt/conda/lib/python3.8/site-packages/sklearn/linear_model/_coordinate_descent.py:530: ConvergenceWarning: Objective did not converge. You might want to increase the number of iterations. Duality gap: 66870.38479626553, tolerance: 37.0766181102993\n",
      "  model = cd_fast.enet_coordinate_descent(\n"
     ]
    },
    {
     "name": "stdout",
     "output_type": "stream",
     "text": [
      "[CV 5/5] END ............model__alpha=1.8420699693267164e-06; total time=   0.1s\n",
      "[CV 1/5] END ............model__alpha=3.0888435964774785e-06; total time=   0.2s\n"
     ]
    },
    {
     "name": "stderr",
     "output_type": "stream",
     "text": [
      "/opt/conda/lib/python3.8/site-packages/sklearn/linear_model/_coordinate_descent.py:530: ConvergenceWarning: Objective did not converge. You might want to increase the number of iterations. Duality gap: 58825.42033697886, tolerance: 36.00594430408222\n",
      "  model = cd_fast.enet_coordinate_descent(\n",
      "/opt/conda/lib/python3.8/site-packages/sklearn/linear_model/_coordinate_descent.py:530: ConvergenceWarning: Objective did not converge. You might want to increase the number of iterations. Duality gap: 63656.91646998782, tolerance: 40.11242915907062\n",
      "  model = cd_fast.enet_coordinate_descent(\n"
     ]
    },
    {
     "name": "stdout",
     "output_type": "stream",
     "text": [
      "[CV 2/5] END ............model__alpha=3.0888435964774785e-06; total time=   0.1s\n",
      "[CV 3/5] END ............model__alpha=3.0888435964774785e-06; total time=   0.2s\n"
     ]
    },
    {
     "name": "stderr",
     "output_type": "stream",
     "text": [
      "/opt/conda/lib/python3.8/site-packages/sklearn/linear_model/_coordinate_descent.py:530: ConvergenceWarning: Objective did not converge. You might want to increase the number of iterations. Duality gap: 74231.950258088, tolerance: 42.859971103167595\n",
      "  model = cd_fast.enet_coordinate_descent(\n",
      "/opt/conda/lib/python3.8/site-packages/sklearn/linear_model/_coordinate_descent.py:530: ConvergenceWarning: Objective did not converge. You might want to increase the number of iterations. Duality gap: 71404.69541802583, tolerance: 40.1785919770162\n",
      "  model = cd_fast.enet_coordinate_descent(\n"
     ]
    },
    {
     "name": "stdout",
     "output_type": "stream",
     "text": [
      "[CV 4/5] END ............model__alpha=3.0888435964774785e-06; total time=   0.2s\n",
      "[CV 5/5] END ............model__alpha=3.0888435964774785e-06; total time=   0.1s\n"
     ]
    },
    {
     "name": "stderr",
     "output_type": "stream",
     "text": [
      "/opt/conda/lib/python3.8/site-packages/sklearn/linear_model/_coordinate_descent.py:530: ConvergenceWarning: Objective did not converge. You might want to increase the number of iterations. Duality gap: 66865.56514259355, tolerance: 37.0766181102993\n",
      "  model = cd_fast.enet_coordinate_descent(\n",
      "/opt/conda/lib/python3.8/site-packages/sklearn/linear_model/_coordinate_descent.py:530: ConvergenceWarning: Objective did not converge. You might want to increase the number of iterations. Duality gap: 58820.56185789953, tolerance: 36.00594430408222\n",
      "  model = cd_fast.enet_coordinate_descent(\n"
     ]
    },
    {
     "name": "stdout",
     "output_type": "stream",
     "text": [
      "[CV 1/5] END .............model__alpha=5.179474679231212e-06; total time=   0.2s\n",
      "[CV 2/5] END .............model__alpha=5.179474679231212e-06; total time=   0.2s\n"
     ]
    },
    {
     "name": "stderr",
     "output_type": "stream",
     "text": [
      "/opt/conda/lib/python3.8/site-packages/sklearn/linear_model/_coordinate_descent.py:530: ConvergenceWarning: Objective did not converge. You might want to increase the number of iterations. Duality gap: 63651.31424553856, tolerance: 40.11242915907062\n",
      "  model = cd_fast.enet_coordinate_descent(\n",
      "/opt/conda/lib/python3.8/site-packages/sklearn/linear_model/_coordinate_descent.py:530: ConvergenceWarning: Objective did not converge. You might want to increase the number of iterations. Duality gap: 74225.84197025972, tolerance: 42.859971103167595\n",
      "  model = cd_fast.enet_coordinate_descent(\n"
     ]
    },
    {
     "name": "stdout",
     "output_type": "stream",
     "text": [
      "[CV 3/5] END .............model__alpha=5.179474679231212e-06; total time=   0.1s\n",
      "[CV 4/5] END .............model__alpha=5.179474679231212e-06; total time=   0.2s\n"
     ]
    },
    {
     "name": "stderr",
     "output_type": "stream",
     "text": [
      "/opt/conda/lib/python3.8/site-packages/sklearn/linear_model/_coordinate_descent.py:530: ConvergenceWarning: Objective did not converge. You might want to increase the number of iterations. Duality gap: 71398.69166998596, tolerance: 40.1785919770162\n",
      "  model = cd_fast.enet_coordinate_descent(\n",
      "/opt/conda/lib/python3.8/site-packages/sklearn/linear_model/_coordinate_descent.py:530: ConvergenceWarning: Objective did not converge. You might want to increase the number of iterations. Duality gap: 66857.48425770314, tolerance: 37.0766181102993\n",
      "  model = cd_fast.enet_coordinate_descent(\n"
     ]
    },
    {
     "name": "stdout",
     "output_type": "stream",
     "text": [
      "[CV 5/5] END .............model__alpha=5.179474679231212e-06; total time=   0.2s\n",
      "[CV 1/5] END ..............model__alpha=8.68511373751352e-06; total time=   0.1s\n"
     ]
    },
    {
     "name": "stderr",
     "output_type": "stream",
     "text": [
      "/opt/conda/lib/python3.8/site-packages/sklearn/linear_model/_coordinate_descent.py:530: ConvergenceWarning: Objective did not converge. You might want to increase the number of iterations. Duality gap: 58812.41355108776, tolerance: 36.00594430408222\n",
      "  model = cd_fast.enet_coordinate_descent(\n",
      "/opt/conda/lib/python3.8/site-packages/sklearn/linear_model/_coordinate_descent.py:530: ConvergenceWarning: Objective did not converge. You might want to increase the number of iterations. Duality gap: 63641.92005768757, tolerance: 40.11242915907062\n",
      "  model = cd_fast.enet_coordinate_descent(\n"
     ]
    },
    {
     "name": "stdout",
     "output_type": "stream",
     "text": [
      "[CV 2/5] END ..............model__alpha=8.68511373751352e-06; total time=   0.2s\n",
      "[CV 3/5] END ..............model__alpha=8.68511373751352e-06; total time=   0.2s\n"
     ]
    },
    {
     "name": "stderr",
     "output_type": "stream",
     "text": [
      "/opt/conda/lib/python3.8/site-packages/sklearn/linear_model/_coordinate_descent.py:530: ConvergenceWarning: Objective did not converge. You might want to increase the number of iterations. Duality gap: 74215.59646694428, tolerance: 42.859971103167595\n",
      "  model = cd_fast.enet_coordinate_descent(\n",
      "/opt/conda/lib/python3.8/site-packages/sklearn/linear_model/_coordinate_descent.py:530: ConvergenceWarning: Objective did not converge. You might want to increase the number of iterations. Duality gap: 71388.6229883084, tolerance: 40.1785919770162\n",
      "  model = cd_fast.enet_coordinate_descent(\n"
     ]
    },
    {
     "name": "stdout",
     "output_type": "stream",
     "text": [
      "[CV 4/5] END ..............model__alpha=8.68511373751352e-06; total time=   0.1s\n",
      "[CV 5/5] END ..............model__alpha=8.68511373751352e-06; total time=   0.2s\n"
     ]
    },
    {
     "name": "stderr",
     "output_type": "stream",
     "text": [
      "/opt/conda/lib/python3.8/site-packages/sklearn/linear_model/_coordinate_descent.py:530: ConvergenceWarning: Objective did not converge. You might want to increase the number of iterations. Duality gap: 66843.93642723539, tolerance: 37.0766181102993\n",
      "  model = cd_fast.enet_coordinate_descent(\n",
      "/opt/conda/lib/python3.8/site-packages/sklearn/linear_model/_coordinate_descent.py:530: ConvergenceWarning: Objective did not converge. You might want to increase the number of iterations. Duality gap: 58798.74630176863, tolerance: 36.00594430408222\n",
      "  model = cd_fast.enet_coordinate_descent(\n"
     ]
    },
    {
     "name": "stdout",
     "output_type": "stream",
     "text": [
      "[CV 1/5] END ............model__alpha=1.4563484775012445e-05; total time=   0.2s\n",
      "[CV 2/5] END ............model__alpha=1.4563484775012445e-05; total time=   0.1s\n"
     ]
    },
    {
     "name": "stderr",
     "output_type": "stream",
     "text": [
      "/opt/conda/lib/python3.8/site-packages/sklearn/linear_model/_coordinate_descent.py:530: ConvergenceWarning: Objective did not converge. You might want to increase the number of iterations. Duality gap: 63626.16714763454, tolerance: 40.11242915907062\n",
      "  model = cd_fast.enet_coordinate_descent(\n",
      "/opt/conda/lib/python3.8/site-packages/sklearn/linear_model/_coordinate_descent.py:530: ConvergenceWarning: Objective did not converge. You might want to increase the number of iterations. Duality gap: 74198.40824706126, tolerance: 42.859971103167595\n",
      "  model = cd_fast.enet_coordinate_descent(\n"
     ]
    },
    {
     "name": "stdout",
     "output_type": "stream",
     "text": [
      "[CV 3/5] END ............model__alpha=1.4563484775012445e-05; total time=   0.2s\n",
      "[CV 4/5] END ............model__alpha=1.4563484775012445e-05; total time=   0.2s\n"
     ]
    },
    {
     "name": "stderr",
     "output_type": "stream",
     "text": [
      "/opt/conda/lib/python3.8/site-packages/sklearn/linear_model/_coordinate_descent.py:530: ConvergenceWarning: Objective did not converge. You might want to increase the number of iterations. Duality gap: 71371.7356265403, tolerance: 40.1785919770162\n",
      "  model = cd_fast.enet_coordinate_descent(\n",
      "/opt/conda/lib/python3.8/site-packages/sklearn/linear_model/_coordinate_descent.py:530: ConvergenceWarning: Objective did not converge. You might want to increase the number of iterations. Duality gap: 66821.22597889056, tolerance: 37.0766181102993\n",
      "  model = cd_fast.enet_coordinate_descent(\n"
     ]
    },
    {
     "name": "stdout",
     "output_type": "stream",
     "text": [
      "[CV 5/5] END ............model__alpha=1.4563484775012445e-05; total time=   0.1s\n",
      "[CV 1/5] END ............model__alpha=2.4420530945486497e-05; total time=   0.2s\n"
     ]
    },
    {
     "name": "stderr",
     "output_type": "stream",
     "text": [
      "/opt/conda/lib/python3.8/site-packages/sklearn/linear_model/_coordinate_descent.py:530: ConvergenceWarning: Objective did not converge. You might want to increase the number of iterations. Duality gap: 58775.817394662095, tolerance: 36.00594430408222\n",
      "  model = cd_fast.enet_coordinate_descent(\n",
      "/opt/conda/lib/python3.8/site-packages/sklearn/linear_model/_coordinate_descent.py:530: ConvergenceWarning: Objective did not converge. You might want to increase the number of iterations. Duality gap: 63599.75050240686, tolerance: 40.11242915907062\n",
      "  model = cd_fast.enet_coordinate_descent(\n"
     ]
    },
    {
     "name": "stdout",
     "output_type": "stream",
     "text": [
      "[CV 2/5] END ............model__alpha=2.4420530945486497e-05; total time=   0.2s\n",
      "[CV 3/5] END ............model__alpha=2.4420530945486497e-05; total time=   0.1s\n"
     ]
    },
    {
     "name": "stderr",
     "output_type": "stream",
     "text": [
      "/opt/conda/lib/python3.8/site-packages/sklearn/linear_model/_coordinate_descent.py:530: ConvergenceWarning: Objective did not converge. You might want to increase the number of iterations. Duality gap: 74169.5634594537, tolerance: 42.859971103167595\n",
      "  model = cd_fast.enet_coordinate_descent(\n",
      "/opt/conda/lib/python3.8/site-packages/sklearn/linear_model/_coordinate_descent.py:530: ConvergenceWarning: Objective did not converge. You might want to increase the number of iterations. Duality gap: 71343.40730044615, tolerance: 40.1785919770162\n",
      "  model = cd_fast.enet_coordinate_descent(\n"
     ]
    },
    {
     "name": "stdout",
     "output_type": "stream",
     "text": [
      "[CV 4/5] END ............model__alpha=2.4420530945486497e-05; total time=   0.2s\n",
      "[CV 5/5] END ............model__alpha=2.4420530945486497e-05; total time=   0.2s\n"
     ]
    },
    {
     "name": "stderr",
     "output_type": "stream",
     "text": [
      "/opt/conda/lib/python3.8/site-packages/sklearn/linear_model/_coordinate_descent.py:530: ConvergenceWarning: Objective did not converge. You might want to increase the number of iterations. Duality gap: 66783.16399269082, tolerance: 37.0766181102993\n",
      "  model = cd_fast.enet_coordinate_descent(\n",
      "/opt/conda/lib/python3.8/site-packages/sklearn/linear_model/_coordinate_descent.py:530: ConvergenceWarning: Objective did not converge. You might want to increase the number of iterations. Duality gap: 58737.3381667863, tolerance: 36.00594430408222\n",
      "  model = cd_fast.enet_coordinate_descent(\n"
     ]
    },
    {
     "name": "stdout",
     "output_type": "stream",
     "text": [
      "[CV 1/5] END .............model__alpha=4.094915062380427e-05; total time=   0.1s\n",
      "[CV 2/5] END .............model__alpha=4.094915062380427e-05; total time=   0.2s\n"
     ]
    },
    {
     "name": "stderr",
     "output_type": "stream",
     "text": [
      "/opt/conda/lib/python3.8/site-packages/sklearn/linear_model/_coordinate_descent.py:530: ConvergenceWarning: Objective did not converge. You might want to increase the number of iterations. Duality gap: 63555.45032857738, tolerance: 40.11242915907062\n",
      "  model = cd_fast.enet_coordinate_descent(\n",
      "/opt/conda/lib/python3.8/site-packages/sklearn/linear_model/_coordinate_descent.py:530: ConvergenceWarning: Objective did not converge. You might want to increase the number of iterations. Duality gap: 74121.13309452214, tolerance: 42.859971103167595\n",
      "  model = cd_fast.enet_coordinate_descent(\n"
     ]
    },
    {
     "name": "stdout",
     "output_type": "stream",
     "text": [
      "[CV 3/5] END .............model__alpha=4.094915062380427e-05; total time=   0.2s\n",
      "[CV 4/5] END .............model__alpha=4.094915062380427e-05; total time=   0.1s\n"
     ]
    },
    {
     "name": "stderr",
     "output_type": "stream",
     "text": [
      "/opt/conda/lib/python3.8/site-packages/sklearn/linear_model/_coordinate_descent.py:530: ConvergenceWarning: Objective did not converge. You might want to increase the number of iterations. Duality gap: 71295.87386378947, tolerance: 40.1785919770162\n",
      "  model = cd_fast.enet_coordinate_descent(\n",
      "/opt/conda/lib/python3.8/site-packages/sklearn/linear_model/_coordinate_descent.py:530: ConvergenceWarning: Objective did not converge. You might want to increase the number of iterations. Duality gap: 66719.39613287915, tolerance: 37.0766181102993\n",
      "  model = cd_fast.enet_coordinate_descent(\n"
     ]
    },
    {
     "name": "stdout",
     "output_type": "stream",
     "text": [
      "[CV 5/5] END .............model__alpha=4.094915062380427e-05; total time=   0.2s\n",
      "[CV 1/5] END .............model__alpha=6.866488450042999e-05; total time=   0.1s\n"
     ]
    },
    {
     "name": "stderr",
     "output_type": "stream",
     "text": [
      "/opt/conda/lib/python3.8/site-packages/sklearn/linear_model/_coordinate_descent.py:530: ConvergenceWarning: Objective did not converge. You might want to increase the number of iterations. Duality gap: 58672.72804521899, tolerance: 36.00594430408222\n",
      "  model = cd_fast.enet_coordinate_descent(\n",
      "/opt/conda/lib/python3.8/site-packages/sklearn/linear_model/_coordinate_descent.py:530: ConvergenceWarning: Objective did not converge. You might want to increase the number of iterations. Duality gap: 63481.157040243466, tolerance: 40.11242915907062\n",
      "  model = cd_fast.enet_coordinate_descent(\n"
     ]
    },
    {
     "name": "stdout",
     "output_type": "stream",
     "text": [
      "[CV 2/5] END .............model__alpha=6.866488450042999e-05; total time=   0.2s\n",
      "[CV 3/5] END .............model__alpha=6.866488450042999e-05; total time=   0.2s\n"
     ]
    },
    {
     "name": "stderr",
     "output_type": "stream",
     "text": [
      "/opt/conda/lib/python3.8/site-packages/sklearn/linear_model/_coordinate_descent.py:530: ConvergenceWarning: Objective did not converge. You might want to increase the number of iterations. Duality gap: 74039.74637919289, tolerance: 42.859971103167595\n",
      "  model = cd_fast.enet_coordinate_descent(\n",
      "/opt/conda/lib/python3.8/site-packages/sklearn/linear_model/_coordinate_descent.py:530: ConvergenceWarning: Objective did not converge. You might want to increase the number of iterations. Duality gap: 71216.08437201094, tolerance: 40.1785919770162\n",
      "  model = cd_fast.enet_coordinate_descent(\n"
     ]
    },
    {
     "name": "stdout",
     "output_type": "stream",
     "text": [
      "[CV 4/5] END .............model__alpha=6.866488450042999e-05; total time=   0.1s\n",
      "[CV 5/5] END .............model__alpha=6.866488450042999e-05; total time=   0.2s\n"
     ]
    },
    {
     "name": "stderr",
     "output_type": "stream",
     "text": [
      "/opt/conda/lib/python3.8/site-packages/sklearn/linear_model/_coordinate_descent.py:530: ConvergenceWarning: Objective did not converge. You might want to increase the number of iterations. Duality gap: 66612.62814665788, tolerance: 37.0766181102993\n",
      "  model = cd_fast.enet_coordinate_descent(\n",
      "/opt/conda/lib/python3.8/site-packages/sklearn/linear_model/_coordinate_descent.py:530: ConvergenceWarning: Objective did not converge. You might want to increase the number of iterations. Duality gap: 58564.15271816698, tolerance: 36.00594430408222\n",
      "  model = cd_fast.enet_coordinate_descent(\n"
     ]
    },
    {
     "name": "stdout",
     "output_type": "stream",
     "text": [
      "[CV 1/5] END ............model__alpha=0.00011513953993264481; total time=   0.1s\n",
      "[CV 2/5] END ............model__alpha=0.00011513953993264481; total time=   0.2s\n"
     ]
    },
    {
     "name": "stderr",
     "output_type": "stream",
     "text": [
      "/opt/conda/lib/python3.8/site-packages/sklearn/linear_model/_coordinate_descent.py:530: ConvergenceWarning: Objective did not converge. You might want to increase the number of iterations. Duality gap: 63356.571311101594, tolerance: 40.11242915907062\n",
      "  model = cd_fast.enet_coordinate_descent(\n",
      "/opt/conda/lib/python3.8/site-packages/sklearn/linear_model/_coordinate_descent.py:530: ConvergenceWarning: Objective did not converge. You might want to increase the number of iterations. Duality gap: 73902.79520402646, tolerance: 42.859971103167595\n",
      "  model = cd_fast.enet_coordinate_descent(\n"
     ]
    },
    {
     "name": "stdout",
     "output_type": "stream",
     "text": [
      "[CV 3/5] END ............model__alpha=0.00011513953993264481; total time=   0.2s\n",
      "[CV 4/5] END ............model__alpha=0.00011513953993264481; total time=   0.1s\n"
     ]
    },
    {
     "name": "stderr",
     "output_type": "stream",
     "text": [
      "/opt/conda/lib/python3.8/site-packages/sklearn/linear_model/_coordinate_descent.py:530: ConvergenceWarning: Objective did not converge. You might want to increase the number of iterations. Duality gap: 71082.06592225048, tolerance: 40.1785919770162\n",
      "  model = cd_fast.enet_coordinate_descent(\n",
      "/opt/conda/lib/python3.8/site-packages/sklearn/linear_model/_coordinate_descent.py:530: ConvergenceWarning: Objective did not converge. You might want to increase the number of iterations. Duality gap: 66434.07826662417, tolerance: 37.0766181102993\n",
      "  model = cd_fast.enet_coordinate_descent(\n"
     ]
    },
    {
     "name": "stdout",
     "output_type": "stream",
     "text": [
      "[CV 5/5] END ............model__alpha=0.00011513953993264481; total time=   0.2s\n",
      "[CV 1/5] END ............model__alpha=0.00019306977288832496; total time=   0.2s\n"
     ]
    },
    {
     "name": "stderr",
     "output_type": "stream",
     "text": [
      "/opt/conda/lib/python3.8/site-packages/sklearn/linear_model/_coordinate_descent.py:530: ConvergenceWarning: Objective did not converge. You might want to increase the number of iterations. Duality gap: 58381.49778602018, tolerance: 36.00594430408222\n",
      "  model = cd_fast.enet_coordinate_descent(\n",
      "/opt/conda/lib/python3.8/site-packages/sklearn/linear_model/_coordinate_descent.py:530: ConvergenceWarning: Objective did not converge. You might want to increase the number of iterations. Duality gap: 63147.688440335485, tolerance: 40.11242915907062\n",
      "  model = cd_fast.enet_coordinate_descent(\n"
     ]
    },
    {
     "name": "stdout",
     "output_type": "stream",
     "text": [
      "[CV 2/5] END ............model__alpha=0.00019306977288832496; total time=   0.1s\n",
      "[CV 3/5] END ............model__alpha=0.00019306977288832496; total time=   0.2s\n"
     ]
    },
    {
     "name": "stderr",
     "output_type": "stream",
     "text": [
      "/opt/conda/lib/python3.8/site-packages/sklearn/linear_model/_coordinate_descent.py:530: ConvergenceWarning: Objective did not converge. You might want to increase the number of iterations. Duality gap: 73671.87299643806, tolerance: 42.859971103167595\n",
      "  model = cd_fast.enet_coordinate_descent(\n",
      "/opt/conda/lib/python3.8/site-packages/sklearn/linear_model/_coordinate_descent.py:530: ConvergenceWarning: Objective did not converge. You might want to increase the number of iterations. Duality gap: 70856.70273194437, tolerance: 40.1785919770162\n",
      "  model = cd_fast.enet_coordinate_descent(\n"
     ]
    },
    {
     "name": "stdout",
     "output_type": "stream",
     "text": [
      "[CV 4/5] END ............model__alpha=0.00019306977288832496; total time=   0.2s\n",
      "[CV 5/5] END ............model__alpha=0.00019306977288832496; total time=   0.1s\n"
     ]
    },
    {
     "name": "stderr",
     "output_type": "stream",
     "text": [
      "/opt/conda/lib/python3.8/site-packages/sklearn/linear_model/_coordinate_descent.py:530: ConvergenceWarning: Objective did not converge. You might want to increase the number of iterations. Duality gap: 66136.05424921955, tolerance: 37.0766181102993\n",
      "  model = cd_fast.enet_coordinate_descent(\n",
      "/opt/conda/lib/python3.8/site-packages/sklearn/linear_model/_coordinate_descent.py:530: ConvergenceWarning: Objective did not converge. You might want to increase the number of iterations. Duality gap: 58073.78633470782, tolerance: 36.00594430408222\n",
      "  model = cd_fast.enet_coordinate_descent(\n"
     ]
    },
    {
     "name": "stdout",
     "output_type": "stream",
     "text": [
      "[CV 1/5] END ............model__alpha=0.00032374575428176466; total time=   0.2s\n",
      "[CV 2/5] END ............model__alpha=0.00032374575428176466; total time=   0.2s\n"
     ]
    },
    {
     "name": "stderr",
     "output_type": "stream",
     "text": [
      "/opt/conda/lib/python3.8/site-packages/sklearn/linear_model/_coordinate_descent.py:530: ConvergenceWarning: Objective did not converge. You might want to increase the number of iterations. Duality gap: 62797.76867910803, tolerance: 40.11242915907062\n",
      "  model = cd_fast.enet_coordinate_descent(\n",
      "/opt/conda/lib/python3.8/site-packages/sklearn/linear_model/_coordinate_descent.py:530: ConvergenceWarning: Objective did not converge. You might want to increase the number of iterations. Duality gap: 73281.17048974479, tolerance: 42.859971103167595\n",
      "  model = cd_fast.enet_coordinate_descent(\n"
     ]
    },
    {
     "name": "stdout",
     "output_type": "stream",
     "text": [
      "[CV 3/5] END ............model__alpha=0.00032374575428176466; total time=   0.1s\n",
      "[CV 4/5] END ............model__alpha=0.00032374575428176466; total time=   0.2s\n"
     ]
    },
    {
     "name": "stderr",
     "output_type": "stream",
     "text": [
      "/opt/conda/lib/python3.8/site-packages/sklearn/linear_model/_coordinate_descent.py:530: ConvergenceWarning: Objective did not converge. You might want to increase the number of iterations. Duality gap: 70477.27882560808, tolerance: 40.1785919770162\n",
      "  model = cd_fast.enet_coordinate_descent(\n",
      "/opt/conda/lib/python3.8/site-packages/sklearn/linear_model/_coordinate_descent.py:530: ConvergenceWarning: Objective did not converge. You might want to increase the number of iterations. Duality gap: 65640.34003729593, tolerance: 37.0766181102993\n",
      "  model = cd_fast.enet_coordinate_descent(\n"
     ]
    },
    {
     "name": "stdout",
     "output_type": "stream",
     "text": [
      "[CV 5/5] END ............model__alpha=0.00032374575428176466; total time=   0.2s\n",
      "[CV 1/5] END .............model__alpha=0.0005428675439323859; total time=   0.1s\n"
     ]
    },
    {
     "name": "stderr",
     "output_type": "stream",
     "text": [
      "/opt/conda/lib/python3.8/site-packages/sklearn/linear_model/_coordinate_descent.py:530: ConvergenceWarning: Objective did not converge. You might want to increase the number of iterations. Duality gap: 57554.82508927036, tolerance: 36.00594430408222\n",
      "  model = cd_fast.enet_coordinate_descent(\n",
      "/opt/conda/lib/python3.8/site-packages/sklearn/linear_model/_coordinate_descent.py:530: ConvergenceWarning: Objective did not converge. You might want to increase the number of iterations. Duality gap: 62212.36728781542, tolerance: 40.11242915907062\n",
      "  model = cd_fast.enet_coordinate_descent(\n"
     ]
    },
    {
     "name": "stdout",
     "output_type": "stream",
     "text": [
      "[CV 2/5] END .............model__alpha=0.0005428675439323859; total time=   0.2s\n",
      "[CV 3/5] END .............model__alpha=0.0005428675439323859; total time=   0.2s\n"
     ]
    },
    {
     "name": "stderr",
     "output_type": "stream",
     "text": [
      "/opt/conda/lib/python3.8/site-packages/sklearn/linear_model/_coordinate_descent.py:530: ConvergenceWarning: Objective did not converge. You might want to increase the number of iterations. Duality gap: 72616.82362561114, tolerance: 42.859971103167595\n",
      "  model = cd_fast.enet_coordinate_descent(\n",
      "/opt/conda/lib/python3.8/site-packages/sklearn/linear_model/_coordinate_descent.py:530: ConvergenceWarning: Objective did not converge. You might want to increase the number of iterations. Duality gap: 69837.63831467765, tolerance: 40.1785919770162\n",
      "  model = cd_fast.enet_coordinate_descent(\n"
     ]
    },
    {
     "name": "stdout",
     "output_type": "stream",
     "text": [
      "[CV 4/5] END .............model__alpha=0.0005428675439323859; total time=   0.1s\n",
      "[CV 5/5] END .............model__alpha=0.0005428675439323859; total time=   0.2s\n"
     ]
    },
    {
     "name": "stderr",
     "output_type": "stream",
     "text": [
      "/opt/conda/lib/python3.8/site-packages/sklearn/linear_model/_coordinate_descent.py:530: ConvergenceWarning: Objective did not converge. You might want to increase the number of iterations. Duality gap: 64821.12486040363, tolerance: 37.0766181102993\n",
      "  model = cd_fast.enet_coordinate_descent(\n",
      "/opt/conda/lib/python3.8/site-packages/sklearn/linear_model/_coordinate_descent.py:530: ConvergenceWarning: Objective did not converge. You might want to increase the number of iterations. Duality gap: 56678.39818315272, tolerance: 36.00594430408222\n",
      "  model = cd_fast.enet_coordinate_descent(\n"
     ]
    },
    {
     "name": "stdout",
     "output_type": "stream",
     "text": [
      "[CV 1/5] END .............model__alpha=0.0009102981779915227; total time=   0.2s\n",
      "[CV 2/5] END .............model__alpha=0.0009102981779915227; total time=   0.1s\n"
     ]
    },
    {
     "name": "stderr",
     "output_type": "stream",
     "text": [
      "/opt/conda/lib/python3.8/site-packages/sklearn/linear_model/_coordinate_descent.py:530: ConvergenceWarning: Objective did not converge. You might want to increase the number of iterations. Duality gap: 61236.50422780602, tolerance: 40.11242915907062\n",
      "  model = cd_fast.enet_coordinate_descent(\n",
      "/opt/conda/lib/python3.8/site-packages/sklearn/linear_model/_coordinate_descent.py:530: ConvergenceWarning: Objective did not converge. You might want to increase the number of iterations. Duality gap: 71478.77957800131, tolerance: 42.859971103167595\n",
      "  model = cd_fast.enet_coordinate_descent(\n"
     ]
    },
    {
     "name": "stdout",
     "output_type": "stream",
     "text": [
      "[CV 3/5] END .............model__alpha=0.0009102981779915227; total time=   0.2s\n",
      "[CV 4/5] END .............model__alpha=0.0009102981779915227; total time=   0.1s\n"
     ]
    },
    {
     "name": "stderr",
     "output_type": "stream",
     "text": [
      "/opt/conda/lib/python3.8/site-packages/sklearn/linear_model/_coordinate_descent.py:530: ConvergenceWarning: Objective did not converge. You might want to increase the number of iterations. Duality gap: 68758.04157608406, tolerance: 40.1785919770162\n",
      "  model = cd_fast.enet_coordinate_descent(\n",
      "/opt/conda/lib/python3.8/site-packages/sklearn/linear_model/_coordinate_descent.py:530: ConvergenceWarning: Objective did not converge. You might want to increase the number of iterations. Duality gap: 63481.493965570546, tolerance: 37.0766181102993\n",
      "  model = cd_fast.enet_coordinate_descent(\n"
     ]
    },
    {
     "name": "stdout",
     "output_type": "stream",
     "text": [
      "[CV 5/5] END .............model__alpha=0.0009102981779915227; total time=   0.2s\n",
      "[CV 1/5] END .............model__alpha=0.0015264179671752333; total time=   0.1s\n"
     ]
    },
    {
     "name": "stderr",
     "output_type": "stream",
     "text": [
      "/opt/conda/lib/python3.8/site-packages/sklearn/linear_model/_coordinate_descent.py:530: ConvergenceWarning: Objective did not converge. You might want to increase the number of iterations. Duality gap: 55242.772995155625, tolerance: 36.00594430408222\n",
      "  model = cd_fast.enet_coordinate_descent(\n",
      "/opt/conda/lib/python3.8/site-packages/sklearn/linear_model/_coordinate_descent.py:530: ConvergenceWarning: Objective did not converge. You might want to increase the number of iterations. Duality gap: 59622.76908331023, tolerance: 40.11242915907062\n",
      "  model = cd_fast.enet_coordinate_descent(\n"
     ]
    },
    {
     "name": "stdout",
     "output_type": "stream",
     "text": [
      "[CV 2/5] END .............model__alpha=0.0015264179671752333; total time=   0.2s\n",
      "[CV 3/5] END .............model__alpha=0.0015264179671752333; total time=   0.1s\n"
     ]
    },
    {
     "name": "stderr",
     "output_type": "stream",
     "text": [
      "/opt/conda/lib/python3.8/site-packages/sklearn/linear_model/_coordinate_descent.py:530: ConvergenceWarning: Objective did not converge. You might want to increase the number of iterations. Duality gap: 69590.83424581337, tolerance: 42.859971103167595\n",
      "  model = cd_fast.enet_coordinate_descent(\n",
      "/opt/conda/lib/python3.8/site-packages/sklearn/linear_model/_coordinate_descent.py:530: ConvergenceWarning: Objective did not converge. You might want to increase the number of iterations. Duality gap: 66933.55336895399, tolerance: 40.1785919770162\n",
      "  model = cd_fast.enet_coordinate_descent(\n"
     ]
    },
    {
     "name": "stdout",
     "output_type": "stream",
     "text": [
      "[CV 4/5] END .............model__alpha=0.0015264179671752333; total time=   0.2s\n",
      "[CV 5/5] END .............model__alpha=0.0015264179671752333; total time=   0.2s\n"
     ]
    },
    {
     "name": "stderr",
     "output_type": "stream",
     "text": [
      "/opt/conda/lib/python3.8/site-packages/sklearn/linear_model/_coordinate_descent.py:530: ConvergenceWarning: Objective did not converge. You might want to increase the number of iterations. Duality gap: 61328.73977323102, tolerance: 37.0766181102993\n",
      "  model = cd_fast.enet_coordinate_descent(\n",
      "/opt/conda/lib/python3.8/site-packages/sklearn/linear_model/_coordinate_descent.py:530: ConvergenceWarning: Objective did not converge. You might want to increase the number of iterations. Duality gap: 52762.434948001646, tolerance: 36.00594430408222\n",
      "  model = cd_fast.enet_coordinate_descent(\n"
     ]
    },
    {
     "name": "stdout",
     "output_type": "stream",
     "text": [
      "[CV 1/5] END .............model__alpha=0.0025595479226995332; total time=   0.1s\n",
      "[CV 2/5] END .............model__alpha=0.0025595479226995332; total time=   0.2s\n"
     ]
    },
    {
     "name": "stderr",
     "output_type": "stream",
     "text": [
      "/opt/conda/lib/python3.8/site-packages/sklearn/linear_model/_coordinate_descent.py:530: ConvergenceWarning: Objective did not converge. You might want to increase the number of iterations. Duality gap: 56979.6461592206, tolerance: 40.11242915907062\n",
      "  model = cd_fast.enet_coordinate_descent(\n",
      "/opt/conda/lib/python3.8/site-packages/sklearn/linear_model/_coordinate_descent.py:530: ConvergenceWarning: Objective did not converge. You might want to increase the number of iterations. Duality gap: 66349.07357926769, tolerance: 42.859971103167595\n",
      "  model = cd_fast.enet_coordinate_descent(\n"
     ]
    },
    {
     "name": "stdout",
     "output_type": "stream",
     "text": [
      "[CV 3/5] END .............model__alpha=0.0025595479226995332; total time=   0.1s\n",
      "[CV 4/5] END .............model__alpha=0.0025595479226995332; total time=   0.2s\n"
     ]
    },
    {
     "name": "stderr",
     "output_type": "stream",
     "text": [
      "/opt/conda/lib/python3.8/site-packages/sklearn/linear_model/_coordinate_descent.py:530: ConvergenceWarning: Objective did not converge. You might want to increase the number of iterations. Duality gap: 63792.0899865142, tolerance: 40.1785919770162\n",
      "  model = cd_fast.enet_coordinate_descent(\n",
      "/opt/conda/lib/python3.8/site-packages/sklearn/linear_model/_coordinate_descent.py:530: ConvergenceWarning: Objective did not converge. You might want to increase the number of iterations. Duality gap: 57966.212920738224, tolerance: 37.0766181102993\n",
      "  model = cd_fast.enet_coordinate_descent(\n"
     ]
    },
    {
     "name": "stdout",
     "output_type": "stream",
     "text": [
      "[CV 5/5] END .............model__alpha=0.0025595479226995332; total time=   0.1s\n",
      "[CV 1/5] END ..............model__alpha=0.004291934260128779; total time=   0.2s\n"
     ]
    },
    {
     "name": "stderr",
     "output_type": "stream",
     "text": [
      "/opt/conda/lib/python3.8/site-packages/sklearn/linear_model/_coordinate_descent.py:530: ConvergenceWarning: Objective did not converge. You might want to increase the number of iterations. Duality gap: 48610.15034127334, tolerance: 36.00594430408222\n",
      "  model = cd_fast.enet_coordinate_descent(\n",
      "/opt/conda/lib/python3.8/site-packages/sklearn/linear_model/_coordinate_descent.py:530: ConvergenceWarning: Objective did not converge. You might want to increase the number of iterations. Duality gap: 52718.9637593293, tolerance: 40.11242915907062\n",
      "  model = cd_fast.enet_coordinate_descent(\n"
     ]
    },
    {
     "name": "stdout",
     "output_type": "stream",
     "text": [
      "[CV 2/5] END ..............model__alpha=0.004291934260128779; total time=   0.1s\n",
      "[CV 3/5] END ..............model__alpha=0.004291934260128779; total time=   0.2s\n"
     ]
    },
    {
     "name": "stderr",
     "output_type": "stream",
     "text": [
      "/opt/conda/lib/python3.8/site-packages/sklearn/linear_model/_coordinate_descent.py:530: ConvergenceWarning: Objective did not converge. You might want to increase the number of iterations. Duality gap: 60366.9105824479, tolerance: 42.859971103167595\n",
      "  model = cd_fast.enet_coordinate_descent(\n",
      "/opt/conda/lib/python3.8/site-packages/sklearn/linear_model/_coordinate_descent.py:530: ConvergenceWarning: Objective did not converge. You might want to increase the number of iterations. Duality gap: 58675.60902586844, tolerance: 40.1785919770162\n",
      "  model = cd_fast.enet_coordinate_descent(\n"
     ]
    },
    {
     "name": "stdout",
     "output_type": "stream",
     "text": [
      "[CV 4/5] END ..............model__alpha=0.004291934260128779; total time=   0.1s\n",
      "[CV 5/5] END ..............model__alpha=0.004291934260128779; total time=   0.2s\n"
     ]
    },
    {
     "name": "stderr",
     "output_type": "stream",
     "text": [
      "/opt/conda/lib/python3.8/site-packages/sklearn/linear_model/_coordinate_descent.py:530: ConvergenceWarning: Objective did not converge. You might want to increase the number of iterations. Duality gap: 52904.819444374014, tolerance: 37.0766181102993\n",
      "  model = cd_fast.enet_coordinate_descent(\n",
      "/opt/conda/lib/python3.8/site-packages/sklearn/linear_model/_coordinate_descent.py:530: ConvergenceWarning: Objective did not converge. You might want to increase the number of iterations. Duality gap: 41683.12326240909, tolerance: 36.00594430408222\n",
      "  model = cd_fast.enet_coordinate_descent(\n"
     ]
    },
    {
     "name": "stdout",
     "output_type": "stream",
     "text": [
      "[CV 1/5] END ..............model__alpha=0.007196856730011514; total time=   0.1s\n",
      "[CV 2/5] END ..............model__alpha=0.007196856730011514; total time=   0.1s\n"
     ]
    },
    {
     "name": "stderr",
     "output_type": "stream",
     "text": [
      "/opt/conda/lib/python3.8/site-packages/sklearn/linear_model/_coordinate_descent.py:530: ConvergenceWarning: Objective did not converge. You might want to increase the number of iterations. Duality gap: 46199.276903643084, tolerance: 40.11242915907062\n",
      "  model = cd_fast.enet_coordinate_descent(\n",
      "/opt/conda/lib/python3.8/site-packages/sklearn/linear_model/_coordinate_descent.py:530: ConvergenceWarning: Objective did not converge. You might want to increase the number of iterations. Duality gap: 49013.23998397293, tolerance: 42.859971103167595\n",
      "  model = cd_fast.enet_coordinate_descent(\n"
     ]
    },
    {
     "name": "stdout",
     "output_type": "stream",
     "text": [
      "[CV 3/5] END ..............model__alpha=0.007196856730011514; total time=   0.2s\n",
      "[CV 4/5] END ..............model__alpha=0.007196856730011514; total time=   0.1s\n"
     ]
    },
    {
     "name": "stderr",
     "output_type": "stream",
     "text": [
      "/opt/conda/lib/python3.8/site-packages/sklearn/linear_model/_coordinate_descent.py:530: ConvergenceWarning: Objective did not converge. You might want to increase the number of iterations. Duality gap: 48496.14695816174, tolerance: 40.1785919770162\n",
      "  model = cd_fast.enet_coordinate_descent(\n",
      "/opt/conda/lib/python3.8/site-packages/sklearn/linear_model/_coordinate_descent.py:530: ConvergenceWarning: Objective did not converge. You might want to increase the number of iterations. Duality gap: 45672.873062766856, tolerance: 37.0766181102993\n",
      "  model = cd_fast.enet_coordinate_descent(\n"
     ]
    },
    {
     "name": "stdout",
     "output_type": "stream",
     "text": [
      "[CV 5/5] END ..............model__alpha=0.007196856730011514; total time=   0.2s\n",
      "[CV 1/5] END ..............model__alpha=0.012067926406393264; total time=   0.1s\n"
     ]
    },
    {
     "name": "stderr",
     "output_type": "stream",
     "text": [
      "/opt/conda/lib/python3.8/site-packages/sklearn/linear_model/_coordinate_descent.py:530: ConvergenceWarning: Objective did not converge. You might want to increase the number of iterations. Duality gap: 32750.524994648338, tolerance: 36.00594430408222\n",
      "  model = cd_fast.enet_coordinate_descent(\n",
      "/opt/conda/lib/python3.8/site-packages/sklearn/linear_model/_coordinate_descent.py:530: ConvergenceWarning: Objective did not converge. You might want to increase the number of iterations. Duality gap: 35500.61691858407, tolerance: 40.11242915907062\n",
      "  model = cd_fast.enet_coordinate_descent(\n"
     ]
    },
    {
     "name": "stdout",
     "output_type": "stream",
     "text": [
      "[CV 2/5] END ..............model__alpha=0.012067926406393264; total time=   0.1s\n",
      "[CV 3/5] END ..............model__alpha=0.012067926406393264; total time=   0.2s\n"
     ]
    },
    {
     "name": "stderr",
     "output_type": "stream",
     "text": [
      "/opt/conda/lib/python3.8/site-packages/sklearn/linear_model/_coordinate_descent.py:530: ConvergenceWarning: Objective did not converge. You might want to increase the number of iterations. Duality gap: 32892.85563890704, tolerance: 42.859971103167595\n",
      "  model = cd_fast.enet_coordinate_descent(\n",
      "/opt/conda/lib/python3.8/site-packages/sklearn/linear_model/_coordinate_descent.py:530: ConvergenceWarning: Objective did not converge. You might want to increase the number of iterations. Duality gap: 31474.778719057045, tolerance: 40.1785919770162\n",
      "  model = cd_fast.enet_coordinate_descent(\n"
     ]
    },
    {
     "name": "stdout",
     "output_type": "stream",
     "text": [
      "[CV 4/5] END ..............model__alpha=0.012067926406393264; total time=   0.1s\n",
      "[CV 5/5] END ..............model__alpha=0.012067926406393264; total time=   0.2s\n"
     ]
    },
    {
     "name": "stderr",
     "output_type": "stream",
     "text": [
      "/opt/conda/lib/python3.8/site-packages/sklearn/linear_model/_coordinate_descent.py:530: ConvergenceWarning: Objective did not converge. You might want to increase the number of iterations. Duality gap: 30692.74206433139, tolerance: 37.0766181102993\n",
      "  model = cd_fast.enet_coordinate_descent(\n",
      "/opt/conda/lib/python3.8/site-packages/sklearn/linear_model/_coordinate_descent.py:530: ConvergenceWarning: Objective did not converge. You might want to increase the number of iterations. Duality gap: 12769.209665801958, tolerance: 36.00594430408222\n",
      "  model = cd_fast.enet_coordinate_descent(\n"
     ]
    },
    {
     "name": "stdout",
     "output_type": "stream",
     "text": [
      "[CV 1/5] END ..............model__alpha=0.020235896477251554; total time=   0.1s\n",
      "[CV 2/5] END ..............model__alpha=0.020235896477251554; total time=   0.1s\n"
     ]
    },
    {
     "name": "stderr",
     "output_type": "stream",
     "text": [
      "/opt/conda/lib/python3.8/site-packages/sklearn/linear_model/_coordinate_descent.py:530: ConvergenceWarning: Objective did not converge. You might want to increase the number of iterations. Duality gap: 22053.092274895826, tolerance: 40.11242915907062\n",
      "  model = cd_fast.enet_coordinate_descent(\n",
      "/opt/conda/lib/python3.8/site-packages/sklearn/linear_model/_coordinate_descent.py:530: ConvergenceWarning: Objective did not converge. You might want to increase the number of iterations. Duality gap: 10089.953197155366, tolerance: 42.859971103167595\n",
      "  model = cd_fast.enet_coordinate_descent(\n"
     ]
    },
    {
     "name": "stdout",
     "output_type": "stream",
     "text": [
      "[CV 3/5] END ..............model__alpha=0.020235896477251554; total time=   0.2s\n",
      "[CV 4/5] END ..............model__alpha=0.020235896477251554; total time=   0.1s\n"
     ]
    },
    {
     "name": "stderr",
     "output_type": "stream",
     "text": [
      "/opt/conda/lib/python3.8/site-packages/sklearn/linear_model/_coordinate_descent.py:530: ConvergenceWarning: Objective did not converge. You might want to increase the number of iterations. Duality gap: 10634.397627868879, tolerance: 40.1785919770162\n",
      "  model = cd_fast.enet_coordinate_descent(\n",
      "/opt/conda/lib/python3.8/site-packages/sklearn/linear_model/_coordinate_descent.py:530: ConvergenceWarning: Objective did not converge. You might want to increase the number of iterations. Duality gap: 16059.958077642194, tolerance: 37.0766181102993\n",
      "  model = cd_fast.enet_coordinate_descent(\n"
     ]
    },
    {
     "name": "stdout",
     "output_type": "stream",
     "text": [
      "[CV 5/5] END ..............model__alpha=0.020235896477251554; total time=   0.1s\n",
      "[CV 1/5] END ................model__alpha=0.0339322177189533; total time=   0.1s\n"
     ]
    },
    {
     "name": "stderr",
     "output_type": "stream",
     "text": [
      "/opt/conda/lib/python3.8/site-packages/sklearn/linear_model/_coordinate_descent.py:530: ConvergenceWarning: Objective did not converge. You might want to increase the number of iterations. Duality gap: 1572.451694280724, tolerance: 36.00594430408222\n",
      "  model = cd_fast.enet_coordinate_descent(\n",
      "/opt/conda/lib/python3.8/site-packages/sklearn/linear_model/_coordinate_descent.py:530: ConvergenceWarning: Objective did not converge. You might want to increase the number of iterations. Duality gap: 9137.121841471846, tolerance: 40.11242915907062\n",
      "  model = cd_fast.enet_coordinate_descent(\n"
     ]
    },
    {
     "name": "stdout",
     "output_type": "stream",
     "text": [
      "[CV 2/5] END ................model__alpha=0.0339322177189533; total time=   0.2s\n",
      "[CV 3/5] END ................model__alpha=0.0339322177189533; total time=   0.1s\n"
     ]
    },
    {
     "name": "stderr",
     "output_type": "stream",
     "text": [
      "/opt/conda/lib/python3.8/site-packages/sklearn/linear_model/_coordinate_descent.py:530: ConvergenceWarning: Objective did not converge. You might want to increase the number of iterations. Duality gap: 2909.485599385982, tolerance: 42.859971103167595\n",
      "  model = cd_fast.enet_coordinate_descent(\n",
      "/opt/conda/lib/python3.8/site-packages/sklearn/linear_model/_coordinate_descent.py:530: ConvergenceWarning: Objective did not converge. You might want to increase the number of iterations. Duality gap: 1270.6229042710038, tolerance: 40.1785919770162\n",
      "  model = cd_fast.enet_coordinate_descent(\n"
     ]
    },
    {
     "name": "stdout",
     "output_type": "stream",
     "text": [
      "[CV 4/5] END ................model__alpha=0.0339322177189533; total time=   0.1s\n",
      "[CV 5/5] END ................model__alpha=0.0339322177189533; total time=   0.2s\n"
     ]
    },
    {
     "name": "stderr",
     "output_type": "stream",
     "text": [
      "/opt/conda/lib/python3.8/site-packages/sklearn/linear_model/_coordinate_descent.py:530: ConvergenceWarning: Objective did not converge. You might want to increase the number of iterations. Duality gap: 2632.48371277799, tolerance: 37.0766181102993\n",
      "  model = cd_fast.enet_coordinate_descent(\n",
      "/opt/conda/lib/python3.8/site-packages/sklearn/linear_model/_coordinate_descent.py:530: ConvergenceWarning: Objective did not converge. You might want to increase the number of iterations. Duality gap: 1328.2396402807644, tolerance: 36.00594430408222\n",
      "  model = cd_fast.enet_coordinate_descent(\n"
     ]
    },
    {
     "name": "stdout",
     "output_type": "stream",
     "text": [
      "[CV 1/5] END ...............model__alpha=0.05689866029018305; total time=   0.1s\n",
      "[CV 2/5] END ...............model__alpha=0.05689866029018305; total time=   0.1s\n"
     ]
    },
    {
     "name": "stderr",
     "output_type": "stream",
     "text": [
      "/opt/conda/lib/python3.8/site-packages/sklearn/linear_model/_coordinate_descent.py:530: ConvergenceWarning: Objective did not converge. You might want to increase the number of iterations. Duality gap: 2213.9903505089896, tolerance: 40.11242915907062\n",
      "  model = cd_fast.enet_coordinate_descent(\n",
      "/opt/conda/lib/python3.8/site-packages/sklearn/linear_model/_coordinate_descent.py:530: ConvergenceWarning: Objective did not converge. You might want to increase the number of iterations. Duality gap: 784.3274502399145, tolerance: 42.859971103167595\n",
      "  model = cd_fast.enet_coordinate_descent(\n"
     ]
    },
    {
     "name": "stdout",
     "output_type": "stream",
     "text": [
      "[CV 3/5] END ...............model__alpha=0.05689866029018305; total time=   0.1s\n",
      "[CV 4/5] END ...............model__alpha=0.05689866029018305; total time=   0.2s\n"
     ]
    },
    {
     "name": "stderr",
     "output_type": "stream",
     "text": [
      "/opt/conda/lib/python3.8/site-packages/sklearn/linear_model/_coordinate_descent.py:530: ConvergenceWarning: Objective did not converge. You might want to increase the number of iterations. Duality gap: 182.50100379317882, tolerance: 40.1785919770162\n",
      "  model = cd_fast.enet_coordinate_descent(\n",
      "/opt/conda/lib/python3.8/site-packages/sklearn/linear_model/_coordinate_descent.py:530: ConvergenceWarning: Objective did not converge. You might want to increase the number of iterations. Duality gap: 816.730363075505, tolerance: 37.0766181102993\n",
      "  model = cd_fast.enet_coordinate_descent(\n"
     ]
    },
    {
     "name": "stdout",
     "output_type": "stream",
     "text": [
      "[CV 5/5] END ...............model__alpha=0.05689866029018305; total time=   0.1s\n",
      "[CV 1/5] END ...............model__alpha=0.09540954763499924; total time=   0.1s\n"
     ]
    },
    {
     "name": "stderr",
     "output_type": "stream",
     "text": [
      "/opt/conda/lib/python3.8/site-packages/sklearn/linear_model/_coordinate_descent.py:530: ConvergenceWarning: Objective did not converge. You might want to increase the number of iterations. Duality gap: 113.09235822988558, tolerance: 36.00594430408222\n",
      "  model = cd_fast.enet_coordinate_descent(\n"
     ]
    },
    {
     "name": "stdout",
     "output_type": "stream",
     "text": [
      "[CV 2/5] END ...............model__alpha=0.09540954763499924; total time=   0.1s\n",
      "[CV 3/5] END ...............model__alpha=0.09540954763499924; total time=   0.2s\n"
     ]
    },
    {
     "name": "stderr",
     "output_type": "stream",
     "text": [
      "/opt/conda/lib/python3.8/site-packages/sklearn/linear_model/_coordinate_descent.py:530: ConvergenceWarning: Objective did not converge. You might want to increase the number of iterations. Duality gap: 140.87414377278765, tolerance: 42.859971103167595\n",
      "  model = cd_fast.enet_coordinate_descent(\n",
      "/opt/conda/lib/python3.8/site-packages/sklearn/linear_model/_coordinate_descent.py:530: ConvergenceWarning: Objective did not converge. You might want to increase the number of iterations. Duality gap: 567.4643434596946, tolerance: 40.1785919770162\n",
      "  model = cd_fast.enet_coordinate_descent(\n"
     ]
    },
    {
     "name": "stdout",
     "output_type": "stream",
     "text": [
      "[CV 4/5] END ...............model__alpha=0.09540954763499924; total time=   0.1s\n",
      "[CV 5/5] END ...............model__alpha=0.09540954763499924; total time=   0.1s\n",
      "[CV 1/5] END ...............model__alpha=0.15998587196060574; total time=   0.1s\n"
     ]
    },
    {
     "name": "stderr",
     "output_type": "stream",
     "text": [
      "/opt/conda/lib/python3.8/site-packages/sklearn/linear_model/_coordinate_descent.py:530: ConvergenceWarning: Objective did not converge. You might want to increase the number of iterations. Duality gap: 213.88094659519265, tolerance: 37.0766181102993\n",
      "  model = cd_fast.enet_coordinate_descent(\n"
     ]
    },
    {
     "name": "stdout",
     "output_type": "stream",
     "text": [
      "[CV 2/5] END ...............model__alpha=0.15998587196060574; total time=   0.1s\n",
      "[CV 3/5] END ...............model__alpha=0.15998587196060574; total time=   0.1s\n",
      "[CV 4/5] END ...............model__alpha=0.15998587196060574; total time=   0.1s\n",
      "[CV 5/5] END ...............model__alpha=0.15998587196060574; total time=   0.1s\n",
      "[CV 1/5] END ...............model__alpha=0.26826957952797276; total time=   0.1s\n",
      "[CV 2/5] END ...............model__alpha=0.26826957952797276; total time=   0.0s\n",
      "[CV 3/5] END ...............model__alpha=0.26826957952797276; total time=   0.1s\n",
      "[CV 4/5] END ...............model__alpha=0.26826957952797276; total time=   0.1s\n",
      "[CV 5/5] END ...............model__alpha=0.26826957952797276; total time=   0.0s\n",
      "[CV 1/5] END ................model__alpha=0.4498432668969453; total time=   0.1s\n",
      "[CV 2/5] END ................model__alpha=0.4498432668969453; total time=   0.1s\n",
      "[CV 3/5] END ................model__alpha=0.4498432668969453; total time=   0.0s\n",
      "[CV 4/5] END ................model__alpha=0.4498432668969453; total time=   0.1s\n",
      "[CV 5/5] END ................model__alpha=0.4498432668969453; total time=   0.0s\n",
      "[CV 1/5] END ................model__alpha=0.7543120063354607; total time=   0.1s\n",
      "[CV 2/5] END ................model__alpha=0.7543120063354607; total time=   0.0s\n",
      "[CV 3/5] END ................model__alpha=0.7543120063354607; total time=   0.1s\n",
      "[CV 4/5] END ................model__alpha=0.7543120063354607; total time=   0.1s\n",
      "[CV 5/5] END ................model__alpha=0.7543120063354607; total time=   0.0s\n",
      "[CV 1/5] END ................model__alpha=1.2648552168552958; total time=   0.1s\n",
      "[CV 2/5] END ................model__alpha=1.2648552168552958; total time=   0.0s\n",
      "[CV 3/5] END ................model__alpha=1.2648552168552958; total time=   0.1s\n",
      "[CV 4/5] END ................model__alpha=1.2648552168552958; total time=   0.0s\n",
      "[CV 5/5] END ................model__alpha=1.2648552168552958; total time=   0.1s\n",
      "[CV 1/5] END ................model__alpha=2.1209508879201926; total time=   0.0s\n",
      "[CV 2/5] END ................model__alpha=2.1209508879201926; total time=   0.0s\n",
      "[CV 3/5] END ................model__alpha=2.1209508879201926; total time=   0.1s\n",
      "[CV 4/5] END ................model__alpha=2.1209508879201926; total time=   0.0s\n",
      "[CV 5/5] END ................model__alpha=2.1209508879201926; total time=   0.1s\n",
      "[CV 1/5] END .................model__alpha=3.556480306223136; total time=   0.0s\n",
      "[CV 2/5] END .................model__alpha=3.556480306223136; total time=   0.1s\n",
      "[CV 3/5] END .................model__alpha=3.556480306223136; total time=   0.0s\n",
      "[CV 4/5] END .................model__alpha=3.556480306223136; total time=   0.1s\n",
      "[CV 5/5] END .................model__alpha=3.556480306223136; total time=   0.0s\n",
      "[CV 1/5] END .................model__alpha=5.963623316594637; total time=   0.0s\n",
      "[CV 2/5] END .................model__alpha=5.963623316594637; total time=   0.1s\n",
      "[CV 3/5] END .................model__alpha=5.963623316594637; total time=   0.0s\n",
      "[CV 4/5] END .................model__alpha=5.963623316594637; total time=   0.1s\n",
      "[CV 5/5] END .................model__alpha=5.963623316594637; total time=   0.0s\n",
      "[CV 1/5] END ..............................model__alpha=10.0; total time=   0.0s\n",
      "[CV 2/5] END ..............................model__alpha=10.0; total time=   0.1s\n",
      "[CV 3/5] END ..............................model__alpha=10.0; total time=   0.0s\n",
      "[CV 4/5] END ..............................model__alpha=10.0; total time=   0.1s\n",
      "[CV 5/5] END ..............................model__alpha=10.0; total time=   0.0s\n",
      "CPU times: user 3min 9s, sys: 4.76 s, total: 3min 14s\n",
      "Wall time: 32.4 s\n"
     ]
    },
    {
     "data": {
      "text/plain": [
       "GridSearchCV(cv=5,\n",
       "             estimator=Pipeline(steps=[('scaler', StandardScaler()),\n",
       "                                       ('model', Lasso())]),\n",
       "             param_grid={'model__alpha': array([1.00000000e-10, 1.67683294e-10, 2.81176870e-10, 4.71486636e-10,\n",
       "       7.90604321e-10, 1.32571137e-09, 2.22299648e-09, 3.72759372e-09,\n",
       "       6.25055193e-09, 1.04811313e-08, 1.75751062e-08, 2.94705170e-08,\n",
       "       4.94171336e-08, 8.28642773e-08, 1.38949549e-07...\n",
       "       1.93069773e-04, 3.23745754e-04, 5.42867544e-04, 9.10298178e-04,\n",
       "       1.52641797e-03, 2.55954792e-03, 4.29193426e-03, 7.19685673e-03,\n",
       "       1.20679264e-02, 2.02358965e-02, 3.39322177e-02, 5.68986603e-02,\n",
       "       9.54095476e-02, 1.59985872e-01, 2.68269580e-01, 4.49843267e-01,\n",
       "       7.54312006e-01, 1.26485522e+00, 2.12095089e+00, 3.55648031e+00,\n",
       "       5.96362332e+00, 1.00000000e+01])},\n",
       "             scoring='neg_mean_squared_error', verbose=3)"
      ]
     },
     "execution_count": 7,
     "metadata": {},
     "output_type": "execute_result"
    }
   ],
   "source": [
    "%%time\n",
    "steps = [('scaler', StandardScaler()), ('model', Lasso())]\n",
    "pipeline = Pipeline(steps)\n",
    "parameters = {'model__alpha': np.logspace(-10, 1, 50)}\n",
    "\n",
    "lasso_search = GridSearchCV(pipeline, \n",
    "                         parameters, \n",
    "                         cv = 5, \n",
    "                         scoring=\"neg_mean_squared_error\", \n",
    "                         verbose=3)\n",
    "\n",
    "lasso_search.fit(X_train, Y_train)"
   ]
  },
  {
   "cell_type": "code",
   "execution_count": 8,
   "id": "normal-tennessee",
   "metadata": {},
   "outputs": [
    {
     "data": {
      "text/plain": [
       "{'model__alpha': 0.26826957952797276}"
      ]
     },
     "execution_count": 8,
     "metadata": {},
     "output_type": "execute_result"
    }
   ],
   "source": [
    "lasso_search.best_params_"
   ]
  },
  {
   "cell_type": "code",
   "execution_count": 9,
   "id": "limiting-terrorist",
   "metadata": {},
   "outputs": [
    {
     "data": {
      "text/plain": [
       "Pipeline(steps=[('scaler', StandardScaler()),\n",
       "                ('model', Lasso(alpha=0.26826957952797276))])"
      ]
     },
     "execution_count": 9,
     "metadata": {},
     "output_type": "execute_result"
    }
   ],
   "source": [
    "lasso_search.best_estimator_"
   ]
  },
  {
   "cell_type": "markdown",
   "id": "backed-processing",
   "metadata": {},
   "source": [
    "### Hold-out Electrophiles Testing set Evaluation"
   ]
  },
  {
   "cell_type": "code",
   "execution_count": 10,
   "id": "nearby-commander",
   "metadata": {},
   "outputs": [],
   "source": [
    "ext_y=ML_data_validation2['Yield']\n",
    "ext_X=ML_data_validation2.iloc[:, ML_data_validation2.columns.isin(X_train.columns)]\n",
    "Y_Pred = lasso_search.best_estimator_.predict(ext_X)"
   ]
  },
  {
   "cell_type": "code",
   "execution_count": 11,
   "id": "portuguese-sleeping",
   "metadata": {},
   "outputs": [
    {
     "name": "stdout",
     "output_type": "stream",
     "text": [
      "18.843818155421783\n"
     ]
    }
   ],
   "source": [
    "mse = mean_squared_error(ext_y, Y_Pred)\n",
    "print(math.sqrt(mse))"
   ]
  },
  {
   "cell_type": "markdown",
   "id": "apparent-attitude",
   "metadata": {},
   "source": [
    "### Plot Parity Plot"
   ]
  },
  {
   "cell_type": "code",
   "execution_count": 12,
   "id": "accepting-palmer",
   "metadata": {},
   "outputs": [
    {
     "data": {
      "image/png": "[encoded data removed]",
      "text/plain": [
       "<Figure size 900x600 with 1 Axes>"
      ]
     },
     "metadata": {
      "needs_background": "light"
     },
     "output_type": "display_data"
    }
   ],
   "source": [
    "plt.rcParams['figure.dpi'] = 150\n",
    "fig, ax = plt.subplots()\n",
    "ax.scatter(Y_Pred,ext_y,label=\"Validation\")\n",
    "ax.plot( [0,100],[0,100], 'k--', lw=4)\n",
    "ax.plot(lasso_search.best_estimator_.predict(X_train), Y_train, \"or\", alpha=0.5, label=\"Training\")\n",
    "ax.text(60,15,r'$R^2$: {:0.2f}'.format(r2_score(ext_y,Y_Pred)))\n",
    "ax.text(60,10,'Validation MAE: {:0.2f}'.format(mean_absolute_error(Y_Pred,ext_y)))\n",
    "ax.text(60,5,'Validation RMSE: {:0.2f}'.format(np.sqrt(mean_squared_error(Y_Pred,ext_y))))\n",
    "ax.set_xlabel('Predicted')\n",
    "ax.set_ylabel('Measured')\n",
    "ax.set_title('Lasso External set in EtOH prediction')\n",
    "plt.legend()\n",
    "plt.show()"
   ]
  },
  {
   "cell_type": "code",
   "execution_count": 13,
   "id": "developing-efficiency",
   "metadata": {},
   "outputs": [
    {
     "data": {
      "text/plain": [
       "<AxesSubplot:ylabel='feature'>"
      ]
     },
     "execution_count": 13,
     "metadata": {},
     "output_type": "execute_result"
    },
    {
     "data": {
      "image/png": "[encoded data removed]",
      "text/plain": [
       "<Figure size 900x600 with 1 Axes>"
      ]
     },
     "metadata": {
      "needs_background": "light"
     },
     "output_type": "display_data"
    }
   ],
   "source": [
    "#Top features from Lasso regression, pls note they are quite different from other tree-based ensemble models\n",
    "coefs=lasso_search.best_estimator_.named_steps['model'].coef_\n",
    "importance=np.abs(coefs)\n",
    "features=X_train.columns\n",
    "\n",
    "df=pd.DataFrame(zip(features,importance))\n",
    "df2 = df.sort_values(by=[1], ascending=False).head(25)\n",
    "df2.columns = ['feature', 'importance']\n",
    "df2.set_index('feature',inplace=True)\n",
    "df2.plot(kind='barh')"
   ]
  },
  {
   "cell_type": "code",
   "execution_count": 14,
   "id": "exotic-maria",
   "metadata": {},
   "outputs": [],
   "source": [
    "%load_ext watermark"
   ]
  },
  {
   "cell_type": "code",
   "execution_count": 15,
   "id": "artificial-import",
   "metadata": {},
   "outputs": [
    {
     "name": "stdout",
     "output_type": "stream",
     "text": [
      "matplotlib: 3.3.3\n",
      "sklearn   : 0.0\n",
      "numpy     : 1.19.2\n",
      "pandas    : 1.2.0\n",
      "\n"
     ]
    }
   ],
   "source": [
    "%watermark --iversions"
   ]
  },
  {
   "cell_type": "code",
   "execution_count": null,
   "id": "sharp-viewer",
   "metadata": {},
   "outputs": [],
   "source": []
  }
 ],
 "metadata": {
  "kernelspec": {
   "display_name": "Python 3",
   "language": "python",
   "name": "python3"
  },
  "language_info": {
   "codemirror_mode": {
    "name": "ipython",
    "version": 3
   },
   "file_extension": ".py",
   "mimetype": "text/x-python",
   "name": "python",
   "nbconvert_exporter": "python",
   "pygments_lexer": "ipython3",
   "version": "3.8.5"
  }
 },
 "nbformat": 4,
 "nbformat_minor": 5
}
